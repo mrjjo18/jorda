{
 "cells": [
  {
   "cell_type": "markdown",
   "metadata": {},
   "source": [
    "# Bayes's Theorem"
   ]
  },
  {
   "cell_type": "markdown",
   "metadata": {
    "tags": []
   },
   "source": [
    "Think Bayes, Second Edition\n",
    "\n",
    "Copyright 2020 Allen B. Downey\n",
    "\n",
    "License: [Attribution-NonCommercial-ShareAlike 4.0 International (CC BY-NC-SA 4.0)](https://creativecommons.org/licenses/by-nc-sa/4.0/)"
   ]
  },
  {
   "cell_type": "markdown",
   "metadata": {},
   "source": [
    "In the previous chapter, we derived Bayes's Theorem:\n",
    "\n",
    "$$P(A|B) = \\frac{P(A) P(B|A)}{P(B)}$$\n",
    "\n",
    "As an example, we used data from the General Social Survey and Bayes's Theorem  to compute conditional probabilities.\n",
    "But since we had the complete dataset, we didn't really need Bayes's Theorem.\n",
    "It was easy enough to compute the left side of the equation directly, and no easier to compute the right side.\n",
    "\n",
    "But often we don't have a complete dataset, and in that case Bayes's Theorem is more useful.   In this chapter, we'll use it to solve several more challenging problems related to conditional probability."
   ]
  },
  {
   "cell_type": "markdown",
   "metadata": {},
   "source": [
    "## The Cookie Problem\n",
    "\n",
    "We'll start with a thinly disguised version of an [urn problem](https://en.wikipedia.org/wiki/Urn_problem):\n",
    "\n",
    "> Suppose there are two bowls of cookies.\n",
    ">\n",
    "> * Bowl 1 contains 30 vanilla cookies and 10 chocolate cookies. \n",
    ">\n",
    "> * Bowl 2 contains 20 vanilla cookies and 20 chocolate cookies.\n",
    ">\n",
    "> Now suppose you choose one of the bowls at random and, without looking, choose a cookie at random. If the cookie is vanilla, what is the probability that it came from Bowl 1?\n",
    "\n",
    "What we want is the conditional probability that we chose from Bowl 1 given that we got a vanilla cookie, $P(B_1 | V)$.\n",
    "\n",
    "But what we get from the statement of the problem is:\n",
    "\n",
    "* The conditional probability of getting a vanilla cookie, given that we chose from Bowl 1, $P(V | B_1)$ and\n",
    "\n",
    "* The conditional probability of getting a vanilla cookie, given that we chose from Bowl 2, $P(V | B_2)$.\n"
   ]
  },
  {
   "cell_type": "markdown",
   "metadata": {},
   "source": [
    "Bayes's Theorem tells us how they are related:\n",
    "\n",
    "$$P(B_1|V) = \\frac{P(B_1)~P(V|B_1)}{P(V)}$$\n",
    "\n",
    "${P(B_1)}$ = prior(우리가 관측하고자 하는 사건이 결국 B_1에서 나왔을 확률이니까, P(B_1) 자체가 사전확률이 됨\n",
    "\n",
    "${P(V|B_1)}$ = likelihood(B_1이라는 분포가 주어졌을 때, V라는 값이 관측될 가능성)\n",
    "\n",
    "${P(V)}$ = normalize(P(V)라는 표본공간으로 한정지어서 확률로 만들어주는 변수)\n",
    "\n",
    "\n",
    "The term on the left is what we want. The terms on the right are:\n",
    "\n",
    "-   $P(B_1)$, the probability that we chose Bowl 1,\n",
    "    unconditioned by what kind of cookie we got. \n",
    "    Since the problem says we chose a bowl at random, \n",
    "    we assume $P(B_1) = 1/2$.\n",
    "\n",
    "-   $P(V|B_1)$, the probability of getting a vanilla cookie\n",
    "    from Bowl 1, which is 3/4.\n",
    "\n",
    "-   $P(V)$, the probability of drawing a vanilla cookie from\n",
    "    either bowl. "
   ]
  },
  {
   "cell_type": "markdown",
   "metadata": {},
   "source": [
    "To compute $P(V)$, we can use the law of total probability:\n",
    "\n",
    "$$P(V) = P(B_1)~P(V|B_1) ~+~ P(B_2)~P(V|B_2)$$\n",
    "\n",
    "이게 왜 위처럼 할 수 있냐면, $P(V) = P(V{\\cap}B_1) + P(V{\\cap}B_2) = P(V|B_1) ~+~ P(B_2)~P(V|B_2)$이기 때문 \n",
    "\n",
    "Plugging in the numbers from the statement of the problem, we have\n",
    "\n",
    "$$P(V) = (1/2)~(3/4) ~+~ (1/2)~(1/2) = 5/8$$\n",
    "\n",
    "We can also compute this result directly, like this: \n",
    "\n",
    "* Since we had an equal chance of choosing either bowl and the bowls contain the same number of cookies, we had the same chance of choosing any cookie. \n",
    "\n",
    "* Between the two bowls there are 50 vanilla and 30 chocolate cookies, so $P(V) = 5/8$."
   ]
  },
  {
   "cell_type": "markdown",
   "metadata": {},
   "source": [
    "Finally, we can apply Bayes's Theorem to compute the posterior probability of Bowl 1:\n",
    "\n",
    "$$P(B_1|V) = (1/2)~(3/4)~/~(5/8) = 3/5$$\n",
    "\n",
    "This example demonstrates one use of Bayes's theorem: it provides a\n",
    "way to get from $P(B|A)$ to $P(A|B)$. \n",
    "This strategy is useful in cases like this where it is easier to compute the terms on the right side than the term on the left."
   ]
  },
  {
   "cell_type": "markdown",
   "metadata": {},
   "source": [
    "## Diachronic Bayes\n",
    "\n",
    "There is another way to think of Bayes's theorem: it gives us a way to\n",
    "update the probability of a hypothesis, $H$, given some body of data, $D$.\n",
    "\n",
    "This interpretation is \"diachronic\", which means \"related to change over time\"; in this case, the probability of the hypotheses changes as we see new data.\n",
    "\n",
    "Rewriting Bayes's theorem with $H$ and $D$ yields:\n",
    "\n",
    "$$P(H|D) = \\frac{P(H)~P(D|H)}{P(D)}$$\n",
    "\n",
    "In this interpretation, each term has a name:\n",
    "\n",
    "-  $P(H)$ is the probability of the hypothesis before we see the data, called the prior probability, or just **prior**.\n",
    "\n",
    "-  $P(H|D)$ is the probability of the hypothesis after we see the data, called the **posterior**.\n",
    "\n",
    "-  $P(D|H)$ is the probability of the data under the hypothesis, called the **likelihood**.\n",
    "\n",
    "-  $P(D)$ is the **total probability of the data**, under any hypothesis.\n",
    "\n",
    "Sometimes we can compute the prior based on background information. For example, the cookie problem specifies that we choose a bowl at random with equal probability.\n",
    "\n",
    "In other cases the prior is subjective; that is, reasonable people might disagree, either because they use different background information or because they interpret the same information differently.\n",
    "\n",
    "The likelihood is usually the easiest part to compute. In the cookie\n",
    "problem, we are given the number of cookies in each bowl, so we can compute the probability of the data under each hypothesis."
   ]
  },
  {
   "cell_type": "markdown",
   "metadata": {},
   "source": [
    "Computing the total probability of the data can be tricky. \n",
    "It is supposed to be the probability of seeing the data under any hypothesis at all, but it can be hard to nail down what that means.\n",
    "\n",
    "Most often we simplify things by specifying a set of hypotheses that\n",
    "are:\n",
    "\n",
    "* Mutually exclusive: If one hypothesis is true, the others must be false, and(상호 배반적이면서)\n",
    "\n",
    "* Collectively exhaustive: There are no other possibilities.(두 가지가 전체 합을 이룸)\n",
    "\n",
    "- $P(A{\\cap}B) + P(A'{\\cap}B) = P(B)$가 되려면 위 두 가지 조건이 성립해야하는 것 같음(밴다이어그램 그려보면)\n",
    "- 결국 표본 공간을 한정짓는다는 소리\n",
    "\n",
    "\n",
    "Together, these conditions imply that exactly one of the hypotheses in the set must be true.\n",
    "\n",
    "When these conditions apply, we can compute $P(D)$ using the law of total probability.  For example, with two hypotheses, $H_1$ and $H_2$:\n",
    "\n",
    "$$P(D) = P(H_1)~P(D|H_1) + P(H_2)~P(D|H_2)$$\n",
    "\n",
    "And more generally, with any number of hypotheses:\n",
    "\n",
    "$$P(D) = \\sum_i P(H_i)~P(D|H_i)$$\n",
    "\n",
    "The process in this section, using data and a prior probability to compute a posterior probability, is called a **Bayesian update**."
   ]
  },
  {
   "cell_type": "markdown",
   "metadata": {},
   "source": [
    "## Bayes Tables\n",
    "\n",
    "A convenient tool for doing a Bayesian update is a Bayes table.\n",
    "You can write a Bayes table on paper or use a spreadsheet, but in this section I'll use a Pandas `DataFrame`.\n",
    "\n",
    "First I'll make empty `DataFrame` with one row for each hypothesis:"
   ]
  },
  {
   "cell_type": "code",
   "execution_count": 1,
   "metadata": {
    "ExecuteTime": {
     "end_time": "2021-02-03T06:00:32.465124Z",
     "start_time": "2021-02-03T06:00:32.459498Z"
    }
   },
   "outputs": [
    {
     "data": {
      "text/html": [
       "<div>\n",
       "<style scoped>\n",
       "    .dataframe tbody tr th:only-of-type {\n",
       "        vertical-align: middle;\n",
       "    }\n",
       "\n",
       "    .dataframe tbody tr th {\n",
       "        vertical-align: top;\n",
       "    }\n",
       "\n",
       "    .dataframe thead th {\n",
       "        text-align: right;\n",
       "    }\n",
       "</style>\n",
       "<table border=\"1\" class=\"dataframe\">\n",
       "  <thead>\n",
       "    <tr style=\"text-align: right;\">\n",
       "      <th></th>\n",
       "    </tr>\n",
       "  </thead>\n",
       "  <tbody>\n",
       "    <tr>\n",
       "      <th>Bowl 1</th>\n",
       "    </tr>\n",
       "    <tr>\n",
       "      <th>Bowl 2</th>\n",
       "    </tr>\n",
       "  </tbody>\n",
       "</table>\n",
       "</div>"
      ],
      "text/plain": [
       "Empty DataFrame\n",
       "Columns: []\n",
       "Index: [Bowl 1, Bowl 2]"
      ]
     },
     "execution_count": 1,
     "metadata": {},
     "output_type": "execute_result"
    }
   ],
   "source": [
    "import pandas as pd\n",
    "\n",
    "table = pd.DataFrame(index=['Bowl 1', 'Bowl 2'])\n",
    "table"
   ]
  },
  {
   "cell_type": "markdown",
   "metadata": {},
   "source": [
    "Now I'll add a column to represent the priors:"
   ]
  },
  {
   "cell_type": "code",
   "execution_count": 3,
   "metadata": {
    "ExecuteTime": {
     "end_time": "2021-02-03T06:00:33.766703Z",
     "start_time": "2021-02-03T06:00:33.760003Z"
    }
   },
   "outputs": [
    {
     "data": {
      "text/html": [
       "<div>\n",
       "<style scoped>\n",
       "    .dataframe tbody tr th:only-of-type {\n",
       "        vertical-align: middle;\n",
       "    }\n",
       "\n",
       "    .dataframe tbody tr th {\n",
       "        vertical-align: top;\n",
       "    }\n",
       "\n",
       "    .dataframe thead th {\n",
       "        text-align: right;\n",
       "    }\n",
       "</style>\n",
       "<table border=\"1\" class=\"dataframe\">\n",
       "  <thead>\n",
       "    <tr style=\"text-align: right;\">\n",
       "      <th></th>\n",
       "      <th>prior</th>\n",
       "    </tr>\n",
       "  </thead>\n",
       "  <tbody>\n",
       "    <tr>\n",
       "      <th>Bowl 1</th>\n",
       "      <td>0.5</td>\n",
       "    </tr>\n",
       "    <tr>\n",
       "      <th>Bowl 2</th>\n",
       "      <td>0.5</td>\n",
       "    </tr>\n",
       "  </tbody>\n",
       "</table>\n",
       "</div>"
      ],
      "text/plain": [
       "        prior\n",
       "Bowl 1    0.5\n",
       "Bowl 2    0.5"
      ]
     },
     "execution_count": 3,
     "metadata": {},
     "output_type": "execute_result"
    }
   ],
   "source": [
    "table['prior'] = 1/2, 1/2\n",
    "table"
   ]
  },
  {
   "cell_type": "markdown",
   "metadata": {},
   "source": [
    "And a column for the likelihoods:"
   ]
  },
  {
   "cell_type": "code",
   "execution_count": 4,
   "metadata": {
    "ExecuteTime": {
     "end_time": "2021-02-03T06:02:07.422650Z",
     "start_time": "2021-02-03T06:02:07.415684Z"
    },
    "scrolled": true
   },
   "outputs": [
    {
     "data": {
      "text/html": [
       "<div>\n",
       "<style scoped>\n",
       "    .dataframe tbody tr th:only-of-type {\n",
       "        vertical-align: middle;\n",
       "    }\n",
       "\n",
       "    .dataframe tbody tr th {\n",
       "        vertical-align: top;\n",
       "    }\n",
       "\n",
       "    .dataframe thead th {\n",
       "        text-align: right;\n",
       "    }\n",
       "</style>\n",
       "<table border=\"1\" class=\"dataframe\">\n",
       "  <thead>\n",
       "    <tr style=\"text-align: right;\">\n",
       "      <th></th>\n",
       "      <th>prior</th>\n",
       "      <th>likelihood</th>\n",
       "    </tr>\n",
       "  </thead>\n",
       "  <tbody>\n",
       "    <tr>\n",
       "      <th>Bowl 1</th>\n",
       "      <td>0.5</td>\n",
       "      <td>0.75</td>\n",
       "    </tr>\n",
       "    <tr>\n",
       "      <th>Bowl 2</th>\n",
       "      <td>0.5</td>\n",
       "      <td>0.50</td>\n",
       "    </tr>\n",
       "  </tbody>\n",
       "</table>\n",
       "</div>"
      ],
      "text/plain": [
       "        prior  likelihood\n",
       "Bowl 1    0.5        0.75\n",
       "Bowl 2    0.5        0.50"
      ]
     },
     "execution_count": 4,
     "metadata": {},
     "output_type": "execute_result"
    }
   ],
   "source": [
    "table['likelihood'] = 3/4, 1/2\n",
    "table"
   ]
  },
  {
   "cell_type": "markdown",
   "metadata": {},
   "source": [
    "Here we see a difference from the previous method: we compute likelihoods for both hypotheses, not just Bowl 1:\n",
    "\n",
    "* The chance of getting a vanilla cookie from Bowl 1 is 3/4.\n",
    "\n",
    "* The chance of getting a vanilla cookie from Bowl 2 is 1/2.\n",
    "\n",
    "You might notice that the likelihoods don't add up to 1.  That's OK; each of them is a probability conditioned on a different hypothesis.\n",
    "There's no reason they should add up to 1 and no problem if they don't.\n",
    "\n",
    "The next step is similar to what we did with Bayes's Theorem; we multiply the priors by the likelihoods:"
   ]
  },
  {
   "cell_type": "code",
   "execution_count": 5,
   "metadata": {
    "ExecuteTime": {
     "end_time": "2021-02-03T06:02:45.445253Z",
     "start_time": "2021-02-03T06:02:45.434746Z"
    }
   },
   "outputs": [
    {
     "data": {
      "text/html": [
       "<div>\n",
       "<style scoped>\n",
       "    .dataframe tbody tr th:only-of-type {\n",
       "        vertical-align: middle;\n",
       "    }\n",
       "\n",
       "    .dataframe tbody tr th {\n",
       "        vertical-align: top;\n",
       "    }\n",
       "\n",
       "    .dataframe thead th {\n",
       "        text-align: right;\n",
       "    }\n",
       "</style>\n",
       "<table border=\"1\" class=\"dataframe\">\n",
       "  <thead>\n",
       "    <tr style=\"text-align: right;\">\n",
       "      <th></th>\n",
       "      <th>prior</th>\n",
       "      <th>likelihood</th>\n",
       "      <th>unnorm</th>\n",
       "    </tr>\n",
       "  </thead>\n",
       "  <tbody>\n",
       "    <tr>\n",
       "      <th>Bowl 1</th>\n",
       "      <td>0.5</td>\n",
       "      <td>0.75</td>\n",
       "      <td>0.375</td>\n",
       "    </tr>\n",
       "    <tr>\n",
       "      <th>Bowl 2</th>\n",
       "      <td>0.5</td>\n",
       "      <td>0.50</td>\n",
       "      <td>0.250</td>\n",
       "    </tr>\n",
       "  </tbody>\n",
       "</table>\n",
       "</div>"
      ],
      "text/plain": [
       "        prior  likelihood  unnorm\n",
       "Bowl 1    0.5        0.75   0.375\n",
       "Bowl 2    0.5        0.50   0.250"
      ]
     },
     "execution_count": 5,
     "metadata": {},
     "output_type": "execute_result"
    }
   ],
   "source": [
    "table['unnorm'] = table['prior'] * table['likelihood']\n",
    "table"
   ]
  },
  {
   "cell_type": "markdown",
   "metadata": {},
   "source": [
    "I call the result `unnorm` because these values are the \"unnormalized posteriors\".  Each of them is the product of a prior and a likelihood:\n",
    "\n",
    "$$P(B_i)~P(D|B_i)$$\n",
    "\n",
    "which is the numerator of Bayes's Theorem. \n",
    "If we add them up, we have\n",
    "\n",
    "$$P(B_1)~P(D|B_1) + P(B_2)~P(D|B_2)$$\n",
    "\n",
    "which is the denominator of Bayes's Theorem, $P(D)$.\n",
    "\n",
    "So we can compute the total probability of the data like this:"
   ]
  },
  {
   "cell_type": "code",
   "execution_count": 6,
   "metadata": {
    "ExecuteTime": {
     "end_time": "2021-02-03T06:03:42.122780Z",
     "start_time": "2021-02-03T06:03:42.118778Z"
    }
   },
   "outputs": [
    {
     "data": {
      "text/plain": [
       "0.625"
      ]
     },
     "execution_count": 6,
     "metadata": {},
     "output_type": "execute_result"
    }
   ],
   "source": [
    "prob_data = table['unnorm'].sum()\n",
    "prob_data"
   ]
  },
  {
   "cell_type": "markdown",
   "metadata": {},
   "source": [
    "Notice that we get 5/8, which is what we got by computing $P(D)$ directly.\n",
    "\n",
    "And we can compute the posterior probabilities like this:"
   ]
  },
  {
   "cell_type": "code",
   "execution_count": 7,
   "metadata": {
    "ExecuteTime": {
     "end_time": "2021-02-03T06:03:47.977858Z",
     "start_time": "2021-02-03T06:03:47.969986Z"
    }
   },
   "outputs": [
    {
     "data": {
      "text/html": [
       "<div>\n",
       "<style scoped>\n",
       "    .dataframe tbody tr th:only-of-type {\n",
       "        vertical-align: middle;\n",
       "    }\n",
       "\n",
       "    .dataframe tbody tr th {\n",
       "        vertical-align: top;\n",
       "    }\n",
       "\n",
       "    .dataframe thead th {\n",
       "        text-align: right;\n",
       "    }\n",
       "</style>\n",
       "<table border=\"1\" class=\"dataframe\">\n",
       "  <thead>\n",
       "    <tr style=\"text-align: right;\">\n",
       "      <th></th>\n",
       "      <th>prior</th>\n",
       "      <th>likelihood</th>\n",
       "      <th>unnorm</th>\n",
       "      <th>posterior</th>\n",
       "    </tr>\n",
       "  </thead>\n",
       "  <tbody>\n",
       "    <tr>\n",
       "      <th>Bowl 1</th>\n",
       "      <td>0.5</td>\n",
       "      <td>0.75</td>\n",
       "      <td>0.375</td>\n",
       "      <td>0.6</td>\n",
       "    </tr>\n",
       "    <tr>\n",
       "      <th>Bowl 2</th>\n",
       "      <td>0.5</td>\n",
       "      <td>0.50</td>\n",
       "      <td>0.250</td>\n",
       "      <td>0.4</td>\n",
       "    </tr>\n",
       "  </tbody>\n",
       "</table>\n",
       "</div>"
      ],
      "text/plain": [
       "        prior  likelihood  unnorm  posterior\n",
       "Bowl 1    0.5        0.75   0.375        0.6\n",
       "Bowl 2    0.5        0.50   0.250        0.4"
      ]
     },
     "execution_count": 7,
     "metadata": {},
     "output_type": "execute_result"
    }
   ],
   "source": [
    "table['posterior'] = table['unnorm'] / prob_data\n",
    "table"
   ]
  },
  {
   "cell_type": "markdown",
   "metadata": {},
   "source": [
    "The posterior probability for Bowl 1 is 0.6, which is what we got using Bayes's Theorem explicitly.\n",
    "As a bonus, we also get the posterior probability of Bowl 2, which is 0.4.\n",
    "\n",
    "When we add up the unnormalized posteriors and divide through, we force the posteriors to add up to 1.  This process is called \"normalization\", which is why the total probability of the data is also called the \"[normalizing constant](https://en.wikipedia.org/wiki/Normalizing_constant#Bayes'_theorem)\"."
   ]
  },
  {
   "cell_type": "markdown",
   "metadata": {},
   "source": [
    "## The Dice Problem \n",
    "\n",
    "A Bayes table can also solve problems with more than two hypotheses.  For example:\n",
    "\n",
    "> Suppose I have a box with a 6-sided die, an 8-sided die, and a 12-sided die. I choose one of the dice at random, roll it, and report that the outcome is a 1. What is the probability that I chose the 6-sided die?\n",
    "\n",
    "In this example, there are three hypotheses with equal prior\n",
    "probabilities. The data is my report that the outcome is a 1. \n",
    "\n",
    "If I chose the 6-sided die, the probability of the data is\n",
    "1/6. If I chose the 8-sided die, the probability is 1/8, and if I chose the 12-sided die, it's 1/12.\n",
    "\n",
    "Here's a Bayes table that uses integers to represent the hypotheses:"
   ]
  },
  {
   "cell_type": "code",
   "execution_count": 43,
   "metadata": {
    "ExecuteTime": {
     "end_time": "2021-02-03T06:05:01.924383Z",
     "start_time": "2021-02-03T06:05:01.919281Z"
    }
   },
   "outputs": [
    {
     "data": {
      "text/html": [
       "<div>\n",
       "<style scoped>\n",
       "    .dataframe tbody tr th:only-of-type {\n",
       "        vertical-align: middle;\n",
       "    }\n",
       "\n",
       "    .dataframe tbody tr th {\n",
       "        vertical-align: top;\n",
       "    }\n",
       "\n",
       "    .dataframe thead th {\n",
       "        text-align: right;\n",
       "    }\n",
       "</style>\n",
       "<table border=\"1\" class=\"dataframe\">\n",
       "  <thead>\n",
       "    <tr style=\"text-align: right;\">\n",
       "      <th></th>\n",
       "    </tr>\n",
       "  </thead>\n",
       "  <tbody>\n",
       "    <tr>\n",
       "      <th>6</th>\n",
       "    </tr>\n",
       "    <tr>\n",
       "      <th>8</th>\n",
       "    </tr>\n",
       "    <tr>\n",
       "      <th>12</th>\n",
       "    </tr>\n",
       "  </tbody>\n",
       "</table>\n",
       "</div>"
      ],
      "text/plain": [
       "Empty DataFrame\n",
       "Columns: []\n",
       "Index: [6, 8, 12]"
      ]
     },
     "execution_count": 43,
     "metadata": {},
     "output_type": "execute_result"
    }
   ],
   "source": [
    "table2 = pd.DataFrame(index=[6, 8, 12])\n",
    "table2"
   ]
  },
  {
   "cell_type": "markdown",
   "metadata": {},
   "source": [
    "I'll use fractions to represent the prior probabilities and the likelihoods.  That way they don't get rounded off to floating-point numbers."
   ]
  },
  {
   "cell_type": "code",
   "execution_count": 44,
   "metadata": {
    "ExecuteTime": {
     "end_time": "2021-02-03T06:05:19.407049Z",
     "start_time": "2021-02-03T06:05:19.397703Z"
    }
   },
   "outputs": [
    {
     "data": {
      "text/html": [
       "<div>\n",
       "<style scoped>\n",
       "    .dataframe tbody tr th:only-of-type {\n",
       "        vertical-align: middle;\n",
       "    }\n",
       "\n",
       "    .dataframe tbody tr th {\n",
       "        vertical-align: top;\n",
       "    }\n",
       "\n",
       "    .dataframe thead th {\n",
       "        text-align: right;\n",
       "    }\n",
       "</style>\n",
       "<table border=\"1\" class=\"dataframe\">\n",
       "  <thead>\n",
       "    <tr style=\"text-align: right;\">\n",
       "      <th></th>\n",
       "      <th>prior</th>\n",
       "      <th>likelihood</th>\n",
       "    </tr>\n",
       "  </thead>\n",
       "  <tbody>\n",
       "    <tr>\n",
       "      <th>6</th>\n",
       "      <td>1/3</td>\n",
       "      <td>1/6</td>\n",
       "    </tr>\n",
       "    <tr>\n",
       "      <th>8</th>\n",
       "      <td>1/3</td>\n",
       "      <td>1/8</td>\n",
       "    </tr>\n",
       "    <tr>\n",
       "      <th>12</th>\n",
       "      <td>1/3</td>\n",
       "      <td>1/12</td>\n",
       "    </tr>\n",
       "  </tbody>\n",
       "</table>\n",
       "</div>"
      ],
      "text/plain": [
       "   prior likelihood\n",
       "6    1/3        1/6\n",
       "8    1/3        1/8\n",
       "12   1/3       1/12"
      ]
     },
     "execution_count": 44,
     "metadata": {},
     "output_type": "execute_result"
    }
   ],
   "source": [
    "from fractions import Fraction\n",
    "\n",
    "table2['prior'] = Fraction(1, 3)\n",
    "table2['likelihood'] = Fraction(1, 6), Fraction(1, 8), Fraction(1, 12)\n",
    "table2"
   ]
  },
  {
   "cell_type": "markdown",
   "metadata": {},
   "source": [
    "Once you have priors and likelihoods, the remaining steps are always the same, so I'll put them in a function:"
   ]
  },
  {
   "cell_type": "code",
   "execution_count": 45,
   "metadata": {
    "ExecuteTime": {
     "end_time": "2021-02-03T06:05:53.087335Z",
     "start_time": "2021-02-03T06:05:53.083769Z"
    }
   },
   "outputs": [],
   "source": [
    "def update(table):\n",
    "    \"\"\"Compute the posterior probabilities.\"\"\"\n",
    "    table['unnorm'] = table['prior'] * table['likelihood'] # prior에 likelihood 곱해서 unnorm posterior 만들어주고\n",
    "    prob_data = table['unnorm'].sum() # \n",
    "    table['posterior'] = table['unnorm'] / prob_data\n",
    "    return prob_data"
   ]
  },
  {
   "cell_type": "code",
   "execution_count": 42,
   "metadata": {},
   "outputs": [],
   "source": [
    "# table2[\"unnorm\"] = table2.prior * table2.likelihood\n",
    "# prob_data = table['unnorm'].sum() # \n",
    "# print(table2)\n",
    "# print(prob_data)\n",
    "# table2['posterior'] = table2['unnorm'] / prob_data\n",
    "# print(table2)\n",
    "# # prob_data = table2['unnorm'].sum() # \n"
   ]
  },
  {
   "cell_type": "code",
   "execution_count": 46,
   "metadata": {
    "ExecuteTime": {
     "end_time": "2021-02-03T06:05:54.833440Z",
     "start_time": "2021-02-03T06:05:54.828416Z"
    }
   },
   "outputs": [
    {
     "name": "stdout",
     "output_type": "stream",
     "text": [
      "1/8\n"
     ]
    }
   ],
   "source": [
    "prob_data = update(table2)\n",
    "print(prob_data)"
   ]
  },
  {
   "cell_type": "markdown",
   "metadata": {},
   "source": [
    "The total probability of the data is $1/8$.  And here is the final Bayes table:"
   ]
  },
  {
   "cell_type": "code",
   "execution_count": 63,
   "metadata": {
    "ExecuteTime": {
     "end_time": "2021-02-03T06:05:55.854102Z",
     "start_time": "2021-02-03T06:05:55.846545Z"
    }
   },
   "outputs": [
    {
     "data": {
      "text/html": [
       "<div>\n",
       "<style scoped>\n",
       "    .dataframe tbody tr th:only-of-type {\n",
       "        vertical-align: middle;\n",
       "    }\n",
       "\n",
       "    .dataframe tbody tr th {\n",
       "        vertical-align: top;\n",
       "    }\n",
       "\n",
       "    .dataframe thead th {\n",
       "        text-align: right;\n",
       "    }\n",
       "</style>\n",
       "<table border=\"1\" class=\"dataframe\">\n",
       "  <thead>\n",
       "    <tr style=\"text-align: right;\">\n",
       "      <th></th>\n",
       "      <th>prior</th>\n",
       "      <th>likelihood</th>\n",
       "      <th>unnorm</th>\n",
       "      <th>posterior</th>\n",
       "    </tr>\n",
       "  </thead>\n",
       "  <tbody>\n",
       "    <tr>\n",
       "      <th>6</th>\n",
       "      <td>1/3</td>\n",
       "      <td>1/6</td>\n",
       "      <td>1/18</td>\n",
       "      <td>4/9</td>\n",
       "    </tr>\n",
       "    <tr>\n",
       "      <th>8</th>\n",
       "      <td>1/3</td>\n",
       "      <td>1/8</td>\n",
       "      <td>1/24</td>\n",
       "      <td>1/3</td>\n",
       "    </tr>\n",
       "    <tr>\n",
       "      <th>12</th>\n",
       "      <td>1/3</td>\n",
       "      <td>1/12</td>\n",
       "      <td>1/36</td>\n",
       "      <td>2/9</td>\n",
       "    </tr>\n",
       "  </tbody>\n",
       "</table>\n",
       "</div>"
      ],
      "text/plain": [
       "   prior likelihood unnorm posterior\n",
       "6    1/3        1/6   1/18       4/9\n",
       "8    1/3        1/8   1/24       1/3\n",
       "12   1/3       1/12   1/36       2/9"
      ]
     },
     "execution_count": 63,
     "metadata": {},
     "output_type": "execute_result"
    }
   ],
   "source": [
    "table2"
   ]
  },
  {
   "cell_type": "markdown",
   "metadata": {},
   "source": [
    "The posterior probability of the 6-sided die is 4/9."
   ]
  },
  {
   "cell_type": "markdown",
   "metadata": {},
   "source": [
    "## The Monty Hall problem\n",
    "\n",
    "Next we'll use a Bayes table to solve one of the most contentious problems in probability.\n",
    "\n",
    "The Monty Hall problem is based on a game show called *Let's Make a Deal*. If you are a contestant on the show, here's how the game works:\n",
    "\n",
    "* The host, Monty Hall, shows you three closed doors numbered 1, 2, and 3. He tells you that there is a prize behind each door.\n",
    "\n",
    "* One prize is valuable (traditionally a car), the other two are less valuable (traditionally goats).\n",
    "\n",
    "* The object of the game is to guess which door has the car. If you guess right, you get to keep the car.\n",
    "\n",
    "Suppose you pick Door 1. Before opening the door you chose, Monty opens Door 3 and reveals a goat. Then Monty offers you the option to stick with your original choice or switch to the remaining unopened door.\n",
    "\n",
    "To maximize your chance of winning the car, should you stick with Door 1 or switch to Door 2?\n",
    "\n",
    "To answer this question, we have to make some assumptions about the behavior of the host:\n",
    "\n",
    "1.  Monty always opens a door and offers you the option to switch.\n",
    "\n",
    "2.  He never opens the door you picked or the door with the car.\n",
    "\n",
    "3.  If you choose the door with the car, he chooses one of the other\n",
    "    doors at random.\n",
    "\n",
    "Under these assumptions, you are better off switching. \n",
    "If you stick, you win $1/3$ of the time. If you switch, you win $2/3$ of the time.\n",
    "\n",
    "If you have not encountered this problem before, you might find that\n",
    "answer surprising. You would not be alone; many people have the strong\n",
    "intuition that it doesn't matter if you stick or switch. There are two\n",
    "doors left, they reason, so the chance that the car is behind Door A is 50%. But that is wrong.\n",
    "\n",
    "To see why, it can help to use a Bayes table. We start with three\n",
    "hypotheses: the car might be behind Door 1, 2, or 3. According to the\n",
    "statement of the problem, the prior probability for each door is 1/3."
   ]
  },
  {
   "cell_type": "code",
   "execution_count": 64,
   "metadata": {
    "ExecuteTime": {
     "end_time": "2021-02-03T06:07:18.718753Z",
     "start_time": "2021-02-03T06:07:18.711393Z"
    }
   },
   "outputs": [
    {
     "data": {
      "text/html": [
       "<div>\n",
       "<style scoped>\n",
       "    .dataframe tbody tr th:only-of-type {\n",
       "        vertical-align: middle;\n",
       "    }\n",
       "\n",
       "    .dataframe tbody tr th {\n",
       "        vertical-align: top;\n",
       "    }\n",
       "\n",
       "    .dataframe thead th {\n",
       "        text-align: right;\n",
       "    }\n",
       "</style>\n",
       "<table border=\"1\" class=\"dataframe\">\n",
       "  <thead>\n",
       "    <tr style=\"text-align: right;\">\n",
       "      <th></th>\n",
       "      <th>prior</th>\n",
       "    </tr>\n",
       "  </thead>\n",
       "  <tbody>\n",
       "    <tr>\n",
       "      <th>Door 1</th>\n",
       "      <td>1/3</td>\n",
       "    </tr>\n",
       "    <tr>\n",
       "      <th>Door 2</th>\n",
       "      <td>1/3</td>\n",
       "    </tr>\n",
       "    <tr>\n",
       "      <th>Door 3</th>\n",
       "      <td>1/3</td>\n",
       "    </tr>\n",
       "  </tbody>\n",
       "</table>\n",
       "</div>"
      ],
      "text/plain": [
       "       prior\n",
       "Door 1   1/3\n",
       "Door 2   1/3\n",
       "Door 3   1/3"
      ]
     },
     "execution_count": 64,
     "metadata": {},
     "output_type": "execute_result"
    }
   ],
   "source": [
    "table3 = pd.DataFrame(index=['Door 1', 'Door 2', 'Door 3'])\n",
    "table3['prior'] = Fraction(1, 3)\n",
    "table3"
   ]
  },
  {
   "cell_type": "markdown",
   "metadata": {},
   "source": [
    "The data is that Monty opened Door 3 and revealed a goat. So let's\n",
    "consider the probability of the data under each hypothesis:\n",
    "\n",
    "* If the car is behind Door 3, Monty does not open it, so the probability of the data under this hypothesis is 0.\n",
    "\n",
    "* If the car is behind Door 2, Monty has to open Door 3, so the probability of the data under this hypothesis is 1.\n",
    "\n",
    "* If the car is behind Door 1, Monty choose Door 2 or 3 at random; the probability he would open Door 3 is $1/2$.\n",
    "\n",
    "Here are the likelihoods. "
   ]
  },
  {
   "cell_type": "code",
   "execution_count": 65,
   "metadata": {
    "ExecuteTime": {
     "end_time": "2021-02-03T06:07:27.564350Z",
     "start_time": "2021-02-03T06:07:27.556943Z"
    }
   },
   "outputs": [
    {
     "data": {
      "text/html": [
       "<div>\n",
       "<style scoped>\n",
       "    .dataframe tbody tr th:only-of-type {\n",
       "        vertical-align: middle;\n",
       "    }\n",
       "\n",
       "    .dataframe tbody tr th {\n",
       "        vertical-align: top;\n",
       "    }\n",
       "\n",
       "    .dataframe thead th {\n",
       "        text-align: right;\n",
       "    }\n",
       "</style>\n",
       "<table border=\"1\" class=\"dataframe\">\n",
       "  <thead>\n",
       "    <tr style=\"text-align: right;\">\n",
       "      <th></th>\n",
       "      <th>prior</th>\n",
       "      <th>likelihood</th>\n",
       "    </tr>\n",
       "  </thead>\n",
       "  <tbody>\n",
       "    <tr>\n",
       "      <th>Door 1</th>\n",
       "      <td>1/3</td>\n",
       "      <td>1/2</td>\n",
       "    </tr>\n",
       "    <tr>\n",
       "      <th>Door 2</th>\n",
       "      <td>1/3</td>\n",
       "      <td>1</td>\n",
       "    </tr>\n",
       "    <tr>\n",
       "      <th>Door 3</th>\n",
       "      <td>1/3</td>\n",
       "      <td>0</td>\n",
       "    </tr>\n",
       "  </tbody>\n",
       "</table>\n",
       "</div>"
      ],
      "text/plain": [
       "       prior likelihood\n",
       "Door 1   1/3        1/2\n",
       "Door 2   1/3          1\n",
       "Door 3   1/3          0"
      ]
     },
     "execution_count": 65,
     "metadata": {},
     "output_type": "execute_result"
    }
   ],
   "source": [
    "table3['likelihood'] = Fraction(1, 2), 1, 0\n",
    "table3"
   ]
  },
  {
   "cell_type": "markdown",
   "metadata": {},
   "source": [
    "Now that we have priors and likelihoods, we can use `update` to compute the posterior probabilities."
   ]
  },
  {
   "cell_type": "code",
   "execution_count": 66,
   "metadata": {},
   "outputs": [
    {
     "name": "stdout",
     "output_type": "stream",
     "text": [
      "1/2\n"
     ]
    }
   ],
   "source": [
    "prob_data = update(table3)\n",
    "print(prob_data)"
   ]
  },
  {
   "cell_type": "code",
   "execution_count": 67,
   "metadata": {
    "ExecuteTime": {
     "end_time": "2021-02-03T06:10:49.494156Z",
     "start_time": "2021-02-03T06:10:49.484741Z"
    }
   },
   "outputs": [
    {
     "data": {
      "text/html": [
       "<div>\n",
       "<style scoped>\n",
       "    .dataframe tbody tr th:only-of-type {\n",
       "        vertical-align: middle;\n",
       "    }\n",
       "\n",
       "    .dataframe tbody tr th {\n",
       "        vertical-align: top;\n",
       "    }\n",
       "\n",
       "    .dataframe thead th {\n",
       "        text-align: right;\n",
       "    }\n",
       "</style>\n",
       "<table border=\"1\" class=\"dataframe\">\n",
       "  <thead>\n",
       "    <tr style=\"text-align: right;\">\n",
       "      <th></th>\n",
       "      <th>prior</th>\n",
       "      <th>likelihood</th>\n",
       "      <th>unnorm</th>\n",
       "      <th>posterior</th>\n",
       "    </tr>\n",
       "  </thead>\n",
       "  <tbody>\n",
       "    <tr>\n",
       "      <th>Door 1</th>\n",
       "      <td>1/3</td>\n",
       "      <td>1/2</td>\n",
       "      <td>1/6</td>\n",
       "      <td>1/3</td>\n",
       "    </tr>\n",
       "    <tr>\n",
       "      <th>Door 2</th>\n",
       "      <td>1/3</td>\n",
       "      <td>1</td>\n",
       "      <td>1/3</td>\n",
       "      <td>2/3</td>\n",
       "    </tr>\n",
       "    <tr>\n",
       "      <th>Door 3</th>\n",
       "      <td>1/3</td>\n",
       "      <td>0</td>\n",
       "      <td>0</td>\n",
       "      <td>0</td>\n",
       "    </tr>\n",
       "  </tbody>\n",
       "</table>\n",
       "</div>"
      ],
      "text/plain": [
       "       prior likelihood unnorm posterior\n",
       "Door 1   1/3        1/2    1/6       1/3\n",
       "Door 2   1/3          1    1/3       2/3\n",
       "Door 3   1/3          0      0         0"
      ]
     },
     "execution_count": 67,
     "metadata": {},
     "output_type": "execute_result"
    }
   ],
   "source": [
    "update(table3)\n",
    "table3"
   ]
  },
  {
   "cell_type": "markdown",
   "metadata": {},
   "source": [
    "After Monty opens Door 3, the posterior probability of Door 1 is $1/3$;\n",
    "the posterior probability of Door 2 is $2/3$.\n",
    "So you are better off switching from Door 1 to Door 2."
   ]
  },
  {
   "cell_type": "markdown",
   "metadata": {},
   "source": [
    "As this example shows, our intuition for probability is not always\n",
    "reliable. \n",
    "Bayes's Theorem can help by providing a divide-and-conquer strategy:\n",
    "\n",
    "1.  First, write down the hypotheses and the data.\n",
    "\n",
    "2.  Next, figure out the prior probabilities.\n",
    "\n",
    "3.  Finally, compute the likelihood of the data under each hypothesis.\n",
    "\n",
    "The Bayes table does the rest."
   ]
  },
  {
   "cell_type": "markdown",
   "metadata": {},
   "source": [
    "## Summary\n",
    "\n",
    "In this chapter we solved the Cookie Problem using Bayes's theorem explicitly and using a Bayes table.\n",
    "There's no real difference between these methods, but the Bayes table can make it easier to compute the total probability of the data, especially for problems with more than two hypotheses.\n",
    "\n",
    "Then we solved the Dice Problem, which we will see again in the next chapter, and the Monty Hall problem, which you might hope you never see again.\n",
    "\n",
    "If the Monty Hall problem makes your head hurt, you are not alone.  But I think it demonstrates the power of Bayes's Theorem as a divide-and-conquer strategy for solving tricky problems.  And I hope it provides some insight into *why* the answer is what it is.\n",
    "\n",
    "When Monty opens a door, he provides information we can use to update our belief about the location of the car.  Part of the information is obvious.  If he opens Door 3, we know the car is not behind Door 3.  But part of the information is more subtle.  Opening Door 3 is more likely if the car is behind Door 2, and less likely if it is behind Door 1.  So the data is evidence in favor of Door 2.  We will come back to this notion of evidence in future chapters.\n",
    "\n",
    "In the next chapter we'll extend the Cookie Problem and the Dice Problem, and take the next step from basic probability to Bayesian statistics.\n",
    "\n",
    "But first, you might want to work on the exercises."
   ]
  },
  {
   "cell_type": "markdown",
   "metadata": {},
   "source": [
    "## Exercises"
   ]
  },
  {
   "cell_type": "markdown",
   "metadata": {},
   "source": [
    "**Exercise:** Suppose you have two coins in a box.\n",
    "One is a normal coin with heads on one side and tails on the other, and one is a trick coin with heads on both sides.  You choose a coin at random and see that one of the sides is heads.\n",
    "What is the probability that you chose the trick coin?"
   ]
  },
  {
   "cell_type": "code",
   "execution_count": 15,
   "metadata": {},
   "outputs": [],
   "source": [
    "# Solution goes here"
   ]
  },
  {
   "cell_type": "markdown",
   "metadata": {},
   "source": [
    "**Exercise:** Suppose you meet someone and learn that they have two children.\n",
    "You ask if either child is a girl and they say yes.\n",
    "What is the probability that both children are girls?\n",
    "\n",
    "Hint: Start with four equally likely hypotheses."
   ]
  },
  {
   "cell_type": "code",
   "execution_count": 16,
   "metadata": {},
   "outputs": [],
   "source": [
    "# Solution goes here"
   ]
  },
  {
   "cell_type": "markdown",
   "metadata": {},
   "source": [
    "**Exercise:** There are many variations of the [Monty Hall problem](https://en.wikipedia.org/wiki/Monty_Hall_problem}).  \n",
    "For example, suppose Monty always chooses Door 2 if he can, and\n",
    "only chooses Door 3 if he has to (because the car is behind Door 2).\n",
    "\n",
    "If you choose Door 1 and Monty opens Door 2, what is the probability the car is behind Door 3?\n",
    "\n",
    "If you choose Door 1 and Monty opens Door 3, what is the probability the car is behind Door 2?"
   ]
  },
  {
   "cell_type": "code",
   "execution_count": 17,
   "metadata": {},
   "outputs": [],
   "source": [
    "# Solution goes here"
   ]
  },
  {
   "cell_type": "code",
   "execution_count": 18,
   "metadata": {},
   "outputs": [],
   "source": [
    "# Solution goes here"
   ]
  },
  {
   "cell_type": "markdown",
   "metadata": {},
   "source": [
    "**Exercise:** M&M's are small candy-coated chocolates that come in a variety of colors.  \n",
    "Mars, Inc., which makes M&M's, changes the mixture of colors from time to time.\n",
    "In 1995, they introduced blue M&M's.  \n",
    "\n",
    "* In 1994, the color mix in a bag of plain M&M's was 30\\% Brown, 20\\% Yellow, 20\\% Red, 10\\% Green, 10\\% Orange, 10\\% Tan.  \n",
    "\n",
    "* In 1996, it was 24\\% Blue , 20\\% Green, 16\\% Orange, 14\\% Yellow, 13\\% Red, 13\\% Brown.\n",
    "\n",
    "Suppose a friend of mine has two bags of M&M's, and he tells me\n",
    "that one is from 1994 and one from 1996.  He won't tell me which is\n",
    "which, but he gives me one M&M from each bag.  One is yellow and\n",
    "one is green.  What is the probability that the yellow one came\n",
    "from the 1994 bag?\n",
    "\n",
    "Hint: The trick to this question is to define the hypotheses and the data carefully."
   ]
  },
  {
   "cell_type": "code",
   "execution_count": 19,
   "metadata": {},
   "outputs": [],
   "source": [
    "# Solution goes here"
   ]
  },
  {
   "cell_type": "code",
   "execution_count": null,
   "metadata": {},
   "outputs": [],
   "source": []
  }
 ],
 "metadata": {
  "celltoolbar": "Tags",
  "hide_input": false,
  "kernelspec": {
   "display_name": "Python 3",
   "language": "python",
   "name": "python3"
  },
  "language_info": {
   "codemirror_mode": {
    "name": "ipython",
    "version": 3
   },
   "file_extension": ".py",
   "mimetype": "text/x-python",
   "name": "python",
   "nbconvert_exporter": "python",
   "pygments_lexer": "ipython3",
   "version": "3.7.4"
  },
  "toc": {
   "base_numbering": 1,
   "nav_menu": {},
   "number_sections": true,
   "sideBar": true,
   "skip_h1_title": false,
   "title_cell": "Table of Contents",
   "title_sidebar": "Contents",
   "toc_cell": false,
   "toc_position": {},
   "toc_section_display": true,
   "toc_window_display": false
  }
 },
 "nbformat": 4,
 "nbformat_minor": 4
}

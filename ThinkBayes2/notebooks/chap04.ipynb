{
 "cells": [
  {
   "cell_type": "markdown",
   "metadata": {},
   "source": [
    "# Estimating proportions"
   ]
  },
  {
   "cell_type": "markdown",
   "metadata": {
    "tags": []
   },
   "source": [
    "Think Bayes, Second Edition\n",
    "\n",
    "Copyright 2020 Allen B. Downey\n",
    "\n",
    "License: [Attribution-NonCommercial-ShareAlike 4.0 International (CC BY-NC-SA 4.0)](https://creativecommons.org/licenses/by-nc-sa/4.0/)"
   ]
  },
  {
   "cell_type": "code",
   "execution_count": 1,
   "metadata": {
    "ExecuteTime": {
     "end_time": "2021-02-03T07:24:03.843717Z",
     "start_time": "2021-02-03T07:24:03.839630Z"
    },
    "tags": []
   },
   "outputs": [],
   "source": [
    "# If we're running on Colab, install empiricaldist\n",
    "# https://pypi.org/project/empiricaldist/\n",
    "\n",
    "import sys\n",
    "IN_COLAB = 'google.colab' in sys.modules\n",
    "\n",
    "if IN_COLAB:\n",
    "    !pip install empiricaldist"
   ]
  },
  {
   "cell_type": "code",
   "execution_count": 2,
   "metadata": {
    "ExecuteTime": {
     "end_time": "2021-02-03T07:24:04.051060Z",
     "start_time": "2021-02-03T07:24:04.047452Z"
    },
    "tags": []
   },
   "outputs": [],
   "source": [
    "# Get utils.py and create directories\n",
    "\n",
    "import os\n",
    "\n",
    "if not os.path.exists('utils.py'):\n",
    "    !wget https://github.com/AllenDowney/ThinkBayes2/raw/master/soln/utils.py"
   ]
  },
  {
   "cell_type": "code",
   "execution_count": 3,
   "metadata": {
    "ExecuteTime": {
     "end_time": "2021-02-03T07:24:05.420705Z",
     "start_time": "2021-02-03T07:24:04.296151Z"
    },
    "tags": []
   },
   "outputs": [],
   "source": [
    "from utils import set_pyplot_params\n",
    "set_pyplot_params()"
   ]
  },
  {
   "cell_type": "markdown",
   "metadata": {},
   "source": [
    "In the previous chapter we solved the 101 Bowls Problem, and I admitted that it is not really about guessing which bowl the cookies came from; it is about estimating proportions.\n",
    "\n",
    "In this chapter, we take another step toward Bayesian statistics by solving the Euro problem.\n",
    "We'll start with the same prior distribution, and we'll see that the update is the same, mathematically.\n",
    "But I will argue that it is a different problem, philosophically, and use it to introduce two defining elements of Bayesian statistics: choosing prior distributions, and using probability to represent the unknown."
   ]
  },
  {
   "cell_type": "markdown",
   "metadata": {},
   "source": [
    "## The Euro Problem\n",
    "\n",
    "In *Information Theory, Inference, and Learning Algorithms*, David MacKay poses this problem:\n",
    "\n",
    "\"A statistical statement appeared in *The Guardian* on Friday January 4, 2002:\n",
    "\n",
    "> When spun on edge 250 times, a Belgian one-euro coin came up heads 140 times and tails 110.  \\`It looks very suspicious to me,' said Barry Blight, a statistics lecturer at the London School of Economics.  \\`If the coin were unbiased, the chance of getting a result as extreme as that would be less than 7%.'\n",
    "\n",
    "\"But [MacKay asks] do these data give evidence that the coin is biased rather than fair?\"\n",
    "\n",
    "To answer that question, we'll proceed in two steps.\n",
    "First we'll use the binomial distribution to see where that 7% came from; then we'll use Bayes's Theorem to estimate the probability that this coin comes up heads.\n"
   ]
  },
  {
   "cell_type": "markdown",
   "metadata": {},
   "source": [
    "## The binomial distribution\n",
    "\n",
    "Suppose I tell you that a coin is \"fair\", that is, the probability of heads is 50%.  If you spin it twice, there are four outcomes: `HH`, `HT`, `TH`, and `TT`.  All four outcomes have the same probability, 25%.  \n",
    "\n",
    "If we add up the total number of heads, there are three possible results: 0, 1, or 2.  The probabilities of 0 and 2 are 25%, and the probability of 1 is 50%.\n",
    "\n",
    "More generally, suppose the probability of heads is `p` and we spin the coin `n` times.  The probability that we get a total of `k` heads is given by the [binomial distribution](https://en.wikipedia.org/wiki/Binomial_distribution):\n",
    "\n",
    "$$\\binom{n}{k} p^k (1-p)^{n-k}$$\n",
    "\n",
    "for any value of $k$ from 0 to $n$, including both.\n",
    "The term $\\binom{n}{k}$ is the [binomial coefficient](https://en.wikipedia.org/wiki/Binomial_coefficient), usually pronounced \"n choose k\".\n",
    "\n",
    "We could evaluate this expression ourselves, but we can also use the SciPy function `binom.pmf`.\n",
    "For example, if we flip a coin `n=2` time and the probability of heads is `p=0.5`, here's the probability of getting `k=1` heads:"
   ]
  },
  {
   "cell_type": "code",
   "execution_count": 4,
   "metadata": {
    "ExecuteTime": {
     "end_time": "2021-02-03T07:24:05.905546Z",
     "start_time": "2021-02-03T07:24:05.899498Z"
    }
   },
   "outputs": [
    {
     "data": {
      "text/plain": [
       "0.5"
      ]
     },
     "execution_count": 4,
     "metadata": {},
     "output_type": "execute_result"
    }
   ],
   "source": [
    "from scipy.stats import binom\n",
    "\n",
    "n = 2\n",
    "p = 0.5\n",
    "k = 1\n",
    "\n",
    "binom.pmf(k, n, p)"
   ]
  },
  {
   "cell_type": "markdown",
   "metadata": {},
   "source": [
    "Instead of providing a single value for `k`, we can also call `binom.pmf` with an array of values."
   ]
  },
  {
   "cell_type": "code",
   "execution_count": 5,
   "metadata": {
    "ExecuteTime": {
     "end_time": "2021-02-03T07:24:06.917586Z",
     "start_time": "2021-02-03T07:24:06.912508Z"
    }
   },
   "outputs": [
    {
     "data": {
      "text/plain": [
       "array([0.25, 0.5 , 0.25])"
      ]
     },
     "execution_count": 5,
     "metadata": {},
     "output_type": "execute_result"
    }
   ],
   "source": [
    "import numpy as np\n",
    "ks = np.arange(n+1)\n",
    "\n",
    "ps = binom.pmf(ks, n, p)\n",
    "ps"
   ]
  },
  {
   "cell_type": "markdown",
   "metadata": {},
   "source": [
    "The result is a NumPy array with the probability of 0, 1, or 2 heads.\n",
    "If we put these probabilities in a `Pmf`, the result is the distribution of `k` for the given values of `n` and `p`.\n",
    "\n",
    "Here's what it looks like:"
   ]
  },
  {
   "cell_type": "code",
   "execution_count": 6,
   "metadata": {
    "ExecuteTime": {
     "end_time": "2021-02-03T07:24:07.801867Z",
     "start_time": "2021-02-03T07:24:07.792417Z"
    }
   },
   "outputs": [
    {
     "data": {
      "text/html": [
       "<div>\n",
       "<style scoped>\n",
       "    .dataframe tbody tr th:only-of-type {\n",
       "        vertical-align: middle;\n",
       "    }\n",
       "\n",
       "    .dataframe tbody tr th {\n",
       "        vertical-align: top;\n",
       "    }\n",
       "\n",
       "    .dataframe thead th {\n",
       "        text-align: right;\n",
       "    }\n",
       "</style>\n",
       "<table border=\"1\" class=\"dataframe\">\n",
       "  <thead>\n",
       "    <tr style=\"text-align: right;\">\n",
       "      <th></th>\n",
       "      <th>probs</th>\n",
       "    </tr>\n",
       "  </thead>\n",
       "  <tbody>\n",
       "    <tr>\n",
       "      <th>0</th>\n",
       "      <td>0.25</td>\n",
       "    </tr>\n",
       "    <tr>\n",
       "      <th>1</th>\n",
       "      <td>0.50</td>\n",
       "    </tr>\n",
       "    <tr>\n",
       "      <th>2</th>\n",
       "      <td>0.25</td>\n",
       "    </tr>\n",
       "  </tbody>\n",
       "</table>\n",
       "</div>"
      ],
      "text/plain": [
       "0    0.25\n",
       "1    0.50\n",
       "2    0.25\n",
       "dtype: float64"
      ]
     },
     "execution_count": 6,
     "metadata": {},
     "output_type": "execute_result"
    }
   ],
   "source": [
    "from empiricaldist import Pmf\n",
    "\n",
    "pmf_k = Pmf(ps, ks)\n",
    "pmf_k"
   ]
  },
  {
   "cell_type": "markdown",
   "metadata": {},
   "source": [
    "The following function computes the binomial distribution for given values of `n` and `p` and returns a `Pmf` that represents the result."
   ]
  },
  {
   "cell_type": "code",
   "execution_count": 7,
   "metadata": {
    "ExecuteTime": {
     "end_time": "2021-02-03T07:24:08.444595Z",
     "start_time": "2021-02-03T07:24:08.441367Z"
    }
   },
   "outputs": [],
   "source": [
    "def make_binomial(n, p):\n",
    "    \"\"\"Make a binomial Pmf.\"\"\"\n",
    "    ks = np.arange(n+1)\n",
    "    ps = binom.pmf(ks, n, p)\n",
    "    return Pmf(ps, ks)"
   ]
  },
  {
   "cell_type": "markdown",
   "metadata": {},
   "source": [
    "Here's what it looks like with `n=250` and `p=0.5`:"
   ]
  },
  {
   "cell_type": "code",
   "execution_count": 8,
   "metadata": {
    "ExecuteTime": {
     "end_time": "2021-02-03T07:24:09.271365Z",
     "start_time": "2021-02-03T07:24:09.268073Z"
    }
   },
   "outputs": [],
   "source": [
    "pmf_k = make_binomial(n=250, p=0.5)"
   ]
  },
  {
   "cell_type": "code",
   "execution_count": 9,
   "metadata": {
    "ExecuteTime": {
     "end_time": "2021-02-03T07:24:11.453113Z",
     "start_time": "2021-02-03T07:24:11.258939Z"
    },
    "tags": []
   },
   "outputs": [
    {
     "data": {
      "image/png": "[encoded data removed]",
      "text/plain": [
       "<Figure size 432x288 with 1 Axes>"
      ]
     },
     "metadata": {
      "needs_background": "light"
     },
     "output_type": "display_data"
    }
   ],
   "source": [
    "from utils import decorate\n",
    "\n",
    "pmf_k.plot(label='n=250, p=0.5')\n",
    "\n",
    "decorate(xlabel='Number of heads (k)',\n",
    "         ylabel='PMF',\n",
    "         title='Binomial distribution')"
   ]
  },
  {
   "cell_type": "markdown",
   "metadata": {},
   "source": [
    "The most likely quantity in this distribution is 125:"
   ]
  },
  {
   "cell_type": "code",
   "execution_count": 10,
   "metadata": {
    "ExecuteTime": {
     "end_time": "2021-02-03T07:24:14.752231Z",
     "start_time": "2021-02-03T07:24:14.748751Z"
    }
   },
   "outputs": [
    {
     "data": {
      "text/plain": [
       "125"
      ]
     },
     "execution_count": 10,
     "metadata": {},
     "output_type": "execute_result"
    }
   ],
   "source": [
    "pmf_k.max_prob()"
   ]
  },
  {
   "cell_type": "markdown",
   "metadata": {},
   "source": [
    "But even though it is the most likely quantity, the probability that we get exactly 125 heads is only about 5%."
   ]
  },
  {
   "cell_type": "code",
   "execution_count": 11,
   "metadata": {
    "ExecuteTime": {
     "end_time": "2021-02-03T07:24:16.038856Z",
     "start_time": "2021-02-03T07:24:16.035427Z"
    }
   },
   "outputs": [
    {
     "data": {
      "text/plain": [
       "0.05041221314731537"
      ]
     },
     "execution_count": 11,
     "metadata": {},
     "output_type": "execute_result"
    }
   ],
   "source": [
    "pmf_k[125]"
   ]
  },
  {
   "cell_type": "markdown",
   "metadata": {},
   "source": [
    "In MacKay's example, we got 140 heads, which is even less likely than 125:"
   ]
  },
  {
   "cell_type": "code",
   "execution_count": 12,
   "metadata": {
    "ExecuteTime": {
     "end_time": "2021-02-03T07:24:18.697878Z",
     "start_time": "2021-02-03T07:24:18.694212Z"
    }
   },
   "outputs": [
    {
     "data": {
      "text/plain": [
       "0.008357181724917673"
      ]
     },
     "execution_count": 12,
     "metadata": {},
     "output_type": "execute_result"
    }
   ],
   "source": [
    "pmf_k[140]"
   ]
  },
  {
   "cell_type": "markdown",
   "metadata": {},
   "source": [
    "In the article MacKay quotes, the statistician says, \"If the coin were unbiased the chance of getting a result as extreme as that would be less than 7%.\"\n",
    "\n",
    "We can use the binomial distribution to check his math.  The following function takes a PMF and computes the total probability of quantities greater than or equal to `threshold`. "
   ]
  },
  {
   "cell_type": "code",
   "execution_count": 13,
   "metadata": {
    "ExecuteTime": {
     "end_time": "2021-02-03T07:24:23.474602Z",
     "start_time": "2021-02-03T07:24:23.471666Z"
    }
   },
   "outputs": [],
   "source": [
    "def prob_ge(pmf, threshold):\n",
    "    \"\"\"Probability of quantities greater than threshold.\"\"\"\n",
    "    ge = (pmf.qs >= threshold)\n",
    "    total = pmf[ge].sum()\n",
    "    return total"
   ]
  },
  {
   "cell_type": "markdown",
   "metadata": {},
   "source": [
    "Here's the probability of getting 140 heads or more:"
   ]
  },
  {
   "cell_type": "code",
   "execution_count": 14,
   "metadata": {
    "ExecuteTime": {
     "end_time": "2021-02-03T07:24:29.728928Z",
     "start_time": "2021-02-03T07:24:29.724928Z"
    }
   },
   "outputs": [
    {
     "data": {
      "text/plain": [
       "0.033210575620022706"
      ]
     },
     "execution_count": 14,
     "metadata": {},
     "output_type": "execute_result"
    }
   ],
   "source": [
    "prob_ge(pmf_k, 140)"
   ]
  },
  {
   "cell_type": "markdown",
   "metadata": {},
   "source": [
    "`Pmf` provides a method that does the same computation."
   ]
  },
  {
   "cell_type": "code",
   "execution_count": 15,
   "metadata": {
    "ExecuteTime": {
     "end_time": "2021-02-03T07:24:30.852683Z",
     "start_time": "2021-02-03T07:24:30.848996Z"
    }
   },
   "outputs": [
    {
     "data": {
      "text/plain": [
       "0.033210575620022706"
      ]
     },
     "execution_count": 15,
     "metadata": {},
     "output_type": "execute_result"
    }
   ],
   "source": [
    "pmf_k.prob_ge(140)"
   ]
  },
  {
   "cell_type": "markdown",
   "metadata": {},
   "source": [
    "The result is about 3.3%, which is less than the quoted 7%.  The reason for the difference is that the statistician includes all outcomes \"as extreme as\" 140, which includes outcomes less than or equal to 110.\n",
    "\n",
    "To see where that comes from, recall that the expected number of heads is 125.  If we get 140, we've exceeded that expectation by 15.\n",
    "And if we get 110, we have come up short by 15.\n",
    "\n",
    "7% is the sum of both of these \"tails\", as shows in the following figure."
   ]
  },
  {
   "cell_type": "code",
   "execution_count": 16,
   "metadata": {
    "ExecuteTime": {
     "end_time": "2021-02-03T07:24:32.059511Z",
     "start_time": "2021-02-03T07:24:31.888453Z"
    },
    "tags": []
   },
   "outputs": [
    {
     "data": {
      "image/png": "[encoded data removed]",
      "text/plain": [
       "<Figure size 432x288 with 1 Axes>"
      ]
     },
     "metadata": {
      "needs_background": "light"
     },
     "output_type": "display_data"
    }
   ],
   "source": [
    "import matplotlib.pyplot as plt\n",
    "\n",
    "def fill_below(pmf):\n",
    "    qs = pmf.index\n",
    "    ps = pmf.values\n",
    "    plt.fill_between(qs, ps, 0, color='C5', alpha=0.4)\n",
    "\n",
    "qs = pmf_k.index\n",
    "fill_below(pmf_k[qs>=140])\n",
    "fill_below(pmf_k[qs<=110])\n",
    "pmf_k.plot(label='n=250, p=0.5')\n",
    "\n",
    "decorate(xlabel='Number of heads (k)',\n",
    "         ylabel='PMF',\n",
    "         title='Binomial distribution')"
   ]
  },
  {
   "cell_type": "markdown",
   "metadata": {},
   "source": [
    "Here's how we compute the total probability of the left tail."
   ]
  },
  {
   "cell_type": "code",
   "execution_count": 17,
   "metadata": {
    "ExecuteTime": {
     "end_time": "2021-02-03T07:24:32.803039Z",
     "start_time": "2021-02-03T07:24:32.799340Z"
    }
   },
   "outputs": [
    {
     "data": {
      "text/plain": [
       "0.033210575620022706"
      ]
     },
     "execution_count": 17,
     "metadata": {},
     "output_type": "execute_result"
    }
   ],
   "source": [
    "pmf_k.prob_le(110)"
   ]
  },
  {
   "cell_type": "markdown",
   "metadata": {},
   "source": [
    "The probability of outcomes less than or equal to 110 is also 3.3%,\n",
    "so the total probability of outcomes \"as extreme\" as 140 is 6.6%.\n",
    "\n",
    "The point of this calculation is that these extreme outcomes are unlikely if the coin is fair.\n",
    "\n",
    "That's interesting, but it doesn't answer MacKay's question.  Let's see if we can."
   ]
  },
  {
   "cell_type": "markdown",
   "metadata": {},
   "source": [
    "## Bayesian estimation\n",
    "\n",
    "Any given coin has some probability of landing heads up when spun\n",
    "on edge; I'll call this probability `x`.\n",
    "\n",
    "It seems reasonable to believe that `x` depends\n",
    "on physical characteristics of the coin, like the distribution\n",
    "of weight.\n",
    "\n",
    "If a coin is perfectly balanced, we expect `x` to be close to 50%, but\n",
    "for a lopsided coin, `x` might be substantially different.\n",
    "We can use Bayes's theorem and the observed data to estimate `x`.\n",
    "\n",
    "For simplicity, I'll start with a uniform prior, which assumes that all values of `x` are equally likely.\n",
    "That might not be a reasonable assumption, so we'll come back and consider other priors later.\n",
    "\n",
    "We can make a uniform prior like this:"
   ]
  },
  {
   "cell_type": "code",
   "execution_count": 19,
   "metadata": {
    "ExecuteTime": {
     "end_time": "2021-02-03T07:24:49.716088Z",
     "start_time": "2021-02-03T07:24:49.711230Z"
    }
   },
   "outputs": [
    {
     "data": {
      "text/plain": [
       "array([0.  , 0.01, 0.02, 0.03, 0.04, 0.05, 0.06, 0.07, 0.08, 0.09, 0.1 ,\n",
       "       0.11, 0.12, 0.13, 0.14, 0.15, 0.16, 0.17, 0.18, 0.19, 0.2 , 0.21,\n",
       "       0.22, 0.23, 0.24, 0.25, 0.26, 0.27, 0.28, 0.29, 0.3 , 0.31, 0.32,\n",
       "       0.33, 0.34, 0.35, 0.36, 0.37, 0.38, 0.39, 0.4 , 0.41, 0.42, 0.43,\n",
       "       0.44, 0.45, 0.46, 0.47, 0.48, 0.49, 0.5 , 0.51, 0.52, 0.53, 0.54,\n",
       "       0.55, 0.56, 0.57, 0.58, 0.59, 0.6 , 0.61, 0.62, 0.63, 0.64, 0.65,\n",
       "       0.66, 0.67, 0.68, 0.69, 0.7 , 0.71, 0.72, 0.73, 0.74, 0.75, 0.76,\n",
       "       0.77, 0.78, 0.79, 0.8 , 0.81, 0.82, 0.83, 0.84, 0.85, 0.86, 0.87,\n",
       "       0.88, 0.89, 0.9 , 0.91, 0.92, 0.93, 0.94, 0.95, 0.96, 0.97, 0.98,\n",
       "       0.99, 1.  ])"
      ]
     },
     "execution_count": 19,
     "metadata": {},
     "output_type": "execute_result"
    }
   ],
   "source": [
    "hypos = np.linspace(0, 1, 101)\n",
    "hypos"
   ]
  },
  {
   "cell_type": "code",
   "execution_count": 20,
   "metadata": {
    "ExecuteTime": {
     "end_time": "2021-02-03T07:24:49.900840Z",
     "start_time": "2021-02-03T07:24:49.892554Z"
    }
   },
   "outputs": [
    {
     "data": {
      "text/html": [
       "<div>\n",
       "<style scoped>\n",
       "    .dataframe tbody tr th:only-of-type {\n",
       "        vertical-align: middle;\n",
       "    }\n",
       "\n",
       "    .dataframe tbody tr th {\n",
       "        vertical-align: top;\n",
       "    }\n",
       "\n",
       "    .dataframe thead th {\n",
       "        text-align: right;\n",
       "    }\n",
       "</style>\n",
       "<table border=\"1\" class=\"dataframe\">\n",
       "  <thead>\n",
       "    <tr style=\"text-align: right;\">\n",
       "      <th></th>\n",
       "      <th>probs</th>\n",
       "    </tr>\n",
       "  </thead>\n",
       "  <tbody>\n",
       "    <tr>\n",
       "      <th>0.00</th>\n",
       "      <td>1</td>\n",
       "    </tr>\n",
       "    <tr>\n",
       "      <th>0.01</th>\n",
       "      <td>1</td>\n",
       "    </tr>\n",
       "    <tr>\n",
       "      <th>0.02</th>\n",
       "      <td>1</td>\n",
       "    </tr>\n",
       "    <tr>\n",
       "      <th>0.03</th>\n",
       "      <td>1</td>\n",
       "    </tr>\n",
       "    <tr>\n",
       "      <th>0.04</th>\n",
       "      <td>1</td>\n",
       "    </tr>\n",
       "    <tr>\n",
       "      <th>...</th>\n",
       "      <td>...</td>\n",
       "    </tr>\n",
       "    <tr>\n",
       "      <th>0.96</th>\n",
       "      <td>1</td>\n",
       "    </tr>\n",
       "    <tr>\n",
       "      <th>0.97</th>\n",
       "      <td>1</td>\n",
       "    </tr>\n",
       "    <tr>\n",
       "      <th>0.98</th>\n",
       "      <td>1</td>\n",
       "    </tr>\n",
       "    <tr>\n",
       "      <th>0.99</th>\n",
       "      <td>1</td>\n",
       "    </tr>\n",
       "    <tr>\n",
       "      <th>1.00</th>\n",
       "      <td>1</td>\n",
       "    </tr>\n",
       "  </tbody>\n",
       "</table>\n",
       "<p>101 rows × 1 columns</p>\n",
       "</div>"
      ],
      "text/plain": [
       "0.00    1\n",
       "0.01    1\n",
       "0.02    1\n",
       "0.03    1\n",
       "0.04    1\n",
       "       ..\n",
       "0.96    1\n",
       "0.97    1\n",
       "0.98    1\n",
       "0.99    1\n",
       "1.00    1\n",
       "Length: 101, dtype: int64"
      ]
     },
     "execution_count": 20,
     "metadata": {},
     "output_type": "execute_result"
    }
   ],
   "source": [
    "prior = Pmf(1, hypos)\n",
    "prior"
   ]
  },
  {
   "cell_type": "markdown",
   "metadata": {},
   "source": [
    "`hypos` is an array of equally spaced values between 0 and 1.\n",
    "\n",
    "We can use the hypotheses to compute the likelihoods, like this:"
   ]
  },
  {
   "cell_type": "code",
   "execution_count": 46,
   "metadata": {
    "ExecuteTime": {
     "end_time": "2021-02-03T07:56:04.204466Z",
     "start_time": "2021-02-03T07:56:04.199942Z"
    }
   },
   "outputs": [
    {
     "data": {
      "text/plain": [
       "array([0.  , 0.01, 0.02, 0.03, 0.04, 0.05, 0.06, 0.07, 0.08, 0.09, 0.1 ,\n",
       "       0.11, 0.12, 0.13, 0.14, 0.15, 0.16, 0.17, 0.18, 0.19, 0.2 , 0.21,\n",
       "       0.22, 0.23, 0.24, 0.25, 0.26, 0.27, 0.28, 0.29, 0.3 , 0.31, 0.32,\n",
       "       0.33, 0.34, 0.35, 0.36, 0.37, 0.38, 0.39, 0.4 , 0.41, 0.42, 0.43,\n",
       "       0.44, 0.45, 0.46, 0.47, 0.48, 0.49, 0.5 , 0.51, 0.52, 0.53, 0.54,\n",
       "       0.55, 0.56, 0.57, 0.58, 0.59, 0.6 , 0.61, 0.62, 0.63, 0.64, 0.65,\n",
       "       0.66, 0.67, 0.68, 0.69, 0.7 , 0.71, 0.72, 0.73, 0.74, 0.75, 0.76,\n",
       "       0.77, 0.78, 0.79, 0.8 , 0.81, 0.82, 0.83, 0.84, 0.85, 0.86, 0.87,\n",
       "       0.88, 0.89, 0.9 , 0.91, 0.92, 0.93, 0.94, 0.95, 0.96, 0.97, 0.98,\n",
       "       0.99, 1.  ])"
      ]
     },
     "execution_count": 46,
     "metadata": {},
     "output_type": "execute_result"
    }
   ],
   "source": [
    "likelihood_heads = hypos\n",
    "likelihood_tails = 1 - hypos"
   ]
  },
  {
   "cell_type": "markdown",
   "metadata": {},
   "source": [
    "I'll put the likelihoods for heads and tails in a dictionary to make it easier to do the update."
   ]
  },
  {
   "cell_type": "code",
   "execution_count": 23,
   "metadata": {
    "ExecuteTime": {
     "end_time": "2021-02-03T07:25:03.434304Z",
     "start_time": "2021-02-03T07:25:03.428726Z"
    }
   },
   "outputs": [
    {
     "data": {
      "text/plain": [
       "{'H': array([0.  , 0.01, 0.02, 0.03, 0.04, 0.05, 0.06, 0.07, 0.08, 0.09, 0.1 ,\n",
       "        0.11, 0.12, 0.13, 0.14, 0.15, 0.16, 0.17, 0.18, 0.19, 0.2 , 0.21,\n",
       "        0.22, 0.23, 0.24, 0.25, 0.26, 0.27, 0.28, 0.29, 0.3 , 0.31, 0.32,\n",
       "        0.33, 0.34, 0.35, 0.36, 0.37, 0.38, 0.39, 0.4 , 0.41, 0.42, 0.43,\n",
       "        0.44, 0.45, 0.46, 0.47, 0.48, 0.49, 0.5 , 0.51, 0.52, 0.53, 0.54,\n",
       "        0.55, 0.56, 0.57, 0.58, 0.59, 0.6 , 0.61, 0.62, 0.63, 0.64, 0.65,\n",
       "        0.66, 0.67, 0.68, 0.69, 0.7 , 0.71, 0.72, 0.73, 0.74, 0.75, 0.76,\n",
       "        0.77, 0.78, 0.79, 0.8 , 0.81, 0.82, 0.83, 0.84, 0.85, 0.86, 0.87,\n",
       "        0.88, 0.89, 0.9 , 0.91, 0.92, 0.93, 0.94, 0.95, 0.96, 0.97, 0.98,\n",
       "        0.99, 1.  ]),\n",
       " 'T': array([1.  , 0.99, 0.98, 0.97, 0.96, 0.95, 0.94, 0.93, 0.92, 0.91, 0.9 ,\n",
       "        0.89, 0.88, 0.87, 0.86, 0.85, 0.84, 0.83, 0.82, 0.81, 0.8 , 0.79,\n",
       "        0.78, 0.77, 0.76, 0.75, 0.74, 0.73, 0.72, 0.71, 0.7 , 0.69, 0.68,\n",
       "        0.67, 0.66, 0.65, 0.64, 0.63, 0.62, 0.61, 0.6 , 0.59, 0.58, 0.57,\n",
       "        0.56, 0.55, 0.54, 0.53, 0.52, 0.51, 0.5 , 0.49, 0.48, 0.47, 0.46,\n",
       "        0.45, 0.44, 0.43, 0.42, 0.41, 0.4 , 0.39, 0.38, 0.37, 0.36, 0.35,\n",
       "        0.34, 0.33, 0.32, 0.31, 0.3 , 0.29, 0.28, 0.27, 0.26, 0.25, 0.24,\n",
       "        0.23, 0.22, 0.21, 0.2 , 0.19, 0.18, 0.17, 0.16, 0.15, 0.14, 0.13,\n",
       "        0.12, 0.11, 0.1 , 0.09, 0.08, 0.07, 0.06, 0.05, 0.04, 0.03, 0.02,\n",
       "        0.01, 0.  ])}"
      ]
     },
     "execution_count": 23,
     "metadata": {},
     "output_type": "execute_result"
    }
   ],
   "source": [
    "likelihood = {\n",
    "    'H': likelihood_heads,\n",
    "    'T': likelihood_tails\n",
    "}\n",
    "likelihood"
   ]
  },
  {
   "cell_type": "markdown",
   "metadata": {},
   "source": [
    "To represent the data, I'll use string where each element is `H` or `T`:"
   ]
  },
  {
   "cell_type": "code",
   "execution_count": 26,
   "metadata": {
    "ExecuteTime": {
     "end_time": "2021-02-03T07:25:44.633494Z",
     "start_time": "2021-02-03T07:25:44.629700Z"
    }
   },
   "outputs": [
    {
     "data": {
      "text/plain": [
       "'HHHHHHHHHHHHHHHHHHHHHHHHHHHHHHHHHHHHHHHHHHHHHHHHHHHHHHHHHHHHHHHHHHHHHHHHHHHHHHHHHHHHHHHHHHHHHHHHHHHHHHHHHHHHHHHHHHHHHHHHHHHHHHHHHHHHHHHHHHHHTTTTTTTTTTTTTTTTTTTTTTTTTTTTTTTTTTTTTTTTTTTTTTTTTTTTTTTTTTTTTTTTTTTTTTTTTTTTTTTTTTTTTTTTTTTTTTTTTTTTTTTTTTTTTT'"
      ]
     },
     "execution_count": 26,
     "metadata": {},
     "output_type": "execute_result"
    }
   ],
   "source": [
    "dataset = 'H' * 140 + 'T' * 110\n",
    "dataset"
   ]
  },
  {
   "cell_type": "markdown",
   "metadata": {},
   "source": [
    "The following function does the update."
   ]
  },
  {
   "cell_type": "code",
   "execution_count": 27,
   "metadata": {
    "ExecuteTime": {
     "end_time": "2021-02-03T07:25:52.261200Z",
     "start_time": "2021-02-03T07:25:52.258279Z"
    }
   },
   "outputs": [],
   "source": [
    "def update_euro(pmf, dataset):\n",
    "    \"\"\"Update pmf with a given sequence of H and T.\"\"\"\n",
    "    for data in dataset:\n",
    "        pmf *= likelihood[data]\n",
    "\n",
    "    pmf.normalize()"
   ]
  },
  {
   "cell_type": "markdown",
   "metadata": {},
   "source": [
    "The first argument is a `Pmf` that represents the prior.\n",
    "The second argument is a sequence of strings.\n",
    "Each time through the loop, we multiply `pmf` by the likelihood of one outcome, `H` for heads or `T` for tails.\n",
    "\n",
    "Notice that `normalize` is outside the loop, so the posterior distribution only gets normalized one, at the end.\n",
    "That's more efficient than normalizing it after each spin (although we'll see later that it can also cause problems with floating-point arithmetic).\n",
    "\n",
    "Here's how we use `update_euro`."
   ]
  },
  {
   "cell_type": "code",
   "execution_count": 47,
   "metadata": {
    "ExecuteTime": {
     "end_time": "2021-02-03T07:58:23.187065Z",
     "start_time": "2021-02-03T07:58:23.130603Z"
    }
   },
   "outputs": [],
   "source": [
    "posterior = prior.copy()\n",
    "update_euro(posterior, dataset)"
   ]
  },
  {
   "cell_type": "markdown",
   "metadata": {},
   "source": [
    "And here's what the posterior looks like."
   ]
  },
  {
   "cell_type": "code",
   "execution_count": 48,
   "metadata": {
    "ExecuteTime": {
     "end_time": "2021-02-03T07:58:24.125787Z",
     "start_time": "2021-02-03T07:58:24.122969Z"
    },
    "tags": []
   },
   "outputs": [],
   "source": [
    "def decorate_euro(title):\n",
    "    decorate(xlabel='Proportion of heads (x)',\n",
    "             ylabel='Probability',\n",
    "             title=title)"
   ]
  },
  {
   "cell_type": "code",
   "execution_count": 49,
   "metadata": {
    "ExecuteTime": {
     "end_time": "2021-02-03T07:58:26.621390Z",
     "start_time": "2021-02-03T07:58:26.444575Z"
    },
    "scrolled": true,
    "tags": []
   },
   "outputs": [
    {
     "data": {
      "image/png": "[encoded data removed]",
      "text/plain": [
       "<Figure size 432x288 with 1 Axes>"
      ]
     },
     "metadata": {
      "needs_background": "light"
     },
     "output_type": "display_data"
    }
   ],
   "source": [
    "posterior.plot(label='140 heads out of 250', color='C4')\n",
    "decorate_euro(title='Posterior distribution of x')"
   ]
  },
  {
   "cell_type": "markdown",
   "metadata": {},
   "source": [
    "This figure shows the posterior distribution of `x`, which is the proportion of heads for the coin we observed.\n",
    "\n",
    "The posterior distribution represents our beliefs about `x` after seeing the data.\n",
    "It indicates that values less than 0.5 and greater than 0.8 are unlikely; values between 0.5 and 0.6 are the most likely.\n",
    "\n",
    "In fact, the most likely value for `x` is 0.56 which is the proportion of heads in the dataset, `140/250`."
   ]
  },
  {
   "cell_type": "code",
   "execution_count": 25,
   "metadata": {
    "scrolled": true
   },
   "outputs": [],
   "source": [
    "posterior.max_prob()"
   ]
  },
  {
   "cell_type": "markdown",
   "metadata": {},
   "source": [
    "## Triangle prior\n",
    "\n",
    "So far we've been using a uniform prior:"
   ]
  },
  {
   "cell_type": "code",
   "execution_count": 31,
   "metadata": {
    "ExecuteTime": {
     "end_time": "2021-02-03T07:28:34.546469Z",
     "start_time": "2021-02-03T07:28:34.541945Z"
    },
    "tags": []
   },
   "outputs": [
    {
     "data": {
      "text/plain": [
       "101"
      ]
     },
     "execution_count": 31,
     "metadata": {},
     "output_type": "execute_result"
    }
   ],
   "source": [
    "uniform = Pmf(1, hypos, name='uniform')\n",
    "uniform.normalize()"
   ]
  },
  {
   "cell_type": "markdown",
   "metadata": {},
   "source": [
    "But that might not be a reasonable choice based on what we know about coins.\n",
    "I can believe that if a coin is lopsided, `x` might deviate substantially from 0.5, but it seems unlikely that the Belgian Euro coin is so imbalanced that `x` is 0.1 or 0.9.\n",
    "\n",
    "It might be more reasonable to choose a prior that gives\n",
    "higher probability to values of `x` near 0.5 and lower probability\n",
    "to extreme values.\n",
    "\n",
    "As an example, let's try a triangle-shaped prior.\n",
    "Here's the code that constructs it:"
   ]
  },
  {
   "cell_type": "code",
   "execution_count": 32,
   "metadata": {
    "ExecuteTime": {
     "end_time": "2021-02-03T07:28:40.940519Z",
     "start_time": "2021-02-03T07:28:40.934830Z"
    }
   },
   "outputs": [
    {
     "data": {
      "text/plain": [
       "2500"
      ]
     },
     "execution_count": 32,
     "metadata": {},
     "output_type": "execute_result"
    }
   ],
   "source": [
    "ramp_up = np.arange(50)\n",
    "ramp_down = np.arange(50, -1, -1)\n",
    "\n",
    "a = np.append(ramp_up, ramp_down)\n",
    "\n",
    "triangle = Pmf(a, hypos, name='triangle')\n",
    "triangle.normalize()"
   ]
  },
  {
   "cell_type": "code",
   "execution_count": 37,
   "metadata": {
    "ExecuteTime": {
     "end_time": "2021-02-03T07:29:32.059438Z",
     "start_time": "2021-02-03T07:29:31.904479Z"
    }
   },
   "outputs": [
    {
     "name": "stdout",
     "output_type": "stream",
     "text": [
      "0.00    0.0000\n",
      "0.01    0.0004\n",
      "0.02    0.0008\n",
      "0.03    0.0012\n",
      "0.04    0.0016\n",
      "         ...  \n",
      "0.96    0.0016\n",
      "0.97    0.0012\n",
      "0.98    0.0008\n",
      "0.99    0.0004\n",
      "1.00    0.0000\n",
      "Name: triangle, Length: 101, dtype: float64\n"
     ]
    },
    {
     "name": "stderr",
     "output_type": "stream",
     "text": [
      "/Users/a201806014/anaconda3/envs/py37/lib/python3.7/site-packages/seaborn/distributions.py:2551: FutureWarning: `distplot` is a deprecated function and will be removed in a future version. Please adapt your code to use either `displot` (a figure-level function with similar flexibility) or `histplot` (an axes-level function for histograms).\n",
      "  warnings.warn(msg, FutureWarning)\n"
     ]
    },
    {
     "data": {
      "image/png": "[encoded data removed]",
      "text/plain": [
       "<Figure size 432x288 with 1 Axes>"
      ]
     },
     "metadata": {
      "needs_background": "light"
     },
     "output_type": "display_data"
    }
   ],
   "source": [
    "import seaborn as sns\n",
    "sns.distplot(x = triangle)\n",
    "print(triangle)"
   ]
  },
  {
   "cell_type": "markdown",
   "metadata": {},
   "source": [
    "`arange` returns a NumPy array, so we can use `np.append` to append `ramp_down` to the end of `ramp_up`.\n",
    "Then we use `a` and `hypos` to make a `Pmf`.\n",
    "\n",
    "The following figure shows the result, along with the uniform prior."
   ]
  },
  {
   "cell_type": "code",
   "execution_count": 38,
   "metadata": {
    "ExecuteTime": {
     "end_time": "2021-02-03T07:31:10.810540Z",
     "start_time": "2021-02-03T07:31:10.610212Z"
    },
    "tags": []
   },
   "outputs": [
    {
     "data": {
      "image/png": "[encoded data removed]",
      "text/plain": [
       "<Figure size 432x288 with 1 Axes>"
      ]
     },
     "metadata": {
      "needs_background": "light"
     },
     "output_type": "display_data"
    }
   ],
   "source": [
    "# 사전확률이 있을때와, 모두 균등할 것으로 가정했을 경우의 최초 분포\n",
    "uniform.plot()\n",
    "triangle.plot()\n",
    "decorate_euro(title='Uniform and triangle prior distributions')"
   ]
  },
  {
   "cell_type": "markdown",
   "metadata": {},
   "source": [
    "Now we can update both priors with the same data:\n"
   ]
  },
  {
   "cell_type": "code",
   "execution_count": 39,
   "metadata": {
    "ExecuteTime": {
     "end_time": "2021-02-03T07:31:12.281046Z",
     "start_time": "2021-02-03T07:31:12.178314Z"
    }
   },
   "outputs": [],
   "source": [
    "update_euro(uniform, dataset)\n",
    "update_euro(triangle, dataset)"
   ]
  },
  {
   "cell_type": "markdown",
   "metadata": {},
   "source": [
    "Here are the posteriors."
   ]
  },
  {
   "cell_type": "code",
   "execution_count": 41,
   "metadata": {
    "ExecuteTime": {
     "end_time": "2021-02-03T07:31:52.990419Z",
     "start_time": "2021-02-03T07:31:52.788779Z"
    },
    "tags": []
   },
   "outputs": [
    {
     "data": {
      "image/png": "[encoded data removed]",
      "text/plain": [
       "<Figure size 432x288 with 1 Axes>"
      ]
     },
     "metadata": {
      "needs_background": "light"
     },
     "output_type": "display_data"
    }
   ],
   "source": [
    "# 사전확률이 있을때와, 모두 균등할 것으로 가정했을 경우의 사후 분포 - 결국 별 차이가 없다.\n",
    "uniform.plot()\n",
    "triangle.plot()\n",
    "decorate_euro(title='Posterior distributions')"
   ]
  },
  {
   "cell_type": "markdown",
   "metadata": {},
   "source": [
    "The differences between the posterior distributions are barely visible, and so small they would hardly matter in practice.\n",
    "\n",
    "And that's good news.\n",
    "To see why, imagine two people who disagree angrily about which prior is better, uniform or triangle.\n",
    "Each of them has reasons for their preference, but neither of them can persuade the other to change their mind.\n",
    "\n",
    "But suppose they agree to use the data to update their beliefs.\n",
    "When they compare their posterior distributions, they find that there is almost nothing left to argue about.\n",
    "\n",
    "This is an example of **swamping the priors**: with enough\n",
    "data, people who start with different priors will tend to\n",
    "converge on the same posterior distribution.\n"
   ]
  },
  {
   "cell_type": "markdown",
   "metadata": {},
   "source": [
    "## The binomial likelihood function\n",
    "\n",
    "So far we've been computing the updates one spin at a time, so for the Euro problem we have to do 250 updates.\n",
    "\n",
    "A more efficient alternative is to compute the likelihood of the entire dataset at once.\n",
    "For each hypothetical value of `x`, we have to compute the probability of getting 140 heads out of 250 spins.\n",
    "\n",
    "Well, we know how to do that; this is the question the binomial distribution answers.\n",
    "If the probability of heads is $p$, the probability of $k$ heads in $n$ spins is:\n",
    "\n",
    "$$\\binom{n}{k} p^k (1-p)^{n-k}$$\n",
    "\n",
    "And we can use SciPy to compute it.\n",
    "The following function takes a `Pmf` that represents a prior distribution and a tuple of integers that represent the data:"
   ]
  },
  {
   "cell_type": "code",
   "execution_count": 42,
   "metadata": {
    "ExecuteTime": {
     "end_time": "2021-02-03T07:33:12.806890Z",
     "start_time": "2021-02-03T07:33:12.803348Z"
    }
   },
   "outputs": [],
   "source": [
    "from scipy.stats import binom\n",
    "\n",
    "def update_binomial(pmf, data):\n",
    "    \"\"\"Update pmf using the binomial distribution.\"\"\"\n",
    "    k, n = data\n",
    "    xs = pmf.qs\n",
    "    likelihood = binom.pmf(k, n, xs)\n",
    "    pmf *= likelihood\n",
    "    pmf.normalize()"
   ]
  },
  {
   "cell_type": "markdown",
   "metadata": {},
   "source": [
    "The data are represented with a tuple of values for `k` and `n`, rather than a long string of outcomes.\n",
    "\n",
    "Here's the update."
   ]
  },
  {
   "cell_type": "code",
   "execution_count": 43,
   "metadata": {
    "ExecuteTime": {
     "end_time": "2021-02-03T07:33:14.012384Z",
     "start_time": "2021-02-03T07:33:14.008084Z"
    }
   },
   "outputs": [],
   "source": [
    "uniform2 = Pmf(1, hypos, name='uniform2')\n",
    "data = 140, 250\n",
    "update_binomial(uniform2, data)"
   ]
  },
  {
   "cell_type": "markdown",
   "metadata": {
    "tags": []
   },
   "source": [
    "And here's what the posterior looks like."
   ]
  },
  {
   "cell_type": "code",
   "execution_count": 44,
   "metadata": {
    "ExecuteTime": {
     "end_time": "2021-02-03T07:33:15.084207Z",
     "start_time": "2021-02-03T07:33:14.896099Z"
    },
    "tags": []
   },
   "outputs": [
    {
     "data": {
      "image/png": "[encoded data removed]",
      "text/plain": [
       "<Figure size 432x288 with 1 Axes>"
      ]
     },
     "metadata": {
      "needs_background": "light"
     },
     "output_type": "display_data"
    }
   ],
   "source": [
    "uniform.plot()\n",
    "uniform2.plot()\n",
    "decorate_euro(title='Posterior distributions computed two ways')"
   ]
  },
  {
   "cell_type": "markdown",
   "metadata": {},
   "source": [
    "The result is the same as in the previous section except for a small floating-point round-off, but the computation is much more efficient."
   ]
  },
  {
   "cell_type": "code",
   "execution_count": 45,
   "metadata": {
    "ExecuteTime": {
     "end_time": "2021-02-03T07:33:25.579409Z",
     "start_time": "2021-02-03T07:33:25.575616Z"
    }
   },
   "outputs": [
    {
     "data": {
      "text/plain": [
       "True"
      ]
     },
     "execution_count": 45,
     "metadata": {},
     "output_type": "execute_result"
    }
   ],
   "source": [
    "np.allclose(uniform, uniform2)"
   ]
  },
  {
   "cell_type": "markdown",
   "metadata": {},
   "source": [
    "## Bayesian Statistics\n",
    "\n",
    "You might have noticed similarities between the Euro problem and the 101 Bowls Problem in Section <<bowls101>>.\n",
    "The prior distributions are the same, the likelihoods are the same, and with the same data the results would be the same.\n",
    "But there are two differences.\n",
    "\n",
    "The first is the choice of the prior.\n",
    "With 101 bowls, the uniform prior is implied by the statement of the problem, which says that we choose one of the bowls at random with equal probability.\n",
    "\n",
    "In the Euro problem, the choice of the prior is subjective; that is, reasonable people could disagree, maybe because they have different information about coins or because they interpret the same information differently.\n",
    "\n",
    "Because the priors are subjective, the posteriors are subjective, too.\n",
    "And some people find that problematic."
   ]
  },
  {
   "cell_type": "markdown",
   "metadata": {},
   "source": [
    "The other difference is the nature of what we are estimating.\n",
    "In the 101 Bowls problem, we choose the bowl randomly, so it is uncontroversial to compute the probability of choosing each bowl.\n",
    "In the Euro problem, the proportion of heads is a physical property of a given coin.\n",
    "Under some interpretations of probability, that's a problem because physical properties are not considered random.\n",
    "\n",
    "As an example, consider the age of the universe.\n",
    "Currently, our best estimate is 13.80 billion years, but it might be off by 0.02 billion years in either direction (see [here](https://en.wikipedia.org/wiki/Age_of_the_universe)).\n",
    "\n",
    "Now suppose we would like to know the probability that the age of the universe is actually greater than 13.81 billion years.\n",
    "Under some interpretations of probability, we would not be able to answer that question.\n",
    "We would be required to say something like, \"The age of the universe is not a random quantity, so it has no probability of exceeding a particular value.\"\n",
    "\n",
    "Under the Bayesian interpretation of probability, it is meaningful and useful to treat physical quantities as if they were random and compute probabilities about them.\n",
    "\n",
    "In the Euro problem, the prior distribution represents what we believe about coins in general and the posterior distribution represents what we believe about a particular coin after seeing the data.\n",
    "So we can use the posterior distribution to compute probabilities about the coin and its proportion of heads."
   ]
  },
  {
   "cell_type": "markdown",
   "metadata": {},
   "source": [
    "The subjectivity of the prior and the interpretation of the posterior are key differences between using Bayes's Theorem and doing Bayesian statistics.\n",
    "\n",
    "Bayes's Theorem is a mathematical law of probability; no reasonable person objects to it.\n",
    "But Bayesian statistics is surprisingly controversial.\n",
    "Historically, many people have been bothered by its subjectivity and its use of probability for things that are not random.\n",
    "\n",
    "If you are interested in this history, I recommend Sharon Bertsch McGrayne's book, *[The Theory That Would Not Die](https://yalebooks.yale.edu/book/9780300188226/theory-would-not-die)*."
   ]
  },
  {
   "cell_type": "markdown",
   "metadata": {},
   "source": [
    "## Summary\n",
    "\n",
    "In this chapter I posed David MacKay's Euro problem and we started to solve it.\n",
    "Given the data, we computed the posterior distribution for `x`, the probability a Euro coin comes up heads.\n",
    "\n",
    "We tried two different priors, updated them with the same data, and found that the posteriors were nearly the same.\n",
    "This is good news, because it suggests that if two people start with different beliefs and see the same data, their beliefs tend to converge.\n",
    "\n",
    "This chapter introduces the binomial distribution, which we used to compute the posterior distribution more efficiently.\n",
    "And I discussed the differences between applying Bayes's Theorem, as in the 101 Bowls problem, and doing Bayesian statistics, as in the Euro problem.\n",
    "\n",
    "However, we still haven't answered MacKay's question: \"Do these data give evidence that the coin is biased rather than fair?\"\n",
    "I'm going to leave this question hanging a little longer; we'll come back to it in Chapter 10.\n",
    "\n",
    "In the next chapter, we'll solve problems related to counting, including trains, tanks, and rabbits.\n",
    "\n",
    "But first you might want to work on these exercises."
   ]
  },
  {
   "cell_type": "markdown",
   "metadata": {},
   "source": [
    "## Exercises\n"
   ]
  },
  {
   "cell_type": "markdown",
   "metadata": {},
   "source": [
    "**Exercise:** In Major League Baseball, most players have a batting average between 200 and 330, which means that their probability of getting a hit is between 0.2 and 0.33.\n",
    "\n",
    "Suppose a player appearing in their first game gets 3 hits out of 3 attempts.  What is the posterior distribution for their probability of getting a hit?"
   ]
  },
  {
   "cell_type": "markdown",
   "metadata": {
    "tags": []
   },
   "source": [
    "For this exercise, I'll construct the prior distribution by starting with a uniform distribution and updating it with imaginary data until it has a shape that reflects my background knowledge of batting averages.\n",
    "\n",
    "Here's the uniform prior:"
   ]
  },
  {
   "cell_type": "code",
   "execution_count": 35,
   "metadata": {
    "tags": []
   },
   "outputs": [],
   "source": [
    "hypos = np.linspace(0.1, 0.4, 101)\n",
    "prior = Pmf(1, hypos)"
   ]
  },
  {
   "cell_type": "markdown",
   "metadata": {
    "tags": []
   },
   "source": [
    "And here is a dictionary of likelihoods, with `Y` for getting a hit and `N` for not getting a hit."
   ]
  },
  {
   "cell_type": "code",
   "execution_count": 36,
   "metadata": {
    "tags": []
   },
   "outputs": [],
   "source": [
    "likelihood = {\n",
    "    'Y': hypos,\n",
    "    'N': 1-hypos\n",
    "}"
   ]
  },
  {
   "cell_type": "markdown",
   "metadata": {
    "tags": []
   },
   "source": [
    "Here's a dataset that yields a reasonable prior distribution."
   ]
  },
  {
   "cell_type": "code",
   "execution_count": 37,
   "metadata": {
    "tags": []
   },
   "outputs": [],
   "source": [
    "dataset = 'Y' * 25 + 'N' * 75"
   ]
  },
  {
   "cell_type": "markdown",
   "metadata": {
    "tags": []
   },
   "source": [
    "And here's the update with the imaginary data."
   ]
  },
  {
   "cell_type": "code",
   "execution_count": 38,
   "metadata": {
    "tags": []
   },
   "outputs": [],
   "source": [
    "for data in dataset:\n",
    "    prior *= likelihood[data]\n",
    "\n",
    "prior.normalize()"
   ]
  },
  {
   "cell_type": "markdown",
   "metadata": {
    "tags": []
   },
   "source": [
    "Finally, here's what the prior looks like."
   ]
  },
  {
   "cell_type": "code",
   "execution_count": 39,
   "metadata": {
    "scrolled": true,
    "tags": []
   },
   "outputs": [],
   "source": [
    "prior.plot(label='prior')\n",
    "decorate(xlabel='Probability of getting a hit',\n",
    "         ylabel='PMF')"
   ]
  },
  {
   "cell_type": "markdown",
   "metadata": {
    "tags": []
   },
   "source": [
    "This distribution indicates that most players have a batting average near 250, with only a few players below 175 or above 350.  I'm not sure how accurately this prior reflects the distribution of batting averages in Major League Baseball, but it is good enough for this exercise.\n",
    "\n",
    "Now update this distribution with the data and plot the posterior.  What is the most likely quantity in the posterior distribution?"
   ]
  },
  {
   "cell_type": "code",
   "execution_count": 40,
   "metadata": {},
   "outputs": [],
   "source": [
    "# Solution goes here"
   ]
  },
  {
   "cell_type": "code",
   "execution_count": 41,
   "metadata": {
    "scrolled": true
   },
   "outputs": [],
   "source": [
    "# Solution goes here"
   ]
  },
  {
   "cell_type": "code",
   "execution_count": 42,
   "metadata": {},
   "outputs": [],
   "source": [
    "# Solution goes here"
   ]
  },
  {
   "cell_type": "code",
   "execution_count": 43,
   "metadata": {},
   "outputs": [],
   "source": [
    "# Solution goes here"
   ]
  },
  {
   "cell_type": "markdown",
   "metadata": {},
   "source": [
    "**Exercise:** Whenever you survey people about sensitive issues, you have to deal with [social desirability bias](https://en.wikipedia.org/wiki/Social_desirability_bias), which is the tendency of people to adjust their answers to show themselves in the most positive light.\n",
    "One way to improve the accuracy of the results is [randomized response](https://en.wikipedia.org/wiki/Randomized_response).\n",
    "\n",
    "As an example, suppose want to know how many people cheat on their taxes.  \n",
    "If you ask them directly, it is likely that some of the cheaters will lie.\n",
    "You can get a more accurate estimate if you ask them indirectly, like this: Ask each person to flip a coin and, without revealing the outcome,\n",
    "\n",
    "* If they get heads, they report YES.\n",
    "\n",
    "* If they get tails, they honestly answer the question \"Do you cheat on your taxes?\"\n",
    "\n",
    "If someone says YES, we don't know whether they actually cheat on their taxes; they might have flipped yes.\n",
    "Knowing this, people might be more willing to answer honestly.\n",
    "\n",
    "Suppose you survey 100 people this way and get 80 YESes and 20 NOs.  Based on this data, what is the posterior distribution for the fraction of people who cheat on their taxes?  What is the most likely quantity in the posterior distribution?"
   ]
  },
  {
   "cell_type": "code",
   "execution_count": 44,
   "metadata": {},
   "outputs": [],
   "source": [
    "# Solution goes here"
   ]
  },
  {
   "cell_type": "code",
   "execution_count": 45,
   "metadata": {},
   "outputs": [],
   "source": [
    "# Solution goes here"
   ]
  },
  {
   "cell_type": "code",
   "execution_count": 46,
   "metadata": {},
   "outputs": [],
   "source": [
    "# Solution goes here"
   ]
  },
  {
   "cell_type": "code",
   "execution_count": 47,
   "metadata": {
    "scrolled": true
   },
   "outputs": [],
   "source": [
    "# Solution goes here"
   ]
  },
  {
   "cell_type": "code",
   "execution_count": 48,
   "metadata": {},
   "outputs": [],
   "source": [
    "# Solution goes here"
   ]
  },
  {
   "cell_type": "markdown",
   "metadata": {},
   "source": [
    "**Exercise:** Suppose you want to test whether a coin is fair, but you don't want to spin it hundreds of times.\n",
    "So you make a machine that spins the coin automatically and uses computer vision to determine the outcome.\n",
    "\n",
    "However, you discover that the machine is not always accurate.  Specifically, suppose the probability is `y=0.2` that an actual heads is reported as tails, or actual tails reported as heads.\n",
    "\n",
    "If we spin a coin 250 times and the machine reports 140 heads, what is the posterior distribution of `x`?\n",
    "What happens as you vary the value of `y`?"
   ]
  },
  {
   "cell_type": "code",
   "execution_count": 49,
   "metadata": {},
   "outputs": [],
   "source": [
    "# Solution goes here"
   ]
  },
  {
   "cell_type": "code",
   "execution_count": 50,
   "metadata": {},
   "outputs": [],
   "source": [
    "# Solution goes here"
   ]
  },
  {
   "cell_type": "code",
   "execution_count": 51,
   "metadata": {
    "scrolled": true
   },
   "outputs": [],
   "source": [
    "# Solution goes here"
   ]
  },
  {
   "cell_type": "code",
   "execution_count": 52,
   "metadata": {},
   "outputs": [],
   "source": [
    "# Solution goes here"
   ]
  },
  {
   "cell_type": "markdown",
   "metadata": {},
   "source": [
    "**Exercise:** In preparation for an alien invasion, the Earth Defense League (EDL) has been working on new missiles to shoot down space invaders.  Of course, some missile designs are better than others; let's assume that each design has some probability of hitting an alien ship, `x`.\n",
    "\n",
    "Based on previous tests, the distribution of `x` in the population of designs is approximately uniform between 0.1 and 0.4.\n",
    "\n",
    "Now suppose the new ultra-secret Alien Blaster 9000 is being tested.  In a press conference, an EDL general reports that the new design has been tested twice, taking two shots during each test.  The results of the test are confidential, so the general won't say how many targets were hit, but they report: \"The same number of targets were hit in the two tests, so we have reason to think this new design is consistent.\"\n",
    "\n",
    "Is this data good or bad; that is, does it increase or decrease your estimate of `x` for the Alien Blaster 9000?"
   ]
  },
  {
   "cell_type": "markdown",
   "metadata": {
    "tags": []
   },
   "source": [
    "Hint: If the probability of hitting each target is $x$, the probability of hitting one target in both tests\n",
    "is $\\left[2x(1-x)\\right]^2$."
   ]
  },
  {
   "cell_type": "code",
   "execution_count": 53,
   "metadata": {},
   "outputs": [],
   "source": [
    "# Solution goes here"
   ]
  },
  {
   "cell_type": "code",
   "execution_count": 54,
   "metadata": {},
   "outputs": [],
   "source": [
    "# Solution goes here"
   ]
  },
  {
   "cell_type": "code",
   "execution_count": 55,
   "metadata": {},
   "outputs": [],
   "source": [
    "# Solution goes here"
   ]
  },
  {
   "cell_type": "code",
   "execution_count": 56,
   "metadata": {},
   "outputs": [],
   "source": [
    "# Solution goes here"
   ]
  },
  {
   "cell_type": "code",
   "execution_count": 57,
   "metadata": {},
   "outputs": [],
   "source": [
    "# Solution goes here"
   ]
  },
  {
   "cell_type": "code",
   "execution_count": 58,
   "metadata": {},
   "outputs": [],
   "source": [
    "# Solution goes here"
   ]
  },
  {
   "cell_type": "code",
   "execution_count": 59,
   "metadata": {},
   "outputs": [],
   "source": [
    "# Solution goes here"
   ]
  },
  {
   "cell_type": "code",
   "execution_count": null,
   "metadata": {},
   "outputs": [],
   "source": []
  }
 ],
 "metadata": {
  "celltoolbar": "Tags",
  "hide_input": false,
  "kernelspec": {
   "display_name": "Python 3",
   "language": "python",
   "name": "python3"
  },
  "language_info": {
   "codemirror_mode": {
    "name": "ipython",
    "version": 3
   },
   "file_extension": ".py",
   "mimetype": "text/x-python",
   "name": "python",
   "nbconvert_exporter": "python",
   "pygments_lexer": "ipython3",
   "version": "3.7.4"
  },
  "toc": {
   "base_numbering": 1,
   "nav_menu": {},
   "number_sections": true,
   "sideBar": true,
   "skip_h1_title": false,
   "title_cell": "Table of Contents",
   "title_sidebar": "Contents",
   "toc_cell": false,
   "toc_position": {},
   "toc_section_display": true,
   "toc_window_display": false
  }
 },
 "nbformat": 4,
 "nbformat_minor": 2
}

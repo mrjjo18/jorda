{
 "cells": [
  {
   "cell_type": "markdown",
   "metadata": {},
   "source": [
    "# 파이썬 시작하기"
   ]
  },
  {
   "cell_type": "code",
   "execution_count": 2,
   "metadata": {
    "ExecuteTime": {
     "end_time": "2020-12-09T09:06:05.288784Z",
     "start_time": "2020-12-09T09:06:05.278474Z"
    }
   },
   "outputs": [
    {
     "data": {
      "text/html": [
       "<style>.container { width:85% !important; }</style>"
      ],
      "text/plain": [
       "<IPython.core.display.HTML object>"
      ]
     },
     "metadata": {},
     "output_type": "display_data"
    }
   ],
   "source": [
    "from IPython.core.display import display, HTML\n",
    "display(HTML(\"<style>.container { width:85% !important; }</style>\"))"
   ]
  },
  {
   "cell_type": "markdown",
   "metadata": {},
   "source": [
    "## 파이썬 시작하기"
   ]
  },
  {
   "cell_type": "code",
   "execution_count": 1,
   "metadata": {
    "ExecuteTime": {
     "end_time": "2020-12-08T09:37:13.360419Z",
     "start_time": "2020-12-08T09:37:13.357314Z"
    }
   },
   "outputs": [
    {
     "name": "stdout",
     "output_type": "stream",
     "text": [
      "Hello World\n"
     ]
    }
   ],
   "source": [
    "#001 화면에 Hello World 문자열을 출력하세요.\n",
    "\n",
    "\n",
    "print(\"Hello World\")"
   ]
  },
  {
   "cell_type": "code",
   "execution_count": 2,
   "metadata": {
    "ExecuteTime": {
     "end_time": "2020-12-08T09:37:26.659125Z",
     "start_time": "2020-12-08T09:37:26.655733Z"
    }
   },
   "outputs": [
    {
     "name": "stdout",
     "output_type": "stream",
     "text": [
      "Mary's cosmetics\n"
     ]
    }
   ],
   "source": [
    "#002 화면에 Mary's cosmetics을 출력하세요. (중간에 '가 있음에 주의하세요)\n",
    "\n",
    "\n",
    "print(\"Mary's cosmetics\")"
   ]
  },
  {
   "cell_type": "code",
   "execution_count": 3,
   "metadata": {
    "ExecuteTime": {
     "end_time": "2020-12-08T09:37:50.741671Z",
     "start_time": "2020-12-08T09:37:50.738674Z"
    }
   },
   "outputs": [
    {
     "name": "stdout",
     "output_type": "stream",
     "text": [
      "신씨가 소리질렀다. \"도둑이야\".\n"
     ]
    }
   ],
   "source": [
    "#003 화면에 아래 문장을 출력하세요. (중간에 \"가 있음에 주의하세요.)\n",
    "\n",
    "\n",
    "print('신씨가 소리질렀다. \"도둑이야\".')"
   ]
  },
  {
   "cell_type": "code",
   "execution_count": 4,
   "metadata": {
    "ExecuteTime": {
     "end_time": "2020-12-08T09:38:23.595145Z",
     "start_time": "2020-12-08T09:38:23.591123Z"
    }
   },
   "outputs": [
    {
     "name": "stdout",
     "output_type": "stream",
     "text": [
      "\"C:\\Windows\"\n"
     ]
    }
   ],
   "source": [
    "#004 화면에 \"C:\\Windows\"를 출력하세요.\n",
    "\n",
    "\n",
    "print('\"C:\\Windows\"')"
   ]
  },
  {
   "cell_type": "code",
   "execution_count": 7,
   "metadata": {
    "ExecuteTime": {
     "end_time": "2020-12-08T09:38:52.984879Z",
     "start_time": "2020-12-08T09:38:52.982379Z"
    }
   },
   "outputs": [
    {
     "name": "stdout",
     "output_type": "stream",
     "text": [
      "안녕하세요. \n",
      "만나서\t\t반갑습니다.\n"
     ]
    }
   ],
   "source": [
    "#005 다음 코드를 실행해보고 \\t와 \\n의 역할을 설명해보세요.\n",
    "\n",
    "\n",
    "print(\"안녕하세요. \\n만나서\\t\\t반갑습니다.\")"
   ]
  },
  {
   "cell_type": "code",
   "execution_count": 8,
   "metadata": {
    "ExecuteTime": {
     "end_time": "2020-12-08T09:39:32.779284Z",
     "start_time": "2020-12-08T09:39:32.776773Z"
    }
   },
   "outputs": [
    {
     "name": "stdout",
     "output_type": "stream",
     "text": [
      "오늘은 일요일\n"
     ]
    }
   ],
   "source": [
    "#006 print 함수에 두 개의 단어를 입력한 예제입니다. 아래 코드의 출력 결과를 예상해봅시다.\n",
    "\n",
    "\n",
    "print(\"오늘은\", \"일요일\")"
   ]
  },
  {
   "cell_type": "code",
   "execution_count": 10,
   "metadata": {
    "ExecuteTime": {
     "end_time": "2020-12-08T09:40:26.081516Z",
     "start_time": "2020-12-08T09:40:26.078558Z"
    }
   },
   "outputs": [
    {
     "name": "stdout",
     "output_type": "stream",
     "text": [
      "naver;kakao;sk;samsung\n"
     ]
    }
   ],
   "source": [
    "#007 print() 함수를 사용하여 다음과 같이 출력하세요.\n",
    "# naver;kakao;sk;samsung\n",
    "\n",
    "\n",
    "print(\"naver\",\"kakao\",\"sk\",\"samsung\", sep = \";\")"
   ]
  },
  {
   "cell_type": "code",
   "execution_count": 11,
   "metadata": {
    "ExecuteTime": {
     "end_time": "2020-12-08T09:42:00.844979Z",
     "start_time": "2020-12-08T09:42:00.841874Z"
    }
   },
   "outputs": [
    {
     "name": "stdout",
     "output_type": "stream",
     "text": [
      "naver/kakao/sk/samsung\n"
     ]
    }
   ],
   "source": [
    "#008 print() 함수를 사용하여 다음과 같이 출력하세요.\n",
    "# naver/kakao/sk/samsung\n",
    "\n",
    "\n",
    "print(\"naver\", \"kakao\", \"sk\", \"samsung\", sep = \"/\")"
   ]
  },
  {
   "cell_type": "code",
   "execution_count": 16,
   "metadata": {
    "ExecuteTime": {
     "end_time": "2020-12-08T09:43:13.552008Z",
     "start_time": "2020-12-08T09:43:13.549038Z"
    }
   },
   "outputs": [
    {
     "name": "stdout",
     "output_type": "stream",
     "text": [
      "firstsecond\n"
     ]
    }
   ],
   "source": [
    "#009 다음 코드를 수정하여 줄바꿈이 없이 출력하세요. (힌트: end='') print 함수는 두 번 사용합니다. 세미콜론 (;)은 한줄에 여러 개의 명령을 작성하기 위해 사용합니다.\n",
    "\n",
    "print(\"first\",end=\"\");print(\"second\")"
   ]
  },
  {
   "cell_type": "code",
   "execution_count": 17,
   "metadata": {
    "ExecuteTime": {
     "end_time": "2020-12-08T09:43:30.352676Z",
     "start_time": "2020-12-08T09:43:30.349519Z"
    },
    "scrolled": true
   },
   "outputs": [
    {
     "name": "stdout",
     "output_type": "stream",
     "text": [
      "1.6666666666666667\n"
     ]
    }
   ],
   "source": [
    "#010 5/3을 출력하세요\n",
    "print(5/3)"
   ]
  },
  {
   "cell_type": "markdown",
   "metadata": {},
   "source": [
    "## 파이썬 변수"
   ]
  },
  {
   "cell_type": "code",
   "execution_count": 18,
   "metadata": {
    "ExecuteTime": {
     "end_time": "2020-12-08T09:45:18.266322Z",
     "start_time": "2020-12-08T09:45:18.263070Z"
    }
   },
   "outputs": [
    {
     "name": "stdout",
     "output_type": "stream",
     "text": [
      "500000\n"
     ]
    }
   ],
   "source": [
    "#011 삼성전자라는 변수로 50,000원을 바인딩해보세요. 삼성전자 주식 10주를 보유하고 있을 때 총 평가금액을 출력하세요.\n",
    "\n",
    "samsung_amt = 50000\n",
    "samsung_cnt = 10\n",
    "tt_amt = samsung_amt * samsung_cnt\n",
    "\n",
    "print(tt_amt)"
   ]
  },
  {
   "cell_type": "code",
   "execution_count": 21,
   "metadata": {
    "ExecuteTime": {
     "end_time": "2020-12-08T09:47:24.018707Z",
     "start_time": "2020-12-08T09:47:24.014648Z"
    }
   },
   "outputs": [
    {
     "name": "stdout",
     "output_type": "stream",
     "text": [
      "2980000000000 <class 'int'>\n",
      "50000 <class 'int'>\n",
      "15.79 <class 'float'>\n"
     ]
    }
   ],
   "source": [
    "#012 다음 표는 삼성전자의 일부 투자정보입니다. 변수를 사용해서 시가총액, 현재가, PER 등을 바인딩해보세요.\n",
    "\n",
    "\n",
    "# 항목\t값\n",
    "# 시가총액\t298조\n",
    "# 현재가\t50,000원\n",
    "# PER\t15.79\n",
    "\n",
    "tt_amt = 2980000000000\n",
    "now_amt = 50000\n",
    "per = 15.79\n",
    "\n",
    "print(tt_amt, type(tt_amt))\n",
    "print(now_amt, type(now_amt))\n",
    "print(per, type(per))"
   ]
  },
  {
   "cell_type": "code",
   "execution_count": 27,
   "metadata": {
    "ExecuteTime": {
     "end_time": "2020-12-08T09:49:03.897303Z",
     "start_time": "2020-12-08T09:49:03.894326Z"
    }
   },
   "outputs": [
    {
     "name": "stdout",
     "output_type": "stream",
     "text": [
      "hello! python\n"
     ]
    }
   ],
   "source": [
    "#013 변수 s와 t에는 각각 문자열이 바인딩 되어있습니다.\n",
    "\n",
    "s = \"hello\"\n",
    "t = \"python\"\n",
    "\n",
    "# 두 변수를 이용하여 아래와 같이 출력해보세요.\n",
    "\n",
    "# hello! python\n",
    "# print(s, \"! \", t, sep = \"\")\n",
    "print(s+\"!\", t)"
   ]
  },
  {
   "cell_type": "code",
   "execution_count": 28,
   "metadata": {
    "ExecuteTime": {
     "end_time": "2020-12-08T09:49:42.503886Z",
     "start_time": "2020-12-08T09:49:42.501227Z"
    }
   },
   "outputs": [
    {
     "name": "stdout",
     "output_type": "stream",
     "text": [
      "8\n"
     ]
    }
   ],
   "source": [
    "#014 아래 코드의 실행 결과를 예상해보세요.\n",
    "\n",
    "# >> 2 + 2 * 3 \n",
    "# 8\n",
    "print(2 + 2 * 3)\n"
   ]
  },
  {
   "cell_type": "code",
   "execution_count": 30,
   "metadata": {
    "ExecuteTime": {
     "end_time": "2020-12-08T09:50:19.414020Z",
     "start_time": "2020-12-08T09:50:19.411361Z"
    }
   },
   "outputs": [
    {
     "name": "stdout",
     "output_type": "stream",
     "text": [
      "<class 'str'>\n"
     ]
    }
   ],
   "source": [
    "#015 type() 함수는 데이터 타입을 판별합니다. 변수 a에는 128 숫자가 바인딩돼 있어 type 함수가 int (정수)형임을 알려줍니다.\n",
    "\n",
    "# >> a = 128\n",
    "# >> print (type(a))\n",
    "# <class 'int'>\n",
    "\n",
    "\n",
    "a = \"132\"\n",
    "\n",
    "print(type(a))"
   ]
  },
  {
   "cell_type": "code",
   "execution_count": 37,
   "metadata": {
    "ExecuteTime": {
     "end_time": "2020-12-08T09:51:34.564535Z",
     "start_time": "2020-12-08T09:51:34.560762Z"
    }
   },
   "outputs": [
    {
     "data": {
      "text/plain": [
       "720"
      ]
     },
     "execution_count": 37,
     "metadata": {},
     "output_type": "execute_result"
    }
   ],
   "source": [
    "#016 문자열 to 정수형(str to int)\n",
    "\n",
    "# 문자열 '720'를 정수형으로 변환해보세요.\n",
    "\n",
    "num_str = \"720\"\n",
    "\n",
    "num_str = int(num_str)\n",
    "\n",
    "num_str"
   ]
  },
  {
   "cell_type": "code",
   "execution_count": 38,
   "metadata": {
    "ExecuteTime": {
     "end_time": "2020-12-08T09:52:15.330813Z",
     "start_time": "2020-12-08T09:52:15.327635Z"
    }
   },
   "outputs": [
    {
     "data": {
      "text/plain": [
       "'100'"
      ]
     },
     "execution_count": 38,
     "metadata": {},
     "output_type": "execute_result"
    }
   ],
   "source": [
    "#017 int to str\n",
    "\n",
    "num = 100\n",
    "\n",
    "num = str(num)\n",
    "num"
   ]
  },
  {
   "cell_type": "code",
   "execution_count": 41,
   "metadata": {
    "ExecuteTime": {
     "end_time": "2020-12-08T09:52:54.736058Z",
     "start_time": "2020-12-08T09:52:54.732977Z"
    }
   },
   "outputs": [
    {
     "data": {
      "text/plain": [
       "15.79"
      ]
     },
     "execution_count": 41,
     "metadata": {},
     "output_type": "execute_result"
    }
   ],
   "source": [
    "#018 str to float \n",
    "x = \"15.79\"\n",
    "x = float(x)\n",
    "x"
   ]
  },
  {
   "cell_type": "code",
   "execution_count": 42,
   "metadata": {
    "ExecuteTime": {
     "end_time": "2020-12-08T09:53:39.227759Z",
     "start_time": "2020-12-08T09:53:39.224794Z"
    }
   },
   "outputs": [
    {
     "name": "stdout",
     "output_type": "stream",
     "text": [
      "2020 2019 2018\n"
     ]
    }
   ],
   "source": [
    "#019 str to int\n",
    "year = \"2020\"\n",
    "this_year = int(year)\n",
    "print(this_year, this_year-1, this_year-2)"
   ]
  },
  {
   "cell_type": "code",
   "execution_count": 43,
   "metadata": {
    "ExecuteTime": {
     "end_time": "2020-12-08T09:54:33.675426Z",
     "start_time": "2020-12-08T09:54:33.672060Z"
    },
    "scrolled": false
   },
   "outputs": [
    {
     "name": "stdout",
     "output_type": "stream",
     "text": [
      "1749024\n"
     ]
    }
   ],
   "source": [
    "#020 에이컨이 월 48,584원에 무이자 36개월의 조건으로 홈쇼핑에서 판매되고 있습니다. 총 금액은 계산한 후 이를 화면에 출력해보세요. (변수사용하기)\n",
    "\n",
    "month_amt = 48584\n",
    "month = 36\n",
    "total_amt = month_amt * month\n",
    "print(total_amt)"
   ]
  },
  {
   "cell_type": "markdown",
   "metadata": {},
   "source": [
    "## 파이썬 문자열"
   ]
  },
  {
   "cell_type": "code",
   "execution_count": 48,
   "metadata": {
    "ExecuteTime": {
     "end_time": "2020-12-08T09:57:13.290578Z",
     "start_time": "2020-12-08T09:57:13.287552Z"
    }
   },
   "outputs": [
    {
     "name": "stdout",
     "output_type": "stream",
     "text": [
      "p t\n"
     ]
    }
   ],
   "source": [
    "#021 letters가 바인딩하는 문자열에서 첫번째와 세번째 문자를 출력하세요.\n",
    "letters = 'python'\n",
    "\n",
    "print(letters[0], letters[2])"
   ]
  },
  {
   "cell_type": "code",
   "execution_count": 51,
   "metadata": {
    "ExecuteTime": {
     "end_time": "2020-12-08T09:58:27.454363Z",
     "start_time": "2020-12-08T09:58:27.451170Z"
    }
   },
   "outputs": [
    {
     "name": "stdout",
     "output_type": "stream",
     "text": [
      "2210\n"
     ]
    }
   ],
   "source": [
    "#022 자동차 번호가 다음과 같을 때 뒤에 4자리만 출력하세요.\n",
    "\n",
    "license_plate = \"24가 2210\"\n",
    "\n",
    "print(license_plate[-4:])"
   ]
  },
  {
   "cell_type": "code",
   "execution_count": 55,
   "metadata": {
    "ExecuteTime": {
     "end_time": "2020-12-08T09:59:23.208193Z",
     "start_time": "2020-12-08T09:59:23.205065Z"
    }
   },
   "outputs": [
    {
     "name": "stdout",
     "output_type": "stream",
     "text": [
      "홀홀홀\n"
     ]
    }
   ],
   "source": [
    "#023 아래의 문자열에서 '홀' 만 출력하세요.\n",
    "\n",
    "\n",
    "string = \"홀짝홀짝홀짝\"\n",
    "print(string[::2])"
   ]
  },
  {
   "cell_type": "code",
   "execution_count": 69,
   "metadata": {
    "ExecuteTime": {
     "end_time": "2020-12-08T10:01:09.688892Z",
     "start_time": "2020-12-08T10:01:09.684935Z"
    }
   },
   "outputs": [
    {
     "data": {
      "text/plain": [
       "'nohtyp'"
      ]
     },
     "execution_count": 69,
     "metadata": {},
     "output_type": "execute_result"
    }
   ],
   "source": [
    "#024 문자열을 거꾸로 뒤집어 출력하세요.\n",
    "\n",
    "string = \"python\"\n",
    "\n",
    "string[::-1]"
   ]
  },
  {
   "cell_type": "code",
   "execution_count": 70,
   "metadata": {
    "ExecuteTime": {
     "end_time": "2020-12-08T10:01:57.702810Z",
     "start_time": "2020-12-08T10:01:57.699996Z"
    }
   },
   "outputs": [
    {
     "name": "stdout",
     "output_type": "stream",
     "text": [
      "010 1111 2222\n"
     ]
    }
   ],
   "source": [
    "#025 아래의 전화번호에서 하이푼 ('-')을 제거하고 출력하세요.\n",
    "\n",
    "phone_number = \"010-1111-2222\"\n",
    "\n",
    "print(phone_number.replace(\"-\", \" \"))"
   ]
  },
  {
   "cell_type": "code",
   "execution_count": 71,
   "metadata": {
    "ExecuteTime": {
     "end_time": "2020-12-08T10:02:30.953125Z",
     "start_time": "2020-12-08T10:02:30.950317Z"
    }
   },
   "outputs": [
    {
     "name": "stdout",
     "output_type": "stream",
     "text": [
      "01011112222\n"
     ]
    }
   ],
   "source": [
    "#026 25번 문제의 전화번호를 아래와 같이 모두 붙여 출력하세요.\n",
    "\n",
    "\n",
    "print(phone_number.replace(\"-\",\"\"))"
   ]
  },
  {
   "cell_type": "code",
   "execution_count": 85,
   "metadata": {
    "ExecuteTime": {
     "end_time": "2020-12-08T10:04:47.309510Z",
     "start_time": "2020-12-08T10:04:47.306144Z"
    }
   },
   "outputs": [
    {
     "data": {
      "text/plain": [
       "'kr'"
      ]
     },
     "execution_count": 85,
     "metadata": {},
     "output_type": "execute_result"
    }
   ],
   "source": [
    "#027 url 에 저장된 웹 페이지 주소에서 도메인을 출력하세요.\n",
    "\n",
    "url = \"http://sharebook.kr\"\n",
    "\n",
    "#한거 : print(url[-2:])\n",
    "#모범\n",
    "url.split(\".\")[1]"
   ]
  },
  {
   "cell_type": "code",
   "execution_count": 86,
   "metadata": {
    "ExecuteTime": {
     "end_time": "2020-12-08T10:05:12.320467Z",
     "start_time": "2020-12-08T10:05:12.312137Z"
    }
   },
   "outputs": [
    {
     "ename": "TypeError",
     "evalue": "'str' object does not support item assignment",
     "output_type": "error",
     "traceback": [
      "\u001b[0;31m---------------------------------------------------------------------------\u001b[0m",
      "\u001b[0;31mTypeError\u001b[0m                                 Traceback (most recent call last)",
      "\u001b[0;32m<ipython-input-86-f04daff0aab8>\u001b[0m in \u001b[0;36m<module>\u001b[0;34m\u001b[0m\n\u001b[1;32m      2\u001b[0m \u001b[0;34m\u001b[0m\u001b[0m\n\u001b[1;32m      3\u001b[0m \u001b[0mlang\u001b[0m \u001b[0;34m=\u001b[0m \u001b[0;34m'python'\u001b[0m\u001b[0;34m\u001b[0m\u001b[0;34m\u001b[0m\u001b[0m\n\u001b[0;32m----> 4\u001b[0;31m \u001b[0mlang\u001b[0m\u001b[0;34m[\u001b[0m\u001b[0;36m0\u001b[0m\u001b[0;34m]\u001b[0m \u001b[0;34m=\u001b[0m \u001b[0;34m'P'\u001b[0m\u001b[0;34m\u001b[0m\u001b[0;34m\u001b[0m\u001b[0m\n\u001b[0m\u001b[1;32m      5\u001b[0m \u001b[0mprint\u001b[0m\u001b[0;34m(\u001b[0m\u001b[0mlang\u001b[0m\u001b[0;34m)\u001b[0m\u001b[0;34m\u001b[0m\u001b[0;34m\u001b[0m\u001b[0m\n",
      "\u001b[0;31mTypeError\u001b[0m: 'str' object does not support item assignment"
     ]
    }
   ],
   "source": [
    "#028 아래 코드의 실행 결과를 예상해보세요.\n",
    "\n",
    "lang = 'python'\n",
    "lang[0] = 'P'\n",
    "print(lang)\n",
    "\n",
    "# 문자열은 수정할 수 없음 assign 못함"
   ]
  },
  {
   "cell_type": "code",
   "execution_count": 92,
   "metadata": {
    "ExecuteTime": {
     "end_time": "2020-12-08T10:06:58.146317Z",
     "start_time": "2020-12-08T10:06:58.143340Z"
    }
   },
   "outputs": [
    {
     "name": "stdout",
     "output_type": "stream",
     "text": [
      "Abcdfe2A354A32A\n"
     ]
    }
   ],
   "source": [
    "#029 아래 문자열에서 소문자 'a'를 대문자 'A'로 변경하세요.\n",
    "\n",
    "string = 'abcdfe2a354a32a'\n",
    "\n",
    "print(string.replace(\"a\", \"A\"))"
   ]
  },
  {
   "cell_type": "code",
   "execution_count": 93,
   "metadata": {
    "ExecuteTime": {
     "end_time": "2020-12-08T10:07:24.401093Z",
     "start_time": "2020-12-08T10:07:24.398053Z"
    }
   },
   "outputs": [
    {
     "name": "stdout",
     "output_type": "stream",
     "text": [
      "abcd\n"
     ]
    }
   ],
   "source": [
    "#030 아래 코드의 실행 결과를 예상해보세요.\n",
    "\n",
    "string = 'abcd'\n",
    "string.replace('b', 'B') #aBcd\n",
    "print(string) #abcd"
   ]
  },
  {
   "cell_type": "code",
   "execution_count": 4,
   "metadata": {
    "ExecuteTime": {
     "end_time": "2020-12-09T09:07:44.417321Z",
     "start_time": "2020-12-09T09:07:44.414089Z"
    }
   },
   "outputs": [
    {
     "name": "stdout",
     "output_type": "stream",
     "text": [
      "34\n"
     ]
    }
   ],
   "source": [
    "#031 문자열 합치기 아래 코드의 실행 결과를 예상해보세요.\n",
    "a = \"3\"\n",
    "b = \"4\"\n",
    "print(a + b)\n",
    "# concat(34)"
   ]
  },
  {
   "cell_type": "code",
   "execution_count": 6,
   "metadata": {
    "ExecuteTime": {
     "end_time": "2020-12-09T09:08:23.941238Z",
     "start_time": "2020-12-09T09:08:23.938491Z"
    }
   },
   "outputs": [
    {
     "name": "stdout",
     "output_type": "stream",
     "text": [
      "HiHiHi\n"
     ]
    }
   ],
   "source": [
    "#032 문자열 곱하기 결과예상\n",
    "print(\"Hi\" * 3)\n",
    "#HiHiHi"
   ]
  },
  {
   "cell_type": "code",
   "execution_count": 7,
   "metadata": {
    "ExecuteTime": {
     "end_time": "2020-12-09T09:08:48.588688Z",
     "start_time": "2020-12-09T09:08:48.585839Z"
    }
   },
   "outputs": [
    {
     "name": "stdout",
     "output_type": "stream",
     "text": [
      "--------------------------------------------------------------------------------\n"
     ]
    }
   ],
   "source": [
    "#033 문자열 곱하기 화면에 \"-\"를 80개 출력하세요\n",
    "print(\"-\" * 80)"
   ]
  },
  {
   "cell_type": "code",
   "execution_count": 16,
   "metadata": {
    "ExecuteTime": {
     "end_time": "2020-12-09T09:10:53.521862Z",
     "start_time": "2020-12-09T09:10:53.518655Z"
    }
   },
   "outputs": [
    {
     "name": "stdout",
     "output_type": "stream",
     "text": [
      "python java python java python java \n"
     ]
    }
   ],
   "source": [
    "#034 변수에 다음과 같은 문자열이 바인딩되어 있습니다.\n",
    "\n",
    "t1 = 'python'\n",
    "t2 = 'java'\n",
    "\n",
    "#변수에 문자열 더하기와 문자열 곱하기를 사용해서 아래와 같이 출력해보세요.\n",
    "\n",
    "#실행 예:\n",
    "# python java python java python java python java\n",
    "\n",
    "print((t1 + \" \" + t2 + \" \")*3)"
   ]
  },
  {
   "cell_type": "code",
   "execution_count": 33,
   "metadata": {
    "ExecuteTime": {
     "end_time": "2020-12-09T09:16:14.580759Z",
     "start_time": "2020-12-09T09:16:14.576498Z"
    }
   },
   "outputs": [
    {
     "name": "stdout",
     "output_type": "stream",
     "text": [
      "이름: 김민수 나이: 10\n",
      "이름: 이철희 나이: 13\n"
     ]
    }
   ],
   "source": [
    "#035 변수에 다음과 같이 문자열과 정수가 바인딩되어 있을 때 % formatting을 사용해서 다음과 같이 출력해보세요.\n",
    "\n",
    "name1 = \"김민수\" \n",
    "age1 = 10\n",
    "name2 = \"이철희\"\n",
    "age2 = 13\n",
    "\n",
    "# 이름: 김민수 나이: 10\n",
    "# 이름: 이철희 나이: 13\n",
    "\n",
    "#이렇게 하는건 몰랐었음, 근데 굳이 몰라도 될 듯. 왜냐하면 이렇게 처리하면 변수가 숫자인지 str인지 구분해줘야함\n",
    "print(\"이름: %s 나이: %d\" % (name1, age1))\n",
    "print(\"이름: %s 나이: %d\" % (name2, age2))"
   ]
  },
  {
   "cell_type": "code",
   "execution_count": 37,
   "metadata": {
    "ExecuteTime": {
     "end_time": "2020-12-09T09:17:34.194621Z",
     "start_time": "2020-12-09T09:17:34.191277Z"
    }
   },
   "outputs": [
    {
     "name": "stdout",
     "output_type": "stream",
     "text": [
      "이름: 김민수 나이: 10\n",
      "이름: 이철희 나이: 13\n"
     ]
    }
   ],
   "source": [
    "#036 .format 사용\n",
    "print(\"이름: {} 나이: {}\".format(name1, age1))\n",
    "print(\"이름: {} 나이: {}\".format(name2, age2))"
   ]
  },
  {
   "cell_type": "code",
   "execution_count": 38,
   "metadata": {
    "ExecuteTime": {
     "end_time": "2020-12-09T09:17:34.444704Z",
     "start_time": "2020-12-09T09:17:34.441654Z"
    }
   },
   "outputs": [
    {
     "name": "stdout",
     "output_type": "stream",
     "text": [
      "이름: 김민수 나이: 10\n",
      "이름: 이철희 나이: 13\n"
     ]
    }
   ],
   "source": [
    "#037 f-string. 이것도 몰랐었음. 근데 .format보다 이게 더 좋아보인다. .format에서는 {} 개수가 많아지면 알아보기 힘든데, 이건 괜찮을 듯\n",
    "print(f\"이름: {name1} 나이: {age1}\")\n",
    "print(f\"이름: {name2} 나이: {age2}\")"
   ]
  },
  {
   "cell_type": "code",
   "execution_count": 42,
   "metadata": {
    "ExecuteTime": {
     "end_time": "2020-12-09T09:19:09.787699Z",
     "start_time": "2020-12-09T09:19:09.783825Z"
    }
   },
   "outputs": [
    {
     "data": {
      "text/plain": [
       "5969782550"
      ]
     },
     "execution_count": 42,
     "metadata": {},
     "output_type": "execute_result"
    }
   ],
   "source": [
    "#038 컴마 제거하기 삼성전자의 상장주식수가 다음과 같습니다. 컴마를 제거한 후 이를 정수 타입으로 변환해보세요.\n",
    "\n",
    "stocks = \"5,969,782,550\"\n",
    "stocks_int = stocks.replace(\",\", \"\")\n",
    "stocks_int = int(stocks_int)\n",
    "stocks_int"
   ]
  },
  {
   "cell_type": "code",
   "execution_count": 44,
   "metadata": {
    "ExecuteTime": {
     "end_time": "2020-12-09T09:20:12.442856Z",
     "start_time": "2020-12-09T09:20:12.439902Z"
    }
   },
   "outputs": [
    {
     "name": "stdout",
     "output_type": "stream",
     "text": [
      "2020/03\n"
     ]
    }
   ],
   "source": [
    "#039 문자열 슬라이싱 다음과 같은 문자열에서 '2020/03'만 출력하세요.\n",
    "\n",
    "quarter = \"2020/03(E) (IFRS연결)\"\n",
    "\n",
    "print(quarter[:7])"
   ]
  },
  {
   "cell_type": "code",
   "execution_count": 51,
   "metadata": {
    "ExecuteTime": {
     "end_time": "2020-12-09T09:21:56.414254Z",
     "start_time": "2020-12-09T09:21:56.410542Z"
    }
   },
   "outputs": [
    {
     "data": {
      "text/plain": [
       "'삼성전자'"
      ]
     },
     "execution_count": 51,
     "metadata": {},
     "output_type": "execute_result"
    }
   ],
   "source": [
    "#040 strip method 문자열의 좌우의 공백이 있을 때 이를 제거해보세요.\n",
    "\n",
    "data = \"   삼성전자    \"\n",
    "data.strip() # lstrip() = 왼쪽공백제거, rstrip() = 오른쪽공백제거"
   ]
  },
  {
   "cell_type": "code",
   "execution_count": 54,
   "metadata": {
    "ExecuteTime": {
     "end_time": "2020-12-09T09:25:34.452718Z",
     "start_time": "2020-12-09T09:25:34.449755Z"
    }
   },
   "outputs": [
    {
     "name": "stdout",
     "output_type": "stream",
     "text": [
      "BTC_KRW\n"
     ]
    }
   ],
   "source": [
    "#041 upper method 다음과 같은 문자열이 있을 때 이를 대문자 BTC_KRW로 변경하세요.\n",
    "\n",
    "ticker = \"btc_krw\"\n",
    "\n",
    "ticker = ticker.upper()\n",
    "\n",
    "print(ticker)"
   ]
  },
  {
   "cell_type": "code",
   "execution_count": 55,
   "metadata": {
    "ExecuteTime": {
     "end_time": "2020-12-09T09:25:42.796062Z",
     "start_time": "2020-12-09T09:25:42.792883Z"
    }
   },
   "outputs": [
    {
     "data": {
      "text/plain": [
       "'btc_krw'"
      ]
     },
     "execution_count": 55,
     "metadata": {},
     "output_type": "execute_result"
    }
   ],
   "source": [
    "#042 lower method 다음과 같은 문자열이 있을 때 이를 소문자 btc_krw로 변경하세요.\n",
    "\n",
    "ticker.lower()"
   ]
  },
  {
   "cell_type": "code",
   "execution_count": 56,
   "metadata": {
    "ExecuteTime": {
     "end_time": "2020-12-09T09:26:24.196618Z",
     "start_time": "2020-12-09T09:26:24.193077Z"
    }
   },
   "outputs": [
    {
     "data": {
      "text/plain": [
       "'Hello'"
      ]
     },
     "execution_count": 56,
     "metadata": {},
     "output_type": "execute_result"
    }
   ],
   "source": [
    "#043 capitalize method 문자열 'hello'가 있을 때 이를 'Hello'로 변경해보세요.\n",
    "\n",
    "t = \"hello\"\n",
    "t.capitalize()"
   ]
  },
  {
   "cell_type": "code",
   "execution_count": 73,
   "metadata": {
    "ExecuteTime": {
     "end_time": "2020-12-09T09:33:37.490418Z",
     "start_time": "2020-12-09T09:33:37.486255Z"
    }
   },
   "outputs": [
    {
     "name": "stdout",
     "output_type": "stream",
     "text": [
      "segment_report.words의 파일 형식을 확인하세요\n"
     ]
    }
   ],
   "source": [
    "#044 endswith method 파일 이름이 문자열로 저장되어 있을 때 endswith 메서드를 사용해서 파일 이름이 'xlsx'로 끝나는지 확인해보세요.\n",
    "\n",
    "file_list = [\"clf_report.xlsx\", \"segment_report.words\", \"reg_report.txt\", \"reg_report.csv\"]\n",
    "\n",
    "for t in file_list:\n",
    "  if t.endswith(\"xlsx\") == True or t.endswith(\"csv\") == True or t.endswith(\"txt\") == True:\n",
    "    pass\n",
    "  else:\n",
    "    print(f\"{t}의 파일 형식을 확인하세요\")"
   ]
  },
  {
   "cell_type": "code",
   "execution_count": 76,
   "metadata": {
    "ExecuteTime": {
     "end_time": "2020-12-09T09:34:30.812742Z",
     "start_time": "2020-12-09T09:34:30.809183Z"
    }
   },
   "outputs": [
    {
     "data": {
      "text/plain": [
       "True"
      ]
     },
     "execution_count": 76,
     "metadata": {},
     "output_type": "execute_result"
    }
   ],
   "source": [
    "#045 endswith method 파일 이름이 문자열로 저장되어 있을 때 endswith 메서드를 사용해서 파일 이름이 'xlsx' 또는 'xls'로 끝나는지 확인해보세요.\n",
    "file_name = \"report.xlsx\"\n",
    "file_name.endswith((\"xls\", \"xlsx\"))"
   ]
  },
  {
   "cell_type": "code",
   "execution_count": 77,
   "metadata": {
    "ExecuteTime": {
     "end_time": "2020-12-09T09:35:09.454876Z",
     "start_time": "2020-12-09T09:35:09.451177Z"
    }
   },
   "outputs": [
    {
     "data": {
      "text/plain": [
       "True"
      ]
     },
     "execution_count": 77,
     "metadata": {},
     "output_type": "execute_result"
    }
   ],
   "source": [
    "#046 startswith method 파일 이름이 문자열로 저장되어 있을 때 startswith 메서드를 사용해서 파일 이름이 '2020'로 시작하는지 확인해보세요.\n",
    "\n",
    "file_name = \"2020_보고서.xlsx\"\n",
    "\n",
    "file_name.startswith(\"2020\")\n"
   ]
  },
  {
   "cell_type": "code",
   "execution_count": 112,
   "metadata": {
    "ExecuteTime": {
     "end_time": "2020-12-09T09:40:47.582472Z",
     "start_time": "2020-12-09T09:40:47.577873Z"
    }
   },
   "outputs": [
    {
     "name": "stdout",
     "output_type": "stream",
     "text": [
      "['hello', 'world']\n",
      "['he', '', 'o wor', 'd']\n",
      "['he', 'lo world']\n",
      "['he', '', 'o world']\n",
      "['he', '', 'o wor', 'd']\n"
     ]
    }
   ],
   "source": [
    "#047 split method 다음과 같은 문자열이 있을 때 공백을 기준으로 문자열을 나눠보세요. \n",
    "a = \"hello world\"\n",
    "\n",
    "print(a.split(sep = \" \"))\n",
    "print(a.split(sep = \"l\", maxsplit = -1)) #maxsplit = 몇 개의 칸막이 나눌거냐?\n",
    "print(a.split(sep = \"l\", maxsplit = 1)) #maxsplit = 몇 개의 칸막이 나눌거냐? = 1개니까 나눠진 덩어리는 2개\n",
    "print(a.split(sep = \"l\", maxsplit = 2)) #maxsplit = 몇 개의 칸막이 나눌거냐? = 2개니까 나눠진 덩어리는 3개\n",
    "print(a.split(sep = \"l\", maxsplit = 3)) #maxsplit = 몇 개의 칸막이 나눌거냐? = 3개니까 나눠진 덩어리는 4개"
   ]
  },
  {
   "cell_type": "code",
   "execution_count": 113,
   "metadata": {
    "ExecuteTime": {
     "end_time": "2020-12-09T09:41:19.977059Z",
     "start_time": "2020-12-09T09:41:19.973515Z"
    }
   },
   "outputs": [
    {
     "data": {
      "text/plain": [
       "['btc', 'krw']"
      ]
     },
     "execution_count": 113,
     "metadata": {},
     "output_type": "execute_result"
    }
   ],
   "source": [
    "#048 split method 다음과 같이 문자열이 있을 때 btc와 krw로 나눠보세요.\n",
    "\n",
    "ticker = \"btc_krw\"\n",
    "\n",
    "ticker.split(sep = \"_\")"
   ]
  },
  {
   "cell_type": "code",
   "execution_count": 115,
   "metadata": {
    "ExecuteTime": {
     "end_time": "2020-12-09T09:41:49.774831Z",
     "start_time": "2020-12-09T09:41:49.771132Z"
    }
   },
   "outputs": [
    {
     "data": {
      "text/plain": [
       "['2020', '05', '01']"
      ]
     },
     "execution_count": 115,
     "metadata": {},
     "output_type": "execute_result"
    }
   ],
   "source": [
    "#049 split method 다음과 같이 날짜를 표현하는 문자열이 있을 때 연도, 월, 일로 나눠보세요.\n",
    "\n",
    "date = \"2020-05-01\"\n",
    "\n",
    "date.split(\"-\")"
   ]
  },
  {
   "cell_type": "code",
   "execution_count": 127,
   "metadata": {
    "ExecuteTime": {
     "end_time": "2020-12-09T09:44:26.404664Z",
     "start_time": "2020-12-09T09:44:26.401191Z"
    }
   },
   "outputs": [
    {
     "data": {
      "text/plain": [
       "'039490'"
      ]
     },
     "execution_count": 127,
     "metadata": {},
     "output_type": "execute_result"
    }
   ],
   "source": [
    "#050 rstrip method 문자열 오른쪽에 공백이 있을 때 이를 제거해보세요\n",
    "data = \"039490        \"\n",
    "\n",
    "data.rstrip(\" \")"
   ]
  },
  {
   "cell_type": "markdown",
   "metadata": {},
   "source": [
    "## 파이썬 리스트"
   ]
  },
  {
   "cell_type": "code",
   "execution_count": 157,
   "metadata": {
    "ExecuteTime": {
     "end_time": "2020-12-09T09:51:05.039903Z",
     "start_time": "2020-12-09T09:51:05.036039Z"
    }
   },
   "outputs": [
    {
     "data": {
      "text/plain": [
       "['닥터스트레인지', '스플릿', '럭키']"
      ]
     },
     "execution_count": 157,
     "metadata": {},
     "output_type": "execute_result"
    }
   ],
   "source": [
    "#051 리스트 생성 2016년 11월 영화 예매 순위 기준 top3는 다음과 같습니다. 영화 제목을 movie_rank 이름의 리스트에 저장해보세요. (순위 정보는 저장하지 않습니다.)\n",
    "\n",
    "movie_rank = [\"닥터스트레인지\", \"스플릿\", \"럭키\"]\n",
    "movie_rank"
   ]
  },
  {
   "cell_type": "code",
   "execution_count": 158,
   "metadata": {
    "ExecuteTime": {
     "end_time": "2020-12-09T09:51:05.766971Z",
     "start_time": "2020-12-09T09:51:05.763453Z"
    }
   },
   "outputs": [
    {
     "data": {
      "text/plain": [
       "['닥터스트레인지', '스플릿', '럭키', '배트맨']"
      ]
     },
     "execution_count": 158,
     "metadata": {},
     "output_type": "execute_result"
    }
   ],
   "source": [
    "#052 리스트에 원소추가 051의 movie_rank 리스트에 \"배트맨\"을 추가하라.\n",
    "\n",
    "movie_rank.append(\"배트맨\")\n",
    "movie_rank"
   ]
  },
  {
   "cell_type": "code",
   "execution_count": 159,
   "metadata": {
    "ExecuteTime": {
     "end_time": "2020-12-09T09:51:06.124917Z",
     "start_time": "2020-12-09T09:51:06.121348Z"
    }
   },
   "outputs": [
    {
     "data": {
      "text/plain": [
       "['닥터스트레인지', '슈퍼맨', '스플릿', '럭키', '배트맨']"
      ]
     },
     "execution_count": 159,
     "metadata": {},
     "output_type": "execute_result"
    }
   ],
   "source": [
    "#053 닥터스트레인지와 스플릿 사이에 슈퍼맨을 추가하라 insert 사용\n",
    "movie_rank.insert(1, \"슈퍼맨\")\n",
    "movie_rank"
   ]
  },
  {
   "cell_type": "code",
   "execution_count": 160,
   "metadata": {
    "ExecuteTime": {
     "end_time": "2020-12-09T09:51:06.863146Z",
     "start_time": "2020-12-09T09:51:06.859534Z"
    }
   },
   "outputs": [
    {
     "data": {
      "text/plain": [
       "['닥터스트레인지', '슈퍼맨', '스플릿', '배트맨']"
      ]
     },
     "execution_count": 160,
     "metadata": {},
     "output_type": "execute_result"
    }
   ],
   "source": [
    "#054 movie_rank에서 럭키를 삭제하라 del 사용\n",
    "del movie_rank[3]\n",
    "movie_rank"
   ]
  },
  {
   "cell_type": "code",
   "execution_count": 161,
   "metadata": {
    "ExecuteTime": {
     "end_time": "2020-12-09T09:51:08.263322Z",
     "start_time": "2020-12-09T09:51:08.259605Z"
    }
   },
   "outputs": [
    {
     "data": {
      "text/plain": [
       "['닥터스트레인지', '슈퍼맨']"
      ]
     },
     "execution_count": 161,
     "metadata": {},
     "output_type": "execute_result"
    }
   ],
   "source": [
    "#055 movie_rank 리스트에서 스플릿과 배트맨을 삭제하라\n",
    "\n",
    "del movie_rank[-2:]\n",
    "movie_rank"
   ]
  },
  {
   "cell_type": "code",
   "execution_count": 163,
   "metadata": {
    "ExecuteTime": {
     "end_time": "2020-12-09T09:52:34.019939Z",
     "start_time": "2020-12-09T09:52:34.015686Z"
    }
   },
   "outputs": [
    {
     "data": {
      "text/plain": [
       "['C', 'C++', 'JAVA', 'Python', 'Go', 'C#']"
      ]
     },
     "execution_count": 163,
     "metadata": {},
     "output_type": "execute_result"
    }
   ],
   "source": [
    "#056 lang1과 lang2 리스트가 있을 때 lang1과 lang2의 원소를 모두 갖고있는 langs list를 만들어라\n",
    "\n",
    "lang1 = [\"C\", \"C++\", \"JAVA\"]\n",
    "lang2 = [\"Python\", \"Go\", \"C#\"]\n",
    "\n",
    "langs = lang1 + lang2\n",
    "langs"
   ]
  },
  {
   "cell_type": "code",
   "execution_count": 168,
   "metadata": {
    "ExecuteTime": {
     "end_time": "2020-12-09T09:54:13.429816Z",
     "start_time": "2020-12-09T09:54:13.426618Z"
    }
   },
   "outputs": [
    {
     "name": "stdout",
     "output_type": "stream",
     "text": [
      "max: 7\n",
      "max: 1\n"
     ]
    }
   ],
   "source": [
    "#057 다음 리스트에서 최댓값과 최솟값을 출력하라.\n",
    "\n",
    "nums = [1, 2, 3, 4, 5, 6, 7]\n",
    "\n",
    "\n",
    "print(f\"max: {max(nums)}\\n\"\n",
    "     f\"max: {min(nums)}\")\n",
    "      "
   ]
  },
  {
   "cell_type": "code",
   "execution_count": 173,
   "metadata": {
    "ExecuteTime": {
     "end_time": "2020-12-09T09:56:01.063077Z",
     "start_time": "2020-12-09T09:56:01.059284Z"
    }
   },
   "outputs": [
    {
     "data": {
      "text/plain": [
       "15"
      ]
     },
     "execution_count": 173,
     "metadata": {},
     "output_type": "execute_result"
    }
   ],
   "source": [
    "#058 다음 리스트의 합을 출력하라\n",
    "nums = [1, 2, 3, 4, 5]\n",
    "sum(nums)"
   ]
  },
  {
   "cell_type": "code",
   "execution_count": 194,
   "metadata": {
    "ExecuteTime": {
     "end_time": "2020-12-09T10:00:01.522710Z",
     "start_time": "2020-12-09T10:00:01.519061Z"
    }
   },
   "outputs": [
    {
     "name": "stdout",
     "output_type": "stream",
     "text": [
      "nondistinct 12\n",
      "distinct 11\n"
     ]
    }
   ],
   "source": [
    "#059 다음 리스트에 저장된 데이터의 개수를 화면에 구하여라\n",
    "cook = [\"피자\", \"김밥\", \"만두\", \"양념치킨\", \"족발\", \"피자\", \"김치만두\", \"쫄면\", \"쏘세지\", \"라면\", \"팥빙수\", \"김치전\"]\n",
    "\n",
    "\n",
    "#len을 distinct 하고 싶으면 set()으로 만들어주면 됨\n",
    "print(f\"nondistinct {len(cook)}\")\n",
    "print(f\"distinct {len(set(cook))}\")\n"
   ]
  },
  {
   "cell_type": "code",
   "execution_count": 201,
   "metadata": {
    "ExecuteTime": {
     "end_time": "2020-12-09T10:03:30.363264Z",
     "start_time": "2020-12-09T10:03:30.359172Z"
    }
   },
   "outputs": [
    {
     "data": {
      "text/plain": [
       "3.0"
      ]
     },
     "execution_count": 201,
     "metadata": {},
     "output_type": "execute_result"
    }
   ],
   "source": [
    "#060 다음 리스트의 평균을 출력하라.\n",
    "\n",
    "nums = [1, 2, 3, 4, 5]\n",
    "average = sum(nums) / len(nums)\n",
    "average"
   ]
  },
  {
   "cell_type": "code",
   "execution_count": 202,
   "metadata": {
    "ExecuteTime": {
     "end_time": "2020-12-09T10:05:53.182649Z",
     "start_time": "2020-12-09T10:05:53.178458Z"
    }
   },
   "outputs": [
    {
     "data": {
      "text/plain": [
       "[100, 130, 140, 150, 160, 170]"
      ]
     },
     "execution_count": 202,
     "metadata": {},
     "output_type": "execute_result"
    }
   ],
   "source": [
    "#061 price 변수에는 날짜와 종가 정보가 저장돼 있다. 날짜 정보를 제외하고 가격 정보만을 출력하라. (힌트 : 슬라이싱)\n",
    "\n",
    "price = ['20180728', 100, 130, 140, 150, 160, 170]\n",
    "\n",
    "\n",
    "price[1:]"
   ]
  },
  {
   "cell_type": "code",
   "execution_count": 203,
   "metadata": {
    "ExecuteTime": {
     "end_time": "2020-12-09T10:06:19.759025Z",
     "start_time": "2020-12-09T10:06:19.755228Z"
    }
   },
   "outputs": [
    {
     "data": {
      "text/plain": [
       "[1, 3, 5, 7, 9]"
      ]
     },
     "execution_count": 203,
     "metadata": {},
     "output_type": "execute_result"
    }
   ],
   "source": [
    "#062 슬라이싱을 사용해서 홀수만 출력하라.\n",
    "\n",
    "nums = [1, 2, 3, 4, 5, 6, 7, 8, 9, 10]\n",
    "\n",
    "nums[::2]"
   ]
  },
  {
   "cell_type": "code",
   "execution_count": 218,
   "metadata": {
    "ExecuteTime": {
     "end_time": "2020-12-09T10:07:43.242800Z",
     "start_time": "2020-12-09T10:07:43.239193Z"
    }
   },
   "outputs": [
    {
     "data": {
      "text/plain": [
       "[2, 4, 6, 8, 10]"
      ]
     },
     "execution_count": 218,
     "metadata": {},
     "output_type": "execute_result"
    }
   ],
   "source": [
    "#063 슬라이싱을 사용해서 짝수만 출력하라.\n",
    "\n",
    "nums[1::2]"
   ]
  },
  {
   "cell_type": "code",
   "execution_count": 219,
   "metadata": {
    "ExecuteTime": {
     "end_time": "2020-12-09T10:08:02.482495Z",
     "start_time": "2020-12-09T10:08:02.478825Z"
    }
   },
   "outputs": [
    {
     "data": {
      "text/plain": [
       "[5, 4, 3, 2, 1]"
      ]
     },
     "execution_count": 219,
     "metadata": {},
     "output_type": "execute_result"
    }
   ],
   "source": [
    "#064 슬라이싱을 사용해서 리스트의 숫자를 역 방향으로 출력하라.\n",
    "\n",
    "\n",
    "nums = [1, 2, 3, 4, 5]\n",
    "\n",
    "nums[::-1]"
   ]
  },
  {
   "cell_type": "code",
   "execution_count": 222,
   "metadata": {
    "ExecuteTime": {
     "end_time": "2020-12-09T10:08:44.140643Z",
     "start_time": "2020-12-09T10:08:44.137415Z"
    }
   },
   "outputs": [
    {
     "name": "stdout",
     "output_type": "stream",
     "text": [
      "삼성전자 Naver\n"
     ]
    }
   ],
   "source": [
    "#065 interest 리스트에는 아래의 데이터가 바인딩되어 있다.\n",
    "\n",
    "\n",
    "interest = ['삼성전자', 'LG전자', 'Naver']\n",
    "\n",
    "print(interest[0], interest[2])"
   ]
  },
  {
   "cell_type": "code",
   "execution_count": 234,
   "metadata": {
    "ExecuteTime": {
     "end_time": "2020-12-09T10:12:07.466204Z",
     "start_time": "2020-12-09T10:12:07.462890Z"
    }
   },
   "outputs": [
    {
     "name": "stdout",
     "output_type": "stream",
     "text": [
      "삼성전자 LG전자 Naver SK하이닉스 미래에셋대우\n"
     ]
    }
   ],
   "source": [
    "#066 interest 리스트를 사용하여 아래와 같이 화면에 출력하라.\n",
    "#삼성전자 LG전자 Naver SK하이닉스 미래에셋대우\n",
    "\n",
    "\n",
    "interest = ['삼성전자', 'LG전자', 'Naver', 'SK하이닉스', '미래에셋대우']\n",
    "\n",
    "print(\" \".join(interest))# join 몰랐음"
   ]
  },
  {
   "cell_type": "code",
   "execution_count": 235,
   "metadata": {
    "ExecuteTime": {
     "end_time": "2020-12-09T10:12:07.848538Z",
     "start_time": "2020-12-09T10:12:07.845484Z"
    }
   },
   "outputs": [
    {
     "name": "stdout",
     "output_type": "stream",
     "text": [
      "삼성전자/LG전자/Naver/SK하이닉스/미래에셋대우\n"
     ]
    }
   ],
   "source": [
    "#067 interest 리스트에는 아래의 데이터가 바인딩되어 있다.\n",
    "\n",
    "interest = ['삼성전자', 'LG전자', 'Naver', 'SK하이닉스', '미래에셋대우']\n",
    "\n",
    "print(\"/\".join(interest)) # join 몰랐음"
   ]
  },
  {
   "cell_type": "code",
   "execution_count": 236,
   "metadata": {
    "ExecuteTime": {
     "end_time": "2020-12-09T10:13:23.690267Z",
     "start_time": "2020-12-09T10:13:23.687510Z"
    }
   },
   "outputs": [
    {
     "name": "stdout",
     "output_type": "stream",
     "text": [
      "삼성전자\n",
      "LG전자\n",
      "Naver\n",
      "SK하이닉스\n",
      "미래에셋대우\n"
     ]
    }
   ],
   "source": [
    "#068 join() 메서드를 사용해서 interest 리스트를 아래와 같이 화면에 출력하라.\n",
    "\n",
    "# 출력 예시:\n",
    "# 삼성전자\n",
    "# LG전자\n",
    "# Naver\n",
    "# SK하이닉스\n",
    "# 미래에셋대우\n",
    "\n",
    "\n",
    "print(\"\\n\".join(interest))"
   ]
  },
  {
   "cell_type": "code",
   "execution_count": 239,
   "metadata": {
    "ExecuteTime": {
     "end_time": "2020-12-09T10:14:07.988671Z",
     "start_time": "2020-12-09T10:14:07.984939Z"
    }
   },
   "outputs": [
    {
     "data": {
      "text/plain": [
       "['삼성전자', 'LG전자', 'Naver']"
      ]
     },
     "execution_count": 239,
     "metadata": {},
     "output_type": "execute_result"
    }
   ],
   "source": [
    "#069 회사 이름이 슬래시 ('/')로 구분되어 하나의 문자열로 저장되어 있다.\n",
    "\n",
    "string = \"삼성전자/LG전자/Naver\"\n",
    "# >> print(interest)\n",
    "# ['삼성전자', 'LG전자', 'Naver']\n",
    "\n",
    "interest = string.split(\"/\")\n",
    "interest"
   ]
  },
  {
   "cell_type": "code",
   "execution_count": 248,
   "metadata": {
    "ExecuteTime": {
     "end_time": "2020-12-09T10:16:44.015664Z",
     "start_time": "2020-12-09T10:16:44.011822Z"
    }
   },
   "outputs": [
    {
     "name": "stdout",
     "output_type": "stream",
     "text": [
      "[1, 2, 3, 4, 5, 9, 10]\n",
      "[1, 2, 3, 4, 5, 9, 10]\n"
     ]
    }
   ],
   "source": [
    "#070 오름차 정렬\n",
    "data = [2, 4, 3, 1, 5, 10, 9]\n",
    "\n",
    "data1 = sorted(data)\n",
    "data.sort()#바로 값이 바뀌는 method. 객체로 못받음\n",
    "print(data1)\n",
    "print(data)\n",
    "\n"
   ]
  },
  {
   "cell_type": "code",
   "execution_count": null,
   "metadata": {},
   "outputs": [],
   "source": []
  }
 ],
 "metadata": {
  "hide_input": false,
  "kernelspec": {
   "display_name": "Python 3",
   "language": "python",
   "name": "python3"
  },
  "language_info": {
   "codemirror_mode": {
    "name": "ipython",
    "version": 3
   },
   "file_extension": ".py",
   "mimetype": "text/x-python",
   "name": "python",
   "nbconvert_exporter": "python",
   "pygments_lexer": "ipython3",
   "version": "3.7.4"
  },
  "toc": {
   "base_numbering": 1,
   "nav_menu": {},
   "number_sections": true,
   "sideBar": true,
   "skip_h1_title": false,
   "title_cell": "Table of Contents",
   "title_sidebar": "Contents",
   "toc_cell": false,
   "toc_position": {},
   "toc_section_display": true,
   "toc_window_display": true
  }
 },
 "nbformat": 4,
 "nbformat_minor": 4
}

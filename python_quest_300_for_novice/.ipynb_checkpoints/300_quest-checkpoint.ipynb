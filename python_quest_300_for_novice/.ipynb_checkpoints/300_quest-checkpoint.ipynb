{
 "cells": [
  {
   "cell_type": "markdown",
   "metadata": {},
   "source": [
    "# 파이썬 시작하기"
   ]
  },
  {
   "cell_type": "code",
   "execution_count": 1,
   "metadata": {
    "ExecuteTime": {
     "end_time": "2021-02-16T00:35:15.967015Z",
     "start_time": "2021-02-16T00:35:15.957231Z"
    }
   },
   "outputs": [
    {
     "data": {
      "text/html": [
       "<style>.container { width:85% !important; }</style>"
      ],
      "text/plain": [
       "<IPython.core.display.HTML object>"
      ]
     },
     "metadata": {},
     "output_type": "display_data"
    }
   ],
   "source": [
    "from IPython.core.display import display, HTML\n",
    "display(HTML(\"<style>.container { width:85% !important; }</style>\"))"
   ]
  },
  {
   "cell_type": "markdown",
   "metadata": {},
   "source": [
    "## 파이썬 시작하기"
   ]
  },
  {
   "cell_type": "code",
   "execution_count": 1,
   "metadata": {
    "ExecuteTime": {
     "end_time": "2020-12-08T09:37:13.360419Z",
     "start_time": "2020-12-08T09:37:13.357314Z"
    }
   },
   "outputs": [
    {
     "name": "stdout",
     "output_type": "stream",
     "text": [
      "Hello World\n"
     ]
    }
   ],
   "source": [
    "#001 화면에 Hello World 문자열을 출력하세요.\n",
    "\n",
    "\n",
    "print(\"Hello World\")"
   ]
  },
  {
   "cell_type": "code",
   "execution_count": 2,
   "metadata": {
    "ExecuteTime": {
     "end_time": "2020-12-08T09:37:26.659125Z",
     "start_time": "2020-12-08T09:37:26.655733Z"
    }
   },
   "outputs": [
    {
     "name": "stdout",
     "output_type": "stream",
     "text": [
      "Mary's cosmetics\n"
     ]
    }
   ],
   "source": [
    "#002 화면에 Mary's cosmetics을 출력하세요. (중간에 '가 있음에 주의하세요)\n",
    "\n",
    "\n",
    "print(\"Mary's cosmetics\")"
   ]
  },
  {
   "cell_type": "code",
   "execution_count": 3,
   "metadata": {
    "ExecuteTime": {
     "end_time": "2020-12-08T09:37:50.741671Z",
     "start_time": "2020-12-08T09:37:50.738674Z"
    }
   },
   "outputs": [
    {
     "name": "stdout",
     "output_type": "stream",
     "text": [
      "신씨가 소리질렀다. \"도둑이야\".\n"
     ]
    }
   ],
   "source": [
    "#003 화면에 아래 문장을 출력하세요. (중간에 \"가 있음에 주의하세요.)\n",
    "\n",
    "\n",
    "print('신씨가 소리질렀다. \"도둑이야\".')"
   ]
  },
  {
   "cell_type": "code",
   "execution_count": 4,
   "metadata": {
    "ExecuteTime": {
     "end_time": "2020-12-08T09:38:23.595145Z",
     "start_time": "2020-12-08T09:38:23.591123Z"
    }
   },
   "outputs": [
    {
     "name": "stdout",
     "output_type": "stream",
     "text": [
      "\"C:\\Windows\"\n"
     ]
    }
   ],
   "source": [
    "#004 화면에 \"C:\\Windows\"를 출력하세요.\n",
    "\n",
    "\n",
    "print('\"C:\\Windows\"')"
   ]
  },
  {
   "cell_type": "code",
   "execution_count": 92,
   "metadata": {
    "ExecuteTime": {
     "end_time": "2021-02-16T01:37:26.243940Z",
     "start_time": "2021-02-16T01:37:26.240852Z"
    }
   },
   "outputs": [
    {
     "name": "stdout",
     "output_type": "stream",
     "text": [
      "안녕하세요. \n",
      "만나서\t반갑습니다.\n"
     ]
    }
   ],
   "source": [
    "#005 다음 코드를 실행해보고 \\t와 \\n의 역할을 설명해보세요.\n",
    "#\\n 줄바꿈\n",
    "#\\t 탭\n",
    "\n",
    "\n",
    "print(\"안녕하세요. \\n만나서\\t반갑습니다.\")"
   ]
  },
  {
   "cell_type": "code",
   "execution_count": 8,
   "metadata": {
    "ExecuteTime": {
     "end_time": "2020-12-08T09:39:32.779284Z",
     "start_time": "2020-12-08T09:39:32.776773Z"
    }
   },
   "outputs": [
    {
     "name": "stdout",
     "output_type": "stream",
     "text": [
      "오늘은 일요일\n"
     ]
    }
   ],
   "source": [
    "#006 print 함수에 두 개의 단어를 입력한 예제입니다. 아래 코드의 출력 결과를 예상해봅시다.\n",
    "\n",
    "\n",
    "print(\"오늘은\", \"일요일\")"
   ]
  },
  {
   "cell_type": "code",
   "execution_count": 10,
   "metadata": {
    "ExecuteTime": {
     "end_time": "2020-12-08T09:40:26.081516Z",
     "start_time": "2020-12-08T09:40:26.078558Z"
    }
   },
   "outputs": [
    {
     "name": "stdout",
     "output_type": "stream",
     "text": [
      "naver;kakao;sk;samsung\n"
     ]
    }
   ],
   "source": [
    "#007 print() 함수를 사용하여 다음과 같이 출력하세요.\n",
    "# naver;kakao;sk;samsung\n",
    "\n",
    "\n",
    "print(\"naver\",\"kakao\",\"sk\",\"samsung\", sep = \";\")"
   ]
  },
  {
   "cell_type": "code",
   "execution_count": 11,
   "metadata": {
    "ExecuteTime": {
     "end_time": "2020-12-08T09:42:00.844979Z",
     "start_time": "2020-12-08T09:42:00.841874Z"
    }
   },
   "outputs": [
    {
     "name": "stdout",
     "output_type": "stream",
     "text": [
      "naver/kakao/sk/samsung\n"
     ]
    }
   ],
   "source": [
    "#008 print() 함수를 사용하여 다음과 같이 출력하세요.\n",
    "# naver/kakao/sk/samsung\n",
    "\n",
    "\n",
    "print(\"naver\", \"kakao\", \"sk\", \"samsung\", sep = \"/\")"
   ]
  },
  {
   "cell_type": "code",
   "execution_count": 16,
   "metadata": {
    "ExecuteTime": {
     "end_time": "2020-12-08T09:43:13.552008Z",
     "start_time": "2020-12-08T09:43:13.549038Z"
    }
   },
   "outputs": [
    {
     "name": "stdout",
     "output_type": "stream",
     "text": [
      "firstsecond\n"
     ]
    }
   ],
   "source": [
    "#009 다음 코드를 수정하여 줄바꿈이 없이 출력하세요. (힌트: end='') print 함수는 두 번 사용합니다. 세미콜론 (;)은 한줄에 여러 개의 명령을 작성하기 위해 사용합니다.\n",
    "\n",
    "print(\"first\",end=\"\");print(\"second\")"
   ]
  },
  {
   "cell_type": "code",
   "execution_count": 17,
   "metadata": {
    "ExecuteTime": {
     "end_time": "2020-12-08T09:43:30.352676Z",
     "start_time": "2020-12-08T09:43:30.349519Z"
    },
    "scrolled": true
   },
   "outputs": [
    {
     "name": "stdout",
     "output_type": "stream",
     "text": [
      "1.6666666666666667\n"
     ]
    }
   ],
   "source": [
    "#010 5/3을 출력하세요\n",
    "print(5/3)"
   ]
  },
  {
   "cell_type": "markdown",
   "metadata": {},
   "source": [
    "## 파이썬 변수"
   ]
  },
  {
   "cell_type": "code",
   "execution_count": 18,
   "metadata": {
    "ExecuteTime": {
     "end_time": "2020-12-08T09:45:18.266322Z",
     "start_time": "2020-12-08T09:45:18.263070Z"
    }
   },
   "outputs": [
    {
     "name": "stdout",
     "output_type": "stream",
     "text": [
      "500000\n"
     ]
    }
   ],
   "source": [
    "#011 삼성전자라는 변수로 50,000원을 바인딩해보세요. 삼성전자 주식 10주를 보유하고 있을 때 총 평가금액을 출력하세요.\n",
    "\n",
    "samsung_amt = 50000\n",
    "samsung_cnt = 10\n",
    "tt_amt = samsung_amt * samsung_cnt\n",
    "\n",
    "print(tt_amt)"
   ]
  },
  {
   "cell_type": "code",
   "execution_count": 21,
   "metadata": {
    "ExecuteTime": {
     "end_time": "2020-12-08T09:47:24.018707Z",
     "start_time": "2020-12-08T09:47:24.014648Z"
    }
   },
   "outputs": [
    {
     "name": "stdout",
     "output_type": "stream",
     "text": [
      "2980000000000 <class 'int'>\n",
      "50000 <class 'int'>\n",
      "15.79 <class 'float'>\n"
     ]
    }
   ],
   "source": [
    "#012 다음 표는 삼성전자의 일부 투자정보입니다. 변수를 사용해서 시가총액, 현재가, PER 등을 바인딩해보세요.\n",
    "\n",
    "\n",
    "# 항목\t값\n",
    "# 시가총액\t298조\n",
    "# 현재가\t50,000원\n",
    "# PER\t15.79\n",
    "\n",
    "tt_amt = 2980000000000\n",
    "now_amt = 50000\n",
    "per = 15.79\n",
    "\n",
    "print(tt_amt, type(tt_amt))\n",
    "print(now_amt, type(now_amt))\n",
    "print(per, type(per))"
   ]
  },
  {
   "cell_type": "code",
   "execution_count": 27,
   "metadata": {
    "ExecuteTime": {
     "end_time": "2020-12-08T09:49:03.897303Z",
     "start_time": "2020-12-08T09:49:03.894326Z"
    }
   },
   "outputs": [
    {
     "name": "stdout",
     "output_type": "stream",
     "text": [
      "hello! python\n"
     ]
    }
   ],
   "source": [
    "#013 변수 s와 t에는 각각 문자열이 바인딩 되어있습니다.\n",
    "\n",
    "s = \"hello\"\n",
    "t = \"python\"\n",
    "\n",
    "# 두 변수를 이용하여 아래와 같이 출력해보세요.\n",
    "\n",
    "# hello! python\n",
    "# print(s, \"! \", t, sep = \"\")\n",
    "print(s+\"!\", t)"
   ]
  },
  {
   "cell_type": "code",
   "execution_count": 28,
   "metadata": {
    "ExecuteTime": {
     "end_time": "2020-12-08T09:49:42.503886Z",
     "start_time": "2020-12-08T09:49:42.501227Z"
    }
   },
   "outputs": [
    {
     "name": "stdout",
     "output_type": "stream",
     "text": [
      "8\n"
     ]
    }
   ],
   "source": [
    "#014 아래 코드의 실행 결과를 예상해보세요.\n",
    "\n",
    "# >> 2 + 2 * 3 \n",
    "# 8\n",
    "print(2 + 2 * 3)\n"
   ]
  },
  {
   "cell_type": "code",
   "execution_count": 30,
   "metadata": {
    "ExecuteTime": {
     "end_time": "2020-12-08T09:50:19.414020Z",
     "start_time": "2020-12-08T09:50:19.411361Z"
    }
   },
   "outputs": [
    {
     "name": "stdout",
     "output_type": "stream",
     "text": [
      "<class 'str'>\n"
     ]
    }
   ],
   "source": [
    "#015 type() 함수는 데이터 타입을 판별합니다. 변수 a에는 128 숫자가 바인딩돼 있어 type 함수가 int (정수)형임을 알려줍니다.\n",
    "\n",
    "# >> a = 128\n",
    "# >> print (type(a))\n",
    "# <class 'int'>\n",
    "\n",
    "\n",
    "a = \"132\"\n",
    "\n",
    "print(type(a))"
   ]
  },
  {
   "cell_type": "code",
   "execution_count": 37,
   "metadata": {
    "ExecuteTime": {
     "end_time": "2020-12-08T09:51:34.564535Z",
     "start_time": "2020-12-08T09:51:34.560762Z"
    }
   },
   "outputs": [
    {
     "data": {
      "text/plain": [
       "720"
      ]
     },
     "execution_count": 37,
     "metadata": {},
     "output_type": "execute_result"
    }
   ],
   "source": [
    "#016 문자열 to 정수형(str to int)\n",
    "\n",
    "# 문자열 '720'를 정수형으로 변환해보세요.\n",
    "\n",
    "num_str = \"720\"\n",
    "\n",
    "num_str = int(num_str)\n",
    "\n",
    "num_str"
   ]
  },
  {
   "cell_type": "code",
   "execution_count": 38,
   "metadata": {
    "ExecuteTime": {
     "end_time": "2020-12-08T09:52:15.330813Z",
     "start_time": "2020-12-08T09:52:15.327635Z"
    }
   },
   "outputs": [
    {
     "data": {
      "text/plain": [
       "'100'"
      ]
     },
     "execution_count": 38,
     "metadata": {},
     "output_type": "execute_result"
    }
   ],
   "source": [
    "#017 int to str\n",
    "\n",
    "num = 100\n",
    "\n",
    "num = str(num)\n",
    "num"
   ]
  },
  {
   "cell_type": "code",
   "execution_count": 41,
   "metadata": {
    "ExecuteTime": {
     "end_time": "2020-12-08T09:52:54.736058Z",
     "start_time": "2020-12-08T09:52:54.732977Z"
    }
   },
   "outputs": [
    {
     "data": {
      "text/plain": [
       "15.79"
      ]
     },
     "execution_count": 41,
     "metadata": {},
     "output_type": "execute_result"
    }
   ],
   "source": [
    "#018 str to float \n",
    "x = \"15.79\"\n",
    "x = float(x)\n",
    "x"
   ]
  },
  {
   "cell_type": "code",
   "execution_count": 42,
   "metadata": {
    "ExecuteTime": {
     "end_time": "2020-12-08T09:53:39.227759Z",
     "start_time": "2020-12-08T09:53:39.224794Z"
    }
   },
   "outputs": [
    {
     "name": "stdout",
     "output_type": "stream",
     "text": [
      "2020 2019 2018\n"
     ]
    }
   ],
   "source": [
    "#019 str to int\n",
    "year = \"2020\"\n",
    "this_year = int(year)\n",
    "print(this_year, this_year-1, this_year-2)"
   ]
  },
  {
   "cell_type": "code",
   "execution_count": 43,
   "metadata": {
    "ExecuteTime": {
     "end_time": "2020-12-08T09:54:33.675426Z",
     "start_time": "2020-12-08T09:54:33.672060Z"
    }
   },
   "outputs": [
    {
     "name": "stdout",
     "output_type": "stream",
     "text": [
      "1749024\n"
     ]
    }
   ],
   "source": [
    "#020 에이컨이 월 48,584원에 무이자 36개월의 조건으로 홈쇼핑에서 판매되고 있습니다. 총 금액은 계산한 후 이를 화면에 출력해보세요. (변수사용하기)\n",
    "\n",
    "month_amt = 48584\n",
    "month = 36\n",
    "total_amt = month_amt * month\n",
    "print(total_amt)"
   ]
  },
  {
   "cell_type": "markdown",
   "metadata": {},
   "source": [
    "## 파이썬 문자열"
   ]
  },
  {
   "cell_type": "code",
   "execution_count": 48,
   "metadata": {
    "ExecuteTime": {
     "end_time": "2020-12-08T09:57:13.290578Z",
     "start_time": "2020-12-08T09:57:13.287552Z"
    }
   },
   "outputs": [
    {
     "name": "stdout",
     "output_type": "stream",
     "text": [
      "p t\n"
     ]
    }
   ],
   "source": [
    "#021 letters가 바인딩하는 문자열에서 첫번째와 세번째 문자를 출력하세요.\n",
    "letters = 'python'\n",
    "\n",
    "print(letters[0], letters[2])"
   ]
  },
  {
   "cell_type": "code",
   "execution_count": 51,
   "metadata": {
    "ExecuteTime": {
     "end_time": "2020-12-08T09:58:27.454363Z",
     "start_time": "2020-12-08T09:58:27.451170Z"
    }
   },
   "outputs": [
    {
     "name": "stdout",
     "output_type": "stream",
     "text": [
      "2210\n"
     ]
    }
   ],
   "source": [
    "#022 자동차 번호가 다음과 같을 때 뒤에 4자리만 출력하세요.\n",
    "\n",
    "license_plate = \"24가 2210\"\n",
    "\n",
    "print(license_plate[-4:])"
   ]
  },
  {
   "cell_type": "code",
   "execution_count": 55,
   "metadata": {
    "ExecuteTime": {
     "end_time": "2020-12-08T09:59:23.208193Z",
     "start_time": "2020-12-08T09:59:23.205065Z"
    }
   },
   "outputs": [
    {
     "name": "stdout",
     "output_type": "stream",
     "text": [
      "홀홀홀\n"
     ]
    }
   ],
   "source": [
    "#023 아래의 문자열에서 '홀' 만 출력하세요.\n",
    "\n",
    "\n",
    "string = \"홀짝홀짝홀짝\"\n",
    "print(string[::2])"
   ]
  },
  {
   "cell_type": "code",
   "execution_count": 69,
   "metadata": {
    "ExecuteTime": {
     "end_time": "2020-12-08T10:01:09.688892Z",
     "start_time": "2020-12-08T10:01:09.684935Z"
    }
   },
   "outputs": [
    {
     "data": {
      "text/plain": [
       "'nohtyp'"
      ]
     },
     "execution_count": 69,
     "metadata": {},
     "output_type": "execute_result"
    }
   ],
   "source": [
    "#024 문자열을 거꾸로 뒤집어 출력하세요.\n",
    "\n",
    "string = \"python\"\n",
    "\n",
    "string[::-1]"
   ]
  },
  {
   "cell_type": "code",
   "execution_count": 70,
   "metadata": {
    "ExecuteTime": {
     "end_time": "2020-12-08T10:01:57.702810Z",
     "start_time": "2020-12-08T10:01:57.699996Z"
    }
   },
   "outputs": [
    {
     "name": "stdout",
     "output_type": "stream",
     "text": [
      "010 1111 2222\n"
     ]
    }
   ],
   "source": [
    "#025 아래의 전화번호에서 하이푼 ('-')을 제거하고 출력하세요.\n",
    "\n",
    "phone_number = \"010-1111-2222\"\n",
    "\n",
    "print(phone_number.replace(\"-\", \" \"))"
   ]
  },
  {
   "cell_type": "code",
   "execution_count": 71,
   "metadata": {
    "ExecuteTime": {
     "end_time": "2020-12-08T10:02:30.953125Z",
     "start_time": "2020-12-08T10:02:30.950317Z"
    }
   },
   "outputs": [
    {
     "name": "stdout",
     "output_type": "stream",
     "text": [
      "01011112222\n"
     ]
    }
   ],
   "source": [
    "#026 25번 문제의 전화번호를 아래와 같이 모두 붙여 출력하세요.\n",
    "\n",
    "\n",
    "print(phone_number.replace(\"-\",\"\"))"
   ]
  },
  {
   "cell_type": "code",
   "execution_count": 85,
   "metadata": {
    "ExecuteTime": {
     "end_time": "2020-12-08T10:04:47.309510Z",
     "start_time": "2020-12-08T10:04:47.306144Z"
    }
   },
   "outputs": [
    {
     "data": {
      "text/plain": [
       "'kr'"
      ]
     },
     "execution_count": 85,
     "metadata": {},
     "output_type": "execute_result"
    }
   ],
   "source": [
    "#027 url 에 저장된 웹 페이지 주소에서 도메인을 출력하세요.\n",
    "\n",
    "url = \"http://sharebook.kr\"\n",
    "\n",
    "#한거 : print(url[-2:])\n",
    "#모범\n",
    "url.split(\".\")[1]"
   ]
  },
  {
   "cell_type": "code",
   "execution_count": 86,
   "metadata": {
    "ExecuteTime": {
     "end_time": "2020-12-08T10:05:12.320467Z",
     "start_time": "2020-12-08T10:05:12.312137Z"
    }
   },
   "outputs": [
    {
     "ename": "TypeError",
     "evalue": "'str' object does not support item assignment",
     "output_type": "error",
     "traceback": [
      "\u001b[0;31m---------------------------------------------------------------------------\u001b[0m",
      "\u001b[0;31mTypeError\u001b[0m                                 Traceback (most recent call last)",
      "\u001b[0;32m<ipython-input-86-f04daff0aab8>\u001b[0m in \u001b[0;36m<module>\u001b[0;34m\u001b[0m\n\u001b[1;32m      2\u001b[0m \u001b[0;34m\u001b[0m\u001b[0m\n\u001b[1;32m      3\u001b[0m \u001b[0mlang\u001b[0m \u001b[0;34m=\u001b[0m \u001b[0;34m'python'\u001b[0m\u001b[0;34m\u001b[0m\u001b[0;34m\u001b[0m\u001b[0m\n\u001b[0;32m----> 4\u001b[0;31m \u001b[0mlang\u001b[0m\u001b[0;34m[\u001b[0m\u001b[0;36m0\u001b[0m\u001b[0;34m]\u001b[0m \u001b[0;34m=\u001b[0m \u001b[0;34m'P'\u001b[0m\u001b[0;34m\u001b[0m\u001b[0;34m\u001b[0m\u001b[0m\n\u001b[0m\u001b[1;32m      5\u001b[0m \u001b[0mprint\u001b[0m\u001b[0;34m(\u001b[0m\u001b[0mlang\u001b[0m\u001b[0;34m)\u001b[0m\u001b[0;34m\u001b[0m\u001b[0;34m\u001b[0m\u001b[0m\n",
      "\u001b[0;31mTypeError\u001b[0m: 'str' object does not support item assignment"
     ]
    }
   ],
   "source": [
    "#028 아래 코드의 실행 결과를 예상해보세요.\n",
    "\n",
    "lang = 'python'\n",
    "lang[0] = 'P'\n",
    "print(lang)\n",
    "\n",
    "# 문자열은 수정할 수 없음 assign 못함"
   ]
  },
  {
   "cell_type": "code",
   "execution_count": 92,
   "metadata": {
    "ExecuteTime": {
     "end_time": "2020-12-08T10:06:58.146317Z",
     "start_time": "2020-12-08T10:06:58.143340Z"
    }
   },
   "outputs": [
    {
     "name": "stdout",
     "output_type": "stream",
     "text": [
      "Abcdfe2A354A32A\n"
     ]
    }
   ],
   "source": [
    "#029 아래 문자열에서 소문자 'a'를 대문자 'A'로 변경하세요.\n",
    "\n",
    "string = 'abcdfe2a354a32a'\n",
    "\n",
    "print(string.replace(\"a\", \"A\"))"
   ]
  },
  {
   "cell_type": "code",
   "execution_count": 93,
   "metadata": {
    "ExecuteTime": {
     "end_time": "2020-12-08T10:07:24.401093Z",
     "start_time": "2020-12-08T10:07:24.398053Z"
    }
   },
   "outputs": [
    {
     "name": "stdout",
     "output_type": "stream",
     "text": [
      "abcd\n"
     ]
    }
   ],
   "source": [
    "#030 아래 코드의 실행 결과를 예상해보세요.\n",
    "\n",
    "string = 'abcd'\n",
    "string.replace('b', 'B') #aBcd\n",
    "print(string) #abcd"
   ]
  },
  {
   "cell_type": "code",
   "execution_count": 4,
   "metadata": {
    "ExecuteTime": {
     "end_time": "2020-12-09T09:07:44.417321Z",
     "start_time": "2020-12-09T09:07:44.414089Z"
    }
   },
   "outputs": [
    {
     "name": "stdout",
     "output_type": "stream",
     "text": [
      "34\n"
     ]
    }
   ],
   "source": [
    "#031 문자열 합치기 아래 코드의 실행 결과를 예상해보세요.\n",
    "a = \"3\"\n",
    "b = \"4\"\n",
    "print(a + b)\n",
    "# concat(34)"
   ]
  },
  {
   "cell_type": "code",
   "execution_count": 6,
   "metadata": {
    "ExecuteTime": {
     "end_time": "2020-12-09T09:08:23.941238Z",
     "start_time": "2020-12-09T09:08:23.938491Z"
    }
   },
   "outputs": [
    {
     "name": "stdout",
     "output_type": "stream",
     "text": [
      "HiHiHi\n"
     ]
    }
   ],
   "source": [
    "#032 문자열 곱하기 결과예상\n",
    "print(\"Hi\" * 3)\n",
    "#HiHiHi"
   ]
  },
  {
   "cell_type": "code",
   "execution_count": 7,
   "metadata": {
    "ExecuteTime": {
     "end_time": "2020-12-09T09:08:48.588688Z",
     "start_time": "2020-12-09T09:08:48.585839Z"
    }
   },
   "outputs": [
    {
     "name": "stdout",
     "output_type": "stream",
     "text": [
      "--------------------------------------------------------------------------------\n"
     ]
    }
   ],
   "source": [
    "#033 문자열 곱하기 화면에 \"-\"를 80개 출력하세요\n",
    "print(\"-\" * 80)"
   ]
  },
  {
   "cell_type": "code",
   "execution_count": 16,
   "metadata": {
    "ExecuteTime": {
     "end_time": "2020-12-09T09:10:53.521862Z",
     "start_time": "2020-12-09T09:10:53.518655Z"
    }
   },
   "outputs": [
    {
     "name": "stdout",
     "output_type": "stream",
     "text": [
      "python java python java python java \n"
     ]
    }
   ],
   "source": [
    "#034 변수에 다음과 같은 문자열이 바인딩되어 있습니다.\n",
    "\n",
    "t1 = 'python'\n",
    "t2 = 'java'\n",
    "\n",
    "#변수에 문자열 더하기와 문자열 곱하기를 사용해서 아래와 같이 출력해보세요.\n",
    "\n",
    "#실행 예:\n",
    "# python java python java python java python java\n",
    "\n",
    "print((t1 + \" \" + t2 + \" \")*3)"
   ]
  },
  {
   "cell_type": "code",
   "execution_count": 33,
   "metadata": {
    "ExecuteTime": {
     "end_time": "2020-12-09T09:16:14.580759Z",
     "start_time": "2020-12-09T09:16:14.576498Z"
    }
   },
   "outputs": [
    {
     "name": "stdout",
     "output_type": "stream",
     "text": [
      "이름: 김민수 나이: 10\n",
      "이름: 이철희 나이: 13\n"
     ]
    }
   ],
   "source": [
    "#035 변수에 다음과 같이 문자열과 정수가 바인딩되어 있을 때 % formatting을 사용해서 다음과 같이 출력해보세요.\n",
    "\n",
    "name1 = \"김민수\" \n",
    "age1 = 10\n",
    "name2 = \"이철희\"\n",
    "age2 = 13\n",
    "\n",
    "# 이름: 김민수 나이: 10\n",
    "# 이름: 이철희 나이: 13\n",
    "\n",
    "#이렇게 하는건 몰랐었음, 근데 굳이 몰라도 될 듯. 왜냐하면 이렇게 처리하면 변수가 숫자인지 str인지 구분해줘야함\n",
    "print(\"이름: %s 나이: %d\" % (name1, age1))\n",
    "print(\"이름: %s 나이: %d\" % (name2, age2))"
   ]
  },
  {
   "cell_type": "code",
   "execution_count": 37,
   "metadata": {
    "ExecuteTime": {
     "end_time": "2020-12-09T09:17:34.194621Z",
     "start_time": "2020-12-09T09:17:34.191277Z"
    }
   },
   "outputs": [
    {
     "name": "stdout",
     "output_type": "stream",
     "text": [
      "이름: 김민수 나이: 10\n",
      "이름: 이철희 나이: 13\n"
     ]
    }
   ],
   "source": [
    "#036 .format 사용\n",
    "print(\"이름: {} 나이: {}\".format(name1, age1))\n",
    "print(\"이름: {} 나이: {}\".format(name2, age2))"
   ]
  },
  {
   "cell_type": "code",
   "execution_count": 38,
   "metadata": {
    "ExecuteTime": {
     "end_time": "2020-12-09T09:17:34.444704Z",
     "start_time": "2020-12-09T09:17:34.441654Z"
    }
   },
   "outputs": [
    {
     "name": "stdout",
     "output_type": "stream",
     "text": [
      "이름: 김민수 나이: 10\n",
      "이름: 이철희 나이: 13\n"
     ]
    }
   ],
   "source": [
    "#037 f-string. 이것도 몰랐었음. 근데 .format보다 이게 더 좋아보인다. .format에서는 {} 개수가 많아지면 알아보기 힘든데, 이건 괜찮을 듯\n",
    "print(f\"이름: {name1} 나이: {age1}\")\n",
    "print(f\"이름: {name2} 나이: {age2}\")"
   ]
  },
  {
   "cell_type": "code",
   "execution_count": 42,
   "metadata": {
    "ExecuteTime": {
     "end_time": "2020-12-09T09:19:09.787699Z",
     "start_time": "2020-12-09T09:19:09.783825Z"
    }
   },
   "outputs": [
    {
     "data": {
      "text/plain": [
       "5969782550"
      ]
     },
     "execution_count": 42,
     "metadata": {},
     "output_type": "execute_result"
    }
   ],
   "source": [
    "#038 컴마 제거하기 삼성전자의 상장주식수가 다음과 같습니다. 컴마를 제거한 후 이를 정수 타입으로 변환해보세요.\n",
    "\n",
    "stocks = \"5,969,782,550\"\n",
    "stocks_int = stocks.replace(\",\", \"\")\n",
    "stocks_int = int(stocks_int)\n",
    "stocks_int"
   ]
  },
  {
   "cell_type": "code",
   "execution_count": 44,
   "metadata": {
    "ExecuteTime": {
     "end_time": "2020-12-09T09:20:12.442856Z",
     "start_time": "2020-12-09T09:20:12.439902Z"
    }
   },
   "outputs": [
    {
     "name": "stdout",
     "output_type": "stream",
     "text": [
      "2020/03\n"
     ]
    }
   ],
   "source": [
    "#039 문자열 슬라이싱 다음과 같은 문자열에서 '2020/03'만 출력하세요.\n",
    "\n",
    "quarter = \"2020/03(E) (IFRS연결)\"\n",
    "\n",
    "print(quarter[:7])"
   ]
  },
  {
   "cell_type": "code",
   "execution_count": 51,
   "metadata": {
    "ExecuteTime": {
     "end_time": "2020-12-09T09:21:56.414254Z",
     "start_time": "2020-12-09T09:21:56.410542Z"
    }
   },
   "outputs": [
    {
     "data": {
      "text/plain": [
       "'삼성전자'"
      ]
     },
     "execution_count": 51,
     "metadata": {},
     "output_type": "execute_result"
    }
   ],
   "source": [
    "#040 strip method 문자열의 좌우의 공백이 있을 때 이를 제거해보세요.\n",
    "\n",
    "data = \"   삼성전자    \"\n",
    "data.strip() # lstrip() = 왼쪽공백제거, rstrip() = 오른쪽공백제거"
   ]
  },
  {
   "cell_type": "code",
   "execution_count": 54,
   "metadata": {
    "ExecuteTime": {
     "end_time": "2020-12-09T09:25:34.452718Z",
     "start_time": "2020-12-09T09:25:34.449755Z"
    }
   },
   "outputs": [
    {
     "name": "stdout",
     "output_type": "stream",
     "text": [
      "BTC_KRW\n"
     ]
    }
   ],
   "source": [
    "#041 upper method 다음과 같은 문자열이 있을 때 이를 대문자 BTC_KRW로 변경하세요.\n",
    "\n",
    "ticker = \"btc_krw\"\n",
    "\n",
    "ticker = ticker.upper()\n",
    "\n",
    "print(ticker)"
   ]
  },
  {
   "cell_type": "code",
   "execution_count": 55,
   "metadata": {
    "ExecuteTime": {
     "end_time": "2020-12-09T09:25:42.796062Z",
     "start_time": "2020-12-09T09:25:42.792883Z"
    }
   },
   "outputs": [
    {
     "data": {
      "text/plain": [
       "'btc_krw'"
      ]
     },
     "execution_count": 55,
     "metadata": {},
     "output_type": "execute_result"
    }
   ],
   "source": [
    "#042 lower method 다음과 같은 문자열이 있을 때 이를 소문자 btc_krw로 변경하세요.\n",
    "\n",
    "ticker.lower()"
   ]
  },
  {
   "cell_type": "code",
   "execution_count": 56,
   "metadata": {
    "ExecuteTime": {
     "end_time": "2020-12-09T09:26:24.196618Z",
     "start_time": "2020-12-09T09:26:24.193077Z"
    }
   },
   "outputs": [
    {
     "data": {
      "text/plain": [
       "'Hello'"
      ]
     },
     "execution_count": 56,
     "metadata": {},
     "output_type": "execute_result"
    }
   ],
   "source": [
    "#043 capitalize method 문자열 'hello'가 있을 때 이를 'Hello'로 변경해보세요.\n",
    "\n",
    "t = \"hello\"\n",
    "t.capitalize()"
   ]
  },
  {
   "cell_type": "code",
   "execution_count": 73,
   "metadata": {
    "ExecuteTime": {
     "end_time": "2020-12-09T09:33:37.490418Z",
     "start_time": "2020-12-09T09:33:37.486255Z"
    }
   },
   "outputs": [
    {
     "name": "stdout",
     "output_type": "stream",
     "text": [
      "segment_report.words의 파일 형식을 확인하세요\n"
     ]
    }
   ],
   "source": [
    "#044 endswith method 파일 이름이 문자열로 저장되어 있을 때 endswith 메서드를 사용해서 파일 이름이 'xlsx'로 끝나는지 확인해보세요.\n",
    "\n",
    "file_list = [\"clf_report.xlsx\", \"segment_report.words\", \"reg_report.txt\", \"reg_report.csv\"]\n",
    "\n",
    "for t in file_list:\n",
    "  if t.endswith(\"xlsx\") == True or t.endswith(\"csv\") == True or t.endswith(\"txt\") == True:\n",
    "    pass\n",
    "  else:\n",
    "    print(f\"{t}의 파일 형식을 확인하세요\")"
   ]
  },
  {
   "cell_type": "code",
   "execution_count": 76,
   "metadata": {
    "ExecuteTime": {
     "end_time": "2020-12-09T09:34:30.812742Z",
     "start_time": "2020-12-09T09:34:30.809183Z"
    }
   },
   "outputs": [
    {
     "data": {
      "text/plain": [
       "True"
      ]
     },
     "execution_count": 76,
     "metadata": {},
     "output_type": "execute_result"
    }
   ],
   "source": [
    "#045 endswith method 파일 이름이 문자열로 저장되어 있을 때 endswith 메서드를 사용해서 파일 이름이 'xlsx' 또는 'xls'로 끝나는지 확인해보세요.\n",
    "file_name = \"report.xlsx\"\n",
    "file_name.endswith((\"xls\", \"xlsx\"))"
   ]
  },
  {
   "cell_type": "code",
   "execution_count": 77,
   "metadata": {
    "ExecuteTime": {
     "end_time": "2020-12-09T09:35:09.454876Z",
     "start_time": "2020-12-09T09:35:09.451177Z"
    }
   },
   "outputs": [
    {
     "data": {
      "text/plain": [
       "True"
      ]
     },
     "execution_count": 77,
     "metadata": {},
     "output_type": "execute_result"
    }
   ],
   "source": [
    "#046 startswith method 파일 이름이 문자열로 저장되어 있을 때 startswith 메서드를 사용해서 파일 이름이 '2020'로 시작하는지 확인해보세요.\n",
    "\n",
    "file_name = \"2020_보고서.xlsx\"\n",
    "\n",
    "file_name.startswith(\"2020\")\n"
   ]
  },
  {
   "cell_type": "code",
   "execution_count": 112,
   "metadata": {
    "ExecuteTime": {
     "end_time": "2020-12-09T09:40:47.582472Z",
     "start_time": "2020-12-09T09:40:47.577873Z"
    }
   },
   "outputs": [
    {
     "name": "stdout",
     "output_type": "stream",
     "text": [
      "['hello', 'world']\n",
      "['he', '', 'o wor', 'd']\n",
      "['he', 'lo world']\n",
      "['he', '', 'o world']\n",
      "['he', '', 'o wor', 'd']\n"
     ]
    }
   ],
   "source": [
    "#047 split method 다음과 같은 문자열이 있을 때 공백을 기준으로 문자열을 나눠보세요. \n",
    "a = \"hello world\"\n",
    "\n",
    "print(a.split(sep = \" \"))\n",
    "print(a.split(sep = \"l\", maxsplit = -1)) #maxsplit = 몇 개의 칸막이 나눌거냐?\n",
    "print(a.split(sep = \"l\", maxsplit = 1)) #maxsplit = 몇 개의 칸막이 나눌거냐? = 1개니까 나눠진 덩어리는 2개\n",
    "print(a.split(sep = \"l\", maxsplit = 2)) #maxsplit = 몇 개의 칸막이 나눌거냐? = 2개니까 나눠진 덩어리는 3개\n",
    "print(a.split(sep = \"l\", maxsplit = 3)) #maxsplit = 몇 개의 칸막이 나눌거냐? = 3개니까 나눠진 덩어리는 4개"
   ]
  },
  {
   "cell_type": "code",
   "execution_count": 113,
   "metadata": {
    "ExecuteTime": {
     "end_time": "2020-12-09T09:41:19.977059Z",
     "start_time": "2020-12-09T09:41:19.973515Z"
    }
   },
   "outputs": [
    {
     "data": {
      "text/plain": [
       "['btc', 'krw']"
      ]
     },
     "execution_count": 113,
     "metadata": {},
     "output_type": "execute_result"
    }
   ],
   "source": [
    "#048 split method 다음과 같이 문자열이 있을 때 btc와 krw로 나눠보세요.\n",
    "\n",
    "ticker = \"btc_krw\"\n",
    "\n",
    "ticker.split(sep = \"_\")"
   ]
  },
  {
   "cell_type": "code",
   "execution_count": 115,
   "metadata": {
    "ExecuteTime": {
     "end_time": "2020-12-09T09:41:49.774831Z",
     "start_time": "2020-12-09T09:41:49.771132Z"
    }
   },
   "outputs": [
    {
     "data": {
      "text/plain": [
       "['2020', '05', '01']"
      ]
     },
     "execution_count": 115,
     "metadata": {},
     "output_type": "execute_result"
    }
   ],
   "source": [
    "#049 split method 다음과 같이 날짜를 표현하는 문자열이 있을 때 연도, 월, 일로 나눠보세요.\n",
    "\n",
    "date = \"2020-05-01\"\n",
    "\n",
    "date.split(\"-\")"
   ]
  },
  {
   "cell_type": "code",
   "execution_count": 127,
   "metadata": {
    "ExecuteTime": {
     "end_time": "2020-12-09T09:44:26.404664Z",
     "start_time": "2020-12-09T09:44:26.401191Z"
    }
   },
   "outputs": [
    {
     "data": {
      "text/plain": [
       "'039490'"
      ]
     },
     "execution_count": 127,
     "metadata": {},
     "output_type": "execute_result"
    }
   ],
   "source": [
    "#050 rstrip method 문자열 오른쪽에 공백이 있을 때 이를 제거해보세요\n",
    "data = \"039490        \"\n",
    "\n",
    "data.rstrip(\" \")"
   ]
  },
  {
   "cell_type": "markdown",
   "metadata": {},
   "source": [
    "## 파이썬 리스트"
   ]
  },
  {
   "cell_type": "code",
   "execution_count": 157,
   "metadata": {
    "ExecuteTime": {
     "end_time": "2020-12-09T09:51:05.039903Z",
     "start_time": "2020-12-09T09:51:05.036039Z"
    }
   },
   "outputs": [
    {
     "data": {
      "text/plain": [
       "['닥터스트레인지', '스플릿', '럭키']"
      ]
     },
     "execution_count": 157,
     "metadata": {},
     "output_type": "execute_result"
    }
   ],
   "source": [
    "#051 리스트 생성 2016년 11월 영화 예매 순위 기준 top3는 다음과 같습니다. 영화 제목을 movie_rank 이름의 리스트에 저장해보세요. (순위 정보는 저장하지 않습니다.)\n",
    "\n",
    "movie_rank = [\"닥터스트레인지\", \"스플릿\", \"럭키\"]\n",
    "movie_rank"
   ]
  },
  {
   "cell_type": "code",
   "execution_count": 158,
   "metadata": {
    "ExecuteTime": {
     "end_time": "2020-12-09T09:51:05.766971Z",
     "start_time": "2020-12-09T09:51:05.763453Z"
    }
   },
   "outputs": [
    {
     "data": {
      "text/plain": [
       "['닥터스트레인지', '스플릿', '럭키', '배트맨']"
      ]
     },
     "execution_count": 158,
     "metadata": {},
     "output_type": "execute_result"
    }
   ],
   "source": [
    "#052 리스트에 원소추가 051의 movie_rank 리스트에 \"배트맨\"을 추가하라.\n",
    "\n",
    "movie_rank.append(\"배트맨\")\n",
    "movie_rank"
   ]
  },
  {
   "cell_type": "code",
   "execution_count": 159,
   "metadata": {
    "ExecuteTime": {
     "end_time": "2020-12-09T09:51:06.124917Z",
     "start_time": "2020-12-09T09:51:06.121348Z"
    }
   },
   "outputs": [
    {
     "data": {
      "text/plain": [
       "['닥터스트레인지', '슈퍼맨', '스플릿', '럭키', '배트맨']"
      ]
     },
     "execution_count": 159,
     "metadata": {},
     "output_type": "execute_result"
    }
   ],
   "source": [
    "#053 닥터스트레인지와 스플릿 사이에 슈퍼맨을 추가하라 insert 사용\n",
    "movie_rank.insert(1, \"슈퍼맨\")\n",
    "movie_rank"
   ]
  },
  {
   "cell_type": "code",
   "execution_count": 160,
   "metadata": {
    "ExecuteTime": {
     "end_time": "2020-12-09T09:51:06.863146Z",
     "start_time": "2020-12-09T09:51:06.859534Z"
    }
   },
   "outputs": [
    {
     "data": {
      "text/plain": [
       "['닥터스트레인지', '슈퍼맨', '스플릿', '배트맨']"
      ]
     },
     "execution_count": 160,
     "metadata": {},
     "output_type": "execute_result"
    }
   ],
   "source": [
    "#054 movie_rank에서 럭키를 삭제하라 del 사용\n",
    "del movie_rank[3]\n",
    "movie_rank"
   ]
  },
  {
   "cell_type": "code",
   "execution_count": 161,
   "metadata": {
    "ExecuteTime": {
     "end_time": "2020-12-09T09:51:08.263322Z",
     "start_time": "2020-12-09T09:51:08.259605Z"
    }
   },
   "outputs": [
    {
     "data": {
      "text/plain": [
       "['닥터스트레인지', '슈퍼맨']"
      ]
     },
     "execution_count": 161,
     "metadata": {},
     "output_type": "execute_result"
    }
   ],
   "source": [
    "#055 movie_rank 리스트에서 스플릿과 배트맨을 삭제하라\n",
    "\n",
    "del movie_rank[-2:]\n",
    "movie_rank"
   ]
  },
  {
   "cell_type": "code",
   "execution_count": 163,
   "metadata": {
    "ExecuteTime": {
     "end_time": "2020-12-09T09:52:34.019939Z",
     "start_time": "2020-12-09T09:52:34.015686Z"
    }
   },
   "outputs": [
    {
     "data": {
      "text/plain": [
       "['C', 'C++', 'JAVA', 'Python', 'Go', 'C#']"
      ]
     },
     "execution_count": 163,
     "metadata": {},
     "output_type": "execute_result"
    }
   ],
   "source": [
    "#056 lang1과 lang2 리스트가 있을 때 lang1과 lang2의 원소를 모두 갖고있는 langs list를 만들어라\n",
    "\n",
    "lang1 = [\"C\", \"C++\", \"JAVA\"]\n",
    "lang2 = [\"Python\", \"Go\", \"C#\"]\n",
    "\n",
    "langs = lang1 + lang2\n",
    "langs"
   ]
  },
  {
   "cell_type": "code",
   "execution_count": 168,
   "metadata": {
    "ExecuteTime": {
     "end_time": "2020-12-09T09:54:13.429816Z",
     "start_time": "2020-12-09T09:54:13.426618Z"
    }
   },
   "outputs": [
    {
     "name": "stdout",
     "output_type": "stream",
     "text": [
      "max: 7\n",
      "max: 1\n"
     ]
    }
   ],
   "source": [
    "#057 다음 리스트에서 최댓값과 최솟값을 출력하라.\n",
    "\n",
    "nums = [1, 2, 3, 4, 5, 6, 7]\n",
    "\n",
    "\n",
    "print(f\"max: {max(nums)}\\n\"\n",
    "     f\"max: {min(nums)}\")\n",
    "      "
   ]
  },
  {
   "cell_type": "code",
   "execution_count": 173,
   "metadata": {
    "ExecuteTime": {
     "end_time": "2020-12-09T09:56:01.063077Z",
     "start_time": "2020-12-09T09:56:01.059284Z"
    }
   },
   "outputs": [
    {
     "data": {
      "text/plain": [
       "15"
      ]
     },
     "execution_count": 173,
     "metadata": {},
     "output_type": "execute_result"
    }
   ],
   "source": [
    "#058 다음 리스트의 합을 출력하라\n",
    "nums = [1, 2, 3, 4, 5]\n",
    "sum(nums)"
   ]
  },
  {
   "cell_type": "code",
   "execution_count": 194,
   "metadata": {
    "ExecuteTime": {
     "end_time": "2020-12-09T10:00:01.522710Z",
     "start_time": "2020-12-09T10:00:01.519061Z"
    }
   },
   "outputs": [
    {
     "name": "stdout",
     "output_type": "stream",
     "text": [
      "nondistinct 12\n",
      "distinct 11\n"
     ]
    }
   ],
   "source": [
    "#059 다음 리스트에 저장된 데이터의 개수를 화면에 구하여라\n",
    "cook = [\"피자\", \"김밥\", \"만두\", \"양념치킨\", \"족발\", \"피자\", \"김치만두\", \"쫄면\", \"쏘세지\", \"라면\", \"팥빙수\", \"김치전\"]\n",
    "\n",
    "\n",
    "#len을 distinct 하고 싶으면 set()으로 만들어주면 됨\n",
    "print(f\"nondistinct {len(cook)}\")\n",
    "print(f\"distinct {len(set(cook))}\")\n"
   ]
  },
  {
   "cell_type": "code",
   "execution_count": 201,
   "metadata": {
    "ExecuteTime": {
     "end_time": "2020-12-09T10:03:30.363264Z",
     "start_time": "2020-12-09T10:03:30.359172Z"
    }
   },
   "outputs": [
    {
     "data": {
      "text/plain": [
       "3.0"
      ]
     },
     "execution_count": 201,
     "metadata": {},
     "output_type": "execute_result"
    }
   ],
   "source": [
    "#060 다음 리스트의 평균을 출력하라.\n",
    "\n",
    "nums = [1, 2, 3, 4, 5]\n",
    "average = sum(nums) / len(nums)\n",
    "average"
   ]
  },
  {
   "cell_type": "code",
   "execution_count": 202,
   "metadata": {
    "ExecuteTime": {
     "end_time": "2020-12-09T10:05:53.182649Z",
     "start_time": "2020-12-09T10:05:53.178458Z"
    }
   },
   "outputs": [
    {
     "data": {
      "text/plain": [
       "[100, 130, 140, 150, 160, 170]"
      ]
     },
     "execution_count": 202,
     "metadata": {},
     "output_type": "execute_result"
    }
   ],
   "source": [
    "#061 price 변수에는 날짜와 종가 정보가 저장돼 있다. 날짜 정보를 제외하고 가격 정보만을 출력하라. (힌트 : 슬라이싱)\n",
    "\n",
    "price = ['20180728', 100, 130, 140, 150, 160, 170]\n",
    "\n",
    "\n",
    "price[1:]"
   ]
  },
  {
   "cell_type": "code",
   "execution_count": 203,
   "metadata": {
    "ExecuteTime": {
     "end_time": "2020-12-09T10:06:19.759025Z",
     "start_time": "2020-12-09T10:06:19.755228Z"
    }
   },
   "outputs": [
    {
     "data": {
      "text/plain": [
       "[1, 3, 5, 7, 9]"
      ]
     },
     "execution_count": 203,
     "metadata": {},
     "output_type": "execute_result"
    }
   ],
   "source": [
    "#062 슬라이싱을 사용해서 홀수만 출력하라.\n",
    "\n",
    "nums = [1, 2, 3, 4, 5, 6, 7, 8, 9, 10]\n",
    "\n",
    "nums[::2]"
   ]
  },
  {
   "cell_type": "code",
   "execution_count": 218,
   "metadata": {
    "ExecuteTime": {
     "end_time": "2020-12-09T10:07:43.242800Z",
     "start_time": "2020-12-09T10:07:43.239193Z"
    }
   },
   "outputs": [
    {
     "data": {
      "text/plain": [
       "[2, 4, 6, 8, 10]"
      ]
     },
     "execution_count": 218,
     "metadata": {},
     "output_type": "execute_result"
    }
   ],
   "source": [
    "#063 슬라이싱을 사용해서 짝수만 출력하라.\n",
    "\n",
    "nums[1::2]"
   ]
  },
  {
   "cell_type": "code",
   "execution_count": 219,
   "metadata": {
    "ExecuteTime": {
     "end_time": "2020-12-09T10:08:02.482495Z",
     "start_time": "2020-12-09T10:08:02.478825Z"
    }
   },
   "outputs": [
    {
     "data": {
      "text/plain": [
       "[5, 4, 3, 2, 1]"
      ]
     },
     "execution_count": 219,
     "metadata": {},
     "output_type": "execute_result"
    }
   ],
   "source": [
    "#064 슬라이싱을 사용해서 리스트의 숫자를 역 방향으로 출력하라.\n",
    "\n",
    "\n",
    "nums = [1, 2, 3, 4, 5]\n",
    "\n",
    "nums[::-1]"
   ]
  },
  {
   "cell_type": "code",
   "execution_count": 222,
   "metadata": {
    "ExecuteTime": {
     "end_time": "2020-12-09T10:08:44.140643Z",
     "start_time": "2020-12-09T10:08:44.137415Z"
    }
   },
   "outputs": [
    {
     "name": "stdout",
     "output_type": "stream",
     "text": [
      "삼성전자 Naver\n"
     ]
    }
   ],
   "source": [
    "#065 interest 리스트에는 아래의 데이터가 바인딩되어 있다.\n",
    "\n",
    "\n",
    "interest = ['삼성전자', 'LG전자', 'Naver']\n",
    "\n",
    "print(interest[0], interest[2])"
   ]
  },
  {
   "cell_type": "code",
   "execution_count": 234,
   "metadata": {
    "ExecuteTime": {
     "end_time": "2020-12-09T10:12:07.466204Z",
     "start_time": "2020-12-09T10:12:07.462890Z"
    }
   },
   "outputs": [
    {
     "name": "stdout",
     "output_type": "stream",
     "text": [
      "삼성전자 LG전자 Naver SK하이닉스 미래에셋대우\n"
     ]
    }
   ],
   "source": [
    "#066 interest 리스트를 사용하여 아래와 같이 화면에 출력하라.\n",
    "#삼성전자 LG전자 Naver SK하이닉스 미래에셋대우\n",
    "\n",
    "\n",
    "interest = ['삼성전자', 'LG전자', 'Naver', 'SK하이닉스', '미래에셋대우']\n",
    "\n",
    "print(\" \".join(interest))# join 몰랐음"
   ]
  },
  {
   "cell_type": "code",
   "execution_count": 235,
   "metadata": {
    "ExecuteTime": {
     "end_time": "2020-12-09T10:12:07.848538Z",
     "start_time": "2020-12-09T10:12:07.845484Z"
    }
   },
   "outputs": [
    {
     "name": "stdout",
     "output_type": "stream",
     "text": [
      "삼성전자/LG전자/Naver/SK하이닉스/미래에셋대우\n"
     ]
    }
   ],
   "source": [
    "#067 interest 리스트에는 아래의 데이터가 바인딩되어 있다.\n",
    "\n",
    "interest = ['삼성전자', 'LG전자', 'Naver', 'SK하이닉스', '미래에셋대우']\n",
    "\n",
    "print(\"/\".join(interest)) # join 몰랐음"
   ]
  },
  {
   "cell_type": "code",
   "execution_count": 236,
   "metadata": {
    "ExecuteTime": {
     "end_time": "2020-12-09T10:13:23.690267Z",
     "start_time": "2020-12-09T10:13:23.687510Z"
    }
   },
   "outputs": [
    {
     "name": "stdout",
     "output_type": "stream",
     "text": [
      "삼성전자\n",
      "LG전자\n",
      "Naver\n",
      "SK하이닉스\n",
      "미래에셋대우\n"
     ]
    }
   ],
   "source": [
    "#068 join() 메서드를 사용해서 interest 리스트를 아래와 같이 화면에 출력하라.\n",
    "\n",
    "# 출력 예시:\n",
    "# 삼성전자\n",
    "# LG전자\n",
    "# Naver\n",
    "# SK하이닉스\n",
    "# 미래에셋대우\n",
    "\n",
    "\n",
    "print(\"\\n\".join(interest))"
   ]
  },
  {
   "cell_type": "code",
   "execution_count": 239,
   "metadata": {
    "ExecuteTime": {
     "end_time": "2020-12-09T10:14:07.988671Z",
     "start_time": "2020-12-09T10:14:07.984939Z"
    }
   },
   "outputs": [
    {
     "data": {
      "text/plain": [
       "['삼성전자', 'LG전자', 'Naver']"
      ]
     },
     "execution_count": 239,
     "metadata": {},
     "output_type": "execute_result"
    }
   ],
   "source": [
    "#069 회사 이름이 슬래시 ('/')로 구분되어 하나의 문자열로 저장되어 있다.\n",
    "\n",
    "string = \"삼성전자/LG전자/Naver\"\n",
    "# >> print(interest)\n",
    "# ['삼성전자', 'LG전자', 'Naver']\n",
    "\n",
    "interest = string.split(\"/\")\n",
    "interest"
   ]
  },
  {
   "cell_type": "code",
   "execution_count": 248,
   "metadata": {
    "ExecuteTime": {
     "end_time": "2020-12-09T10:16:44.015664Z",
     "start_time": "2020-12-09T10:16:44.011822Z"
    }
   },
   "outputs": [
    {
     "name": "stdout",
     "output_type": "stream",
     "text": [
      "[1, 2, 3, 4, 5, 9, 10]\n",
      "[1, 2, 3, 4, 5, 9, 10]\n"
     ]
    }
   ],
   "source": [
    "#070 오름차 정렬\n",
    "data = [2, 4, 3, 1, 5, 10, 9]\n",
    "\n",
    "data1 = sorted(data)\n",
    "data.sort()#바로 값이 바뀌는 method. 객체로 못받음\n",
    "print(data1)\n",
    "print(data)\n",
    "\n"
   ]
  },
  {
   "cell_type": "markdown",
   "metadata": {},
   "source": [
    "## 파이썬 튜플"
   ]
  },
  {
   "cell_type": "code",
   "execution_count": 41,
   "metadata": {
    "ExecuteTime": {
     "end_time": "2020-12-10T09:45:11.120591Z",
     "start_time": "2020-12-10T09:45:11.117620Z"
    }
   },
   "outputs": [
    {
     "name": "stdout",
     "output_type": "stream",
     "text": [
      "() <class 'tuple'>\n"
     ]
    }
   ],
   "source": [
    "#071 my_variable 이름의 비어있는 튜플을 만들라.\n",
    "\n",
    "my_variable = ()\n",
    "print(my_variable, type(my_variable))"
   ]
  },
  {
   "cell_type": "code",
   "execution_count": 46,
   "metadata": {
    "ExecuteTime": {
     "end_time": "2020-12-10T09:46:27.079602Z",
     "start_time": "2020-12-10T09:46:27.075981Z"
    }
   },
   "outputs": [
    {
     "data": {
      "text/plain": [
       "('닥터스트레인지', '스플릿', '럭키')"
      ]
     },
     "execution_count": 46,
     "metadata": {},
     "output_type": "execute_result"
    }
   ],
   "source": [
    "#072 2016년 11월 영화 예매 순위 기준 top3는 다음과 같다. 영화 제목을 movie_rank 이름의 튜플에 저장하라. (순위 정보는 저장하지 않는다.)\n",
    "\n",
    "# 순위 | 영화\n",
    "# 1 | 닥터 스트레인지\n",
    "# 2 | 스플릿\n",
    "# 3 | 럭키\n",
    "\n",
    "movie_rank = (\"닥터스트레인지\", \"스플릿\", \"럭키\")\n",
    "movie_rank"
   ]
  },
  {
   "cell_type": "code",
   "execution_count": 54,
   "metadata": {
    "ExecuteTime": {
     "end_time": "2020-12-10T09:48:31.827282Z",
     "start_time": "2020-12-10T09:48:31.824122Z"
    }
   },
   "outputs": [
    {
     "name": "stdout",
     "output_type": "stream",
     "text": [
      "아래와 같이 괄호와 함께 하나의 정숫값을 저장하면 튜플이 정의 될 것같지만 그렇지 않습니다. type()을 출력해보면 파이썬은 튜플이 아닌 정수로 인식합니다.\n",
      "<class 'int'>\n"
     ]
    }
   ],
   "source": [
    "#073 숫자 1 이 저장된 튜플을 생성하라.\n",
    "\n",
    "my_tuple = (1)\n",
    "type(my_tuple)\n",
    "\n",
    "print(\"아래와 같이 괄호와 함께 하나의 정숫값을 저장하면 튜플이 정의 될 것같지만 그렇지 않습니다. type()을 출력해보면 파이썬은 튜플이 아닌 정수로 인식합니다.\\n\"\n",
    "     f\"{type(my_tuple)}\")"
   ]
  },
  {
   "cell_type": "code",
   "execution_count": 55,
   "metadata": {
    "ExecuteTime": {
     "end_time": "2020-12-10T09:48:58.203767Z",
     "start_time": "2020-12-10T09:48:58.200988Z"
    }
   },
   "outputs": [
    {
     "name": "stdout",
     "output_type": "stream",
     "text": [
      "(1,) <class 'tuple'>\n"
     ]
    }
   ],
   "source": [
    "#073 하나의 데이터가 저장되는 경우, 아래와 같이 쉼표를 입력해만 합니다.\n",
    "\n",
    "my_tuple = (1,)\n",
    "print(my_tuple, type(my_tuple))"
   ]
  },
  {
   "cell_type": "code",
   "execution_count": 58,
   "metadata": {
    "ExecuteTime": {
     "end_time": "2020-12-10T09:49:58.531311Z",
     "start_time": "2020-12-10T09:49:58.524474Z"
    }
   },
   "outputs": [
    {
     "ename": "TypeError",
     "evalue": "'tuple' object does not support item assignment",
     "output_type": "error",
     "traceback": [
      "\u001b[0;31m---------------------------------------------------------------------------\u001b[0m",
      "\u001b[0;31mTypeError\u001b[0m                                 Traceback (most recent call last)",
      "\u001b[0;32m<ipython-input-58-f50fb1d76f11>\u001b[0m in \u001b[0;36m<module>\u001b[0;34m\u001b[0m\n\u001b[1;32m      2\u001b[0m \u001b[0;34m\u001b[0m\u001b[0m\n\u001b[1;32m      3\u001b[0m \u001b[0mt\u001b[0m \u001b[0;34m=\u001b[0m \u001b[0;34m(\u001b[0m\u001b[0;36m1\u001b[0m\u001b[0;34m,\u001b[0m \u001b[0;36m2\u001b[0m\u001b[0;34m,\u001b[0m \u001b[0;36m3\u001b[0m\u001b[0;34m)\u001b[0m\u001b[0;34m\u001b[0m\u001b[0;34m\u001b[0m\u001b[0m\n\u001b[0;32m----> 4\u001b[0;31m \u001b[0mt\u001b[0m\u001b[0;34m[\u001b[0m\u001b[0;36m0\u001b[0m\u001b[0;34m]\u001b[0m \u001b[0;34m=\u001b[0m \u001b[0;34m'a'\u001b[0m\u001b[0;34m\u001b[0m\u001b[0;34m\u001b[0m\u001b[0m\n\u001b[0m\u001b[1;32m      5\u001b[0m \u001b[0;34m\u001b[0m\u001b[0m\n\u001b[1;32m      6\u001b[0m \u001b[0;31m#tuple은 element에 대한 assign이 안된다.(수정불가)\u001b[0m\u001b[0;34m\u001b[0m\u001b[0;34m\u001b[0m\u001b[0;34m\u001b[0m\u001b[0m\n",
      "\u001b[0;31mTypeError\u001b[0m: 'tuple' object does not support item assignment"
     ]
    }
   ],
   "source": [
    "#074 다음 코드를 실행해보고 오류가 발생하는 원인을 설명하라.\n",
    "\n",
    "t = (1, 2, 3)\n",
    "t[0] = 'a'\n",
    "\n",
    "#tuple은 element에 대한 assign이 안된다.(수정불가)"
   ]
  },
  {
   "cell_type": "code",
   "execution_count": 63,
   "metadata": {
    "ExecuteTime": {
     "end_time": "2020-12-10T09:50:42.280446Z",
     "start_time": "2020-12-10T09:50:42.276989Z"
    }
   },
   "outputs": [
    {
     "name": "stdout",
     "output_type": "stream",
     "text": [
      "(1, 2, 3, 4) <class 'tuple'>\n"
     ]
    }
   ],
   "source": [
    "#075 아래와 같이 t에는 1, 2, 3, 4 데이터가 바인딩되어 있다. t가 바인딩하는 데이터 타입은 무엇인가?\n",
    "\n",
    "t = 1, 2, 3, 4\n",
    "\n",
    "print(t, type(t))\n",
    "\n",
    "#원칙적으로 튜플은 괄호와 함께 데이터를 정의해야 하지만, 사용자 편의를 위해 괄호 없이도 동작합니다.\n"
   ]
  },
  {
   "cell_type": "code",
   "execution_count": 64,
   "metadata": {
    "ExecuteTime": {
     "end_time": "2020-12-10T09:51:48.962139Z",
     "start_time": "2020-12-10T09:51:48.958351Z"
    }
   },
   "outputs": [
    {
     "data": {
      "text/plain": [
       "('A', 'b', 'c')"
      ]
     },
     "execution_count": 64,
     "metadata": {},
     "output_type": "execute_result"
    }
   ],
   "source": [
    "#076 변수 t에는 아래와 같은 값이 저장되어 있다. 변수 t가 ('A', 'b', 'c') 튜플을 가리키도록 수정 하라.\n",
    "\n",
    "t = ('a', 'b', 'c')\n",
    "\n",
    "# 튜플은 원소 하나만 변경하는 것이 불가능하기 때문에, 아예 새로운 값으로 할당해줘야함\n",
    "\n",
    "t = (\"A\", \"b\", \"c\")\n",
    "t"
   ]
  },
  {
   "cell_type": "code",
   "execution_count": 66,
   "metadata": {
    "ExecuteTime": {
     "end_time": "2020-12-10T09:52:32.972676Z",
     "start_time": "2020-12-10T09:52:32.968799Z"
    }
   },
   "outputs": [
    {
     "data": {
      "text/plain": [
       "['삼성전자', 'LG전자', 'SK Hynix']"
      ]
     },
     "execution_count": 66,
     "metadata": {},
     "output_type": "execute_result"
    }
   ],
   "source": [
    "#077 다음 튜플을 리스트로 변환하라.\n",
    "\n",
    "\n",
    "interest = ('삼성전자', 'LG전자', 'SK Hynix')\n",
    "list(interest)\n",
    "#튜플 원소는 변경 불가하나, type은 바꿀 수 있음"
   ]
  },
  {
   "cell_type": "code",
   "execution_count": 67,
   "metadata": {
    "ExecuteTime": {
     "end_time": "2020-12-10T09:52:52.979896Z",
     "start_time": "2020-12-10T09:52:52.976165Z"
    }
   },
   "outputs": [
    {
     "data": {
      "text/plain": [
       "('삼성전자', 'LG전자', 'SK Hynix')"
      ]
     },
     "execution_count": 67,
     "metadata": {},
     "output_type": "execute_result"
    }
   ],
   "source": [
    "#078 다음 리스트를 튜플로 변경하라\n",
    "interest = ['삼성전자', 'LG전자', 'SK Hynix']\n",
    "\n",
    "tuple(interest)\n"
   ]
  },
  {
   "cell_type": "code",
   "execution_count": 68,
   "metadata": {
    "ExecuteTime": {
     "end_time": "2020-12-10T09:53:26.235451Z",
     "start_time": "2020-12-10T09:53:26.232509Z"
    }
   },
   "outputs": [
    {
     "name": "stdout",
     "output_type": "stream",
     "text": [
      "apple banana cake\n"
     ]
    }
   ],
   "source": [
    "#079 튜플 언팩킹 다음 코드의 실행 결과를 예상하라.\n",
    "\n",
    "temp = ('apple', 'banana', 'cake')\n",
    "a, b, c = temp\n",
    "print(a, b, c)\n",
    "# 튜플은 언팩킹이 가능하다"
   ]
  },
  {
   "cell_type": "code",
   "execution_count": 73,
   "metadata": {
    "ExecuteTime": {
     "end_time": "2020-12-10T09:55:44.712043Z",
     "start_time": "2020-12-10T09:55:44.709121Z"
    }
   },
   "outputs": [
    {
     "name": "stdout",
     "output_type": "stream",
     "text": [
      "(2, 4, 6, 8, 10, 12, 14, 16, 18, 20, 22, 24, 26, 28, 30, 32, 34, 36, 38, 40, 42, 44, 46, 48, 50, 52, 54, 56, 58, 60, 62, 64, 66, 68, 70, 72, 74, 76, 78, 80, 82, 84, 86, 88, 90, 92, 94, 96, 98)\n"
     ]
    }
   ],
   "source": [
    "#080 range 함수 1 부터 99까지의 정수 중 짝수만 저장된 튜플을 생성하라.\n",
    "\n",
    "\n",
    "even_num = tuple(range(2, 100, 2)) # odd_num\n",
    "print(even_num)\n"
   ]
  },
  {
   "cell_type": "markdown",
   "metadata": {},
   "source": [
    "## 파이썬 딕셔너리"
   ]
  },
  {
   "cell_type": "code",
   "execution_count": null,
   "metadata": {},
   "outputs": [],
   "source": [
    "# 기본적으로 데이터 언패킹은 좌변의 변수와 우변 데이터 개수가 같아야 합니다. 하지만 star expression을 사용하면 변수의 개수가 달라도 데이터 언패킹을 할 수 있습니다. \n",
    "# 튜플에 저장된 데이터 중에서 앞에 있는 두 개의 데이터만 필요할 경우 나머지 데이터의 언패킹 코드를 작성할 필요가 없습니다.\n",
    "\n",
    ">> a, b, *c = (0, 1, 2, 3, 4, 5)\n",
    ">> a\n",
    "0\n",
    ">> b\n",
    "1\n",
    ">> c\n",
    "[2, 3, 4, 5]"
   ]
  },
  {
   "cell_type": "code",
   "execution_count": 10,
   "metadata": {
    "ExecuteTime": {
     "end_time": "2020-12-29T05:24:34.988399Z",
     "start_time": "2020-12-29T05:24:34.984154Z"
    }
   },
   "outputs": [
    {
     "data": {
      "text/plain": [
       "[8.8, 8.9, 8.7, 9.2, 9.3, 9.7, 9.9, 9.5]"
      ]
     },
     "execution_count": 10,
     "metadata": {},
     "output_type": "execute_result"
    }
   ],
   "source": [
    "#081 \n",
    "# 다음과 같이 10개의 값이 저장된 scores 리스트가 있을 때, start expression을 사용하여 좌측 8개의 값을 valid_score 변수에 바인딩하여라.\n",
    "\n",
    "scores = [8.8, 8.9, 8.7, 9.2, 9.3, 9.7, 9.9, 9.5, 7.8, 9.4]\n",
    "\n",
    "*valid_score, _, _  = scores\n",
    "valid_score"
   ]
  },
  {
   "cell_type": "code",
   "execution_count": 13,
   "metadata": {
    "ExecuteTime": {
     "end_time": "2020-12-29T05:26:19.604070Z",
     "start_time": "2020-12-29T05:26:19.600408Z"
    }
   },
   "outputs": [
    {
     "data": {
      "text/plain": [
       "[8.7, 9.2, 9.3, 9.7, 9.9, 9.5, 7.8, 9.4]"
      ]
     },
     "execution_count": 13,
     "metadata": {},
     "output_type": "execute_result"
    }
   ],
   "source": [
    "#082\n",
    "# 다음과 같이 10개의 값이 저장된 scores 리스트가 있을 때, start expression을 사용하여 우측 8개의 값을 valid_score 변수에 바인딩하여라.\n",
    "\n",
    "scores = [8.8, 8.9, 8.7, 9.2, 9.3, 9.7, 9.9, 9.5, 7.8, 9.4]\n",
    "\n",
    "_, _, *valid_score = scores\n",
    "valid_score"
   ]
  },
  {
   "cell_type": "code",
   "execution_count": 14,
   "metadata": {
    "ExecuteTime": {
     "end_time": "2020-12-29T05:26:20.842669Z",
     "start_time": "2020-12-29T05:26:20.838081Z"
    }
   },
   "outputs": [
    {
     "data": {
      "text/plain": [
       "[8.9, 8.7, 9.2, 9.3, 9.7, 9.9, 9.5, 7.8]"
      ]
     },
     "execution_count": 14,
     "metadata": {},
     "output_type": "execute_result"
    }
   ],
   "source": [
    "#083 \n",
    "# 다음과 같이 10개의 값이 저장된 scores 리스트가 있을 때, start expression을 사용하여 가운데 있는 8개의 값을 valid_score 변수에 바인딩하여라.\n",
    "\n",
    "scores = [8.8, 8.9, 8.7, 9.2, 9.3, 9.7, 9.9, 9.5, 7.8, 9.4]\n",
    "_, *valid_score, _ = scores\n",
    "valid_score"
   ]
  },
  {
   "cell_type": "code",
   "execution_count": 15,
   "metadata": {
    "ExecuteTime": {
     "end_time": "2020-12-29T05:26:37.947430Z",
     "start_time": "2020-12-29T05:26:37.945059Z"
    }
   },
   "outputs": [],
   "source": [
    "#084\n",
    "# temp 이름의 비어있는 딕셔너리를 만들라.\n",
    "\n",
    "temp = {}"
   ]
  },
  {
   "cell_type": "code",
   "execution_count": 42,
   "metadata": {
    "ExecuteTime": {
     "end_time": "2020-12-29T05:33:53.193088Z",
     "start_time": "2020-12-29T05:33:53.189020Z"
    }
   },
   "outputs": [
    {
     "data": {
      "text/plain": [
       "{'메로나': 1000, '폴라포': 1200, '빵빠레': 1800}"
      ]
     },
     "execution_count": 42,
     "metadata": {},
     "output_type": "execute_result"
    }
   ],
   "source": [
    "#085 \n",
    "\n",
    "# 다음 아이스크림 이름과 희망 가격을 딕셔너리로 구성하라.\n",
    "\n",
    "# 이름\t희망 가격\n",
    "# 메로나\t1000\n",
    "# 폴라포\t1200\n",
    "# 빵빠레\t1800\n",
    "\n",
    "prod_dict = {\"메로나\":1000, \"폴라포\":1200, \"빵빠레\":1800}\n",
    "prod_dict"
   ]
  },
  {
   "cell_type": "code",
   "execution_count": 43,
   "metadata": {
    "ExecuteTime": {
     "end_time": "2020-12-29T05:33:53.418626Z",
     "start_time": "2020-12-29T05:33:53.413752Z"
    }
   },
   "outputs": [
    {
     "data": {
      "text/plain": [
       "{'메로나': 1000, '폴라포': 1200, '빵빠레': 1800, '죠스바': 1200, '월드콘': 1500}"
      ]
     },
     "execution_count": 43,
     "metadata": {},
     "output_type": "execute_result"
    }
   ],
   "source": [
    "#086\n",
    "# 085 번의 딕셔너리에 아래 아이스크림 가격정보를 추가하라.\n",
    "\n",
    "prod_dict[\"죠스바\"] = 1200\n",
    "prod_dict[\"월드콘\"] = 1500\n",
    "prod_dict"
   ]
  },
  {
   "cell_type": "code",
   "execution_count": 40,
   "metadata": {
    "ExecuteTime": {
     "end_time": "2020-12-29T05:33:38.499552Z",
     "start_time": "2020-12-29T05:33:38.495264Z"
    }
   },
   "outputs": [
    {
     "data": {
      "text/plain": [
       "1000"
      ]
     },
     "execution_count": 40,
     "metadata": {},
     "output_type": "execute_result"
    }
   ],
   "source": [
    "#087\n",
    "# 085 딕셔너리를 사용하여 메로나 가격을 출력하라.\n",
    "prod_dict[\"메로나\"]"
   ]
  },
  {
   "cell_type": "code",
   "execution_count": 49,
   "metadata": {
    "ExecuteTime": {
     "end_time": "2020-12-29T05:35:18.754497Z",
     "start_time": "2020-12-29T05:35:18.750263Z"
    }
   },
   "outputs": [
    {
     "data": {
      "text/plain": [
       "{'메로나': 1300, '폴라포': 1200, '빵빠레': 1800, '죠스바': 1200, '월드콘': 1500}"
      ]
     },
     "execution_count": 49,
     "metadata": {},
     "output_type": "execute_result"
    }
   ],
   "source": [
    "# 088\n",
    "# 다음 딕셔너리에서 메로나의 가격을 1300으로 수정하라.\n",
    "\n",
    "prod_dict[\"메로나\"] = 1300\n",
    "prod_dict"
   ]
  },
  {
   "cell_type": "code",
   "execution_count": 56,
   "metadata": {
    "ExecuteTime": {
     "end_time": "2020-12-29T05:53:00.984280Z",
     "start_time": "2020-12-29T05:53:00.980018Z"
    }
   },
   "outputs": [
    {
     "data": {
      "text/plain": [
       "{'폴로포': 1200, '빵빠레': 1800, '죠스바': 1200, '월드콘': 1500}"
      ]
     },
     "execution_count": 56,
     "metadata": {},
     "output_type": "execute_result"
    }
   ],
   "source": [
    "# 089 \n",
    "# 다음 딕셔너리에서 메로나를 삭제하라.\n",
    "\n",
    "prod_dict = {'메로나': 1000,\n",
    "       '폴로포': 1200,\n",
    "       '빵빠레': 1800,\n",
    "       '죠스바': 1200,\n",
    "       '월드콘': 1500}\n",
    "\n",
    "del prod_dict[\"메로나\"]\n",
    "prod_dict"
   ]
  },
  {
   "cell_type": "code",
   "execution_count": 58,
   "metadata": {
    "ExecuteTime": {
     "end_time": "2020-12-29T05:54:14.281338Z",
     "start_time": "2020-12-29T05:54:14.273748Z"
    }
   },
   "outputs": [
    {
     "ename": "KeyError",
     "evalue": "'누가바'",
     "output_type": "error",
     "traceback": [
      "\u001b[0;31m---------------------------------------------------------------------------\u001b[0m",
      "\u001b[0;31mKeyError\u001b[0m                                  Traceback (most recent call last)",
      "\u001b[0;32m<ipython-input-58-05bb3cbf665c>\u001b[0m in \u001b[0;36m<module>\u001b[0;34m\u001b[0m\n\u001b[1;32m      3\u001b[0m \u001b[0;34m\u001b[0m\u001b[0m\n\u001b[1;32m      4\u001b[0m \u001b[0micecream\u001b[0m \u001b[0;34m=\u001b[0m \u001b[0;34m{\u001b[0m\u001b[0;34m'폴라포'\u001b[0m\u001b[0;34m:\u001b[0m \u001b[0;36m1200\u001b[0m\u001b[0;34m,\u001b[0m \u001b[0;34m'빵빠레'\u001b[0m\u001b[0;34m:\u001b[0m \u001b[0;36m1800\u001b[0m\u001b[0;34m,\u001b[0m \u001b[0;34m'월드콘'\u001b[0m\u001b[0;34m:\u001b[0m \u001b[0;36m1500\u001b[0m\u001b[0;34m,\u001b[0m \u001b[0;34m'메로나'\u001b[0m\u001b[0;34m:\u001b[0m \u001b[0;36m1000\u001b[0m\u001b[0;34m}\u001b[0m\u001b[0;34m\u001b[0m\u001b[0;34m\u001b[0m\u001b[0m\n\u001b[0;32m----> 5\u001b[0;31m \u001b[0micecream\u001b[0m\u001b[0;34m[\u001b[0m\u001b[0;34m'누가바'\u001b[0m\u001b[0;34m]\u001b[0m\u001b[0;34m\u001b[0m\u001b[0;34m\u001b[0m\u001b[0m\n\u001b[0m\u001b[1;32m      6\u001b[0m \u001b[0;34m\u001b[0m\u001b[0m\n\u001b[1;32m      7\u001b[0m \u001b[0;31m# 없는 key를 호출함\u001b[0m\u001b[0;34m\u001b[0m\u001b[0;34m\u001b[0m\u001b[0;34m\u001b[0m\u001b[0m\n",
      "\u001b[0;31mKeyError\u001b[0m: '누가바'"
     ]
    }
   ],
   "source": [
    "# 090\n",
    "# 다음 코드에서 에러가 발생한 원인을 설명하라.\n",
    "\n",
    "icecream = {'폴라포': 1200, '빵빠레': 1800, '월드콘': 1500, '메로나': 1000}\n",
    "icecream['누가바']\n",
    "\n",
    "# 없는 key를 호출함"
   ]
  },
  {
   "cell_type": "code",
   "execution_count": 63,
   "metadata": {
    "ExecuteTime": {
     "end_time": "2020-12-29T06:02:13.764570Z",
     "start_time": "2020-12-29T06:02:13.760206Z"
    }
   },
   "outputs": [
    {
     "data": {
      "text/plain": [
       "{'메로나': [300, 20], '비비빅': [400, 3], '죠스바': [250, 100]}"
      ]
     },
     "execution_count": 63,
     "metadata": {},
     "output_type": "execute_result"
    }
   ],
   "source": [
    "# 091\n",
    "# 아래의 표에서, 아이스크림 이름을 키값으로, (가격, 재고) 리스트를 딕셔너리의 값으로 저장하라. 딕셔너리의 이름은 inventory로 한다.\n",
    "\n",
    "# 이름\t가격\t재고\n",
    "# 메로나\t300\t20\n",
    "# 비비빅\t400\t3\n",
    "# 죠스바\t250\t100\n",
    "\n",
    "inventory = {\"메로나\":[300, 20], \"비비빅\":[400, 3], \"죠스바\":[250,100]}\n",
    "inventory"
   ]
  },
  {
   "cell_type": "code",
   "execution_count": 70,
   "metadata": {
    "ExecuteTime": {
     "end_time": "2020-12-29T06:04:15.798321Z",
     "start_time": "2020-12-29T06:04:15.793858Z"
    }
   },
   "outputs": [
    {
     "data": {
      "text/plain": [
       "300"
      ]
     },
     "execution_count": 70,
     "metadata": {},
     "output_type": "execute_result"
    }
   ],
   "source": [
    "# 092\n",
    "# inventory 딕셔너리에서 메로나의 가격을 화면에 출력하라.\n",
    "inventory = {\"메로나\": [300, 20],\n",
    "              \"비비빅\": [400, 3],\n",
    "              \"죠스바\": [250, 100]}\n",
    "inventory[\"메로나\"][0]"
   ]
  },
  {
   "cell_type": "code",
   "execution_count": 71,
   "metadata": {
    "ExecuteTime": {
     "end_time": "2020-12-29T06:05:36.321771Z",
     "start_time": "2020-12-29T06:05:36.317516Z"
    }
   },
   "outputs": [
    {
     "data": {
      "text/plain": [
       "20"
      ]
     },
     "execution_count": 71,
     "metadata": {},
     "output_type": "execute_result"
    }
   ],
   "source": [
    "# 093\n",
    "# inventory 딕셔너리에서 메로나의 재고를 화면에 출력하라.\n",
    "inventory = {\"메로나\": [300, 20],\n",
    "              \"비비빅\": [400, 3],\n",
    "              \"죠스바\": [250, 100]}\n",
    "inventory[\"메로나\"][1]"
   ]
  },
  {
   "cell_type": "code",
   "execution_count": 77,
   "metadata": {
    "ExecuteTime": {
     "end_time": "2020-12-29T06:09:34.657056Z",
     "start_time": "2020-12-29T06:09:34.651776Z"
    }
   },
   "outputs": [
    {
     "data": {
      "text/plain": [
       "{'메로나': [300, 20], '비비빅': [400, 3], '죠스바': [250, 100], '월드콘': [500, 7]}"
      ]
     },
     "execution_count": 77,
     "metadata": {},
     "output_type": "execute_result"
    }
   ],
   "source": [
    "# 094\n",
    "# inventory 딕셔너리에 아래 데이터를 추가하라.\n",
    "\n",
    "inventory = {\"메로나\": [300, 20],\n",
    "              \"비비빅\": [400, 3],\n",
    "              \"죠스바\": [250, 100]}\n",
    "\n",
    "inventory[\"월드콘\"] = [500, 7]\n",
    "inventory"
   ]
  },
  {
   "cell_type": "code",
   "execution_count": 78,
   "metadata": {
    "ExecuteTime": {
     "end_time": "2020-12-29T06:11:06.625043Z",
     "start_time": "2020-12-29T06:11:06.620666Z"
    }
   },
   "outputs": [
    {
     "data": {
      "text/plain": [
       "dict_keys(['탱크보이', '폴라포', '빵빠레', '월드콘', '메로나'])"
      ]
     },
     "execution_count": 78,
     "metadata": {},
     "output_type": "execute_result"
    }
   ],
   "source": [
    "# 095\n",
    "# 다음의 딕셔너리로부터 key 값으로만 구성된 리스트를 생성하라.\n",
    "\n",
    "icecream = {'탱크보이': 1200, '폴라포': 1200, '빵빠레': 1800, '월드콘': 1500, '메로나': 1000}\n",
    "\n",
    "ls = icecream.keys()\n",
    "ls"
   ]
  },
  {
   "cell_type": "code",
   "execution_count": 79,
   "metadata": {
    "ExecuteTime": {
     "end_time": "2020-12-29T06:11:25.314253Z",
     "start_time": "2020-12-29T06:11:25.309924Z"
    }
   },
   "outputs": [
    {
     "data": {
      "text/plain": [
       "dict_values([1200, 1200, 1800, 1500, 1000])"
      ]
     },
     "execution_count": 79,
     "metadata": {},
     "output_type": "execute_result"
    }
   ],
   "source": [
    "# 096\n",
    "# 다음의 딕셔너리로부터 key 값으로만 구성된 리스트를 생성하라.\n",
    "\n",
    "icecream = {'탱크보이': 1200, '폴라포': 1200, '빵빠레': 1800, '월드콘': 1500, '메로나': 1000}\n",
    "\n",
    "ls = icecream.values()\n",
    "ls"
   ]
  },
  {
   "cell_type": "code",
   "execution_count": 81,
   "metadata": {
    "ExecuteTime": {
     "end_time": "2020-12-29T06:13:09.561721Z",
     "start_time": "2020-12-29T06:13:09.557221Z"
    }
   },
   "outputs": [
    {
     "data": {
      "text/plain": [
       "6700"
      ]
     },
     "execution_count": 81,
     "metadata": {},
     "output_type": "execute_result"
    }
   ],
   "source": [
    "# 097\n",
    "# icecream 딕셔너리에서 아이스크림 판매 금액의 총합을 출력하라.\n",
    "\n",
    "icecream = {'탱크보이': 1200, '폴라포': 1200, '빵빠레': 1800, '월드콘': 1500, '메로나': 1000}\n",
    "\n",
    "tt_amt = sum(icecream.values())\n",
    "tt_amt"
   ]
  },
  {
   "cell_type": "code",
   "execution_count": 83,
   "metadata": {
    "ExecuteTime": {
     "end_time": "2020-12-29T06:15:12.632001Z",
     "start_time": "2020-12-29T06:15:12.626950Z"
    }
   },
   "outputs": [
    {
     "data": {
      "text/plain": [
       "{'탱크보이': 1200,\n",
       " '폴라포': 1200,\n",
       " '빵빠레': 1800,\n",
       " '월드콘': 1500,\n",
       " '메로나': 1000,\n",
       " '팥빙수': 2700,\n",
       " '아맛나': 1000}"
      ]
     },
     "execution_count": 83,
     "metadata": {},
     "output_type": "execute_result"
    }
   ],
   "source": [
    "# 098\n",
    "# 아래의 new_product 딕셔너리를 다음 icecream 딕셔너리에 추가하라.\n",
    "\n",
    "icecream = {'탱크보이': 1200, '폴라포': 1200, '빵빠레': 1800, '월드콘': 1500, '메로나': 1000}\n",
    "new_product = {'팥빙수':2700, '아맛나':1000}\n",
    "\n",
    "icecream.update(new_product)\n",
    "icecream"
   ]
  },
  {
   "cell_type": "code",
   "execution_count": 87,
   "metadata": {
    "ExecuteTime": {
     "end_time": "2020-12-29T06:19:01.993870Z",
     "start_time": "2020-12-29T06:19:01.983445Z"
    }
   },
   "outputs": [
    {
     "data": {
      "text/html": [
       "<div>\n",
       "<style scoped>\n",
       "    .dataframe tbody tr th:only-of-type {\n",
       "        vertical-align: middle;\n",
       "    }\n",
       "\n",
       "    .dataframe tbody tr th {\n",
       "        vertical-align: top;\n",
       "    }\n",
       "\n",
       "    .dataframe thead th {\n",
       "        text-align: right;\n",
       "    }\n",
       "</style>\n",
       "<table border=\"1\" class=\"dataframe\">\n",
       "  <thead>\n",
       "    <tr style=\"text-align: right;\">\n",
       "      <th></th>\n",
       "      <th>apple</th>\n",
       "      <th>pear</th>\n",
       "      <th>peach</th>\n",
       "      <th>index</th>\n",
       "    </tr>\n",
       "  </thead>\n",
       "  <tbody>\n",
       "    <tr>\n",
       "      <th>0</th>\n",
       "      <td>300</td>\n",
       "      <td>250</td>\n",
       "      <td>400</td>\n",
       "      <td>0</td>\n",
       "    </tr>\n",
       "  </tbody>\n",
       "</table>\n",
       "</div>"
      ],
      "text/plain": [
       "   apple  pear  peach  index\n",
       "0    300   250    400      0"
      ]
     },
     "execution_count": 87,
     "metadata": {},
     "output_type": "execute_result"
    }
   ],
   "source": [
    "# 099\n",
    "# 아래 두 개의 튜플을 하나의 딕셔너리로 변환하라. keys를 키로, vals를 값으로 result 이름의 딕셔너리로 저장한다.\n",
    "\n",
    "keys = (\"apple\", \"pear\", \"peach\")\n",
    "vals = (300, 250, 400)\n",
    "\n",
    "dict(zip(keys, vals))"
   ]
  },
  {
   "cell_type": "code",
   "execution_count": 93,
   "metadata": {
    "ExecuteTime": {
     "end_time": "2020-12-29T06:21:48.392528Z",
     "start_time": "2020-12-29T06:21:48.382273Z"
    }
   },
   "outputs": [
    {
     "data": {
      "text/html": [
       "<div>\n",
       "<style scoped>\n",
       "    .dataframe tbody tr th:only-of-type {\n",
       "        vertical-align: middle;\n",
       "    }\n",
       "\n",
       "    .dataframe tbody tr th {\n",
       "        vertical-align: top;\n",
       "    }\n",
       "\n",
       "    .dataframe thead th {\n",
       "        text-align: right;\n",
       "    }\n",
       "</style>\n",
       "<table border=\"1\" class=\"dataframe\">\n",
       "  <thead>\n",
       "    <tr style=\"text-align: right;\">\n",
       "      <th></th>\n",
       "      <th>apple</th>\n",
       "      <th>pear</th>\n",
       "      <th>peach</th>\n",
       "      <th>index</th>\n",
       "    </tr>\n",
       "  </thead>\n",
       "  <tbody>\n",
       "    <tr>\n",
       "      <th>0</th>\n",
       "      <td>300</td>\n",
       "      <td>250</td>\n",
       "      <td>400</td>\n",
       "      <td>0</td>\n",
       "    </tr>\n",
       "  </tbody>\n",
       "</table>\n",
       "</div>"
      ],
      "text/plain": [
       "   apple  pear  peach  index\n",
       "0    300   250    400      0"
      ]
     },
     "execution_count": 93,
     "metadata": {},
     "output_type": "execute_result"
    }
   ],
   "source": [
    "# 099-1 dict를 dataframe으로 만들 경우 index를 잡아주면 됨\n",
    "# 아래 두 개의 튜플을 하나의 딕셔너리로 변환하라. keys를 키로, vals를 값으로 result 이름의 딕셔너리로 저장한다.\n",
    "\n",
    "keys = (\"apple\", \"pear\", \"peach\")\n",
    "vals = (300, 250, 400)\n",
    "pd.DataFrame(dict(zip(keys, vals), index = [0]))"
   ]
  },
  {
   "cell_type": "code",
   "execution_count": 9,
   "metadata": {
    "ExecuteTime": {
     "end_time": "2021-01-29T00:54:35.516777Z",
     "start_time": "2021-01-29T00:54:35.511902Z"
    }
   },
   "outputs": [
    {
     "data": {
      "text/plain": [
       "{'09/05': 10500,\n",
       " '09/06': 10300,\n",
       " '09/07': 10100,\n",
       " '09/08': 10800,\n",
       " '09/09': 11000}"
      ]
     },
     "execution_count": 9,
     "metadata": {},
     "output_type": "execute_result"
    }
   ],
   "source": [
    "# 100\n",
    "# date와 close_price 두 개의 리스트를 close_table 이름의 딕셔너리로 생성하라.\n",
    "\n",
    "date = ['09/05', '09/06', '09/07', '09/08', '09/09']\n",
    "close_price = [10500, 10300, 10100, 10800, 11000]\n",
    "\n",
    "dict(zip(date, close_price))"
   ]
  },
  {
   "cell_type": "markdown",
   "metadata": {},
   "source": [
    "## 파이썬 분기문"
   ]
  },
  {
   "cell_type": "code",
   "execution_count": null,
   "metadata": {},
   "outputs": [],
   "source": [
    "#101 파이썬에서 True 혹은 False를 갖는 데이터 타입은 무엇인가?\n",
    "\n",
    "#bool"
   ]
  },
  {
   "cell_type": "code",
   "execution_count": 10,
   "metadata": {
    "ExecuteTime": {
     "end_time": "2021-01-29T00:55:32.180491Z",
     "start_time": "2021-01-29T00:55:32.177730Z"
    }
   },
   "outputs": [
    {
     "name": "stdout",
     "output_type": "stream",
     "text": [
      "False\n"
     ]
    }
   ],
   "source": [
    "#102 아래 코드의 출력 결과를 예상하라\n",
    "\n",
    "print(3 == 5)\n",
    "\n",
    "#False"
   ]
  },
  {
   "cell_type": "code",
   "execution_count": 11,
   "metadata": {
    "ExecuteTime": {
     "end_time": "2021-01-29T00:55:55.253542Z",
     "start_time": "2021-01-29T00:55:55.250968Z"
    }
   },
   "outputs": [
    {
     "name": "stdout",
     "output_type": "stream",
     "text": [
      "True\n"
     ]
    }
   ],
   "source": [
    "#103 아래 코드의 결과를 예상하라.\n",
    "\n",
    "print(3 < 5)\n",
    "\n",
    "#True"
   ]
  },
  {
   "cell_type": "code",
   "execution_count": 12,
   "metadata": {
    "ExecuteTime": {
     "end_time": "2021-01-29T00:56:18.374808Z",
     "start_time": "2021-01-29T00:56:18.372228Z"
    }
   },
   "outputs": [
    {
     "name": "stdout",
     "output_type": "stream",
     "text": [
      "True\n"
     ]
    }
   ],
   "source": [
    "#104 아래 코드의 결과를 예상하라.\n",
    "\n",
    "x = 4\n",
    "print(1 < x < 5)\n",
    "\n",
    "# True"
   ]
  },
  {
   "cell_type": "code",
   "execution_count": 13,
   "metadata": {
    "ExecuteTime": {
     "end_time": "2021-01-29T00:56:48.619374Z",
     "start_time": "2021-01-29T00:56:48.616661Z"
    }
   },
   "outputs": [
    {
     "name": "stdout",
     "output_type": "stream",
     "text": [
      "True\n"
     ]
    }
   ],
   "source": [
    "#105 아래 코드의 결과를 예상하라.\n",
    "\n",
    "print((3 == 3) and (4 != 3))\n",
    "\n",
    "#True"
   ]
  },
  {
   "cell_type": "code",
   "execution_count": 14,
   "metadata": {
    "ExecuteTime": {
     "end_time": "2021-01-29T00:57:03.815893Z",
     "start_time": "2021-01-29T00:57:03.812564Z"
    }
   },
   "outputs": [
    {
     "ename": "SyntaxError",
     "evalue": "invalid syntax (<ipython-input-14-8cd33b575a33>, line 3)",
     "output_type": "error",
     "traceback": [
      "\u001b[0;36m  File \u001b[0;32m\"<ipython-input-14-8cd33b575a33>\"\u001b[0;36m, line \u001b[0;32m3\u001b[0m\n\u001b[0;31m    print(3 => 4)\u001b[0m\n\u001b[0m             ^\u001b[0m\n\u001b[0;31mSyntaxError\u001b[0m\u001b[0;31m:\u001b[0m invalid syntax\n"
     ]
    }
   ],
   "source": [
    "#106 아래 코드에서 에러가 발생하는 원인에 대해 설명하라.\n",
    "\n",
    "print(3 => 4)\n",
    "#부호 순서"
   ]
  },
  {
   "cell_type": "code",
   "execution_count": 15,
   "metadata": {
    "ExecuteTime": {
     "end_time": "2021-01-29T00:57:42.815233Z",
     "start_time": "2021-01-29T00:57:42.812808Z"
    }
   },
   "outputs": [
    {
     "name": "stdout",
     "output_type": "stream",
     "text": [
      "Hi, there.\n"
     ]
    }
   ],
   "source": [
    "#108 아래 코드의 출력 결과를 예상하라\n",
    "\n",
    "if 4 < 3:\n",
    "  print(\"Hello World.\")\n",
    "else:\n",
    "  print(\"Hi, there.\")\n",
    "  \n",
    "#Hi, there"
   ]
  },
  {
   "cell_type": "code",
   "execution_count": 17,
   "metadata": {
    "ExecuteTime": {
     "end_time": "2021-01-29T00:58:19.416729Z",
     "start_time": "2021-01-29T00:58:19.413914Z"
    },
    "scrolled": true
   },
   "outputs": [
    {
     "name": "stdout",
     "output_type": "stream",
     "text": [
      "1\n",
      "2\n",
      "4\n"
     ]
    }
   ],
   "source": [
    "#109 아래 코드의 출력 결과를 예상하라\n",
    "\n",
    "if True:\n",
    "  print(\"1\")\n",
    "  print(\"2\")\n",
    "else:\n",
    "  print(\"3\")\n",
    "print(\"4\")\n",
    "\n",
    "#1, 2, 4"
   ]
  },
  {
   "cell_type": "code",
   "execution_count": 22,
   "metadata": {
    "ExecuteTime": {
     "end_time": "2021-01-29T01:00:32.973529Z",
     "start_time": "2021-01-29T01:00:32.970677Z"
    }
   },
   "outputs": [
    {
     "name": "stdout",
     "output_type": "stream",
     "text": [
      "3\n",
      "5\n"
     ]
    }
   ],
   "source": [
    "#110 아래 코드의 출력 결과를 예상하라\n",
    "\n",
    "if True:\n",
    "  if False:\n",
    "    print(\"1\")\n",
    "    print(\"2\")\n",
    "  else:\n",
    "    print(\"3\")\n",
    "else:\n",
    "  print(\"4\")\n",
    "print(\"5\")\n",
    "\n",
    "#3, 5"
   ]
  },
  {
   "cell_type": "code",
   "execution_count": 25,
   "metadata": {
    "ExecuteTime": {
     "end_time": "2021-01-29T01:02:03.987014Z",
     "start_time": "2021-01-29T01:02:01.914375Z"
    }
   },
   "outputs": [
    {
     "name": "stdout",
     "output_type": "stream",
     "text": [
      "하\n",
      "하하\n"
     ]
    }
   ],
   "source": [
    "#111 사용자로부터 입력받은 문자열을 두 번 출력하라. 아래는 사용자가 \"안녕하세요\"를 입력한 경우의 출력 결과이다.\n",
    "\n",
    "user = input(\"입력:\")\n",
    "print(user * 2)"
   ]
  },
  {
   "cell_type": "code",
   "execution_count": 28,
   "metadata": {
    "ExecuteTime": {
     "end_time": "2021-01-29T01:03:20.395948Z",
     "start_time": "2021-01-29T01:03:18.795186Z"
    }
   },
   "outputs": [
    {
     "name": "stdout",
     "output_type": "stream",
     "text": [
      "숫자를 입력하세요:30\n",
      "40\n"
     ]
    }
   ],
   "source": [
    "#112 사용자로부터 하나의 숫자를 입력받고, 입력 받은 숫자에 10을 더해 출력하라.\n",
    "\n",
    "number = input(\"숫자를 입력하세요:\")\n",
    "print(int(number) + 10)"
   ]
  },
  {
   "cell_type": "code",
   "execution_count": 31,
   "metadata": {
    "ExecuteTime": {
     "end_time": "2021-01-29T01:04:42.317632Z",
     "start_time": "2021-01-29T01:04:40.772209Z"
    }
   },
   "outputs": [
    {
     "name": "stdout",
     "output_type": "stream",
     "text": [
      "입력: 3\n",
      "홀수\n"
     ]
    }
   ],
   "source": [
    "#113 사용자로부터 하나의 숫자를 입력 받고 짝수/홀수를 판별하라.\n",
    "\n",
    "number = input(\"입력: \")\n",
    "if int(number) % 2 == 0:\n",
    "  print(\"짝수\")\n",
    "else:\n",
    "  print(\"홀수\")"
   ]
  },
  {
   "cell_type": "code",
   "execution_count": 34,
   "metadata": {
    "ExecuteTime": {
     "end_time": "2021-01-29T01:06:39.783588Z",
     "start_time": "2021-01-29T01:06:38.106451Z"
    }
   },
   "outputs": [
    {
     "name": "stdout",
     "output_type": "stream",
     "text": [
      "입력: 234\n",
      "254\n"
     ]
    }
   ],
   "source": [
    "#114 사용자로부터 값을 입력받은 후 해당 값에 20을 더한 값을 출력하라. 단 사용자가 입력한 값과 20을 더한 계산 값이 255를 초과하는 경우 255를 출력해야 한다.\n",
    "\n",
    "number = input(\"입력: \")\n",
    "if int(number) + 20 > 255:\n",
    "  print(255)\n",
    "else:\n",
    "  print(int(number) + 20)"
   ]
  },
  {
   "cell_type": "code",
   "execution_count": 37,
   "metadata": {
    "ExecuteTime": {
     "end_time": "2021-01-29T01:11:44.614670Z",
     "start_time": "2021-01-29T01:11:42.585053Z"
    }
   },
   "outputs": [
    {
     "name": "stdout",
     "output_type": "stream",
     "text": [
      "입력: 500\n",
      "255\n"
     ]
    }
   ],
   "source": [
    "#115 사용자로부터 하나의 값을 입력받은 후 해당 값에 20을 뺀 값을 출력하라. 단 출력 값의 범위는 0~255이다. 예를 들어 결괏값이 0보다 작은 값이되는 경우 0을 출력하고 255보다 큰 값이 되는 경우 255를 출력해야 한다.\n",
    "\n",
    "number = input(\"입력: \")\n",
    "\n",
    "output = int(number) - 20\n",
    "\n",
    "if output < 0:\n",
    "  print(0)\n",
    "elif output > 255:\n",
    "  print(255)\n",
    "else:\n",
    "  print(output)"
   ]
  },
  {
   "cell_type": "code",
   "execution_count": 6,
   "metadata": {
    "ExecuteTime": {
     "end_time": "2021-02-16T00:35:56.933904Z",
     "start_time": "2021-02-16T00:35:54.753307Z"
    }
   },
   "outputs": [
    {
     "name": "stdout",
     "output_type": "stream",
     "text": [
      "현재시간: 10000\n",
      "정각 입니다.\n"
     ]
    }
   ],
   "source": [
    "#116 사용자로부터 입력 받은 시간이 정각인지 판별하라.\n",
    "\n",
    "time = input(\"현재시간: \")\n",
    "if time[-2:] == \"00\":\n",
    "    print(\"정각 입니다.\")\n",
    "else:\n",
    "    print(\"정각이 아닙니다.\")"
   ]
  },
  {
   "cell_type": "code",
   "execution_count": 10,
   "metadata": {
    "ExecuteTime": {
     "end_time": "2021-02-16T00:37:08.673496Z",
     "start_time": "2021-02-16T00:37:06.370861Z"
    }
   },
   "outputs": [
    {
     "name": "stdout",
     "output_type": "stream",
     "text": [
      "좋아하는 과일은? 포도\n",
      "정답입니다.\n"
     ]
    }
   ],
   "source": [
    "#117 사용자로 입력받은 단어가 아래 fruit 리스트에 포함되어 있는지를 확인하라. 포함되었다면 \"정답입니다\"를 아닐 경우 \"오답입니다\" 출력하라.\n",
    "\n",
    "fruit = [\"사과\", \"포도\", \"홍시\"]\n",
    "\n",
    "input_text = input(\"좋아하는 과일은? \")\n",
    "\n",
    "if input_text in fruit:\n",
    "  print(\"정답입니다.\")\n",
    "else:\n",
    "  print(\"오답입니다.\")"
   ]
  },
  {
   "cell_type": "code",
   "execution_count": 12,
   "metadata": {
    "ExecuteTime": {
     "end_time": "2021-02-16T00:39:05.991568Z",
     "start_time": "2021-02-16T00:39:03.956864Z"
    }
   },
   "outputs": [
    {
     "name": "stdout",
     "output_type": "stream",
     "text": [
      "종목을 입력하세요.Naver\n",
      "투자 경고 종목입니다.\n"
     ]
    }
   ],
   "source": [
    "#118 투자 경고 종목 리스트가 있을 때 사용자로부터 종목명을 입력 받은 후 해당 종목이 투자 경고 종목이라면 '투자 경고 종목입니다'를 아니면 \"투자 경고 종목이 아닙니다.\"를 출력하는 프로그램을 작성하라.\n",
    "\n",
    "warn_investment_list = [\"Microsoft\", \"Google\", \"Naver\", \"Kakao\", \"SAMSUNG\", \"LG\"]\n",
    "\n",
    "input_text = input(\"종목을 입력하세요.\")\n",
    "\n",
    "if input_text in warn_investment_list:\n",
    "  print(\"투자 경고 종목입니다.\")\n",
    "else:\n",
    "  print(\"투자 경고 종목이 아닙니다.\")"
   ]
  },
  {
   "cell_type": "code",
   "execution_count": 23,
   "metadata": {
    "ExecuteTime": {
     "end_time": "2021-02-16T00:46:35.169692Z",
     "start_time": "2021-02-16T00:46:32.831567Z"
    }
   },
   "outputs": [
    {
     "name": "stdout",
     "output_type": "stream",
     "text": [
      "계절을 입력하면 계절과 제철 과일이 출력됩니다.겨울\n",
      "겨울은 제철과일이 없습니다\n"
     ]
    }
   ],
   "source": [
    "#119 아래와 같이 fruit 딕셔너리가 정의되어 있다. 사용자가 입력한 값이 딕셔너리 키 (key) 값에 포함되었다면 \"정답입니다\"를 아닐 경우 \"오답입니다\" 출력하라.\n",
    "\n",
    "fruit = {\"봄\" : \"딸기\", \"여름\" : \"토마토\", \"가을\" : \"사과\"}\n",
    "\n",
    "input_text = input(\"계절을 입력하면 계절과 제철 과일이 출력됩니다. \")\n",
    "if input_text in fruit.keys():\n",
    "  print(input_text, fruit[input_text])\n",
    "else:\n",
    "  print(f\"{input_text}은 제철과일이 없습니다\")"
   ]
  },
  {
   "cell_type": "code",
   "execution_count": 20,
   "metadata": {
    "ExecuteTime": {
     "end_time": "2021-02-16T00:44:59.247999Z",
     "start_time": "2021-02-16T00:44:59.243833Z"
    }
   },
   "outputs": [
    {
     "data": {
      "text/plain": [
       "'토마토'"
      ]
     },
     "execution_count": 20,
     "metadata": {},
     "output_type": "execute_result"
    }
   ],
   "source": [
    "fruit[\"여름\"]"
   ]
  },
  {
   "cell_type": "code",
   "execution_count": 37,
   "metadata": {
    "ExecuteTime": {
     "end_time": "2021-02-16T00:49:28.308500Z",
     "start_time": "2021-02-16T00:49:26.107634Z"
    }
   },
   "outputs": [
    {
     "name": "stdout",
     "output_type": "stream",
     "text": [
      "과일 이름을 입력하세요 사과\n",
      "정답입니다\n"
     ]
    }
   ],
   "source": [
    "#120 아래와 같이 fruit 딕셔너리가 정의되어 있다. 사용자가 입력한 값이 딕셔너리 값 (value)에 포함되었다면 \"정답입니다\"를 아닐 경우 \"오답입니다\" 출력하라.\n",
    "\n",
    "fruit = {\"봄\" : \"딸기\", \"여름\" : \"토마토\", \"가을\" : \"사과\"}\n",
    "\n",
    "input_text = input(\"과일 이름을 입력하세요 \")\n",
    "\n",
    "if input_text in fruit.values():\n",
    "  print(\"정답입니다\")\n",
    "else:\n",
    "  print(\"오답입니다\")\n"
   ]
  },
  {
   "cell_type": "code",
   "execution_count": 41,
   "metadata": {
    "ExecuteTime": {
     "end_time": "2021-02-16T00:52:03.178380Z",
     "start_time": "2021-02-16T00:52:01.390977Z"
    }
   },
   "outputs": [
    {
     "name": "stdout",
     "output_type": "stream",
     "text": [
      "알파벳을 입력하세요 B\n",
      "b\n"
     ]
    }
   ],
   "source": [
    "#121 사용자로부터 문자 한 개를 입력 받고, 소문자일 경우 대문자로, 대문자 일 경우, 소문자로 변경해서 출력하라.\n",
    "\n",
    "input_text = input(\"알파벳을 입력하세요 \")\n",
    "\n",
    "if input_text.islower() == True:\n",
    "  print(input_text.upper())\n",
    "else:\n",
    "  print(input_text.lower())\n"
   ]
  },
  {
   "cell_type": "code",
   "execution_count": 56,
   "metadata": {
    "ExecuteTime": {
     "end_time": "2021-02-16T00:56:48.442601Z",
     "start_time": "2021-02-16T00:56:47.152729Z"
    }
   },
   "outputs": [
    {
     "name": "stdout",
     "output_type": "stream",
     "text": [
      "점수를 입력하세요 81\n",
      "A\n"
     ]
    }
   ],
   "source": [
    "#122 점수 구간에 해당하는 학점이 아래와 같이 정의되어 있다. 사용자로부터 score를 입력받아 학점을 출력하라.\n",
    "\n",
    "input_text = input(\"점수를 입력하세요 \")\n",
    "\n",
    "if int(input_text) in range(0,21,1):\n",
    "  print(\"E\")\n",
    "elif int(input_text) in range(21,41,1):\n",
    "  print(\"D\")\n",
    "elif int(input_text) in range(41,61,1):\n",
    "  print(\"C\")\n",
    "elif int(input_text) in range(61,81,1):\n",
    "  print(\"B\")\n",
    "else:\n",
    "  print(\"A\")"
   ]
  },
  {
   "cell_type": "code",
   "execution_count": 78,
   "metadata": {
    "ExecuteTime": {
     "end_time": "2021-02-16T01:07:35.813425Z",
     "start_time": "2021-02-16T01:07:33.570605Z"
    }
   },
   "outputs": [
    {
     "name": "stdout",
     "output_type": "stream",
     "text": [
      "통화의 양을 입력하세요. (e.g. 100달러 -> 100 입력): 100\n",
      "통화의 종류를 입력하세요. (e.g. 100달러 -> 달러 입력): 달러\n",
      "원화 환산 금액은 116700.0원 입니다.\n"
     ]
    }
   ],
   "source": [
    "#123 사용자로부터 달러, 엔, 유로, 또는 위안 금액을 입력받은 후 이를 원으로 변환하는 프로그램을 작성하라. 각 통화별 환율은 다음과 같다. \n",
    "#사용자는 100 달러, 1000 엔, 13 유로, 100 위안과 같이 금액과 통화명 사이에 공백을 넣어 입력한다고 가정한다.\n",
    "\n",
    "input_amount = float(input(\"통화의 양을 입력하세요. (e.g. 100달러 -> 100 입력): \"))\n",
    "input_currency = input(\"통화의 종류를 입력하세요. (e.g. 100달러 -> 달러 입력): \")\n",
    "\n",
    "current_rate_dict = {\"달러\":1167, \"엔\":1.096, \"유로\":1268, \"위안\":171}\n",
    "\n",
    "\n",
    "print(\"원화 환산 금액은 \" + str(current_rate_dict[input_currency] * input_amount) + \"원 입니다.\")\n",
    "  \n",
    "  \n",
    "#원래 답안 - 훨씬 간결하긴 한데, 100달러와 같이 띄어쓰기 안할 경우 에러발생함(split이 기본적으로 공백을 기준으로 나누기 때문)\n",
    "# 환율 = {\"달러\": 1167, \n",
    "#         \"엔\": 1.096, \n",
    "#         \"유로\": 1268, \n",
    "#         \"위안\": 171}\n",
    "# user = input(\"입력: \")\n",
    "# num, currency = user.split()\n",
    "# print(float(num) * 환율[currency], \"원\")"
   ]
  },
  {
   "cell_type": "code",
   "execution_count": 80,
   "metadata": {
    "ExecuteTime": {
     "end_time": "2021-02-16T01:11:13.600645Z",
     "start_time": "2021-02-16T01:11:11.362535Z"
    }
   },
   "outputs": [
    {
     "name": "stdout",
     "output_type": "stream",
     "text": [
      "1번 숫자를 입력하세요. 5\n",
      "2번 숫자를 입력하세요. 3\n",
      "3번 숫자를 입력하세요. 9\n",
      "9\n"
     ]
    }
   ],
   "source": [
    "#124 사용자로부터 세 개의 숫자를 입력 받은 후 가장 큰 숫자를 출력하라.\n",
    "\n",
    "number_1 = input(\"1번 숫자를 입력하세요. \")\n",
    "number_2 = input(\"2번 숫자를 입력하세요. \")\n",
    "number_3 = input(\"3번 숫자를 입력하세요. \")\n",
    "\n",
    "print(max(number_1, number_2, number_3))"
   ]
  },
  {
   "cell_type": "code",
   "execution_count": 88,
   "metadata": {
    "ExecuteTime": {
     "end_time": "2021-02-16T01:36:29.351618Z",
     "start_time": "2021-02-16T01:36:26.016711Z"
    }
   },
   "outputs": [
    {
     "name": "stdout",
     "output_type": "stream",
     "text": [
      "휴대전화 번호를 입력하세요. (e.g. 010-1234-5678)010-123123-1313\n",
      "알 수 없음\n"
     ]
    }
   ],
   "source": [
    "#125 휴대폰 번호 앞자리에 따라 통신사는 아래와 같이 구분된다. 사용자로부터 휴대전화 번호를 입력 받고, 통신사를 출력하는 프로그램을 작성하라.\n",
    "\n",
    "input_cell_no = input(\"휴대전화 번호를 입력하세요. (e.g. 010-1234-5678)\")\n",
    "first_no = input_cell_no.split(\"-\")[0]\n",
    "if first_no == \"011\":\n",
    "  print(\"SKT\")\n",
    "elif first_no == \"016\":\n",
    "  print(\"KT\")\n",
    "elif first_no == \"019\":\n",
    "  print(\"LGU\")\n",
    "else:\n",
    "  print(\"알 수 없음\")"
   ]
  },
  {
   "cell_type": "code",
   "execution_count": 71,
   "metadata": {},
   "outputs": [
    {
     "data": {
      "text/plain": [
       "'01'"
      ]
     },
     "execution_count": 71,
     "metadata": {},
     "output_type": "execute_result"
    }
   ],
   "source": [
    "input_post_no[0:2]"
   ]
  },
  {
   "cell_type": "code",
   "execution_count": 72,
   "metadata": {
    "ExecuteTime": {
     "end_time": "2021-02-17T00:46:12.057909Z",
     "start_time": "2021-02-17T00:46:09.596533Z"
    }
   },
   "outputs": [
    {
     "name": "stdin",
     "output_type": "stream",
     "text": [
      "우편번호 5자리를 입력하세요. 입력한 값:  02345\n"
     ]
    },
    {
     "name": "stdout",
     "output_type": "stream",
     "text": [
      "잘못된 우편번호를 입력했습니다.\n"
     ]
    }
   ],
   "source": [
    "#126 우편번호는 5자리로 구성되는데, 앞의 세자리는 구를 나타낸다. 예를들어, 강북구의 경우 010, 011, 012 세 자리로 시작한다.\n",
    "\n",
    "try:\n",
    "  input_post_no = input(\"우편번호 5자리를 입력하세요. 입력한 값: \")\n",
    "  int(input_post_no)*1\n",
    "except:\n",
    "  print(\"잘못된 우편번호를 입력했습니다.\")\n",
    "else:\n",
    "  if len(input_post_no) == 5 and input_post_no[0:2] in [\"01\"] and int(input_post_no[2]) <= 2:\n",
    "    print(\"강북구\")\n",
    "  elif len(input_post_no) == 5 and input_post_no[0:2] in [\"01\"] and int(input_post_no[2]) <= 5:\n",
    "    print(\"도봉구\")\n",
    "  elif len(input_post_no) == 5 and input_post_no[0:2] in [\"01\"] and int(input_post_no[2]) <= 9:\n",
    "    print(\"노원구\")\n",
    "  else:\n",
    "    print(\"잘못된 우편번호를 입력했습니다.\")"
   ]
  },
  {
   "cell_type": "code",
   "execution_count": 57,
   "metadata": {
    "ExecuteTime": {
     "end_time": "2021-02-17T00:52:39.833317Z",
     "start_time": "2021-02-17T00:52:35.853004Z"
    },
    "scrolled": true
   },
   "outputs": [
    {
     "name": "stdin",
     "output_type": "stream",
     "text": [
      "주민번호 13자리를 입력하세요.(입력 예시: 890223-1000000) 입력한 값:  890223-1000000\n"
     ]
    },
    {
     "name": "stdout",
     "output_type": "stream",
     "text": [
      "남성입니다.\n"
     ]
    }
   ],
   "source": [
    "#127 주민등록번호 뒷 자리 7자리 중 첫째 자리는 성별을 나타내는데, 1, 3은 남자 2, 4는 여자를 의미한다. 사용자로부터 13자리의 주민등록번호를 입력 받은 후 성별 (남자, 여자)를 출력하는 프로그램을 작성하라.\n",
    "\n",
    "try:\n",
    "  input_id = input(\"주민번호 13자리를 입력하세요.(입력 예시: 890223-1000000) 입력한 값: \")\n",
    "  input_id.split(\"-\")*1\n",
    "except:\n",
    "  print(\"잘못된 주민번호를 입력했습니다.\")\n",
    "if len(input_id) == 14 and input_id.split(\"-\")[1][0] in [\"1\",\"3\"]:\n",
    "  print(\"남성입니다.\")\n",
    "elif len(input_id) == 14 and input_id.split(\"-\")[1][0] in [\"2\", \"4\"]:\n",
    "  print(\"여성입니다.\")\n",
    "else:\n",
    "  print(\"잘못된 주민번호를 입력했습니다.\")"
   ]
  },
  {
   "cell_type": "code",
   "execution_count": 60,
   "metadata": {
    "ExecuteTime": {
     "end_time": "2021-02-17T00:58:30.748459Z",
     "start_time": "2021-02-17T00:58:25.609737Z"
    }
   },
   "outputs": [
    {
     "name": "stdin",
     "output_type": "stream",
     "text": [
      "주민번호 13자리를 입력하세요.(입력 예시: 890223-1000000) 입력한 값:  890223-1000000\n"
     ]
    },
    {
     "name": "stdout",
     "output_type": "stream",
     "text": [
      "서울입니다.\n"
     ]
    }
   ],
   "source": [
    "#128 주민등록번호의 뒷 자리 7자리 중 두번째와 세번째는 지역코드를 의미한다. 주민 등록 번호를 입력 받은 후 출생지가 서울인지 아닌지 판단하는 코드를 작성하라\n",
    "\n",
    "try:\n",
    "  input_id = input(\"주민번호 13자리를 입력하세요.(입력 예시: 890223-1000000) 입력한 값: \")\n",
    "  input_id.split(\"-\")*1\n",
    "except:\n",
    "  print(\"잘못된 주민번호를 입력했습니다.\")\n",
    "else:\n",
    "  condition = int(input_id.split(\"-\")[1][1:3])\n",
    "  if len(input_id) == 14 and condition <= 8:\n",
    "    print(\"서울입니다.\")\n",
    "  elif len(input_id) == 14 and condition <= 12:\n",
    "    print(\"부산입니다.\")\n",
    "  elif len(input_id) == 14:\n",
    "    print(\"기타지역입니다.\")\n",
    "  else:\n",
    "    print(\"잘못된 주민번호를 입력했습니다.\")\n",
    "  "
   ]
  },
  {
   "cell_type": "code",
   "execution_count": 83,
   "metadata": {
    "ExecuteTime": {
     "end_time": "2021-02-17T01:33:37.129554Z",
     "start_time": "2021-02-17T01:33:33.095433Z"
    }
   },
   "outputs": [
    {
     "name": "stdin",
     "output_type": "stream",
     "text": [
      "주민번호 13자리를 입력하세요.(입력 예시: 890223-1000000) 입력한 값:  890223-1111111\n"
     ]
    },
    {
     "name": "stdout",
     "output_type": "stream",
     "text": [
      "입력상에는 문제가 없으나, 잘못된 주민번호입니다.\n"
     ]
    }
   ],
   "source": [
    "#129 주민등록번호는 13자리로 구성되는데 마지막 자리수는 주민등록번호의 유효성을 체크하는데 사용된다. 먼저 앞에서부터 12자리의 숫자에 2, 3, 4, 5, 6, 7, 8, 9, 2, 3, 4, 5를 차례로 곱한 뒤 그 값을 전부 더한다. 연산 결과 값을 11로 나누면 나머지가 나오는데 11에서 나머지를 뺀 값이 주민등록번호의 마지막 번호가 된다.\n",
    "y = \"234567892345\"\n",
    "lst = []\n",
    "\n",
    "try:\n",
    "  input_id_real = input(\"주민번호 13자리를 입력하세요.(입력 예시: 890223-1000000) 입력한 값: \")\n",
    "  input_id = input_id_real.replace(\"-\",\"\")*1\n",
    "except:\n",
    "  print(\"잘못된 주민번호를 입력했습니다.\")\n",
    "else:\n",
    "  if len(input_id_real) == 14:\n",
    "    for i in range(0,12,1):\n",
    "      lst.append(int(input_id[i]) * int(y[i]))\n",
    "    if len(input_id_real) == 14 and int(str(sum(lst)/11).split(\".\")[1][0]) == int(input_id[-1]):\n",
    "      print(\"정상 주민번호입니다.\")\n",
    "    else:\n",
    "      print(\"입력상에는 문제가 없으나, 잘못된 주민번호입니다.\")\n",
    "  else:\n",
    "    print(\"잘못된 주민번호를 입력하였습니다.\")"
   ]
  },
  {
   "cell_type": "code",
   "execution_count": 155,
   "metadata": {
    "ExecuteTime": {
     "end_time": "2021-02-17T01:37:51.982896Z",
     "start_time": "2021-02-17T01:37:51.627060Z"
    }
   },
   "outputs": [],
   "source": [
    "#130 아래 코드는 비트코인의 가격 정보를 딕셔너리로 가져오는 코드이다.\n",
    "import requests\n",
    "btc = requests.get(\"https://api.bithumb.com/public/ticker/\").json()['data']\n"
   ]
  },
  {
   "cell_type": "code",
   "execution_count": 157,
   "metadata": {
    "ExecuteTime": {
     "end_time": "2021-02-17T01:38:27.593608Z",
     "start_time": "2021-02-17T01:38:27.589490Z"
    }
   },
   "outputs": [
    {
     "data": {
      "text/plain": [
       "{'opening_price': '54293000',\n",
       " 'closing_price': '54682000',\n",
       " 'min_price': '53425000',\n",
       " 'max_price': '55049000',\n",
       " 'units_traded': '1619.05958134',\n",
       " 'acc_trade_value': '88000554856.7049',\n",
       " 'prev_closing_price': '54293000',\n",
       " 'units_traded_24H': '5948.51736935',\n",
       " 'acc_trade_value_24H': '321211926293.9876',\n",
       " 'fluctate_24H': '2183000',\n",
       " 'fluctate_rate_24H': '4.16',\n",
       " 'date': '1613525871901'}"
      ]
     },
     "execution_count": 157,
     "metadata": {},
     "output_type": "execute_result"
    }
   ],
   "source": [
    "btc"
   ]
  },
  {
   "cell_type": "code",
   "execution_count": 163,
   "metadata": {
    "ExecuteTime": {
     "end_time": "2021-02-17T01:41:30.824499Z",
     "start_time": "2021-02-17T01:41:30.820496Z"
    }
   },
   "outputs": [
    {
     "name": "stdout",
     "output_type": "stream",
     "text": [
      "상승장\n"
     ]
    }
   ],
   "source": [
    "gap = int(btc[\"max_price\"]) - int(btc[\"min_price\"])\n",
    "adj_gap = int(btc[\"opening_price\"]) + gap\n",
    "max_price = int(btc[\"max_price\"])\n",
    "\n",
    "\n",
    "if adj_gap >= max_price:\n",
    "  print(\"상승장\")\n",
    "else:\n",
    "  print(\"하락장\")"
   ]
  },
  {
   "cell_type": "markdown",
   "metadata": {},
   "source": [
    "## 파이썬 반복문"
   ]
  },
  {
   "cell_type": "code",
   "execution_count": 2,
   "metadata": {},
   "outputs": [
    {
     "name": "stdout",
     "output_type": "stream",
     "text": [
      "사과\n",
      "귤\n",
      "수박\n"
     ]
    }
   ],
   "source": [
    "#131 for문의 실행결과를 예측하라.\n",
    "\n",
    "과일 = [\"사과\", \"귤\", \"수박\"]\n",
    "for 변수 in 과일:\n",
    "    print(변수)\n",
    "    \n",
    "# 사과\n",
    "# 귤\n",
    "# 수박"
   ]
  },
  {
   "cell_type": "code",
   "execution_count": 3,
   "metadata": {},
   "outputs": [
    {
     "name": "stdout",
     "output_type": "stream",
     "text": [
      "#####\n",
      "#####\n",
      "#####\n"
     ]
    }
   ],
   "source": [
    "#132 for문의 실행결과를 예측하라.\n",
    "\n",
    "과일 = [\"사과\", \"귤\", \"수박\"]\n",
    "for 변수 in 과일:\n",
    "  print(\"#####\")\n",
    "# #####\n",
    "# #####\n",
    "# #####"
   ]
  },
  {
   "cell_type": "code",
   "execution_count": 7,
   "metadata": {},
   "outputs": [
    {
     "name": "stdout",
     "output_type": "stream",
     "text": [
      "A\n",
      "B\n",
      "C\n",
      "A\n",
      "B\n",
      "C\n"
     ]
    }
   ],
   "source": [
    "#133 다음 for 문과 동일한 기능을 수행하는 코드를 작성하세요.\n",
    "\n",
    "for 변수 in [\"A\", \"B\", \"C\"]:\n",
    "  print(변수)\n",
    "\n",
    "print(\"A\")\n",
    "print(\"B\")\n",
    "print(\"C\")"
   ]
  },
  {
   "cell_type": "code",
   "execution_count": 11,
   "metadata": {},
   "outputs": [
    {
     "name": "stdout",
     "output_type": "stream",
     "text": [
      "출력: A\n",
      "출력: B\n",
      "출력: C\n",
      "출력: A\n",
      "출력: B\n",
      "출력: C\n"
     ]
    }
   ],
   "source": [
    "#134 for문을 풀어서 동일한 동작을하는 코드를 작성하라.\n",
    "\n",
    "for 변수 in [\"A\", \"B\", \"C\"]:\n",
    "  print(\"출력:\", 변수)\n",
    "\n",
    "print(\"출력: A\")\n",
    "print(\"출력: B\")\n",
    "print(\"출력: C\")"
   ]
  },
  {
   "cell_type": "code",
   "execution_count": 17,
   "metadata": {},
   "outputs": [
    {
     "name": "stdout",
     "output_type": "stream",
     "text": [
      "변환: a\n",
      "변환: b\n",
      "변환: c\n",
      "변환: a\n",
      "변환: b\n",
      "변환: c\n"
     ]
    }
   ],
   "source": [
    "#135 for문을 풀어서 동일한 동작을 하는 코드를 작성하라.\n",
    "\n",
    "for 변수 in [\"A\", \"B\", \"C\"]:\n",
    "  b = 변수.lower()\n",
    "  print(\"변환:\", b)\n",
    "    \n",
    "    \n",
    "var_1 = [\"A\", \"B\", \"C\"]\n",
    "print(\"변환:\", var_1[0].lower())\n",
    "print(\"변환:\", var_1[1].lower())\n",
    "print(\"변환:\", var_1[2].lower())"
   ]
  },
  {
   "cell_type": "code",
   "execution_count": 19,
   "metadata": {},
   "outputs": [
    {
     "name": "stdout",
     "output_type": "stream",
     "text": [
      "10\n",
      "20\n",
      "30\n",
      "10\n",
      "20\n",
      "30\n"
     ]
    }
   ],
   "source": [
    "#136 다음 코드를 for문으로 작성하라.\n",
    "\n",
    "변수 = 10\n",
    "print(변수)\n",
    "변수 = 20\n",
    "print(변수)\n",
    "변수 = 30\n",
    "print(변수)\n",
    "\n",
    "for 변수 in [10, 20, 30]:\n",
    "  print(변수)"
   ]
  },
  {
   "cell_type": "code",
   "execution_count": 20,
   "metadata": {},
   "outputs": [
    {
     "name": "stdout",
     "output_type": "stream",
     "text": [
      "10\n",
      "20\n",
      "30\n",
      "10\n",
      "20\n",
      "30\n"
     ]
    }
   ],
   "source": [
    "#137 다음 코드를 for문으로 작성하라.\n",
    "\n",
    "print(10)\n",
    "print(20)\n",
    "print(30)\n",
    "\n",
    "\n",
    "for i in range(10, 40, 10):\n",
    "  print(i)"
   ]
  },
  {
   "cell_type": "code",
   "execution_count": 22,
   "metadata": {},
   "outputs": [
    {
     "name": "stdout",
     "output_type": "stream",
     "text": [
      "10\n",
      "-------\n",
      "20\n",
      "-------\n",
      "30\n",
      "-------\n",
      "10\n",
      "-------\n",
      "20\n",
      "-------\n",
      "30\n",
      "-------\n"
     ]
    }
   ],
   "source": [
    "#138 다음 코드를 for문으로 작성하라.\n",
    "\n",
    "print(10)\n",
    "print(\"-------\")\n",
    "print(20)\n",
    "print(\"-------\")\n",
    "print(30)\n",
    "print(\"-------\")\n",
    "\n",
    "for i in range(10, 40, 10):\n",
    "  print(i)\n",
    "  print(\"-------\")\n",
    "    "
   ]
  },
  {
   "cell_type": "code",
   "execution_count": 23,
   "metadata": {},
   "outputs": [
    {
     "name": "stdout",
     "output_type": "stream",
     "text": [
      "++++\n",
      "10\n",
      "20\n",
      "30\n",
      "++++\n",
      "10\n",
      "20\n",
      "30\n"
     ]
    }
   ],
   "source": [
    "#139 다음 코드를 for문으로 작성하라.\n",
    "\n",
    "print(\"++++\")\n",
    "print(10)\n",
    "print(20)\n",
    "print(30)\n",
    "\n",
    "print(\"++++\")\n",
    "for i in range(10, 40, 10):\n",
    "  print(i)"
   ]
  },
  {
   "cell_type": "code",
   "execution_count": 25,
   "metadata": {},
   "outputs": [
    {
     "name": "stdout",
     "output_type": "stream",
     "text": [
      "-------\n",
      "-------\n",
      "-------\n",
      "-------\n",
      "-------\n",
      "-------\n",
      "-------\n",
      "-------\n"
     ]
    }
   ],
   "source": [
    "#140 다음 코드를 for문으로 작성하라.\n",
    "\n",
    "print(\"-------\")\n",
    "print(\"-------\")\n",
    "print(\"-------\")\n",
    "print(\"-------\")\n",
    "\n",
    "for i in range(4):\n",
    "    print(\"-------\")"
   ]
  },
  {
   "cell_type": "code",
   "execution_count": 27,
   "metadata": {},
   "outputs": [
    {
     "name": "stdout",
     "output_type": "stream",
     "text": [
      "110\n",
      "210\n",
      "310\n"
     ]
    }
   ],
   "source": [
    "#141 다음과 같이 판매가가 저장된 리스트가 있을 때 부가세가 포함된 가격을 for 문을 사용해서 화면에 출력하라. 단 부가세는 10원으로 가정한다.\n",
    "\n",
    "리스트 = [100, 200, 300]\n",
    "\n",
    "#110\n",
    "#210\n",
    "#310\n",
    "\n",
    "for i in 리스트:\n",
    "  print(i+10)"
   ]
  },
  {
   "cell_type": "code",
   "execution_count": 28,
   "metadata": {},
   "outputs": [
    {
     "name": "stdout",
     "output_type": "stream",
     "text": [
      "오늘의 메뉴: 김밥\n",
      "오늘의 메뉴: 라면\n",
      "오늘의 메뉴: 튀김\n"
     ]
    }
   ],
   "source": [
    "#142 for 문을 사용해서 리스트에 저장된 값을 다음과 같이 출력하라.\n",
    "\n",
    "리스트 = [\"김밥\", \"라면\", \"튀김\"]\n",
    "# 오늘의 메뉴: 김밥\n",
    "# 오늘의 메뉴: 라면\n",
    "# 오늘의 메뉴: 튀김\n",
    "\n",
    "for t in 리스트:\n",
    "  print(f\"오늘의 메뉴: {t}\")"
   ]
  },
  {
   "cell_type": "code",
   "execution_count": 29,
   "metadata": {},
   "outputs": [
    {
     "name": "stdout",
     "output_type": "stream",
     "text": [
      "6\n",
      "4\n",
      "4\n"
     ]
    }
   ],
   "source": [
    "#143 리스트에 주식 종목이름이 저장돼 있다.\n",
    "\n",
    "리스트 = [\"SK하이닉스\", \"삼성전자\", \"LG전자\"]\n",
    "# 저장된 문자열의 길이를 다음과 같이 출력하라.\n",
    "\n",
    "# 6\n",
    "# 4\n",
    "# 4\n",
    "\n",
    "for t in 리스트:\n",
    "  print(len(t))"
   ]
  },
  {
   "cell_type": "code",
   "execution_count": 30,
   "metadata": {},
   "outputs": [
    {
     "name": "stdout",
     "output_type": "stream",
     "text": [
      "dog 3\n",
      "cat 3\n",
      "parrot 6\n"
     ]
    }
   ],
   "source": [
    "#144 리스트에는 동물이름이 문자열로 저장돼 있다.\n",
    "\n",
    "리스트 = ['dog', 'cat', 'parrot']\n",
    "# 동물 이름과 글자수를 다음과 같이 출력하라.\n",
    "\n",
    "# dog 3\n",
    "# cat 3\n",
    "# parrot 6\n",
    "\n",
    "\n",
    "for t in 리스트:\n",
    "  print(t, len(t))"
   ]
  },
  {
   "cell_type": "code",
   "execution_count": 33,
   "metadata": {},
   "outputs": [
    {
     "name": "stdout",
     "output_type": "stream",
     "text": [
      "d\n",
      "c\n",
      "p\n"
     ]
    }
   ],
   "source": [
    "#145 리스트에 동물 이름 저장돼 있다.\n",
    "\n",
    "리스트 = ['dog', 'cat', 'parrot']\n",
    "# for문을 사용해서 동물 이름의 첫 글자만 출력하라.\n",
    "\n",
    "# d\n",
    "# c\n",
    "# p\n",
    "\n",
    "for t in 리스트:\n",
    "  print(t[0])"
   ]
  },
  {
   "cell_type": "code",
   "execution_count": 38,
   "metadata": {},
   "outputs": [
    {
     "name": "stdout",
     "output_type": "stream",
     "text": [
      "3 x 3\n",
      "3 x 3\n",
      "3 x 3\n"
     ]
    }
   ],
   "source": [
    "#146 리스트에는 세 개의 숫자가 바인딩돼 있다.\n",
    "\n",
    "리스트 = [1, 2, 3]\n",
    "# for문을 사용해서 다음과 같이 출력하라.\n",
    "\n",
    "# 3 x 1\n",
    "# 3 x 2\n",
    "# 3 x 3\n",
    "\n",
    "for i in 리스트:\n",
    "  print(\"3 x\", t)"
   ]
  },
  {
   "cell_type": "code",
   "execution_count": 41,
   "metadata": {},
   "outputs": [
    {
     "name": "stdout",
     "output_type": "stream",
     "text": [
      "3 x 1 = 3\n",
      "3 x 2 = 6\n",
      "3 x 3 = 9\n"
     ]
    }
   ],
   "source": [
    "#147 리스트에는 세 개의 숫자가 바인딩돼 있다.\n",
    "\n",
    "리스트 = [1, 2, 3]\n",
    "# for문을 사용해서 다음과 같이 출력하라.\n",
    "\n",
    "# 3 x 1 = 3\n",
    "# 3 x 2 = 6\n",
    "# 3 x 3 = 9\n",
    "\n",
    "for i in 리스트:\n",
    "  print(f\"3 x {i} = {3*i}\")"
   ]
  },
  {
   "cell_type": "code",
   "execution_count": 44,
   "metadata": {},
   "outputs": [
    {
     "name": "stdout",
     "output_type": "stream",
     "text": [
      "나\n",
      "다\n",
      "라\n"
     ]
    }
   ],
   "source": [
    "#148 리스트에는 네 개의 문자열이 바인딩돼 있다.\n",
    "\n",
    "리스트 = [\"가\", \"나\", \"다\", \"라\"]\n",
    "# for문을 사용해서 다음과 같이 출력하라.\n",
    "\n",
    "# 나\n",
    "# 다\n",
    "# 라\n",
    "\n",
    "for t in 리스트[1:]:\n",
    "  print(t)"
   ]
  },
  {
   "cell_type": "code",
   "execution_count": 58,
   "metadata": {},
   "outputs": [
    {
     "name": "stdout",
     "output_type": "stream",
     "text": [
      "가\n",
      "다\n"
     ]
    }
   ],
   "source": [
    "#149 리스트에는 네 개의 문자열이 바인딩돼 있다.\n",
    "\n",
    "리스트 = [\"가\", \"나\", \"다\", \"라\"]\n",
    "\n",
    "# for문을 사용해서 다음과 같이 출력하라.\n",
    "\n",
    "# 가\n",
    "# 다\n",
    "\n",
    "for t in 리스트[::2]:\n",
    "  print(t)"
   ]
  },
  {
   "cell_type": "code",
   "execution_count": 60,
   "metadata": {},
   "outputs": [
    {
     "name": "stdout",
     "output_type": "stream",
     "text": [
      "라\n",
      "다\n",
      "나\n",
      "가\n"
     ]
    }
   ],
   "source": [
    "#150 리스트에는 네 개의 문자열이 바인딩돼 있다.\n",
    "\n",
    "리스트 = [\"가\", \"나\", \"다\", \"라\"]\n",
    "# for문을 사용해서 다음과 같이 출력하라.\n",
    "\n",
    "# 라\n",
    "# 다\n",
    "# 나\n",
    "# 가\n",
    "\n",
    "for t in 리스트[::-1]:\n",
    "  print(t)"
   ]
  },
  {
   "cell_type": "code",
   "execution_count": 64,
   "metadata": {},
   "outputs": [
    {
     "name": "stdout",
     "output_type": "stream",
     "text": [
      "-20\n",
      "-3\n"
     ]
    }
   ],
   "source": [
    "#151 리스트에는 네 개의 정수가 저장돼 있다.\n",
    "\n",
    "리스트 = [3, -20, -3, 44]\n",
    "# for문을 사용해서 리스트의 음수를 출력하라.\n",
    "\n",
    "# -20\n",
    "# -3\n",
    "\n",
    "for t in 리스트:\n",
    "  if t < 0:\n",
    "    print(t)\n",
    "#   else:\n",
    "#     continue"
   ]
  },
  {
   "cell_type": "code",
   "execution_count": 73,
   "metadata": {},
   "outputs": [
    {
     "name": "stdout",
     "output_type": "stream",
     "text": [
      "3\n"
     ]
    }
   ],
   "source": [
    "#152 for문을 사용해서 3의 배수만을 출력하라.\n",
    "\n",
    "리스트 = [3, 100, 23, 44]\n",
    "# 3\n",
    "\n",
    "for i in 리스트:\n",
    "  if i % 3 == 0:\n",
    "    print(i)"
   ]
  },
  {
   "cell_type": "code",
   "execution_count": 75,
   "metadata": {},
   "outputs": [
    {
     "name": "stdout",
     "output_type": "stream",
     "text": [
      "12\n",
      "18\n"
     ]
    }
   ],
   "source": [
    "#153 리스트에서 20 보다 작은 3의 배수를 출력하라\n",
    "\n",
    "리스트 = [13, 21, 12, 14, 30, 18]\n",
    "# 12\n",
    "# 18\n",
    "\n",
    "for i in 리스트:\n",
    "  if (i < 20) and (i % 3 == 0):\n",
    "    print(i)"
   ]
  },
  {
   "cell_type": "code",
   "execution_count": 76,
   "metadata": {},
   "outputs": [
    {
     "name": "stdout",
     "output_type": "stream",
     "text": [
      "study\n",
      "python\n",
      "language\n"
     ]
    }
   ],
   "source": [
    "#154 리스트에서 세 글자 이상의 문자를 화면에 출력하라\n",
    "\n",
    "리스트 = [\"I\", \"study\", \"python\", \"language\", \"!\"]\n",
    "# study\n",
    "# python\n",
    "# language\n",
    "\n",
    "for t in 리스트:\n",
    "  if len(t) >= 3:\n",
    "    print(t)"
   ]
  },
  {
   "cell_type": "code",
   "execution_count": 87,
   "metadata": {},
   "outputs": [
    {
     "name": "stdout",
     "output_type": "stream",
     "text": [
      "A\n",
      "D\n",
      "A\n",
      "D\n"
     ]
    }
   ],
   "source": [
    "#155 리스트에서 대문자만 화면에 출력하라.\n",
    "\n",
    "리스트 = [\"A\", \"b\", \"c\", \"D\"]\n",
    "# A\n",
    "# D\n",
    "\n",
    "for t in 리스트:\n",
    "  if t == t.upper():\n",
    "    print(t)\n",
    "    \n",
    "for t in 리스트:\n",
    "  if t.isupper() == True: # == True를 안줘도 True인 애만 뱉어줌(근데 명시적으로 표현해주는 게 더 나아보임)\n",
    "    print(t)"
   ]
  },
  {
   "cell_type": "code",
   "execution_count": 93,
   "metadata": {},
   "outputs": [
    {
     "name": "stdout",
     "output_type": "stream",
     "text": [
      "b\n",
      "c\n",
      "\n",
      "\n",
      "b\n",
      "c\n",
      "\n",
      "\n",
      "b\n",
      "c\n",
      "\n",
      "\n",
      "b\n",
      "c\n"
     ]
    }
   ],
   "source": [
    "#156 리스트에서 소문자만 화면에 출력하라.\n",
    "\n",
    "리스트 = [\"A\", \"b\", \"c\", \"D\"]\n",
    "# b\n",
    "# c\n",
    "\n",
    "for t in 리스트:\n",
    "  if t == t.lower():\n",
    "    print(t)\n",
    "print(\"\\n\")\n",
    "for t in 리스트:\n",
    "  if t.islower() == True: # islower() 메소드 자체를 써도 되고\n",
    "    print(t)\n",
    "print(\"\\n\")    \n",
    "for t in 리스트:\n",
    "  if t.isupper() == False: # 위에서 썼던 isupper() 메소드를 False, != True로 써도 되고\n",
    "    print(t)\n",
    "print(\"\\n\")\n",
    "for t in 리스트:\n",
    "  if not t.isupper(): # if 다음에 not을 붙여서 t.isupper() == True를 반대로 만들어줘도 되고\n",
    "    print(t)"
   ]
  },
  {
   "cell_type": "code",
   "execution_count": 97,
   "metadata": {},
   "outputs": [
    {
     "name": "stdout",
     "output_type": "stream",
     "text": [
      "Dog\n",
      "Cat\n",
      "Parrot\n"
     ]
    }
   ],
   "source": [
    "#157 이름의 첫 글자를 대문자로 변경해서 출력하라.\n",
    "\n",
    "리스트 = ['dog', 'cat', 'parrot']\n",
    "# Dog\n",
    "# Cat\n",
    "# Parrot\n",
    "\n",
    "for t in 리스트:\n",
    "  print(t[0].upper() + t[1:])"
   ]
  },
  {
   "cell_type": "code",
   "execution_count": 100,
   "metadata": {},
   "outputs": [
    {
     "name": "stdout",
     "output_type": "stream",
     "text": [
      "hello\n",
      "ex01\n",
      "intro\n"
     ]
    }
   ],
   "source": [
    "#158 파일 이름이 저장된 리스트에서 확장자를 제거하고 파일 이름만 화면에 출력하라. (힌트: split() 메서드)\n",
    "\n",
    "리스트 = ['hello.py', 'ex01.py', 'intro.hwp']\n",
    "# hello\n",
    "# ex01\n",
    "# intro\n",
    "\n",
    "for t in 리스트:\n",
    "  print(t.split(\".\")[0])"
   ]
  },
  {
   "cell_type": "code",
   "execution_count": 106,
   "metadata": {},
   "outputs": [
    {
     "name": "stdout",
     "output_type": "stream",
     "text": [
      "intra.h\n",
      "\n",
      "\n",
      "intra.h\n",
      "define.hwp\n"
     ]
    }
   ],
   "source": [
    "#159 파일 이름이 저장된 리스트에서 확장자가 .h인 파일 이름을 출력하라.\n",
    "\n",
    "리스트 = ['intra.h', 'intra.c', 'define.hwp', 'run.py']\n",
    "# intra.h\n",
    "\n",
    "for t in 리스트:\n",
    "  if t.split(\".\")[1] == \"h\": # 정확히 h인 경우\n",
    "    print(t)\n",
    "    \n",
    "print(\"\\n\")\n",
    "\n",
    "for t in 리스트:\n",
    "  if t.split(\".\")[1][0] == \"h\": # h로 시작하는 경우\n",
    "    print(t)"
   ]
  },
  {
   "cell_type": "code",
   "execution_count": 107,
   "metadata": {},
   "outputs": [
    {
     "name": "stdout",
     "output_type": "stream",
     "text": [
      "intra.h\n",
      "intra.c\n",
      "define.h\n"
     ]
    }
   ],
   "source": [
    "#160 파일 이름이 저장된 리스트에서 확장자가 .h나 .c인 파일을 화면에 출력하라.\n",
    "\n",
    "리스트 = ['intra.h', 'intra.c', 'define.h', 'run.py']\n",
    "# intra.h\n",
    "# intra.c\n",
    "# define.h\n",
    "\n",
    "for t in 리스트:\n",
    "  if (t.split(\".\")[1] == \"h\") or (t.split(\".\")[1] == \"c\"):\n",
    "    print(t)"
   ]
  },
  {
   "cell_type": "code",
   "execution_count": null,
   "metadata": {},
   "outputs": [],
   "source": []
  }
 ],
 "metadata": {
  "hide_input": false,
  "kernelspec": {
   "display_name": "Python 3",
   "language": "python",
   "name": "python3"
  },
  "language_info": {
   "codemirror_mode": {
    "name": "ipython",
    "version": 3
   },
   "file_extension": ".py",
   "mimetype": "text/x-python",
   "name": "python",
   "nbconvert_exporter": "python",
   "pygments_lexer": "ipython3",
   "version": "3.7.4"
  },
  "toc": {
   "base_numbering": 1,
   "nav_menu": {},
   "number_sections": true,
   "sideBar": true,
   "skip_h1_title": false,
   "title_cell": "Table of Contents",
   "title_sidebar": "Contents",
   "toc_cell": false,
   "toc_position": {
    "height": "calc(100% - 180px)",
    "left": "10px",
    "top": "150px",
    "width": "336px"
   },
   "toc_section_display": true,
   "toc_window_display": true
  }
 },
 "nbformat": 4,
 "nbformat_minor": 4
}

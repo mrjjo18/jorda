{
 "cells": [
  {
   "cell_type": "markdown",
   "metadata": {
    "id": "WSbVSg_Cn0s5"
   },
   "source": [
    "# import"
   ]
  },
  {
   "cell_type": "code",
   "execution_count": 1,
   "metadata": {
    "ExecuteTime": {
     "end_time": "2020-10-08T04:25:47.188159Z",
     "start_time": "2020-10-08T04:25:44.924565Z"
    },
    "id": "oSiIylmTn0s6",
    "outputId": "85589600-552a-4571-816e-d5233a4a6cf3"
   },
   "outputs": [
    {
     "data": {
      "text/html": [
       "<style>.container { width:85% !important; }</style>"
      ],
      "text/plain": [
       "<IPython.core.display.HTML object>"
      ]
     },
     "metadata": {},
     "output_type": "display_data"
    }
   ],
   "source": [
    "import numpy as np\n",
    "import random\n",
    "import pandas as pd\n",
    "import scipy as sp\n",
    "import scipy.stats\n",
    "from scipy.stats import beta\n",
    "\n",
    "import matplotlib.pyplot as plt\n",
    "import matplotlib.patches as mpatches\n",
    "import seaborn as sns\n",
    "import math\n",
    "import matplotlib as mpl\n",
    "import matplotlib.font_manager as fm\n",
    "import plotly.express as px\n",
    "import plotly.graph_objects as go\n",
    "from plotly.subplots import make_subplots\n",
    "\n",
    "from IPython.display import Latex\n",
    "\n",
    "import gcsfs\n",
    "from dfply import *\n",
    "from IPython.core.display import display, HTML\n",
    "\n",
    "import os\n",
    "import sys\n",
    "import pickle\n",
    "\n",
    "# # 노트북 안에 그래프를 그리기 위해\n",
    "# %matplotlib inline\n",
    "# 노트북 폭\n",
    "display(HTML(\"<style>.container { width:85% !important; }</style>\"))\n",
    "# 그래프에서 격자로 숫자 범위가 눈에 잘 띄도록 ggplot 스타일을 사용\n",
    "plt.style.use('ggplot')\n",
    "# 그래프에서 마이너스 폰트 깨지는 문제에 대한 대처\n",
    "mpl.rcParams['axes.unicode_minus'] = False\n",
    "# 한글 for mac\n",
    "mpl.rc('font', family='AppleGothic')"
   ]
  },
  {
   "cell_type": "markdown",
   "metadata": {
    "id": "2DArH4Q1n0tG"
   },
   "source": [
    "# Thompson Sampling"
   ]
  },
  {
   "cell_type": "markdown",
   "metadata": {
    "id": "4CoBQWkBVmIW"
   },
   "source": [
    "## MAB - Thompson Sampling 개념"
   ]
  },
  {
   "cell_type": "markdown",
   "metadata": {
    "id": "6Z-_uSGCn0tH"
   },
   "source": [
    "http://www.secmem.org/blog/2019/01/10/discounted-thompson-sampling/\n",
    "\n",
    "http://sanghyukchun.github.io/96/\n",
    "\n",
    "Bernoulli Bandit 문제에서 success가 발생하면 reward 1을 얻고 failure가 발생하면 아무 reward를 받지 않는다고 합시다. \n",
    "\n",
    "다시 말해, arm \n",
    "k\n",
    "를 당기면 \n",
    "θ\n",
    "k\n",
    "의 확률로 reward 1을 받고 \n",
    "1\n",
    "−\n",
    "θ\n",
    "k\n",
    "의 확률로 reward를 받지 못 합니다. \n",
    "\n",
    "처음에 agent는 arm \n",
    "x\n",
    "1\n",
    "을 당기고 \n",
    "r\n",
    "1\n",
    "의 reward를 받습니다. \n",
    "\n",
    "agent는 이 결과 \n",
    "r\n",
    "1\n",
    "을 보고 arm \n",
    "x\n",
    "2\n",
    "를 당긴 뒤에 \n",
    "r\n",
    "2\n",
    "의 reward를 얻게 됩니다. \n",
    "\n",
    "agent는 계속해서 이러한 과정을 반복할 것입니다. \n",
    "\n",
    "여기에서 agent가 사전에 각 \n",
    "θ\n",
    "k\n",
    "에 대한 분포를 독립된 beta 분포로 추정했다고 합시다."
   ]
  },
  {
   "cell_type": "markdown",
   "metadata": {
    "id": "xD1FhRvgn0tH"
   },
   "source": [
    "시각 \n",
    "t\n",
    "일 때, Thompson Sampling은 각 arm \n",
    "k\n",
    "에 대해 추정값 \n",
    "^\n",
    "θ\n",
    "k\n",
    "을 posterior 분포인 \n",
    "B\n",
    "e\n",
    "t\n",
    "a\n",
    "(\n",
    "α\n",
    "k\n",
    ",\n",
    "β\n",
    "k\n",
    ")\n",
    "로부터 뽑습니다. \n",
    "\n",
    "이 중에서 가장 큰 추정값에 대한 arm \n",
    "x\n",
    "t\n",
    "를 수행하고 관찰된 reward \n",
    "r\n",
    "t\n",
    "에 따라 앞에서 설명한 바와 같이 해당 파래매터 \n",
    "α\n",
    "x\n",
    "t\n",
    ",\n",
    "β\n",
    "x\n",
    "t\n",
    "를 업데이트합니다."
   ]
  },
  {
   "cell_type": "markdown",
   "metadata": {
    "id": "hmbiQMsWn0tI"
   },
   "source": [
    "파라매터가 (\n",
    "α\n",
    ",\n",
    "β\n",
    ")인 beta 분포는 평균이 \n",
    "α/\n",
    "(\n",
    "α\n",
    "+\n",
    "β\n",
    ")\n",
    "이고 분산이 \n",
    "α\n",
    "β/\n",
    "(\n",
    "α\n",
    "+\n",
    "β\n",
    ")\n",
    "2\n",
    "(\n",
    "α\n",
    "+\n",
    "β\n",
    "+\n",
    "1\n",
    ")\n",
    "입니다. \n",
    "\n",
    "평균이 같을 때 \n",
    "α\n",
    "+\n",
    "β\n",
    "가 증가하면 분산이 작아지기 때문에 분포 모양이 평균을 중심으로 뾰족해지는 특성이 있습니다. 관찰한 reward가 많아질수록 arm에 대한 분포는 점점 뾰족해지는 양상을 띄며 각 arm에 대한 추정값이 점점 해당 분포의 평균에 가까운 경우가 많아집니다. 따라서 시간이 흐를수록 평균 reward가 낮은 arm은 선택될 가능성이 낮아지고 평균 reward가 높은 arm이 많이 선택됩니다."
   ]
  },
  {
   "cell_type": "markdown",
   "metadata": {
    "id": "fGeKYEbMn0tP"
   },
   "source": [
    "## 1. Thompson Sampling Sample Code (Arm 갯수 상관없음)"
   ]
  },
  {
   "cell_type": "markdown",
   "metadata": {
    "id": "L3FxF4PEn0tV"
   },
   "source": [
    "### phase 1 - 데이터 생성"
   ]
  },
  {
   "cell_type": "code",
   "execution_count": null,
   "metadata": {
    "ExecuteTime": {
     "end_time": "2020-09-29T01:40:34.974469Z",
     "start_time": "2020-09-29T01:40:34.760483Z"
    },
    "id": "E2uB8Zpzn0tV",
    "outputId": "73d90901-d26d-4846-fc91-d26ac05fecd0"
   },
   "outputs": [
    {
     "data": {
      "text/html": [
       "<div>\n",
       "<style scoped>\n",
       "    .dataframe tbody tr th:only-of-type {\n",
       "        vertical-align: middle;\n",
       "    }\n",
       "\n",
       "    .dataframe tbody tr th {\n",
       "        vertical-align: top;\n",
       "    }\n",
       "\n",
       "    .dataframe thead th {\n",
       "        text-align: right;\n",
       "    }\n",
       "</style>\n",
       "<table border=\"1\" class=\"dataframe\">\n",
       "  <thead>\n",
       "    <tr style=\"text-align: right;\">\n",
       "      <th></th>\n",
       "      <th>arm_1</th>\n",
       "      <th>arm_2</th>\n",
       "    </tr>\n",
       "  </thead>\n",
       "  <tbody>\n",
       "    <tr>\n",
       "      <th>0</th>\n",
       "      <td>0.0</td>\n",
       "      <td>1.0</td>\n",
       "    </tr>\n",
       "    <tr>\n",
       "      <th>1</th>\n",
       "      <td>0.0</td>\n",
       "      <td>1.0</td>\n",
       "    </tr>\n",
       "    <tr>\n",
       "      <th>2</th>\n",
       "      <td>1.0</td>\n",
       "      <td>1.0</td>\n",
       "    </tr>\n",
       "    <tr>\n",
       "      <th>3</th>\n",
       "      <td>0.0</td>\n",
       "      <td>1.0</td>\n",
       "    </tr>\n",
       "    <tr>\n",
       "      <th>4</th>\n",
       "      <td>1.0</td>\n",
       "      <td>1.0</td>\n",
       "    </tr>\n",
       "    <tr>\n",
       "      <th>...</th>\n",
       "      <td>...</td>\n",
       "      <td>...</td>\n",
       "    </tr>\n",
       "    <tr>\n",
       "      <th>2995</th>\n",
       "      <td>1.0</td>\n",
       "      <td>1.0</td>\n",
       "    </tr>\n",
       "    <tr>\n",
       "      <th>2996</th>\n",
       "      <td>1.0</td>\n",
       "      <td>0.0</td>\n",
       "    </tr>\n",
       "    <tr>\n",
       "      <th>2997</th>\n",
       "      <td>0.0</td>\n",
       "      <td>0.0</td>\n",
       "    </tr>\n",
       "    <tr>\n",
       "      <th>2998</th>\n",
       "      <td>0.0</td>\n",
       "      <td>NaN</td>\n",
       "    </tr>\n",
       "    <tr>\n",
       "      <th>2999</th>\n",
       "      <td>0.0</td>\n",
       "      <td>NaN</td>\n",
       "    </tr>\n",
       "  </tbody>\n",
       "</table>\n",
       "<p>3000 rows × 2 columns</p>\n",
       "</div>"
      ],
      "text/plain": [
       "      arm_1  arm_2\n",
       "0       0.0    1.0\n",
       "1       0.0    1.0\n",
       "2       1.0    1.0\n",
       "3       0.0    1.0\n",
       "4       1.0    1.0\n",
       "...     ...    ...\n",
       "2995    1.0    1.0\n",
       "2996    1.0    0.0\n",
       "2997    0.0    0.0\n",
       "2998    0.0    NaN\n",
       "2999    0.0    NaN\n",
       "\n",
       "[3000 rows x 2 columns]"
      ]
     },
     "execution_count": 9,
     "metadata": {
      "tags": []
     },
     "output_type": "execute_result"
    }
   ],
   "source": [
    "########################################\n",
    "######## phase 1 - 사전 데이터 집계 ########\n",
    "########################################\n",
    "\n",
    "#### 임의의 데이터 생성 - 실제 데이터는 bigquery GA테이블에서 추출 예정 ####\n",
    "random.seed(1)\n",
    "arm_1 = [random.randint(0,1) for x in range(3000)]\n",
    "arm_2 = [random.randint(0,1) for x in range(2998)]\n",
    "# arm_3 = [random.randint(0,1) for x in range(2987)]\n",
    "# arm_4 = [random.randint(0,1) for x in range(3000)]\n",
    "\n",
    "df = pd.DataFrame([arm_1, arm_2]).T.rename(columns={0:\"arm_1\", 1:\"arm_2\", 2:\"arm_3\", 3:\"arm_4\"})\n",
    "df"
   ]
  },
  {
   "cell_type": "markdown",
   "metadata": {
    "id": "Pxh6OLHeVmIc"
   },
   "source": [
    "### phase 2 - 사전 데이터 집계 & Beta분포 추정 & Random Sampling"
   ]
  },
  {
   "cell_type": "code",
   "execution_count": null,
   "metadata": {
    "ExecuteTime": {
     "end_time": "2020-09-29T01:40:39.157009Z",
     "start_time": "2020-09-29T01:40:38.361466Z"
    },
    "id": "S8RUfWqZVmId",
    "outputId": "a6e17008-6f03-484d-8f9e-dd0cbb45235c"
   },
   "outputs": [
    {
     "data": {
      "image/png": "[encoded data removed]",
      "text/plain": [
       "<Figure size 1080x360 with 1 Axes>"
      ]
     },
     "metadata": {
      "tags": []
     },
     "output_type": "display_data"
    },
    {
     "data": {
      "image/png": "[encoded data removed]",
      "text/plain": [
       "<Figure size 1080x360 with 1 Axes>"
      ]
     },
     "metadata": {
      "tags": []
     },
     "output_type": "display_data"
    },
    {
     "data": {
      "text/html": [
       "<div>\n",
       "<style scoped>\n",
       "    .dataframe tbody tr th:only-of-type {\n",
       "        vertical-align: middle;\n",
       "    }\n",
       "\n",
       "    .dataframe tbody tr th {\n",
       "        vertical-align: top;\n",
       "    }\n",
       "\n",
       "    .dataframe thead th {\n",
       "        text-align: right;\n",
       "    }\n",
       "</style>\n",
       "<table border=\"1\" class=\"dataframe\">\n",
       "  <thead>\n",
       "    <tr style=\"text-align: right;\">\n",
       "      <th></th>\n",
       "      <th>arm_1</th>\n",
       "      <th>arm_2</th>\n",
       "    </tr>\n",
       "  </thead>\n",
       "  <tbody>\n",
       "    <tr>\n",
       "      <th>0</th>\n",
       "      <td>0.519</td>\n",
       "      <td>0.505</td>\n",
       "    </tr>\n",
       "    <tr>\n",
       "      <th>1</th>\n",
       "      <td>0.486</td>\n",
       "      <td>0.511</td>\n",
       "    </tr>\n",
       "    <tr>\n",
       "      <th>2</th>\n",
       "      <td>0.515</td>\n",
       "      <td>0.503</td>\n",
       "    </tr>\n",
       "    <tr>\n",
       "      <th>3</th>\n",
       "      <td>0.509</td>\n",
       "      <td>0.517</td>\n",
       "    </tr>\n",
       "    <tr>\n",
       "      <th>4</th>\n",
       "      <td>0.505</td>\n",
       "      <td>0.517</td>\n",
       "    </tr>\n",
       "    <tr>\n",
       "      <th>...</th>\n",
       "      <td>...</td>\n",
       "      <td>...</td>\n",
       "    </tr>\n",
       "    <tr>\n",
       "      <th>2995</th>\n",
       "      <td>0.506</td>\n",
       "      <td>0.519</td>\n",
       "    </tr>\n",
       "    <tr>\n",
       "      <th>2996</th>\n",
       "      <td>0.519</td>\n",
       "      <td>0.511</td>\n",
       "    </tr>\n",
       "    <tr>\n",
       "      <th>2997</th>\n",
       "      <td>0.498</td>\n",
       "      <td>0.501</td>\n",
       "    </tr>\n",
       "    <tr>\n",
       "      <th>2998</th>\n",
       "      <td>0.510</td>\n",
       "      <td>0.518</td>\n",
       "    </tr>\n",
       "    <tr>\n",
       "      <th>2999</th>\n",
       "      <td>0.494</td>\n",
       "      <td>0.503</td>\n",
       "    </tr>\n",
       "  </tbody>\n",
       "</table>\n",
       "<p>3000 rows × 2 columns</p>\n",
       "</div>"
      ],
      "text/plain": [
       "      arm_1  arm_2\n",
       "0     0.519  0.505\n",
       "1     0.486  0.511\n",
       "2     0.515  0.503\n",
       "3     0.509  0.517\n",
       "4     0.505  0.517\n",
       "...     ...    ...\n",
       "2995  0.506  0.519\n",
       "2996  0.519  0.511\n",
       "2997  0.498  0.501\n",
       "2998  0.510  0.518\n",
       "2999  0.494  0.503\n",
       "\n",
       "[3000 rows x 2 columns]"
      ]
     },
     "execution_count": 10,
     "metadata": {
      "tags": []
     },
     "output_type": "execute_result"
    }
   ],
   "source": [
    "##########################################################\n",
    "######## phase 2 - 사전 데이터 집계 & beta 분포 추정 & Random Sampling ########\n",
    "##########################################################\n",
    "\n",
    "#### 각 arm 집계, 샘플링에 필요한 dict, df 생성 ####\n",
    "dict_click = {}\n",
    "dict_len = {}\n",
    "rvs_df = pd.DataFrame([0] * len(df))\n",
    "\n",
    "#### 사전 데이터 집계 및 샘플링 #### \n",
    "# 수식상으로는 [1회 샘플링 -> argmax idx 노출 -> reward 여부 집계 -> 분포 업데이트] 인데,\n",
    "# 현실적으로 수식처럼 운영하기가 어렵기 때문에 [n회 샘플링 -> arm별 argmax 횟수 집계 -> argmax 횟수 비율로 노출비율 조정 -> 익일 재노출 -> reward 여부 집계 -> 분포 업데이트 -> 반복] 의 과정으로 진행\n",
    "\n",
    "for i in df.columns:\n",
    "  dict_click[i] = df.loc[:,i].sum()\n",
    "  dict_len[i] = len(df[df.loc[:,i] >= 0])\n",
    "  x = np.linspace(0, 1, 500) # 0 ~ 1까지의 확률변수 공간 생성(간격 500)\n",
    "  globals()[\"{}_total\".format(i)] = dict_len[i]\n",
    "  globals()[\"{}_click\".format(i)] = dict_click[i]\n",
    "  globals()[\"{}_non_click\".format(i)] = dict_len[i] - dict_click[i]\n",
    "  globals()[\"{}_rvs\".format(i)] = []\n",
    "## 사전확률 기준 beta분포 생성 - bernoulli 분포의 mean(=theta)를 기반으로 theta의 pdf를 추정한 beta 분포 생성 (bernoulli 분포의 theta = beta 분포의 mean) ##\n",
    "  globals()[\"{}_pdf\".format(i)] = beta.pdf(x, dict_click[i] + 1, dict_len[i] - dict_click[i] + 1)   #beta 분포 추정\n",
    "  globals()[\"{}_mean\".format(i)] = beta.stats(dict_click[i], dict_len[i] - dict_click[i], moments = 'mvsk')[0]   #beta 분포 기댓값 (mvsk = 평균, 분산, 왜도, 첨도 순)\n",
    "\n",
    "#### beta 분포 추정 plot 영역 ####\n",
    "  plt.figure(figsize = (15,5))\n",
    "  plt.plot(x, globals()[\"{}_pdf\".format(i)], 'r-', lw = 3, alpha = 0.6, label = str(\"{}_beta\".format(i))) #사전정보가 없을 때 = beta(1, 1) -> 그래서 beta(a+1, b+1)\n",
    "  plt.axvline(x = globals()[\"{}_mean\".format(i)], c = 'g') # mean == [0]\n",
    "  plt.text(x = np.round(globals()[\"{}_mean\".format(i)], 2), y = 5, s = \" <- E(x): \" + str(np.round(globals()[\"{}_mean\".format(i)], 3)), fontsize = 15)#, y = 10, s = \"test\")\n",
    "#   plt.legend(loc = 'best', frameon = False)\n",
    "  plt.xticks(ticks = (np.arange(0.0, 1.1, 0.1)))\n",
    "  plt.title(\"{}_Beta분포 추정 - 사전\".format(i))\n",
    "  plt.show()\n",
    "  \n",
    "#### df길이 기준으로 random sampling ####\n",
    "  for trial in range(len(df)):#trial range는 임의로 이렇게 한 것 - 최초 test data만큼 표본 추출\n",
    "    globals()[\"{}_rvs\".format(i)].append(beta.rvs(dict_click[i], dict_len[i] - dict_click[i], size = 1)[0]) #스칼라로 받아오려고 [0]\n",
    "    \n",
    "  globals()[\"{}_rvs_df\".format(i)] = pd.DataFrame(globals()[\"{}_rvs\".format(i)], columns = [str(\"{}\".format(i))])\n",
    "  rvs_df = rvs_df.merge(globals()[\"{}_rvs_df\".format(i)], left_index = True, right_index = True, copy = False)\n",
    "\n",
    "rvs_df = round(rvs_df.iloc[:,1:], 3)\n",
    "rvs_df"
   ]
  },
  {
   "cell_type": "markdown",
   "metadata": {
    "id": "Z8KicyueVmIf"
   },
   "source": [
    "### phase 3 - argmax winner 비율에 따른 노출비율 조정(target_update)"
   ]
  },
  {
   "cell_type": "code",
   "execution_count": null,
   "metadata": {
    "ExecuteTime": {
     "end_time": "2020-09-29T01:40:52.977686Z",
     "start_time": "2020-09-29T01:40:52.465076Z"
    },
    "id": "p2ruRFo5n0tX",
    "outputId": "0883758f-4169-4cfc-de7a-d82931c9dd65"
   },
   "outputs": [
    {
     "data": {
      "text/html": [
       "<div>\n",
       "<style scoped>\n",
       "    .dataframe tbody tr th:only-of-type {\n",
       "        vertical-align: middle;\n",
       "    }\n",
       "\n",
       "    .dataframe tbody tr th {\n",
       "        vertical-align: top;\n",
       "    }\n",
       "\n",
       "    .dataframe thead th {\n",
       "        text-align: right;\n",
       "    }\n",
       "</style>\n",
       "<table border=\"1\" class=\"dataframe\">\n",
       "  <thead>\n",
       "    <tr style=\"text-align: right;\">\n",
       "      <th></th>\n",
       "      <th>arm_1</th>\n",
       "      <th>arm_2</th>\n",
       "    </tr>\n",
       "  </thead>\n",
       "  <tbody>\n",
       "    <tr>\n",
       "      <th>0</th>\n",
       "      <td>8173.0</td>\n",
       "      <td>11827.0</td>\n",
       "    </tr>\n",
       "  </tbody>\n",
       "</table>\n",
       "</div>"
      ],
      "text/plain": [
       "    arm_1    arm_2\n",
       "0  8173.0  11827.0"
      ]
     },
     "execution_count": 12,
     "metadata": {
      "tags": []
     },
     "output_type": "execute_result"
    }
   ],
   "source": [
    "#########################################################\n",
    "######## phase 3 - argmax winner & target update ########\n",
    "#########################################################\n",
    "argmax_winner = []\n",
    "# argmax_loser = []\n",
    "\n",
    "#### rvs_df 에서 arm별로 몇 회 winning 했는지 집계 ####\n",
    "for i in rvs_df.index:\n",
    "  argmax_winner += [rvs_df.iloc[i,:].idxmax()]\n",
    "#   argmax_loser += [rvs_df.iloc[i,:].idxmin()]\n",
    "\n",
    "argmax_winner = pd.Series(argmax_winner).value_counts(normalize = True).sort_index(ascending = True)\n",
    "argmax_winner = pd.DataFrame(argmax_winner).T\n",
    "\n",
    "day_2_reco_target = 20000\n",
    "argmax_winner = round(argmax_winner * day_2_reco_target, 0)\n",
    "\n",
    "#### 조정비율 * target 건수가 실제 target을 초과하는 경우가 있음(round때문) -> 이를 방지하기 위한 처리 ####\n",
    "for i in argmax_winner:\n",
    "  if argmax_winner.loc[:, :i].values.sum() <= day_2_reco_target:\n",
    "    pass\n",
    "  else:\n",
    "    argmax_winner.loc[:, i] -= abs(argmax_winner.loc[:, :i].values.sum() - day_2_reco_target)\n",
    "\n",
    "argmax_winner"
   ]
  },
  {
   "cell_type": "markdown",
   "metadata": {
    "id": "EnGe2MHSVmIi"
   },
   "source": [
    "### phase 4 - 조정하여 노출한 결과 집계 & beta 분포 update"
   ]
  },
  {
   "cell_type": "code",
   "execution_count": null,
   "metadata": {
    "ExecuteTime": {
     "end_time": "2020-09-29T01:41:09.699393Z",
     "start_time": "2020-09-29T01:41:07.856248Z"
    },
    "id": "t5AkUr7wn0tZ",
    "outputId": "eee4211e-c49d-4695-acae-cff748e0d912"
   },
   "outputs": [
    {
     "data": {
      "image/png": "[encoded data removed]",
      "text/plain": [
       "<Figure size 1080x360 with 1 Axes>"
      ]
     },
     "metadata": {
      "tags": []
     },
     "output_type": "display_data"
    },
    {
     "data": {
      "image/png": "[encoded data removed]",
      "text/plain": [
       "<Figure size 1080x360 with 1 Axes>"
      ]
     },
     "metadata": {
      "tags": []
     },
     "output_type": "display_data"
    }
   ],
   "source": [
    "#############################################################\n",
    "######## phase 4 - 조정 노출한 결과 집계 & beta 분포 update #######\n",
    "#############################################################\n",
    "\n",
    "#### 조정 노출한 고객수 업데이트 - 실제 데이터는 bigquery GA테이블에서 추출 예정 ####\n",
    "random.seed(1)\n",
    "arm_1 = arm_1 + [random.randint(0,1) for x in range(int(argmax_winner[\"arm_1\"]))]\n",
    "arm_2 = arm_2 + [random.randint(0,1) for x in range(int(argmax_winner[\"arm_2\"]))] \n",
    "# arm_3 = arm_3 + [random.randint(0,1) for x in range(int(argmax_winner[\"arm_3\"]))]\n",
    "# arm_4 = arm_4 + [random.randint(0,1) for x in range(int(argmax_winner[\"arm_4\"]))]\n",
    "\n",
    "df = pd.DataFrame([arm_1, arm_2]).T.rename(columns={0:\"arm_1\", 1:\"arm_2\", 2:\"arm_3\", 3:\"arm_4\"})\n",
    "\n",
    "###############################################\n",
    "######## phase 2 - beta 분포 내 sampling ########\n",
    "###############################################\n",
    "\n",
    "dict_click = {}\n",
    "dict_len = {}\n",
    "rvs_df = pd.DataFrame([0] * len(df))\n",
    "\n",
    "for i in df.columns:\n",
    "  dict_click[i] = df.loc[:,i].sum()\n",
    "  dict_len[i] = len(df[df.loc[:,i] >= 0])\n",
    "  globals()[\"{}_total\".format(i)] = dict_len[i]\n",
    "  globals()[\"{}_click\".format(i)] = dict_click[i]\n",
    "  globals()[\"{}_non_click\".format(i)] = dict_len[i] - dict_click[i]\n",
    "  globals()[\"{}_rvs\".format(i)] = []\n",
    "  globals()[\"{}_pdf\".format(i)] = beta.pdf(x, dict_click[i] + 1, dict_len[i] - dict_click[i] + 1)\n",
    "  globals()[\"{}_mean\".format(i)] = beta.stats(dict_click[i], dict_len[i] - dict_click[i], moments = 'mvsk')[0]\n",
    "\n",
    "#### plot 영역 ####\n",
    "  x = np.linspace(0, 1, 500) # 0 ~ 1까지의 확률변수 공간 생성\n",
    "  plt.figure(figsize = (15,5))\n",
    "  plt.plot(x, globals()[\"{}_pdf\".format(i)], 'r-', lw = 3, alpha = 0.6, label = str(\"{}_beta\".format(i))) #사전정보가 없을 때 = beta(1, 1) -> 그래서 beta(a+1, b+1)\n",
    "  plt.axvline(x = globals()[\"{}_mean\".format(i)], c = 'g') # mean == [0]\n",
    "  plt.text(x = np.round(globals()[\"{}_mean\".format(i)], 2), y = 5, s = \" <- E(x): \" + str(np.round(globals()[\"{}_mean\".format(i)], 3)), fontsize = 15)#, y = 10, s = \"test\")\n",
    "#   plt.legend(loc = 'best', frameon = False)\n",
    "  plt.title(\"{}_Beta분포 추정 - 사후\".format(i))\n",
    "  plt.xticks(ticks = (np.arange(0.0, 1.1, 0.1)))\n",
    "  plt.show()\n",
    "  \n",
    "#   for trial in range(len(df)):#trial range는 임의로 이렇게 한 것\n",
    "#     globals()[\"{}_rvs\".format(i)].append(beta.rvs(dict_click[i], dict_len[i] - dict_click[i], size = 1)[0]) #스칼라로 받아오려고 [0]\n",
    "    \n",
    "#   globals()[\"{}_rvs_df\".format(i)] = pd.DataFrame(globals()[\"{}_rvs\".format(i)], columns = [str(\"{}\".format(i))])\n",
    "#   rvs_df = rvs_df.merge(globals()[\"{}_rvs_df\".format(i)], left_index = True, right_index = True, copy = False)\n",
    "\n",
    "# rvs_df = rvs_df.iloc[:,1:]\n",
    "# rvs_df"
   ]
  },
  {
   "cell_type": "markdown",
   "metadata": {
    "id": "4r0WyRQpn0tI"
   },
   "source": [
    "## 2. Thompson Sampling Sample Code (하드코딩으로 짠 것(arm 2개만 가능)) "
   ]
  },
  {
   "cell_type": "markdown",
   "metadata": {
    "id": "ijMI2V00n0tI"
   },
   "source": [
    "### phase 0 - 사전 데이터가 없는 상태"
   ]
  },
  {
   "cell_type": "code",
   "execution_count": null,
   "metadata": {
    "ExecuteTime": {
     "end_time": "2020-09-25T04:54:46.063579Z",
     "start_time": "2020-09-25T04:54:45.877615Z"
    },
    "id": "Gab7_kCUn0tJ",
    "outputId": "9fb95714-885a-4868-a494-094c0df459e1"
   },
   "outputs": [
    {
     "data": {
      "image/png": "[encoded data removed]",
      "text/plain": [
       "<Figure size 1080x360 with 1 Axes>"
      ]
     },
     "metadata": {
      "tags": []
     },
     "output_type": "display_data"
    }
   ],
   "source": [
    "########################################\n",
    "######## phase 0 - 정보가 없는 상태 ########\n",
    "########################################\n",
    "\n",
    "x = np.linspace(0, 1, 500) # 0 ~ 1까지의 확률변수 공간 생성\n",
    "plt.figure(figsize=(15,5))\n",
    "plt.plot(x, beta.pdf(x, 1, 1), 'r-', lw=3, alpha=0.6, label='arm_1') #사전정보가 없을 때 = beta(1, 1) -> 그래서 beta(a+1, b+1)\n",
    "# plt.axvline(x=np.round(beta.stats(arm_1_click, arm_1_non_click, moments='mvsk')[0],3), c = 'r') # mean == [0]\n",
    "plt.plot(x, beta.pdf(x, 1, 1), 'g-', lw=3, alpha=0.6, label='arm_2')\n",
    "# plt.axvline(x=np.round(beta.stats(arm_2_click, arm_2_non_click, moments='mvsk')[0],3), c = 'g')\n",
    "plt.legend(loc='best', frameon=False)\n",
    "# plt.tick_params(colors = \"white\")\n",
    "plt.xticks(ticks = (np.arange(0.0, 1.1, 0.1)))\n",
    "plt.title(\"테스트 전 - beta(1, 1)\", {\"color\" : \"black\"})\n",
    "plt.show()"
   ]
  },
  {
   "cell_type": "markdown",
   "metadata": {
    "id": "zhHA1u4rn0tL"
   },
   "source": [
    "### phase 1 - 사전(테스트 초기) 데이터 집계 & beta 분포 생성"
   ]
  },
  {
   "cell_type": "code",
   "execution_count": null,
   "metadata": {
    "ExecuteTime": {
     "end_time": "2020-09-25T04:54:52.524987Z",
     "start_time": "2020-09-25T04:54:52.323414Z"
    },
    "id": "NM-6Ft5vn0tL",
    "outputId": "71783924-5473-4600-85a2-9d4804068ff5"
   },
   "outputs": [
    {
     "name": "stdout",
     "output_type": "stream",
     "text": [
      "day_1_arm_1_click: 1508\n",
      "day_1_arm_1_non_click: 1492\n",
      "day_1_arm_1_total: 3000\n",
      "day_1_arm_1_mean: 0.503\n",
      "\n",
      "day_1_arm_2_click: 1511\n",
      "day_1_arm_2_non_click: 1477\n",
      "day_1_arm_2_total: 2988\n",
      "day_1_arm_2_mean: 0.506\n",
      "\n",
      "day_1_arm_total: 5988\n",
      "\n",
      "\n"
     ]
    },
    {
     "data": {
      "image/png": "[encoded data removed]",
      "text/plain": [
       "<Figure size 1080x360 with 1 Axes>"
      ]
     },
     "metadata": {
      "tags": []
     },
     "output_type": "display_data"
    }
   ],
   "source": [
    "########################################\n",
    "######## phase 1 - 사전 데이터 집계 ########\n",
    "########################################\n",
    "# 임의의 데이터 생성\n",
    "random.seed(1)\n",
    "arm_1 = [random.randint(0,1) for x in range(3000)]\n",
    "arm_2 = [random.randint(0,1) for x in range(2988)] # 두 리스트의 길이가 같다면 한 개의 data frame으로 처리해도 되는데, 그렇지 않을 것이기 때문에 \n",
    "\n",
    "# print(\"arm_1:\\n\" + str(arm_1))\n",
    "# print(\"arm_2:\\n\" + str(arm_2) + \"\\n\" + \"\\n\")\n",
    "\n",
    "# 사전정보(확률) 데이터 집계\n",
    "arm_1_click = sum(arm_1)\n",
    "arm_1_non_click = len(arm_1) - arm_1_click\n",
    "arm_2_click = sum(arm_2)\n",
    "arm_2_non_click = len(arm_2) - arm_2_click\n",
    "\n",
    "print(\"day_1_arm_1_click: \" + str(arm_1_click))\n",
    "print(\"day_1_arm_1_non_click: \" + str(arm_1_non_click))\n",
    "print(\"day_1_arm_1_total: \" + str(arm_1_click + arm_1_non_click))\n",
    "print(\"day_1_arm_1_mean: \" + str(np.round(beta.stats(arm_1_click, arm_1_non_click, moments='mvsk')[0],3)) + \"\\n\")\n",
    "\n",
    "print(\"day_1_arm_2_click: \" + str(arm_2_click))\n",
    "print(\"day_1_arm_2_non_click: \" + str(arm_2_non_click))\n",
    "print(\"day_1_arm_2_total: \" + str(arm_2_click + arm_2_non_click))\n",
    "print(\"day_1_arm_2_mean: \" + str(np.round(beta.stats(arm_2_click, arm_2_non_click, moments='mvsk')[0],3)) + \"\\n\")\n",
    "print(\"day_1_arm_total: \" + str(arm_1_click + arm_1_non_click+arm_2_click + arm_2_non_click) + \"\\n\" + \"\\n\")\n",
    "\n",
    "\n",
    "# 사전확률 기준 beta분포 생성 - bernoulli 분포의 mean prob(theta)를 기반으로 theta의 pdf를 추정한 beta 분포 생성 (bernoulli 분포의 theta = beta 분포의 mean)\n",
    "x = np.linspace(0, 1, 500) # 0 ~ 1까지의 확률변수 공간 생성\n",
    "plt.figure(figsize=(15,5))\n",
    "plt.plot(x, beta.pdf(x, arm_1_click+1, arm_1_non_click+1), 'r-', lw=3, alpha=0.6, label='arm_1') #사전정보가 없을 때 = beta(1, 1) -> 그래서 beta(a+1, b+1)\n",
    "plt.axvline(x=np.round(beta.stats(arm_1_click, arm_1_non_click, moments='mvsk')[0],3), c = 'r') # mean == [0]\n",
    "plt.plot(x, beta.pdf(x, arm_2_click+1, arm_2_non_click+1), 'g-', lw=3, alpha=0.6, label='arm_2')\n",
    "plt.axvline(x=np.round(beta.stats(arm_2_click, arm_2_non_click, moments='mvsk')[0],3), c = 'g')\n",
    "plt.legend(loc='best', frameon=False)\n",
    "# plt.tick_params(colors = \"white\")\n",
    "plt.title(\"day_1_result - beta(a+1, b+1)\", {\"color\" : \"black\"})\n",
    "plt.xticks(ticks = (np.arange(0.0, 1.1, 0.1)))\n",
    "plt.show()"
   ]
  },
  {
   "cell_type": "markdown",
   "metadata": {
    "id": "qFWtwNNxn0tN"
   },
   "source": [
    "### phase 2 - 생성한 분포 내에서 random sampling & argmax winner 집계"
   ]
  },
  {
   "cell_type": "code",
   "execution_count": null,
   "metadata": {
    "ExecuteTime": {
     "end_time": "2020-09-25T04:55:05.775906Z",
     "start_time": "2020-09-25T04:54:58.916540Z"
    },
    "id": "Hv1PHKoAn0tN",
    "outputId": "16044440-9f15-4ab6-d989-842f639b0579"
   },
   "outputs": [
    {
     "name": "stdout",
     "output_type": "stream",
     "text": [
      "prob_df.head() & tail: \n",
      "      arm_1     arm_2  rnd\n",
      "0  0.522172  0.502980    0\n",
      "1  0.504367  0.497398    1\n",
      "2  0.513129  0.512289    2\n",
      "3  0.498619  0.504919    3\n",
      "4  0.497795  0.496006    4\n",
      "          arm_1     arm_2   rnd\n",
      "29935  0.481279  0.523517  5983\n",
      "29936  0.515414  0.497911  5984\n",
      "29937  0.488960  0.519463  5985\n",
      "29938  0.498841  0.503549  5986\n",
      "29939  0.494859  0.513801  5987\n",
      "\n"
     ]
    }
   ],
   "source": [
    "####################################################\n",
    "######## phase 2 - random sampling & argmax ########\n",
    "####################################################\n",
    "# argmax의 사전 단계 - 각 bandit별 beta 분포 내에서 랜덤 샘플링\n",
    "# arm_1_rvs = []\n",
    "# arm_2_rvs = []\n",
    "# ####랜덤 샘플링 하더라도 한 쪽으로 치우치는 경향이 있으니 n회 avg로 조정하자!####\n",
    "# for trial in range(len(arm_1)+len(arm_2)):#trial range는 임의로 이렇게 한 것\n",
    "#   arm_1_rvs.append(beta.rvs(arm_1_click, arm_1_non_click, size=1)[0]) #스칼라로 받아오려고 [0]\n",
    "#   arm_2_rvs.append(beta.rvs(arm_2_click, arm_2_non_click, size=1)[0])  \n",
    "  \n",
    "# prob_df = pd.DataFrame([arm_1_rvs, arm_2_rvs]).T.reset_index()\n",
    "# prob_df.columns=[\"trial\", \"arm_1\", \"arm_2\"]\n",
    "# prob_df.trial += 1\n",
    "\n",
    "arm_1_rvs = []\n",
    "arm_2_rvs = []\n",
    "rnd = []\n",
    "####랜덤 샘플링 하더라도 한 쪽으로 치우치는 경향이 있으니 n회 avg로 조정하자!####\n",
    "for e in range(5):\n",
    "  for trial in range(len(arm_1)+len(arm_2)):#trial range는 임의로 이렇게 한 것\n",
    "    arm_1_rvs.append(beta.rvs(arm_1_click, arm_1_non_click, size=1)[0]) #스칼라로 받아오려고 [0]\n",
    "    arm_2_rvs.append(beta.rvs(arm_2_click, arm_2_non_click, size=1)[0])\n",
    "    rnd.append(trial)\n",
    "  \n",
    "  prob_df = pd.DataFrame([arm_1_rvs, arm_2_rvs, rnd]).T\n",
    "  prob_df.columns=[\"arm_1\", \"arm_2\", \"rnd\"]\n",
    "prob_df = prob_df.astype({\"rnd\":\"int64\"})\n",
    "prob_df.groupby(by=\"rnd\")[[\"arm_1\",\"arm_2\"]].mean().reset_index()\n",
    "\n",
    "\n",
    "print(\"prob_df.head() & tail: \\n\" + str(prob_df.head()) + \"\\n\" + str(prob_df.tail()) + \"\\n\")\n",
    "\n"
   ]
  },
  {
   "cell_type": "markdown",
   "metadata": {
    "id": "IK60umQqn0tQ"
   },
   "source": [
    "### phase 3 - argmax winner 비율에 따른 노출비율 조정(target_update)"
   ]
  },
  {
   "cell_type": "code",
   "execution_count": null,
   "metadata": {
    "ExecuteTime": {
     "end_time": "2020-09-25T04:55:34.203325Z",
     "start_time": "2020-09-25T04:55:32.597967Z"
    },
    "id": "SpQa0Ym9n0tR",
    "outputId": "ef0031a7-6f95-4c3f-e3d3-00f5bb7641d7"
   },
   "outputs": [
    {
     "name": "stdout",
     "output_type": "stream",
     "text": [
      "argmax_arm_1_sum: 15089\n",
      "argmax_arm_2_sum: 20839\n",
      "argmax_arm_total: 35928\n",
      "\n",
      "arm_1의 argmax_winner 반영: 0.419978846582053\n",
      "arm_2의 argmax_winner 반영: 0.580021153417947\n",
      "원래 수식상으로는 랜덤샘플링 & argmax winner 선정 후에 winner_arm기준 x_t(t시점에 1회 노출)를 수행하라고 되어있지만,\n",
      "우리 컨텐츠 카드 특성상 노출을 아예 안할 수는 없고, 1회씩 하기에는 고객이 너무 많으니까 일단 집단별 비중을 조정하는 방식으로 활용\n",
      "\n"
     ]
    }
   ],
   "source": [
    "#########################################################\n",
    "######## phase 3 - argmax winner에 따른 노출비율 조정 ########\n",
    "#########################################################\n",
    "# argmax 단계 - 랜덤 샘플링한 값 중 argmax인 값의 집단을 더 많이 노출\n",
    "argmax_winner = []\n",
    "argmax_loser = []\n",
    "\n",
    "for i in prob_df.index:\n",
    "  if prob_df.arm_1[i] > prob_df.arm_2[i]:\n",
    "    argmax_winner += [\"arm_1\"]\n",
    "    argmax_loser += [\"arm_2\"]\n",
    "  elif prob_df.arm_1[i] < prob_df.arm_2[i]:\n",
    "    argmax_winner += [\"arm_2\"]\n",
    "    argmax_loser += [\"arm_1\"]\n",
    "  else:\n",
    "    argmax_winner += [\"draw\"]\n",
    "    argmax_loser += [\"draw\"]\n",
    "    \n",
    "arm_1_sum = arm_1_click + arm_1_non_click + argmax_winner.count(\"arm_1\")\n",
    "arm_2_sum = arm_2_click + arm_2_non_click + argmax_winner.count(\"arm_2\")\n",
    "arm_total = arm_1_sum + arm_2_sum\n",
    "\n",
    "print(\"argmax_arm_1_sum: \" + str(arm_1_sum))\n",
    "print(\"argmax_arm_2_sum: \" + str(arm_2_sum))\n",
    "print(\"argmax_arm_total: \" + str(arm_total) + \"\\n\")\n",
    "\n",
    "print(\"arm_1의 argmax_winner 반영: \" + str(arm_1_sum / arm_total))\n",
    "print(\"arm_2의 argmax_winner 반영: \" + str(arm_2_sum / arm_total))\n",
    "print(\"원래 수식상으로는 랜덤샘플링 & argmax winner 선정 후에 winner_arm기준 x_t(t시점에 1회 노출)를 수행하라고 되어있지만,\\n\" \n",
    "      \"우리 컨텐츠 카드 특성상 노출을 아예 안할 수는 없고, 1회씩 하기에는 고객이 너무 많으니까 일단 집단별 비중을 조정하는 방식으로 활용\" + \"\\n\")\n",
    "# day_1의 reward 획득률이 거의 차이가 없는데, 어떻게 samping & argmax 단계에서 비율이 이렇게 조정될 수 있을까...\n"
   ]
  },
  {
   "cell_type": "markdown",
   "metadata": {
    "id": "DaO4tNYLn0tT"
   },
   "source": [
    "### phase 4 - 조정하여 노출한 결과 집계 & beta 분포 update"
   ]
  },
  {
   "cell_type": "code",
   "execution_count": null,
   "metadata": {
    "ExecuteTime": {
     "end_time": "2020-09-25T04:55:49.162916Z",
     "start_time": "2020-09-25T04:55:48.950295Z"
    },
    "id": "KFkBLc4Qn0tT",
    "outputId": "98f02221-7176-415d-b591-de4d8344c2d1"
   },
   "outputs": [
    {
     "name": "stdout",
     "output_type": "stream",
     "text": [
      "target_divide_arm_1: 2520\n",
      "target_divide_arm_2: 3480\n",
      "target_divide_total: 6000\n",
      "\n",
      "day_2_arm_1_click: 1263\n",
      "day_2_arm_1_non_click: 1257\n",
      "day_2_arm_1_total: 2520\n",
      "\n",
      "day_2_arm_2_click: 1763\n",
      "day_2_arm_2_non_click: 1717\n",
      "day_2_arm_2_total: 3480\n",
      "\n",
      "day_2_arm_total: 6000\n",
      "\n",
      "\n",
      "updated_arm_1_click: 2771\n",
      "updated_arm_1_non_click: 2749\n",
      "updated_arm_1_total: 5520\n",
      "updated_arm_1_mean: 0.502\n",
      "\n",
      "updated_arm_2_click: 3274\n",
      "updated_arm_2_non_click: 3194\n",
      "updated_arm_2_total: 6468\n",
      "\n",
      "updated_arm_2_mean: 0.506\n",
      "\n",
      "updated_arm_total: 11988\n",
      "\n",
      "\n"
     ]
    },
    {
     "data": {
      "image/png": "[encoded data removed]",
      "text/plain": [
       "<Figure size 1080x360 with 1 Axes>"
      ]
     },
     "metadata": {
      "tags": []
     },
     "output_type": "display_data"
    }
   ],
   "source": [
    "#############################################################\n",
    "######## phase 4 - 조정 노출한 결과 집계 & beta 분포 update #######\n",
    "#############################################################\n",
    "#bandit 노출비율 조정\n",
    "target = 6000\n",
    "random.seed(1)\n",
    "arm_1 = [random.randint(0,1) for x in range(int(round(target*(arm_1_sum / arm_total), 0)))]\n",
    "arm_2 = [random.randint(0,1) for x in range(target-int(round(target*(arm_1_sum / arm_total), 0)))]\n",
    "print(\"target_divide_arm_1: \" + str(len(arm_1)))\n",
    "print(\"target_divide_arm_2: \" + str(len(arm_2)))\n",
    "print(\"target_divide_total: \" + str(len(arm_1)+len(arm_2)) + \"\\n\")\n",
    "\n",
    "# beta분포 업데이트를 위한 데이터 집계\n",
    "arm_1_click += sum(arm_1)\n",
    "arm_1_non_click += len(arm_1) - sum(arm_1)\n",
    "arm_2_click += sum(arm_2)\n",
    "arm_2_non_click += len(arm_2) - sum(arm_2)\n",
    "print(\"day_2_arm_1_click: \" + str(sum(arm_1)))\n",
    "print(\"day_2_arm_1_non_click: \" + str(len(arm_1) - sum(arm_1)))\n",
    "print(\"day_2_arm_1_total: \" + str(len(arm_1)) + \"\\n\")\n",
    "print(\"day_2_arm_2_click: \" + str(sum(arm_2)))\n",
    "print(\"day_2_arm_2_non_click: \" + str(len(arm_2) - sum(arm_2)))\n",
    "print(\"day_2_arm_2_total: \" + str(len(arm_2)) + \"\\n\")\n",
    "print(\"day_2_arm_total: \" + str(len(arm_1) + len(arm_2)) + \"\\n\" + \"\\n\")\n",
    "\n",
    "\n",
    "print(\"updated_arm_1_click: \" + str(arm_1_click))\n",
    "print(\"updated_arm_1_non_click: \" + str(arm_1_non_click))\n",
    "print(\"updated_arm_1_total: \" + str(arm_1_click + arm_1_non_click))\n",
    "print(\"updated_arm_1_mean: \" + str(np.round(beta.stats(arm_1_click, arm_1_non_click, moments='mvsk')[0],3)) + \"\\n\")\n",
    "\n",
    "print(\"updated_arm_2_click: \" + str(arm_2_click))\n",
    "print(\"updated_arm_2_non_click: \" + str(arm_2_non_click))\n",
    "print(\"updated_arm_2_total: \" + str(arm_2_click + arm_2_non_click) + \"\\n\")\n",
    "print(\"updated_arm_2_mean: \" + str(np.round(beta.stats(arm_2_click, arm_2_non_click, moments='mvsk')[0],3)) + \"\\n\")\n",
    "print(\"updated_arm_total: \" + str(arm_1_click + arm_1_non_click + arm_2_click + arm_2_non_click) + \"\\n\" + \"\\n\")\n",
    "\n",
    "#beta분포 업데이트\n",
    "x = np.linspace(0, 1, 500) # 0 ~ 1까지의 확률변수 공간 생성\n",
    "plt.figure(figsize=(15,5))\n",
    "plt.plot(x, beta.pdf(x, arm_1_click+1, arm_1_non_click+1), 'r-', lw=3, alpha=0.6, label='arm_1')\n",
    "plt.axvline(x=np.round(beta.stats(arm_1_click, arm_1_non_click, moments='mvsk')[0],3), c = 'r')\n",
    "plt.plot(x, beta.pdf(x, arm_2_click+1, arm_2_non_click+1), 'g-', lw=3, alpha=0.6, label='arm_2')\n",
    "plt.axvline(x=np.round(beta.stats(arm_2_click, arm_2_non_click, moments='mvsk')[0],3), c = 'g')\n",
    "plt.legend(loc='best', frameon=False)\n",
    "# plt.tick_params(colors = \"white\")\n",
    "plt.xticks(ticks = (np.arange(0.0, 1.1, 0.1)))\n",
    "plt.title(\"day_2_result\", {\"color\" : \"black\"})\n",
    "plt.show()"
   ]
  }
 ],
 "metadata": {
  "colab": {
   "name": "hm_MAB_practice.ipynb",
   "provenance": [],
   "toc_visible": true
  },
  "hide_input": false,
  "kernelspec": {
   "display_name": "Python 3",
   "language": "python",
   "name": "python3"
  },
  "language_info": {
   "codemirror_mode": {
    "name": "ipython",
    "version": 3
   },
   "file_extension": ".py",
   "mimetype": "text/x-python",
   "name": "python",
   "nbconvert_exporter": "python",
   "pygments_lexer": "ipython3",
   "version": "3.7.9"
  },
  "toc": {
   "base_numbering": 1,
   "nav_menu": {},
   "number_sections": true,
   "sideBar": true,
   "skip_h1_title": false,
   "title_cell": "Table of Contents",
   "title_sidebar": "Contents",
   "toc_cell": false,
   "toc_position": {
    "height": "calc(100% - 180px)",
    "left": "10px",
    "top": "150px",
    "width": "242px"
   },
   "toc_section_display": true,
   "toc_window_display": true
  }
 },
 "nbformat": 4,
 "nbformat_minor": 1
}

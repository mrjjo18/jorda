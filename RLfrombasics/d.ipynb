{
 "cells": [
  {
   "cell_type": "code",
   "execution_count": 1,
   "metadata": {},
   "outputs": [],
   "source": [
    "import random\n",
    "import numpy as np\n",
    "\n",
    "class GridWorld():\n",
    "    def __init__(self):\n",
    "        self.x=0\n",
    "        self.y=0\n",
    "    \n",
    "    def step(self, a):\n",
    "        # 0번 액션: 왼쪽, 1번 액션: 위, 2번 액션: 오른쪽, 3번 액션: 아래쪽\n",
    "        if a==0:\n",
    "            self.move_left()\n",
    "        elif a==1:\n",
    "            self.move_up()\n",
    "        elif a==2:\n",
    "            self.move_right()\n",
    "        elif a==3:\n",
    "            self.move_down()\n",
    "\n",
    "        reward = -1 # 보상은 항상 -1로 고정\n",
    "        done = self.is_done()\n",
    "        return (self.x, self.y), reward, done\n",
    "\n",
    "    def move_right(self):\n",
    "        self.y += 1  \n",
    "        if self.y > 3:\n",
    "            self.y = 3\n",
    "      \n",
    "    def move_left(self):\n",
    "        self.y -= 1\n",
    "        if self.y < 0:\n",
    "            self.y = 0\n",
    "      \n",
    "    def move_up(self):\n",
    "        self.x -= 1\n",
    "        if self.x < 0:\n",
    "            self.x = 0\n",
    "  \n",
    "    def move_down(self):\n",
    "        self.x += 1\n",
    "        if self.x > 3:\n",
    "            self.x = 3\n",
    "\n",
    "    def is_done(self):\n",
    "        if self.x == 3 and self.y == 3:\n",
    "            return True\n",
    "        else :\n",
    "            return False\n",
    "\n",
    "    def get_state(self):\n",
    "        return (self.x, self.y)\n",
    "      \n",
    "    def reset(self):\n",
    "        self.x = 0\n",
    "        self.y = 0\n",
    "        return (self.x, self.y)\n",
    "\n",
    "\n",
    "\n",
    "\n"
   ]
  },
  {
   "cell_type": "code",
   "execution_count": 2,
   "metadata": {},
   "outputs": [],
   "source": [
    "class Agent():\n",
    "    def __init__(self):\n",
    "        pass        \n",
    "\n",
    "    def select_action(self):\n",
    "        coin = random.random()\n",
    "        if coin < 0.25:\n",
    "            action = 0\n",
    "        elif coin < 0.5:\n",
    "            action = 1\n",
    "        elif coin < 0.75:\n",
    "            action = 2\n",
    "        else:\n",
    "            action = 3\n",
    "        return action"
   ]
  },
  {
   "cell_type": "code",
   "execution_count": 3,
   "metadata": {},
   "outputs": [
    {
     "name": "stdout",
     "output_type": "stream",
     "text": [
      "[-58.067344219911746, -56.10642823821196, -53.045221439687054, -49.984588993257844]\n",
      "[-55.80720730635031, -52.826866741030706, -47.40504021044409, -42.51729531425399]\n",
      "[-52.2289598884789, -47.754351363602325, -37.364539167113676, -25.709889903924424]\n",
      "[-49.05856933978746, -41.95977228724884, -27.52463035910145, 0]\n"
     ]
    }
   ],
   "source": [
    "def main():\n",
    "    #TD\n",
    "    env = GridWorld()\n",
    "    agent = Agent()\n",
    "    data = [[0,0,0,0],[0,0,0,0],[0,0,0,0],[0,0,0,0]]\n",
    "    gamma = 1.0\n",
    "    reward = -1\n",
    "    alpha = 0.01\n",
    "\n",
    "    for k in range(50000):\n",
    "        done = False\n",
    "        while not done:\n",
    "            x, y = env.get_state()\n",
    "            action = agent.select_action()\n",
    "            (x_prime, y_prime), reward, done = env.step(action)\n",
    "            x_prime, y_prime = env.get_state()\n",
    "            data[x][y] = data[x][y] + alpha*(reward+gamma*data[x_prime][y_prime]-data[x][y])\n",
    "        env.reset()\n",
    "            \n",
    "    for row in data:\n",
    "        print(row)\n",
    "\n",
    "if __name__ == '__main__':\n",
    "    main()"
   ]
  },
  {
   "cell_type": "code",
   "execution_count": null,
   "metadata": {},
   "outputs": [],
   "source": []
  }
 ],
 "metadata": {
  "kernelspec": {
   "display_name": "Python 3",
   "language": "python",
   "name": "python3"
  },
  "language_info": {
   "codemirror_mode": {
    "name": "ipython",
    "version": 3
   },
   "file_extension": ".py",
   "mimetype": "text/x-python",
   "name": "python",
   "nbconvert_exporter": "python",
   "pygments_lexer": "ipython3",
   "version": "3.7.9"
  }
 },
 "nbformat": 4,
 "nbformat_minor": 4
}

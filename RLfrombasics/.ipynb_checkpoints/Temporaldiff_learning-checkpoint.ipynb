{
 "cells": [
  {
   "cell_type": "markdown",
   "metadata": {},
   "source": [
    "# **MDP를 모를 때 밸류 평가하기**"
   ]
  },
  {
   "cell_type": "markdown",
   "metadata": {},
   "source": [
    "지금까지 MDP에서 보상함수 $r^a_s$와 상태 전이확률 $P^a_{ss'}$를 알 때를 기준으로 최적의 정책을 탐색하였음\n",
    "\n",
    "이제 $r^a_s$와 $P^a_{ss'}$를 모름. 즉, 실제 action을 하기 전에는 특정 상태나 행동을 했을 때 어떤 보상을 얻는지, 어떤 상태로 이동하게 되는지 확률 분포 자체를 모르는 상황 -> Model-Free"
   ]
  },
  {
   "cell_type": "markdown",
   "metadata": {},
   "source": [
    "## **2. Temporal Difference 학습**"
   ]
  },
  {
   "cell_type": "markdown",
   "metadata": {},
   "source": [
    "### **1) 개요**\n",
    "\n",
    "**접근법: 에피소드가 끝나기 전에 업데이트 할 수 없을까? → 미래의 추측으로 과거의 추측을 업데이트하자(=Temporal Difference)**\n",
    "\n",
    "- 금요일: 상황을 보니 일요일에 비가 올 확률은 50%정도 되겠구나\n",
    "\n",
    "- 토요일: 음, 상황을 **조금 더** 지켜보니 일요일에 비가 올 확률은 80%정도 되겠구나\n",
    "\n",
    "- 일요일: 비가 옴\n",
    "\n",
    "**MC라면?** -> 아, 일요일에 비가 왔네? 금요일의 예측값을 비가 올 확률이 더 높아지게 업데이트. 즉, 에피소드가 1번이라도 끝나야 과거의 예측을 업데이트할 수 있음\n",
    "\n",
    "**TD라면?** -> 아, 일요일에 비가 왔네?까지 가지 않고 토요일의 예측값을 금요일의 예측값에 섞이도록 업데이트. 즉, 에피소드가 끝나지 않고 한 개의 step이 끝나면 과거(t-1)의 예측을 업데이트할 수 있음\n",
    "\n",
    "**MC의 이론적 근거**\n",
    "$$ v_\\pi(s_t) = E_\\pi[G_t] $$\n",
    "t시점에 특정 state에서의 가치함수는 해당 시점 기준으로 얻은 + 미래에 얻을 수 있는 보상 합계의 기댓값인데, $G_t$를 많이 모을수록 그 기댓값은 $v_\\pi(s_t)$에 수렴하게 됨\n",
    "\n",
    "**TD의 이론적 근거**\n",
    "$$ v_\\pi(s_t) = E_\\pi[r_{t+1} + \\gamma{v_{\\pi}}(s_t+1)]$$  t시점에 특정 state에서의 가치함수는 해당 시점 기준으로 얻은 보상과 바로 다음 state에서의 상태가치함수 합계의 기댓값이다.\n",
    "\n",
    "*여기서 $r_{t+1}+\\gamma{v_\\pi}(s_t+1)$는 우리가 추정해야하는 값이고, 이를 TD Target이라 부름\n"
   ]
  },
  {
   "cell_type": "markdown",
   "metadata": {},
   "source": [
    "### **2) TD 학습 알고리즘(그리드 월드로 설명 108p ~ 111p)**\n",
    "\n",
    "**보상**: ? / **상태전이확률**: ? / **정책**: 4방향, uniform random\n"
   ]
  },
  {
   "cell_type": "markdown",
   "metadata": {},
   "source": [
    "#### **(1) 테이블 초기화 - MC와 동일** \n",
    "#### **(2) 경험쌓기 - MC와 동일**\n",
    "#### **(3) 테이블 업데이트**\n",
    "지나온 경로가 $s_0 -> s_1 -> s_2 -> s_3 -> s_7 -> s_6 -> s_{10} -> s_{11} ->$종료였을 때, \n",
    "\n",
    "**MC기준 업데이트 수식은** $V(s_t) ← V(s_t) + \\alpha(G_t - V(s_t))$로 나타낼 수 있으며, $S_0$ ~ $S_{11}$까지 한 에피소드가 종료되어야 상태에 대한 값을 업데이트할 수 있음\n",
    "\n",
    "그러나 **TD기준 업데이트 수식은** $G_t$에 $r_{t+1} + \\gamma{v_\\pi}(s_t+1)$를 대입하여 $V(s_t) ← V(s_t) + \\alpha(r_{t+1} + \\gamma{V(s_{t+1})} - V(s_t))$로 나타낼 수 있는데,\n",
    "\n",
    "각각의 상태 전이가 일어나자마자 바로 테이블의 값을 업데이트할 수 있음\n",
    "\n",
    "\n",
    "이를 단계별로 풀어보면\n",
    "$$(r = -1, \\alpha = 0.01, \\gamma = 1.0)$$\n",
    "\n",
    "$$V(s_0) ← V(s_0) + 0.01 * (-1 + V(s_1) - V(s_0))$$\n",
    "\n",
    "$$V(s_1) ← V(s_1) + 0.01 * (-1 + V(s_2) - V(s_1))$$\n",
    "\n",
    "$$ ... $$\n",
    "\n",
    "$$V(s_{11}) ← V(s_{11}) + 0.01 * (-1 + V(s_{15}) - V(s_{11}))$$\n",
    "\n",
    "이렇게 한 에피소드를 각 step별로 업데이트하고, 이를 반복하여 테이블의 값이 수렴할 때까지 업데이트 한다."
   ]
  },
  {
   "cell_type": "code",
   "execution_count": 31,
   "metadata": {},
   "outputs": [],
   "source": [
    "from ch5_TDLearning import GridWorld, Agent\n",
    "import warnings\n",
    "warnings.filterwarnings(action='ignore')"
   ]
  },
  {
   "cell_type": "markdown",
   "metadata": {},
   "source": [
    "## env, Agent 클래스는 MC와 동일하므로 생략"
   ]
  },
  {
   "cell_type": "markdown",
   "metadata": {},
   "source": [
    "## main함수"
   ]
  },
  {
   "cell_type": "code",
   "execution_count": 34,
   "metadata": {},
   "outputs": [
    {
     "name": "stdout",
     "output_type": "stream",
     "text": [
      "[-59.93409359280402, -58.248404269731594, -54.576366012893, -50.91846879111262]\n",
      "[-58.18223949551134, -54.707932837647874, -48.570371169102735, -43.6596135871193]\n",
      "[-54.69201689758902, -49.869650260711296, -40.35073781629131, -28.992744097413276]\n",
      "[-52.63449104882145, -45.89198444061301, -29.698579118103943, 0]\n"
     ]
    }
   ],
   "source": [
    "import pandas as pd\n",
    "def main():\n",
    "    #TD\n",
    "    env = GridWorld()\n",
    "    agent = Agent()\n",
    "    data = [[0,0,0,0],[0,0,0,0],[0,0,0,0],[0,0,0,0]]\n",
    "    # 보상, 할인율, 업데이트 파라미터 정의\n",
    "    gamma = 1.0\n",
    "    reward = -1\n",
    "    alpha = 0.01\n",
    "    \n",
    "    # 총 5만 번의 에피소드를 진행하는데, \n",
    "    for k in range(50000):\n",
    "        done = False\n",
    "        # 에이전트가 경험을 쌓는 과정. not done이 True이면(done이 False인게 True면) 아래 변수들을 만드는데, done = True이면 not done은 False이니까 멈춘다. \n",
    "        while not done:\n",
    "            #x, y의 현재 좌표(state) 가져오기\n",
    "            x, y = env.get_state()\n",
    "            # action 선택하기\n",
    "            action = agent.select_action()\n",
    "            \n",
    "            # (x',y')의 좌표, 보상, 중단여부 변수를 만들고(env에서 정의한 step 함수, is_done 함수 등에 의해 (self.x, self.y), reward, done 를 리턴)\n",
    "            (x_prime, y_prime), reward, done = env.step(action)\n",
    "#             print(\"x:{}, x_prime:{}, y:{}, y_prime:{}\".format(x, x_prime, y, y_prime))\n",
    "            \n",
    "            x_prime, y_prime = env.get_state()\n",
    "#             print(\"data[x_prime][y_prime]:\" +str(data[x_prime][y_prime]))\n",
    "            \n",
    "            #한 번의 step이 진행되자 마자 바로 테이블의 데이터를 업데이트 한다. 𝑉(𝑠𝑡) ← 𝑉(𝑠𝑡) + 𝛼(𝑟𝑡+1 + 𝛾𝑉(𝑠𝑡+1) − 𝑉(𝑠𝑡))\n",
    "            data[x][y] = data[x][y] + alpha*(reward+gamma*data[x_prime][y_prime]-data[x][y])    \n",
    "#             print(\"data[x][y]:\" +str(data[x][y])+\"\\n\")\n",
    "            \n",
    "        #한 에피소드가 끝나면 환경 리셋\n",
    "        env.reset()\n",
    "        \n",
    "#     print(\"업데이트 결과: \")           \n",
    "    for row in data:\n",
    "        # row 출력 - 굳이 for를 쓰는 건 그대로 print(data)하면 list로 나오니깐 보기 불편함\n",
    "        # 여기서 row에 있는 값은 data[x][y] = data[x][y] + alpha*(cum_reward-data[x][y])를 통해 업데이트한 값\n",
    "        print(row)\n",
    "\n",
    "if __name__ == '__main__':\n",
    "    main()"
   ]
  },
  {
   "cell_type": "code",
   "execution_count": 33,
   "metadata": {},
   "outputs": [
    {
     "name": "stdout",
     "output_type": "stream",
     "text": [
      "x:0, x_prime:0, y:0, y_prime:0\n",
      "data[x_prime][y_prime]:0\n",
      "data[x][y]:-0.01\n",
      "\n",
      "x:0, x_prime:0, y:0, y_prime:0\n",
      "data[x_prime][y_prime]:-0.01\n",
      "data[x][y]:-0.02\n",
      "\n",
      "x:0, x_prime:0, y:0, y_prime:0\n",
      "data[x_prime][y_prime]:-0.02\n",
      "data[x][y]:-0.03\n",
      "\n",
      "x:0, x_prime:1, y:0, y_prime:0\n",
      "data[x_prime][y_prime]:0\n",
      "data[x][y]:-0.0397\n",
      "\n",
      "x:1, x_prime:2, y:0, y_prime:0\n",
      "data[x_prime][y_prime]:0\n",
      "data[x][y]:-0.01\n",
      "\n",
      "x:2, x_prime:1, y:0, y_prime:0\n",
      "data[x_prime][y_prime]:-0.01\n",
      "data[x][y]:-0.0101\n",
      "\n",
      "x:1, x_prime:1, y:0, y_prime:0\n",
      "data[x_prime][y_prime]:-0.01\n",
      "data[x][y]:-0.02\n",
      "\n",
      "x:1, x_prime:1, y:0, y_prime:1\n",
      "data[x_prime][y_prime]:0\n",
      "data[x][y]:-0.0298\n",
      "\n",
      "x:1, x_prime:2, y:1, y_prime:1\n",
      "data[x_prime][y_prime]:0\n",
      "data[x][y]:-0.01\n",
      "\n",
      "x:2, x_prime:3, y:1, y_prime:1\n",
      "data[x_prime][y_prime]:0\n",
      "data[x][y]:-0.01\n",
      "\n",
      "x:3, x_prime:3, y:1, y_prime:2\n",
      "data[x_prime][y_prime]:0\n",
      "data[x][y]:-0.01\n",
      "\n",
      "x:3, x_prime:2, y:2, y_prime:2\n",
      "data[x_prime][y_prime]:0\n",
      "data[x][y]:-0.01\n",
      "\n",
      "x:2, x_prime:2, y:2, y_prime:1\n",
      "data[x_prime][y_prime]:-0.01\n",
      "data[x][y]:-0.0101\n",
      "\n",
      "x:2, x_prime:1, y:1, y_prime:1\n",
      "data[x_prime][y_prime]:-0.01\n",
      "data[x][y]:-0.02\n",
      "\n",
      "x:1, x_prime:1, y:1, y_prime:0\n",
      "data[x_prime][y_prime]:-0.0298\n",
      "data[x][y]:-0.020198\n",
      "\n",
      "x:1, x_prime:2, y:0, y_prime:0\n",
      "data[x_prime][y_prime]:-0.0101\n",
      "data[x][y]:-0.039603\n",
      "\n",
      "x:2, x_prime:2, y:0, y_prime:0\n",
      "data[x_prime][y_prime]:-0.0101\n",
      "data[x][y]:-0.0201\n",
      "\n",
      "x:2, x_prime:3, y:0, y_prime:0\n",
      "data[x_prime][y_prime]:0\n",
      "data[x][y]:-0.029899000000000002\n",
      "\n",
      "x:3, x_prime:3, y:0, y_prime:0\n",
      "data[x_prime][y_prime]:0\n",
      "data[x][y]:-0.01\n",
      "\n",
      "x:3, x_prime:3, y:0, y_prime:0\n",
      "data[x_prime][y_prime]:-0.01\n",
      "data[x][y]:-0.02\n",
      "\n",
      "x:3, x_prime:3, y:0, y_prime:0\n",
      "data[x_prime][y_prime]:-0.02\n",
      "data[x][y]:-0.03\n",
      "\n",
      "x:3, x_prime:3, y:0, y_prime:1\n",
      "data[x_prime][y_prime]:-0.01\n",
      "data[x][y]:-0.0398\n",
      "\n",
      "x:3, x_prime:3, y:1, y_prime:2\n",
      "data[x_prime][y_prime]:-0.01\n",
      "data[x][y]:-0.02\n",
      "\n",
      "x:3, x_prime:3, y:2, y_prime:3\n",
      "data[x_prime][y_prime]:0\n",
      "data[x][y]:-0.0199\n",
      "\n",
      "업데이트 결과: \n",
      "[-0.0397, 0, 0, 0]\n",
      "[-0.039603, -0.020198, 0, 0]\n",
      "[-0.029899000000000002, -0.02, -0.0101, 0]\n",
      "[-0.0398, -0.02, -0.0199, 0]\n"
     ]
    }
   ],
   "source": [
    "import pandas as pd\n",
    "def main():\n",
    "    #TD\n",
    "    env = GridWorld()\n",
    "    agent = Agent()\n",
    "    data = [[0,0,0,0],[0,0,0,0],[0,0,0,0],[0,0,0,0]]\n",
    "    # 보상, 할인율, 업데이트 파라미터 정의\n",
    "    gamma = 1.0\n",
    "    reward = -1\n",
    "    alpha = 0.01\n",
    "    \n",
    "    # 총 5만 번의 에피소드를 진행하는데, \n",
    "    for k in range(1):\n",
    "        done = False\n",
    "        # 에이전트가 경험을 쌓는 과정. not done이 True이면(done이 False인게 True면) 아래 변수들을 만드는데, done = True이면 not done은 False이니까 멈춘다. \n",
    "        while not done:\n",
    "            #x, y의 현재 좌표(state) 가져오기\n",
    "            x, y = env.get_state()\n",
    "            # action 선택하기\n",
    "            action = agent.select_action()\n",
    "            \n",
    "            # (x',y')의 좌표, 보상, 중단여부 변수를 만들고(env에서 정의한 step 함수, is_done 함수 등에 의해 (self.x, self.y), reward, done 를 리턴)\n",
    "            (x_prime, y_prime), reward, done = env.step(action)\n",
    "            print(\"x:{}, x_prime:{}, y:{}, y_prime:{}\".format(x, x_prime, y, y_prime))\n",
    "            \n",
    "            x_prime, y_prime = env.get_state()\n",
    "            print(\"data[x_prime][y_prime]:\" +str(data[x_prime][y_prime]))\n",
    "            \n",
    "            #한 번의 step이 진행되자 마자 바로 테이블의 데이터를 업데이트 한다. 𝑉(𝑠𝑡) ← 𝑉(𝑠𝑡) + 𝛼(𝑟𝑡+1 + 𝛾𝑉(𝑠𝑡+1) − 𝑉(𝑠𝑡))\n",
    "            data[x][y] = data[x][y] + alpha*(reward+gamma*data[x_prime][y_prime]-data[x][y])    \n",
    "            print(\"data[x][y]:\" +str(data[x][y])+\"\\n\")\n",
    "            \n",
    "        #한 에피소드가 끝나면 환경 리셋\n",
    "        env.reset()\n",
    "        \n",
    "    print(\"업데이트 결과: \")           \n",
    "    for row in data:\n",
    "        # row 출력 - 굳이 for를 쓰는 건 그대로 print(data)하면 list로 나오니깐 보기 불편함\n",
    "        # 여기서 row에 있는 값은 data[x][y] = data[x][y] + alpha*(cum_reward-data[x][y])를 통해 업데이트한 값\n",
    "        print(row)\n",
    "\n",
    "if __name__ == '__main__':\n",
    "    main()\n",
    "# data[x_prime][y_prime]에 값이 있다는 것은, 과거에 그 값을 지나가봤다는 말 = 𝑉(𝑠0) ← 𝑉(𝑠0) + 0.01 ∗ (−1 + 𝑉(𝑠1) − 𝑉(𝑠0)) = 이 식을 풀 수 있다는 말\n",
    "# step1에서 x:0, x_prime:0, y:0, y_prime:0이고\n",
    "# step2에서도 x:0, x_prime:0, y:0, y_prime:0인 경우\n",
    "# step3에서 x:0, x_prime:1, y:0, y_prime:0인 경우\n",
    "\n",
    "\n",
    "\n",
    "# step 1\n",
    "# x:0, x_prime:0, y:0, y_prime:0\n",
    "# data[x_prime][y_prime]:0\n",
    "# 0 + 0.01(-1 + 0 - 0) = -0.01\n",
    "# 0,0의 밸류를 -0.01로 업데이트\n",
    "# data[x][y]:-0.01\n",
    "\n",
    "# step 2\n",
    "# x:0, x_prime:0, y:0, y_prime:0\n",
    "# data[x_prime][y_prime]:-0.01\n",
    "# -0.01 + 0.01(-1 + (-0.01) -(-0.01)) = -0.02\n",
    "# 0,0의 밸류를 -0.02로 다시 업데이트\n",
    "# data[x][y]:-0.02\n",
    "\n",
    "# step 3\n",
    "# x:0, x_prime:1, y:0, y_prime:0\n",
    "# data[x_prime][y_prime]:0\n",
    "# -0.03 + 0.01(-1 + 0 -(-0.03)) = -0.0397 -> 𝑉(𝑠1)를 모르니까 0으로 들어감\n",
    "# 0,0의 밸류를 -0.02로 다시 업데이트\n",
    "# data[x][y]:-0.0298"
   ]
  },
  {
   "cell_type": "markdown",
   "metadata": {},
   "source": [
    "## **3. MC VS TD**\n",
    "\n",
    "MC와 TD를 어떤 면에서 우세한지 아래 세 가지 기준으로 판단"
   ]
  },
  {
   "cell_type": "markdown",
   "metadata": {},
   "source": [
    "### 1) 학습 시점\n",
    "\n",
    "- Episodic MDP - 에피소드의 **종료 상태**가 명확히 존재하는 MDP (바둑, 엔딩이 있는 게임)\n",
    "- Non-Episodic MDP - 종료 상태 없이 하나의 에피소드가 무한히 이어지는 MDP (주식 포트폴리오 분\n",
    "\n",
    "→ MC는 Episodic MDP에만 적용할 수 있음(에피소드가 끝나야 학습과 업데이트가 가능함)\n",
    "\n",
    "→ TD는 에피소드 중간에서도 학습과 업데이트를 할 수 있음(epi, non-epi 모두 적용 가능)\n",
    "\n",
    "**TD 우세!**"
   ]
  },
  {
   "cell_type": "markdown",
   "metadata": {},
   "source": [
    "https://daeson.tistory.com/328"
   ]
  },
  {
   "cell_type": "markdown",
   "metadata": {},
   "source": [
    "### 2) 편향성(구하고자 하는 값에 가까운가?)\n",
    "\n",
    "**MC(가치함수)**\n",
    "$ v_\\pi(s_t) = E_\\pi[G_t] $\n",
    "\n",
    "**TD(벨만기대방정식)**\n",
    "$ v_\\pi(s_t) = E_\\pi[r_{t+1} + \\gamma{v_{\\pi}}(s_t+1)]$\n",
    "\n",
    "→ MC의 근간이 되는 가치함수는 편향되어있지 않음(불편추정량). 실제 학습을 통해 얻은 리턴을 여러 개 모아서 평균을 내는 방법론이므로 샘플이 많아질수록 **대수의 법칙(≠중심극한정리)**에 의해 실제 값에 수렴할 수밖에 없음.\n",
    "\n",
    "→ 그러나 TD는 편향되어 있음. $v_{\\pi}(s_{t+1}) ≠ V_{\\pi}(s_{t+1})$ \n",
    "\n",
    "벨만기대방정식에서 $v_{\\pi}(s_{t+1})$는 실젯값이므로 우리가 찾아야 할 실제 TD Target이며, 결국 찾아놓은 $V_{\\pi}(s_{t+1})$를 계속 업데이트 하면서 활용하게된다. 그러나 이 $V_{\\pi}(s_{t+1})$가 실제 Target에 다가갈 것이란 보장이 없다.\n",
    "\n",
    "현재의 추측치를 다음 스텝의 추측치로 업데이트 해주는 방법론(실제 가치와는 차이가 있음)\n",
    "\n",
    "**MC 우세!**\n"
   ]
  },
  {
   "cell_type": "markdown",
   "metadata": {},
   "source": [
    "### 3) 분산(계산한 값이 서로 많이 떨어져있는가?)\n",
    "→ MC는 에피소드 * 반복횟수를 끝내야 $G_t$를 알 수 있는데, 때때로 에피소드가 최소 경로로 끝날 수도 있고, 최대 경로로 끝날 수도 있기 때문에 리턴 값간의 분산이 크다고 할 수 있다.(분산이 크다 = 편차가 크다 = 변동성이 크다)\n",
    "\n",
    "→ 반면 TD는 한 step만 진행하면 업데이트가 가능하므로 step당 변동성이 MC에 비해 낮을 수 밖에 없다. \n",
    "\n",
    "**TD 우세!(분산이 클수록 학습이 힘듦)**\n",
    "\n",
    "분산이 클수록 학습이 힘들다는 것은 무슨 말일까요?"
   ]
  },
  {
   "cell_type": "code",
   "execution_count": 30,
   "metadata": {},
   "outputs": [
    {
     "data": {
      "image/png": "[encoded data removed]",
      "text/plain": [
       "<Figure size 1080x360 with 1 Axes>"
      ]
     },
     "metadata": {
      "needs_background": "light"
     },
     "output_type": "display_data"
    }
   ],
   "source": [
    "import numpy as np\n",
    "import matplotlib.pyplot as plt\n",
    "import seaborn as sns\n",
    "plt.figure(figsize=(15,5))\n",
    "mu, sigma = 0.0, 3.0\n",
    "sns.distplot(np.random.normal(mu, sigma, size = 5000), label = \"mu = {}, std = {}\".format(mu, sigma))\n",
    "mu, sigma = 0.0, 1.0\n",
    "sns.distplot(np.random.normal(mu, sigma, size = 5000), label = \"mu = {}, std = {}\".format(mu, sigma))\n",
    "plt.legend(loc = \"best\")\n",
    "plt.show()"
   ]
  },
  {
   "cell_type": "code",
   "execution_count": null,
   "metadata": {},
   "outputs": [],
   "source": []
  }
 ],
 "metadata": {
  "kernelspec": {
   "display_name": "Python 3",
   "language": "python",
   "name": "python3"
  },
  "language_info": {
   "codemirror_mode": {
    "name": "ipython",
    "version": 3
   },
   "file_extension": ".py",
   "mimetype": "text/x-python",
   "name": "python",
   "nbconvert_exporter": "python",
   "pygments_lexer": "ipython3",
   "version": "3.8.0"
  }
 },
 "nbformat": 4,
 "nbformat_minor": 4
}

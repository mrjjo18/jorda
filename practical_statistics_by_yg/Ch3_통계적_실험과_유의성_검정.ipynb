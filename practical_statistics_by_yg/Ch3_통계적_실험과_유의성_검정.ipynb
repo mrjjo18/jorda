{
 "cells": [
  {
   "cell_type": "code",
   "execution_count": 1,
   "metadata": {
    "ExecuteTime": {
     "end_time": "2020-11-04T05:23:18.155635Z",
     "start_time": "2020-11-04T05:23:11.022261Z"
    },
    "colab": {},
    "colab_type": "code",
    "id": "jhgodxKcbm37",
    "outputId": "0495bc86-6846-456a-8228-f8713fa32eac"
   },
   "outputs": [
    {
     "data": {
      "text/html": [
       "<style>.container { width:100% !important; }</style>"
      ],
      "text/plain": [
       "<IPython.core.display.HTML object>"
      ]
     },
     "metadata": {},
     "output_type": "display_data"
    },
    {
     "name": "stderr",
     "output_type": "stream",
     "text": [
      "/Users/a201808004/opt/anaconda3/envs/ds37/lib/python3.7/site-packages/statsmodels/tools/_testing.py:19: FutureWarning: pandas.util.testing is deprecated. Use the functions in the public API at pandas.testing instead.\n",
      "  import pandas.util.testing as tm\n"
     ]
    }
   ],
   "source": [
    "from IPython.core.display import display, HTML\n",
    "display(HTML(\"<style>.container { width:100% !important; }</style>\"))\n",
    "\n",
    "import pandas as pd\n",
    "import numpy as np\n",
    "import statsmodels.api as sm\n",
    "import statsmodels.formula.api as smf\n",
    "import random\n",
    "from scipy import stats\n",
    "from sklearn.utils import resample\n",
    "from statsmodels.stats import power\n",
    "\n",
    "import matplotlib as mpl\n",
    "import seaborn as sns\n",
    "import matplotlib.pylab as plt\n",
    "import tqdm\n",
    "\n",
    "from matplotlib import rc, font_manager\n",
    "font_path = '/Library/Fonts/NanumGothicBold.ttf'\n",
    "fontprop = font_manager.FontProperties(fname=font_path, size=14)\n",
    "\n",
    "from IPython.display import Image"
   ]
  },
  {
   "cell_type": "code",
   "execution_count": null,
   "metadata": {
    "ExecuteTime": {
     "end_time": "2020-07-01T04:37:24.116999Z",
     "start_time": "2020-07-01T04:37:24.101819Z"
    },
    "colab": {},
    "colab_type": "code",
    "id": "LhxkhXwAbm4X"
   },
   "outputs": [],
   "source": [
    "# 분포 볼 때 사용할 함수\n",
    "def plot_dist(x, bins, hist = True, kde = None, label = None, color=None, line_median = None, line_mean = None, x_format = False, y_format = False):\n",
    "  data = np.asarray(x)\n",
    "  sns.set(rc = {\"figure.figsize\": (20, 10)})\n",
    "  ax = sns.distplot(data, bins = int(round((abs(data.max()) - abs(data.min())) * bins,1)), hist = hist, kde = kde, label = label, color=color)\n",
    "  \n",
    "  if line_median is None and line_mean is None:\n",
    "    pass\n",
    "  elif line_median is not None and line_mean is None:\n",
    "    plt.axvline(round(np.median(data), 2), 1, 0, color = 'red', ls = '--', alpha = 0.5)\n",
    "    plt.text(x = np.median(data), y = line_median, s = \"Median:\" + str(round(np.median(data), 3)), bbox = dict(facecolor = 'red', alpha = 0.3), fontsize = 14)\n",
    "  elif line_median is None and line_mean is not None:\n",
    "    plt.axvline(round(np.mean(data), 2), 1, 0, color = 'blue', ls = '--', alpha = 0.5)\n",
    "    plt.text(x = np.mean(data), y = line_mean, s = \"Mean:\" + str(round(np.mean(data), 3)), bbox = dict(facecolor = 'blue', alpha = 0.3), fontsize = 14)\n",
    "  else:\n",
    "    plt.axvline(round(np.median(data), 2), 1, 0, color = 'red', ls = '--', alpha = 0.5)\n",
    "    plt.axvline(round(np.mean(data), 2), 1, 0, color = 'blue', ls = '--', alpha = 0.5)\n",
    "    plt.text(x = np.median(data), y = line_median, s = \"Median:\" + str(round(np.median(data), 3)), bbox = dict(facecolor = 'red', alpha = 0.3), fontsize = 14)\n",
    "    plt.text(x = np.mean(data), y = line_mean, s = \"Mean:\" + str(round(np.mean(data), 3)), bbox = dict(facecolor = 'blue', alpha = 0.3), fontsize = 14)\n",
    "  if y_format is True:\n",
    "    ax.yaxis.set_major_formatter(mpl.ticker.StrMethodFormatter('{x:,.0f}'))\n",
    "  if x_format is True:\n",
    "    ax.xaxis.set_major_formatter(mpl.ticker.StrMethodFormatter('{x:,.0f}'))\n",
    "    \n",
    "def plot_title(title, xlabel, ylabel, fontproperties = None, fontsize = None):\n",
    "  plt.title(label = title, fontproperties = fontproperties, fontsize = fontsize)\n",
    "  plt.xlabel(xlabel = xlabel, fontproperties = fontproperties, fontsize = fontsize)\n",
    "  plt.ylabel(ylabel = ylabel, fontproperties = fontproperties, fontsize = fontsize)"
   ]
  },
  {
   "cell_type": "markdown",
   "metadata": {
    "ExecuteTime": {
     "end_time": "2020-06-21T08:22:58.381807Z",
     "start_time": "2020-06-21T08:22:58.372727Z"
    },
    "colab_type": "text",
    "id": "rgGezA62bm4k"
   },
   "source": [
    "---\n",
    "---"
   ]
  },
  {
   "cell_type": "markdown",
   "metadata": {
    "colab_type": "text",
    "id": "n6SC3yMybm4n"
   },
   "source": [
    "전형적인 통계적 추론은 다음과 같다. _<가설 수립 → 실험 설계 → 데이터 수집 → 추론 및 결과 도출>_  \n",
    "추론은 제한된 데이터로 실험 결과를 모집단에 적용하려는 의도를 반영한다.  "
   ]
  },
  {
   "cell_type": "markdown",
   "metadata": {
    "colab_type": "text",
    "id": "l9zjXNDZbm4q"
   },
   "source": [
    "# A/B 검정\n",
    "\n",
    "- tratement: 어떤 대상에 주어지는 특별한 환경이나 조건\n",
    "- tratement group: 특정 처리에 노출된 대상들의 집단 (실험을 받는 대상)\n",
    "- control group: 어떤 처리도 하지 않은 대상들의 집단\n",
    "- test statistics: 테스트 효과를 측정하기 위한 지표\n",
    "\n",
    "---\n",
    "\n",
    "- A/B 검정 시 CG와 TG에 속하는 변수는 **랜덤**으로 할당되어야 한다.\n",
    "- 검정통계량의 지표에는 구매/구매하지 않음 등과 같은 **이진변수**로 요약되어야 한다."
   ]
  },
  {
   "cell_type": "markdown",
   "metadata": {
    "colab_type": "text",
    "id": "tuHzAs8Tbm4s"
   },
   "source": [
    "## 대조군(control group)은 왜 필요할까? \n",
    "- 대조군이 없으면 어떤 차이가 발생한 결과과 테스트 떄문인지 확신할 수 없다.\n",
    "- 일반적인 검정 실험에서는 검정통계량의 지표를 미리 결정해야 한다. 그렇지 않고 나중에 검정통계량을 선택한다면 편향에 빠지게 될 수 있다."
   ]
  },
  {
   "cell_type": "markdown",
   "metadata": {
    "colab_type": "text",
    "id": "HxJyTpKvbm4u"
   },
   "source": [
    "## 왜 하필 A/B일까? C,D..가 아니라?\n",
    "- A, B 그룹의 두집단만으로 실험을 하는 것만 존재하진 않는다. \n",
    "- 전통적인 의미의 통계적 실험은 정적인 질문에 답하는 데에 초점을 맞추었다. 예를 들면, \"가격 A와 B의 차이가 통계적으로 유의미한가?\"\n",
    "- 하지만 데이터 과학자들은 위의 질문 보다는 다음의 질문에 더 관심이 있다. \"가능한 여러 가격 중에서 가장 좋은 가격은 얼마일까?\"\n",
    "- 이러한 실험을 위해서는 **멀티암드 밴딧**과 같은 실험이 필요하다. "
   ]
  },
  {
   "cell_type": "markdown",
   "metadata": {
    "colab_type": "text",
    "id": "2rRQBkxBbm4y"
   },
   "source": [
    "# 가설검정\n",
    "- null hypothesis: 귀무가설\n",
    "- alternative hypothesis: 대립가설 (증명하고자 하는 가설)\n",
    "- one-way test: 단측검정\n",
    "- two-way test: 양측검정\n",
    "---\n",
    "- 통계적 가설검정은 연구자가 랜덤하게 우연히 일어난 일에 속지 않도록 보호하기 위한 방법으로 개발된 것이다.\n",
    "- 즉, 그룹 A와 그룹 B 사이에서 보이는 **차이가 우연에 의한 것인지를 평가**하기 위해 A/B 검정이나 더 나아가 여러 실험을 포함한 분석을 의미한다."
   ]
  },
  {
   "cell_type": "markdown",
   "metadata": {
    "colab_type": "text",
    "id": "dj_H61Rhbm42"
   },
   "source": [
    "## 귀무가설\n",
    "- 그룹들이 보이는 결과는 서로 동일하며, 그룹간 차이는 우연에 의한 결과라는 것을 기본 가정으로 하는 것이 귀무가설이다.\n",
    "- 이것이 틀렸다는 것을 입증해서 그룹 간 차이가 우연이 아니라는 것을 보여주는 것이 궁극적인 목표다."
   ]
  },
  {
   "cell_type": "markdown",
   "metadata": {
    "colab_type": "text",
    "id": "BSr8T5B_bm46"
   },
   "source": [
    "## 대립가설\n",
    "- **귀무가설에 반대되는 모든 가설**이 여기에 해당된다.\n",
    "- 즉, 귀무가설과 대립가설이 모든 가능성을 설명할 수 있어야 한다.\n",
    "---\n",
    "Ho: A와 B에는 차이가 없다.  \n",
    "H1: A와 B는 다르다.\n",
    "\n",
    "Ho: A>=B  \n",
    "H1: A< B\n",
    "\n",
    "Ho: B는 A보다 x% 더 크지 않다.  \n",
    "H1: B는 A보다 x% 크다."
   ]
  },
  {
   "cell_type": "markdown",
   "metadata": {
    "colab_type": "text",
    "id": "SH52XnT0bm4-"
   },
   "source": [
    "## 단측/양측 검정\n",
    "\n",
    "<img src=\"../image/two_way_test.png\" align=\"left\">"
   ]
  },
  {
   "cell_type": "markdown",
   "metadata": {
    "colab_type": "text",
    "id": "qn5LxMnobm5A"
   },
   "source": [
    "# 재표본추출(resampling)\n",
    "- permutation test(순열검정): 두 개 이상의 표본을 결합하여 관착값들을 무작위로 재표본 추출하는 과정을 말한다. (= 임의화검정, 임의순열검정, 정확검정)\n",
    "---\n",
    "- 통계학에서의 재표본추출은 데이터의 변동성을 알아보기 위한 것이 목표다.\n",
    "- 머신러닝에서는 모델의 정확성을 향상시키는 데에 적용할 수 있는데, 의사결정트리 모델로부터 나온 예측들을 **배깅**을 통해 평균 예측값을 구할 수 있다."
   ]
  },
  {
   "cell_type": "markdown",
   "metadata": {
    "colab_type": "text",
    "id": "9yqZKL1Mbm5D"
   },
   "source": [
    "## 순열검정\n",
    "- t-test 등 통계 검정을 수행할 만큼 샘플 수가 크지 않은 경우에 사용하는 방법이다.\n",
    "- 주어진 샘플을 무작위로 추출하여 인공적으로 샘플 수를 늘리고, 원래 주어진 샘플의 통계량이 전체 모수와 비교하여 얼마나 유의하게 차이나는지 검정하는 방법임."
   ]
  },
  {
   "cell_type": "code",
   "execution_count": null,
   "metadata": {
    "ExecuteTime": {
     "end_time": "2020-06-30T01:25:26.147104Z",
     "start_time": "2020-06-30T01:25:26.136047Z"
    },
    "colab": {},
    "colab_type": "code",
    "id": "FsVcvB5Ebm5F"
   },
   "outputs": [],
   "source": [
    "session_times = pd.read_csv('./data/web_page_data.csv')"
   ]
  },
  {
   "cell_type": "code",
   "execution_count": null,
   "metadata": {
    "ExecuteTime": {
     "end_time": "2020-06-24T05:22:02.774881Z",
     "start_time": "2020-06-24T05:22:02.763081Z"
    },
    "colab": {},
    "colab_type": "code",
    "id": "eA9-vBjjbm5S",
    "outputId": "e29538fd-4edd-4917-d7fc-40fc55363eb2"
   },
   "outputs": [
    {
     "data": {
      "text/html": [
       "<div>\n",
       "<style scoped>\n",
       "    .dataframe tbody tr th:only-of-type {\n",
       "        vertical-align: middle;\n",
       "    }\n",
       "\n",
       "    .dataframe tbody tr th {\n",
       "        vertical-align: top;\n",
       "    }\n",
       "\n",
       "    .dataframe thead th {\n",
       "        text-align: right;\n",
       "    }\n",
       "</style>\n",
       "<table border=\"1\" class=\"dataframe\">\n",
       "  <thead>\n",
       "    <tr style=\"text-align: right;\">\n",
       "      <th></th>\n",
       "      <th>Page</th>\n",
       "      <th>Time</th>\n",
       "    </tr>\n",
       "  </thead>\n",
       "  <tbody>\n",
       "    <tr>\n",
       "      <td>0</td>\n",
       "      <td>Page A</td>\n",
       "      <td>0.21</td>\n",
       "    </tr>\n",
       "    <tr>\n",
       "      <td>1</td>\n",
       "      <td>Page B</td>\n",
       "      <td>2.53</td>\n",
       "    </tr>\n",
       "    <tr>\n",
       "      <td>2</td>\n",
       "      <td>Page A</td>\n",
       "      <td>0.35</td>\n",
       "    </tr>\n",
       "    <tr>\n",
       "      <td>3</td>\n",
       "      <td>Page B</td>\n",
       "      <td>0.71</td>\n",
       "    </tr>\n",
       "    <tr>\n",
       "      <td>4</td>\n",
       "      <td>Page A</td>\n",
       "      <td>0.67</td>\n",
       "    </tr>\n",
       "  </tbody>\n",
       "</table>\n",
       "</div>"
      ],
      "text/plain": [
       "     Page  Time\n",
       "0  Page A  0.21\n",
       "1  Page B  2.53\n",
       "2  Page A  0.35\n",
       "3  Page B  0.71\n",
       "4  Page A  0.67"
      ]
     },
     "execution_count": 4,
     "metadata": {
      "tags": []
     },
     "output_type": "execute_result"
    }
   ],
   "source": [
    "session_times.head()"
   ]
  },
  {
   "cell_type": "code",
   "execution_count": null,
   "metadata": {
    "ExecuteTime": {
     "end_time": "2020-06-24T05:22:03.584886Z",
     "start_time": "2020-06-24T05:22:03.571304Z"
    },
    "colab": {},
    "colab_type": "code",
    "id": "qSmZ_hXGbm5k"
   },
   "outputs": [],
   "source": [
    "session_times.Time = 100 * session_times.Time"
   ]
  },
  {
   "cell_type": "code",
   "execution_count": null,
   "metadata": {
    "ExecuteTime": {
     "end_time": "2020-06-24T05:22:03.831877Z",
     "start_time": "2020-06-24T05:22:03.825927Z"
    },
    "colab": {},
    "colab_type": "code",
    "id": "DII4gLiLbm52",
    "outputId": "221ef984-ac66-4eff-9266-ba4d68f519f3"
   },
   "outputs": [
    {
     "data": {
      "text/html": [
       "<div>\n",
       "<style scoped>\n",
       "    .dataframe tbody tr th:only-of-type {\n",
       "        vertical-align: middle;\n",
       "    }\n",
       "\n",
       "    .dataframe tbody tr th {\n",
       "        vertical-align: top;\n",
       "    }\n",
       "\n",
       "    .dataframe thead th {\n",
       "        text-align: right;\n",
       "    }\n",
       "</style>\n",
       "<table border=\"1\" class=\"dataframe\">\n",
       "  <thead>\n",
       "    <tr style=\"text-align: right;\">\n",
       "      <th></th>\n",
       "      <th>Page</th>\n",
       "      <th>Time</th>\n",
       "    </tr>\n",
       "  </thead>\n",
       "  <tbody>\n",
       "    <tr>\n",
       "      <td>0</td>\n",
       "      <td>Page A</td>\n",
       "      <td>21.0</td>\n",
       "    </tr>\n",
       "    <tr>\n",
       "      <td>1</td>\n",
       "      <td>Page B</td>\n",
       "      <td>253.0</td>\n",
       "    </tr>\n",
       "    <tr>\n",
       "      <td>2</td>\n",
       "      <td>Page A</td>\n",
       "      <td>35.0</td>\n",
       "    </tr>\n",
       "    <tr>\n",
       "      <td>3</td>\n",
       "      <td>Page B</td>\n",
       "      <td>71.0</td>\n",
       "    </tr>\n",
       "    <tr>\n",
       "      <td>4</td>\n",
       "      <td>Page A</td>\n",
       "      <td>67.0</td>\n",
       "    </tr>\n",
       "  </tbody>\n",
       "</table>\n",
       "</div>"
      ],
      "text/plain": [
       "     Page   Time\n",
       "0  Page A   21.0\n",
       "1  Page B  253.0\n",
       "2  Page A   35.0\n",
       "3  Page B   71.0\n",
       "4  Page A   67.0"
      ]
     },
     "execution_count": 6,
     "metadata": {
      "tags": []
     },
     "output_type": "execute_result"
    }
   ],
   "source": [
    "session_times.head()"
   ]
  },
  {
   "cell_type": "code",
   "execution_count": null,
   "metadata": {
    "ExecuteTime": {
     "end_time": "2020-06-22T16:06:01.530874Z",
     "start_time": "2020-06-22T16:06:01.104747Z"
    },
    "colab": {},
    "colab_type": "code",
    "id": "6z2bWdSSbm6D",
    "outputId": "d7307703-07c3-4497-fcfa-4079678f7ae8"
   },
   "outputs": [
    {
     "data": {
      "image/png": "[encoded data removed]",
      "text/plain": [
       "<Figure size 576x576 with 1 Axes>"
      ]
     },
     "metadata": {
      "needs_background": "light",
      "tags": []
     },
     "output_type": "display_data"
    }
   ],
   "source": [
    "ax = session_times.boxplot(by='Page', column='Time',figsize=(8, 8), fontsize=14)\n",
    "ax.set_xlabel('group', fontsize=14)\n",
    "ax.set_ylabel('Time (in seconds)', fontsize=14)\n",
    "plt.suptitle('')\n",
    "plt.tight_layout()\n",
    "\n",
    "plt.show()"
   ]
  },
  {
   "cell_type": "code",
   "execution_count": null,
   "metadata": {
    "ExecuteTime": {
     "end_time": "2020-06-21T23:31:53.526955Z",
     "start_time": "2020-06-21T23:31:53.517614Z"
    },
    "colab": {},
    "colab_type": "code",
    "id": "tpqaY5CObm6O",
    "outputId": "508b6f0a-92d7-49d7-ad8c-939bdeb1e28c"
   },
   "outputs": [
    {
     "name": "stdout",
     "output_type": "stream",
     "text": [
      "35.66666666666667\n"
     ]
    }
   ],
   "source": [
    "mean_a = session_times[session_times.Page == 'Page A'].Time.mean()\n",
    "mean_b = session_times[session_times.Page == 'Page B'].Time.mean()\n",
    "\n",
    "print(mean_b - mean_a)"
   ]
  },
  {
   "cell_type": "code",
   "execution_count": null,
   "metadata": {
    "ExecuteTime": {
     "end_time": "2020-06-21T23:31:54.494071Z",
     "start_time": "2020-06-21T23:31:54.471186Z"
    },
    "colab": {},
    "colab_type": "code",
    "id": "eWwFWRvQbm6V",
    "outputId": "b1ea26a9-f7df-4705-e3da-225a01fbf77c"
   },
   "outputs": [
    {
     "name": "stdout",
     "output_type": "stream",
     "text": [
      "-49.36190476190475\n"
     ]
    }
   ],
   "source": [
    "# Permutation test example with stickiness\n",
    "def perm_fun(x, nA, nB):\n",
    "    n = nA + nB\n",
    "    idx_B = set(random.sample(range(n), nB))\n",
    "    idx_A = set(range(n)) - idx_B\n",
    "    return x.loc[idx_B].mean() - x.loc[idx_A].mean()\n",
    "    \n",
    "nA = session_times[session_times.Page == 'Page A'].shape[0]\n",
    "nB = session_times[session_times.Page == 'Page B'].shape[0]\n",
    "print(perm_fun(session_times.Time, nA, nB))"
   ]
  },
  {
   "cell_type": "code",
   "execution_count": null,
   "metadata": {
    "ExecuteTime": {
     "end_time": "2020-06-21T23:31:57.060993Z",
     "start_time": "2020-06-21T23:31:54.693458Z"
    },
    "colab": {},
    "colab_type": "code",
    "id": "eK8Jteb2bm6b",
    "outputId": "fc32e255-8fa3-4399-accd-8bd0720e7d13"
   },
   "outputs": [
    {
     "data": {
      "image/png": "[encoded data removed]",
      "text/plain": [
       "<Figure size 864x576 with 1 Axes>"
      ]
     },
     "metadata": {
      "tags": []
     },
     "output_type": "display_data"
    }
   ],
   "source": [
    "## random.seed(1)\n",
    "perm_diffs = [perm_fun(session_times.Time, nA, nB) for _ in range(1000)]\n",
    "\n",
    "fig, ax = plt.subplots(figsize=(12, 8))\n",
    "ax.hist(perm_diffs, bins=21, rwidth=0.9)\n",
    "ax.axvline(x = mean_b - mean_a, color='black', lw=2)\n",
    "ax.text(40, 100, 'Observed\\ndifference', bbox={'facecolor':'white'})\n",
    "ax.set_xlabel('Session time differences (in seconds)')\n",
    "ax.set_ylabel('Frequency')\n",
    "\n",
    "plt.tight_layout()\n",
    "plt.show()"
   ]
  },
  {
   "cell_type": "code",
   "execution_count": null,
   "metadata": {
    "ExecuteTime": {
     "end_time": "2020-06-21T23:31:57.075368Z",
     "start_time": "2020-06-21T23:31:57.066950Z"
    },
    "colab": {},
    "colab_type": "code",
    "id": "fAiOyGjCbm6h",
    "outputId": "eb4ad813-766d-40fc-8640-251af8728881",
    "scrolled": true
   },
   "outputs": [
    {
     "name": "stdout",
     "output_type": "stream",
     "text": [
      "0.135\n"
     ]
    }
   ],
   "source": [
    "print(np.mean(perm_diffs > mean_b - mean_a))"
   ]
  },
  {
   "cell_type": "markdown",
   "metadata": {
    "colab_type": "text",
    "id": "C7IIGpqnbm6l"
   },
   "source": [
    "## 순열검정: 데이터 과학에서의 결론\n",
    "- 검정 통계 값이 유의미한지 알아보기 위해 사용하는 휴리스틱 방법이다.\n",
    "- 각 그룹의 샘플 크기는 달라도 되며, 각 그룹의 분포가 정규분포를 따라야한다는 가정도 필요 없다.\n",
    "- 하지만 어떤 유의수준 이상으로 '유의미하다' 라는 기준이 없는 애매한 방법이므로 아래에 나올 p-value를 사용하게 된다."
   ]
  },
  {
   "cell_type": "markdown",
   "metadata": {
    "colab_type": "text",
    "id": "WYcF3_zzbm6m"
   },
   "source": [
    "# 통계적 유의성과 p-value\n",
    "- p-value: 대립가설을 기각하고 귀무가설을 채택하는 실수를 범할 확률\n",
    "- alpha: 실험 결과가 통계적으로 의미 있다고 간주하기 위한 임계 확률\n",
    "- type 1 error: 우연에 의한 효과가 실제 효과라고 잘못 내리는 결론\n",
    "- type 2 error: 실제 효과를 우연에 의한 효과라고 잘못 내리는 결론\n",
    "---\n",
    "- 통계적 유의성이란 어떤 실험의 결과가 우연에 의한 것인지 아니면 극단적인 것인지를 판단하는 방법이다.\n",
    "- 결과가 우연히 벌어질 수 있는 분포 바같에 존재한다면 이것을 통계적으로 유의미하다고 말한다.\n",
    "- 즉, 관찰된 효과가 귀무가설 모형에 대한 무작위 변위의 범위 내에 있는지 결정하는 데 사용된다."
   ]
  },
  {
   "cell_type": "code",
   "execution_count": null,
   "metadata": {
    "ExecuteTime": {
     "end_time": "2020-06-21T23:32:52.274439Z",
     "start_time": "2020-06-21T23:31:57.279891Z"
    },
    "colab": {},
    "colab_type": "code",
    "id": "eGyiiCzDbm6m",
    "outputId": "82579dfa-9f90-46e3-e4fd-70b49ddf87d7"
   },
   "outputs": [
    {
     "name": "stdout",
     "output_type": "stream",
     "text": [
      "Observed difference: 0.0368%\n"
     ]
    },
    {
     "data": {
      "image/png": "[encoded data removed]",
      "text/plain": [
       "<Figure size 576x576 with 1 Axes>"
      ]
     },
     "metadata": {
      "tags": []
     },
     "output_type": "display_data"
    }
   ],
   "source": [
    "random.seed(1)\n",
    "obs_pct_diff = 100 * (200 / 23739 - 182 / 22588)\n",
    "print(f'Observed difference: {obs_pct_diff:.4f}%')\n",
    "conversion = np.zeros(45945).tolist() # conversion = [0] * 45945\n",
    "conversion.extend([1] * 382)\n",
    "conversion = pd.Series(conversion)\n",
    "\n",
    "perm_diffs = [100 * perm_fun(conversion, 23739, 22588) for _ in range(1000)]\n",
    "\n",
    "fig, ax = plt.subplots(figsize=(8, 8))\n",
    "ax.hist(perm_diffs, bins=11, rwidth=0.9)\n",
    "ax.axvline(x=obs_pct_diff, color='black', lw=2)\n",
    "ax.text(0.06, 200, 'Observed\\ndifference', bbox={'facecolor':'white'})\n",
    "ax.set_xlabel('Conversion rate (percent)')\n",
    "ax.set_ylabel('Frequency')\n",
    "\n",
    "plt.tight_layout()\n",
    "plt.show()"
   ]
  },
  {
   "cell_type": "markdown",
   "metadata": {
    "colab_type": "text",
    "id": "gMyRtYkEbm6q"
   },
   "source": [
    "## p-value\n",
    "- **확률모형이 관측된 결과보다 더 극단적인 결과를 생성하는 빈도**를 의미한다.\n",
    "- 위의 예시의 경우, 1000번 시행했을 때 원래 차이 값 보다 큰 경우가 33.2% 나 발견된 셈이다.\n",
    "- 즉, 30% 정도의 확률로 우연히 발견될 수 있으니 원래의 평균 차이가 그닥 특별한 차이라고는 보기가 어려운 것이다.\n",
    "- 이와 같이 p-value는 통계적 유의성을 정확히 측정하기 위한 지표가 된다.\n",
    "---\n",
    "p 값의 의미?\n",
    "> 결과가 우연에서 비롯될 확률 (랜덤 모델이 주어졌을 때, 그 결과가 관찰된 결과 보다 더 극단적일 확률)"
   ]
  },
  {
   "cell_type": "code",
   "execution_count": null,
   "metadata": {
    "ExecuteTime": {
     "end_time": "2020-06-21T23:32:52.285686Z",
     "start_time": "2020-06-21T23:32:52.279171Z"
    },
    "colab": {},
    "colab_type": "code",
    "id": "Jm4eo1Obbm6r",
    "outputId": "18006d9d-bed2-4925-d8f2-a80b692c593c"
   },
   "outputs": [
    {
     "name": "stdout",
     "output_type": "stream",
     "text": [
      "0.332\n"
     ]
    }
   ],
   "source": [
    "print(np.mean([diff > obs_pct_diff for diff in perm_diffs]))"
   ]
  },
  {
   "cell_type": "markdown",
   "metadata": {
    "colab_type": "text",
    "id": "Crwe-m6gbm6v"
   },
   "source": [
    "- 사실 위의 예시의 가설은 이항분포를 따르기 때문에 굳이 순열검정을 할 필요가 없다.\n",
    "- 정규분포를 사용하여 p 값을 근사시킬 수 있기 때문이다."
   ]
  },
  {
   "cell_type": "code",
   "execution_count": null,
   "metadata": {
    "ExecuteTime": {
     "end_time": "2020-06-21T23:32:52.319389Z",
     "start_time": "2020-06-21T23:32:52.290482Z"
    },
    "colab": {},
    "colab_type": "code",
    "id": "CnJrogwwbm6w",
    "outputId": "8a0952d4-667d-4056-f4ff-5406a497ec42",
    "scrolled": true
   },
   "outputs": [
    {
     "data": {
      "text/plain": [
       "array([[  200, 23539],\n",
       "       [  182, 22406]])"
      ]
     },
     "execution_count": 15,
     "metadata": {
      "tags": []
     },
     "output_type": "execute_result"
    }
   ],
   "source": [
    "survivors = np.array([[200, 23739 - 200], [182, 22588 - 182]])\n",
    "survivors"
   ]
  },
  {
   "cell_type": "code",
   "execution_count": null,
   "metadata": {
    "ExecuteTime": {
     "end_time": "2020-06-21T23:32:52.349715Z",
     "start_time": "2020-06-21T23:32:52.324868Z"
    },
    "colab": {},
    "colab_type": "code",
    "id": "zd-1Yi0pbm6y",
    "outputId": "a04d36c1-66ce-4f43-e632-3e33ef1ce51a"
   },
   "outputs": [
    {
     "data": {
      "text/plain": [
       "(0.14893055235461503,\n",
       " 0.6995594627146615,\n",
       " 1,\n",
       " array([[  195.74541844, 23543.25458156],\n",
       "        [  186.25458156, 22401.74541844]]))"
      ]
     },
     "execution_count": 16,
     "metadata": {
      "tags": []
     },
     "output_type": "execute_result"
    }
   ],
   "source": [
    "stats.chi2_contingency(survivors)"
   ]
  },
  {
   "cell_type": "code",
   "execution_count": null,
   "metadata": {
    "ExecuteTime": {
     "end_time": "2020-06-21T23:32:52.383562Z",
     "start_time": "2020-06-21T23:32:52.359632Z"
    },
    "colab": {},
    "colab_type": "code",
    "id": "yjinGD9nbm62",
    "outputId": "5586a17e-b05c-4a4d-e628-1d0b2b6450e6"
   },
   "outputs": [
    {
     "name": "stdout",
     "output_type": "stream",
     "text": [
      "p-value for single sided test: 0.3498\n"
     ]
    }
   ],
   "source": [
    "chi2, p_value, df, _ = stats.chi2_contingency(survivors)\n",
    "\n",
    "print(f'p-value for single sided test: {p_value / 2:.4f}')"
   ]
  },
  {
   "cell_type": "markdown",
   "metadata": {
    "ExecuteTime": {
     "end_time": "2020-06-21T12:24:07.055479Z",
     "start_time": "2020-06-21T12:24:07.022868Z"
    },
    "colab_type": "text",
    "id": "NZ7vuXo4bm66"
   },
   "source": [
    "- 이항분포를 활용하여 p값 구하기"
   ]
  },
  {
   "cell_type": "code",
   "execution_count": null,
   "metadata": {
    "ExecuteTime": {
     "end_time": "2020-06-21T12:35:07.236158Z",
     "start_time": "2020-06-21T12:35:07.214750Z"
    },
    "colab": {},
    "colab_type": "code",
    "id": "pK2UnPIhbm66"
   },
   "outputs": [],
   "source": [
    "def combination(n, m):\n",
    "  if n>0 and m==0 and n>m:\n",
    "    return 1\n",
    "  elif n>0 and m>0 and n>m:\n",
    "    n_fac, m_fac, n_m_fac = 1, 1, 1\n",
    "    for i in range(1, n+1):\n",
    "      n_fac *= i\n",
    "    for j in range(1, m+1):\n",
    "      m_fac *= j\n",
    "    for k in range(1, n-m+1):\n",
    "      n_m_fac *= k\n",
    "    return n_fac / (m_fac * n_m_fac)\n",
    "  elif n>0 and m>=0 and n==m:\n",
    "    return 1\n",
    "  else:\n",
    "    raise ValueError(\"'m' must be less then 'n' or equals to 'n'!!\")\n",
    "    \n",
    "def binomial(n, m, p):\n",
    "  return combination(n=n, m=m) * (p**m) * ((1-p)**(n-m))"
   ]
  },
  {
   "cell_type": "code",
   "execution_count": null,
   "metadata": {
    "ExecuteTime": {
     "end_time": "2020-06-21T12:41:21.841454Z",
     "start_time": "2020-06-21T12:41:21.834855Z"
    },
    "colab": {},
    "colab_type": "code",
    "id": "CL7ZXWZpbm69"
   },
   "outputs": [],
   "source": [
    "p = 200/23739\n",
    "n = 100\n",
    "x = [binomial(n, i, p) for i in range(n)]"
   ]
  },
  {
   "cell_type": "markdown",
   "metadata": {
    "colab_type": "text",
    "id": "oVZ8PBBZbm6_"
   },
   "source": [
    "## 유의수준\n",
    "- 많이 사용되는 유의수준은 5%와 1%이다. 이 값은 임의로 선택된다. 올바른 x%를 보장하는 프로세스는 현재 없다.\n",
    "- 이는 확률 문제가 '우연히 일어날 확률은 무엇인가?'가 아니라 '랜덤 모델이 주어졌을 때, 극단적인 결과가 나올 확률은 어느 정도인가?'이기 때문이다."
   ]
  },
  {
   "cell_type": "markdown",
   "metadata": {
    "colab_type": "text",
    "id": "Vv2v67S7bm7A"
   },
   "source": [
    "## 제 1종과 2종 오류\n",
    "<img src=\"../image/test_errors.png\" align=\"left\">"
   ]
  },
  {
   "cell_type": "markdown",
   "metadata": {
    "colab_type": "text",
    "id": "zGAGb7YFbm7A"
   },
   "source": [
    "## 데이터 과학과 p-value\n",
    "- p-value는 유용한 모델의 결과가 일반적인 랜덤 변이 범위 내에 있는지를 알고 있을 때 유용한 측정 지표이다.\n",
    "- p-value를 모든 실험에서 의사 결정을 좌우하는 도구로서 간주해서는 안 된다. 어떤 결정에 관련된 정보의 일부일 뿐이다.\n",
    "- 예를 들어, p-value에 따라 변수를 모델에 포함하거나 제외하기도 한다."
   ]
  },
  {
   "cell_type": "markdown",
   "metadata": {
    "colab_type": "text",
    "id": "HyCM0w2xbm7B"
   },
   "source": [
    "# t-test\n",
    "- 두 집단이 같냐 다르냐를 판별하기 위한 테스트임!\n",
    "- **두 집단간 평균을 비교**하는 **모수적** 통계 방법으로서 표본이 정규성, 등분산성, 독립성 등을 만족할 경우 적용이 가능함.\n",
    "  - 모수적 방법: 모집단의 특성을 가정하여 유도된 검정법\n",
    "  - 비모수적 방법: 모집단의 모수에 대한 가정 없이 유도된 검정법\n",
    "- one sample t-test\n",
    "- two samples t-test\n",
    "- paired t-test\n",
    "---\n",
    "- T-Distribution: 정규분포의 특징으로 평균을 추정하기 위해 사용되는 분포이다.\n",
    "- 모집단이 정규분포라는 정도만 알고 있고 모분산을 모를 때 표본분산으로 대체하여 모평균을 추정할때 사용한다.\n",
    "- 즉, 적은 표본으로 모집단의 평균을 추정하기 위해 사용되는 확률분포이다.\n",
    "---\n",
    "\n",
    "<img src=\"../image/t-value_formula.png\" align=\"left\">  \n",
    "→ 두 집단의 평균적인 편차가 우리가 일반적으로 1표준편차라 부르는 딱히 큰 의미가 없는 구간 보다 멀리 존재해야 의미있는 차이라 부를 수 있을 것이다.  \n",
    "→ 즉, 분자의 차이가 분모에 해당하는 표준편차 보다도 못 하다면 큰 의미가 있다고 보기 어렵다고 해석할 수 있다.  \n",
    "  \n",
    "<img src=\"../image/t-value_formula_2.png\" align=\"left\">"
   ]
  },
  {
   "cell_type": "markdown",
   "metadata": {
    "ExecuteTime": {
     "end_time": "2020-06-22T16:04:15.820228Z",
     "start_time": "2020-06-22T16:04:15.812219Z"
    },
    "colab_type": "text",
    "id": "1SPmbjn8bm7B"
   },
   "source": [
    "<img src=\"../image/t-value.png\" align=\"left\">  "
   ]
  },
  {
   "cell_type": "code",
   "execution_count": null,
   "metadata": {
    "ExecuteTime": {
     "end_time": "2020-06-22T16:06:08.370998Z",
     "start_time": "2020-06-22T16:06:08.354265Z"
    },
    "colab": {},
    "colab_type": "code",
    "id": "Qq9YNq90bm7C",
    "outputId": "3e2786a3-fd13-4529-b8f7-a25a84963da4"
   },
   "outputs": [
    {
     "name": "stdout",
     "output_type": "stream",
     "text": [
      "p-value for single sided test: 0.1408\n"
     ]
    }
   ],
   "source": [
    "res = stats.ttest_ind(session_times[session_times.Page == 'Page A'].Time, \n",
    "                      session_times[session_times.Page == 'Page B'].Time,\n",
    "                      equal_var=False)\n",
    "print(f'p-value for single sided test: {res.pvalue / 2:.4f}')"
   ]
  },
  {
   "cell_type": "code",
   "execution_count": null,
   "metadata": {
    "ExecuteTime": {
     "end_time": "2020-06-22T16:06:08.580751Z",
     "start_time": "2020-06-22T16:06:08.564601Z"
    },
    "colab": {},
    "colab_type": "code",
    "id": "2h660OADbm7E",
    "outputId": "c943c0c2-bd0a-4aae-ce0c-9a64a7ce133f",
    "scrolled": true
   },
   "outputs": [
    {
     "name": "stdout",
     "output_type": "stream",
     "text": [
      "p-value: 0.1408\n"
     ]
    }
   ],
   "source": [
    "tstat, pvalue, df = sm.stats.ttest_ind(\n",
    "    session_times[session_times.Page == 'Page A'].Time, \n",
    "    session_times[session_times.Page == 'Page B'].Time,\n",
    "    usevar='unequal', alternative='smaller')\n",
    "print(f'p-value: {pvalue:.4f}')"
   ]
  },
  {
   "cell_type": "markdown",
   "metadata": {
    "colab_type": "text",
    "id": "klFYqwkdbm7G"
   },
   "source": [
    "---\n",
    "- 부트스트랩을 이용하여 t-test 진행"
   ]
  },
  {
   "cell_type": "code",
   "execution_count": null,
   "metadata": {
    "ExecuteTime": {
     "end_time": "2020-06-22T22:58:37.141508Z",
     "start_time": "2020-06-22T22:58:34.671317Z"
    },
    "colab": {},
    "colab_type": "code",
    "id": "VEdkRPlGbm7H",
    "outputId": "29397bcc-8f24-4b75-87fe-d264d7495bec",
    "scrolled": false
   },
   "outputs": [
    {
     "data": {
      "image/png": "[encoded data removed]",
      "text/plain": [
       "<Figure size 1440x720 with 1 Axes>"
      ]
     },
     "metadata": {
      "tags": []
     },
     "output_type": "display_data"
    }
   ],
   "source": [
    "plot_dist(x=session_times[session_times.Page=='Page A'].Time, bins=1, label='Page A (1 bin = 1 sec)')\n",
    "plot_dist(x=session_times[session_times.Page=='Page B'].Time, bins=1, label='Page B (1 bin = 1 sec)')\n",
    "plt.title('distribution of session times', fontsize=13)\n",
    "plt.legend();"
   ]
  },
  {
   "cell_type": "code",
   "execution_count": null,
   "metadata": {
    "ExecuteTime": {
     "end_time": "2020-06-22T16:31:12.853552Z",
     "start_time": "2020-06-22T16:31:10.254534Z"
    },
    "colab": {},
    "colab_type": "code",
    "id": "OND48q2hbm7M"
   },
   "outputs": [],
   "source": [
    "from sklearn.utils import resample\n",
    "n = 1000\n",
    "A = [resample(session_times[session_times.Page == 'Page A'].Time, n_samples=30).values.mean() for _ in range(n)]\n",
    "B = [resample(session_times[session_times.Page == 'Page B'].Time, n_samples=30).values.mean() for _ in range(n)]"
   ]
  },
  {
   "cell_type": "code",
   "execution_count": null,
   "metadata": {
    "ExecuteTime": {
     "end_time": "2020-06-22T16:31:22.157956Z",
     "start_time": "2020-06-22T16:31:20.822574Z"
    },
    "colab": {},
    "colab_type": "code",
    "id": "094rPpd2bm7O",
    "outputId": "c50ccfa7-ba54-4c64-e26d-f450854abf8e",
    "scrolled": false
   },
   "outputs": [
    {
     "data": {
      "image/png": "[encoded data removed]",
      "text/plain": [
       "<Figure size 1440x720 with 1 Axes>"
      ]
     },
     "metadata": {
      "tags": []
     },
     "output_type": "display_data"
    }
   ],
   "source": [
    "plot_dist(A, bins=1, label='Page A (1 bin = 1 sec)', line_mean=30)\n",
    "plot_dist(B, bins=1, label='Page B (1 bin = 1 sec)', line_mean=30)\n",
    "plt.title('distribution of session times through resample', fontsize=14)\n",
    "plt.legend();"
   ]
  },
  {
   "cell_type": "code",
   "execution_count": null,
   "metadata": {
    "ExecuteTime": {
     "end_time": "2020-06-22T17:18:52.180278Z",
     "start_time": "2020-06-22T17:18:52.172570Z"
    },
    "colab": {},
    "colab_type": "code",
    "id": "FX2QFr7Kbm7R"
   },
   "outputs": [],
   "source": [
    "def variance(a, b):\n",
    "  x, y = np.asarray(a), np.asarray(b)\n",
    "  \n",
    "  dev_x = x - np.mean(x)\n",
    "  dev_sqr_sum_a = sum(dev_x**2)\n",
    "  \n",
    "  dev_y = y - np.mean(y)\n",
    "  dev_sqr_sum_b = sum(dev_y**2)\n",
    "  \n",
    "  return (dev_sqr_sum_a + dev_sqr_sum_b) / (len(a) + len(b) - 2)"
   ]
  },
  {
   "cell_type": "code",
   "execution_count": null,
   "metadata": {
    "ExecuteTime": {
     "end_time": "2020-06-22T17:18:52.401349Z",
     "start_time": "2020-06-22T17:18:52.389240Z"
    },
    "colab": {},
    "colab_type": "code",
    "id": "aJfPag2Vbm7T",
    "outputId": "3f533279-bf4e-443c-f4d5-284bc160c716"
   },
   "outputs": [
    {
     "data": {
      "text/plain": [
       "-49.2318"
      ]
     },
     "execution_count": 167,
     "metadata": {
      "tags": []
     },
     "output_type": "execute_result"
    }
   ],
   "source": [
    "s2 = variance(A, B)\n",
    "na = len(A)\n",
    "nb = len(B)\n",
    "\n",
    "t_value = (np.mean(A) - np.mean(B)) / np.sqrt((s2/na) + (s2/nb))\n",
    "t_value = round(t_value, 4)\n",
    "t_value"
   ]
  },
  {
   "cell_type": "code",
   "execution_count": null,
   "metadata": {
    "ExecuteTime": {
     "end_time": "2020-06-22T17:19:13.198896Z",
     "start_time": "2020-06-22T17:19:13.189807Z"
    },
    "colab": {},
    "colab_type": "code",
    "id": "JFdo4w39bm7W",
    "outputId": "c81e19a6-9e1a-49ad-b5b6-afab6df2df42"
   },
   "outputs": [
    {
     "data": {
      "text/plain": [
       "1.9623"
      ]
     },
     "execution_count": 171,
     "metadata": {
      "tags": []
     },
     "output_type": "execute_result"
    }
   ],
   "source": [
    "alpha = 0.025\n",
    "cv = stats.t.ppf(1-alpha, df=1000)\n",
    "cv = round(cv, 4)\n",
    "cv"
   ]
  },
  {
   "cell_type": "code",
   "execution_count": null,
   "metadata": {
    "ExecuteTime": {
     "end_time": "2020-06-22T17:19:14.164374Z",
     "start_time": "2020-06-22T17:19:14.154360Z"
    },
    "colab": {},
    "colab_type": "code",
    "id": "X0TugfEhbm7Z",
    "outputId": "c4af5133-8827-4c5c-baa2-a4f4ee090e86",
    "scrolled": false
   },
   "outputs": [
    {
     "name": "stdout",
     "output_type": "stream",
     "text": [
      "t-value는 -49.2318이고 Critical Value는 -1.9623이므로 Page B의 Session이 Page A 보다 높다고 볼 수 있다.\n"
     ]
    }
   ],
   "source": [
    "if t_value >= 0 and np.abs(t_value) >= cv:\n",
    "  print('t-value는 {}이고 Critical Value는 {}이므로 Page B의 Session이 Page A 보다 높다고 볼 수 있다.'.format(t_value, cv))\n",
    "elif t_value < 0 and np.abs(t_value) < cv:\n",
    "  print('t-value는 {}이고 Critical Value는 -{}이므로 Page B의 Session이 Page A 보다 높다고 볼 수 없다.'.format(t_value, cv))\n",
    "elif t_value < 0 and np.abs(t_value) > cv:\n",
    "  print('t-value는 {}이고 Critical Value는 -{}이므로 Page B의 Session이 Page A 보다 높다고 볼 수 있다.'.format(t_value, cv))"
   ]
  },
  {
   "cell_type": "code",
   "execution_count": null,
   "metadata": {
    "ExecuteTime": {
     "end_time": "2020-06-22T17:19:14.330909Z",
     "start_time": "2020-06-22T17:19:14.323667Z"
    },
    "colab": {},
    "colab_type": "code",
    "id": "rjtzt5I5bm7b",
    "outputId": "846ae172-374c-4800-b80f-db1f47909e2d",
    "scrolled": true
   },
   "outputs": [
    {
     "data": {
      "text/plain": [
       "Ttest_indResult(statistic=-49.231802400538484, pvalue=0.0)"
      ]
     },
     "execution_count": 173,
     "metadata": {
      "tags": []
     },
     "output_type": "execute_result"
    }
   ],
   "source": [
    "stats.ttest_ind(A, B, equal_var=False)"
   ]
  },
  {
   "cell_type": "markdown",
   "metadata": {
    "colab_type": "text",
    "id": "yq9hiujQ1qLs"
   },
   "source": [
    "## one-sample 정규성 검정"
   ]
  },
  {
   "cell_type": "code",
   "execution_count": null,
   "metadata": {
    "ExecuteTime": {
     "end_time": "2020-07-01T05:17:48.672960Z",
     "start_time": "2020-07-01T05:17:48.665794Z"
    },
    "colab": {},
    "colab_type": "code",
    "id": "YbzbHTQF1qLt",
    "outputId": "427107c9-3334-42c8-8fe8-c09d29d12cdf"
   },
   "outputs": [
    {
     "name": "stdout",
     "output_type": "stream",
     "text": [
      "tstat: 0.5974\n",
      "p-value: 0.5605\n"
     ]
    }
   ],
   "source": [
    "from scipy.stats import ttest_1samp\n",
    "data = [ 32, 34 , 29 , 29 , 22 , 39, 38 , 37 , 38 , 36 , 30, 26 , 22 , 22]\n",
    "expected_mean = 30\n",
    "tstat, pvalue = ttest_1samp(data, expected_mean)\n",
    "print(f'tstat: {tstat:.4f}')\n",
    "print(f'p-value: {pvalue:.4f}')"
   ]
  },
  {
   "cell_type": "markdown",
   "metadata": {
    "colab_type": "text",
    "id": "SM8Dl9dy1qLw"
   },
   "source": [
    "## two-sample의 등분산 검정\n",
    "- bartlett, fligner, levene"
   ]
  },
  {
   "cell_type": "markdown",
   "metadata": {
    "colab_type": "text",
    "id": "9d-o9xobbm7e"
   },
   "source": [
    "# 다중검정\n",
    "- 다양한 변수로부터 모델링을 하게 될 경우 특정 변수는 실제 예측력에 큰 영향을 끼치지 못하지만, 마치 그렇게 보여지는 현상이 나타나는 '오버피팅'이 발생한다."
   ]
  },
  {
   "cell_type": "markdown",
   "metadata": {
    "colab_type": "text",
    "id": "AOQbrdeIbm7e"
   },
   "source": [
    "# 자유도\n",
    "- t-tset에서 자유도(degree of freedom)는 표본의 크기가 커지면 커질수록 자유도가 커지고, 자유도가 커졌다는 의미는 데이터가 t-분포에 묶여있다가 자유롭게 표준정규분포를 사용할 수 있음을 의미한다.\n",
    "- 흔히 공식에서 표준편차를 (n-1)^1/2로 나누어주는데, 그 이유가 데이터가 적을수록 편차의 편향이 커질 수 있다는 점을 감안하기 위한 것이다.\n",
    "- 그렇다면 데이터 과학에서도 이것이 반드시 중요할까? 꼭 그렇진 않다. 일반적으로 요즘의 데이터 크기는 충분하기 때문에 n, n-1을 굳이 구별하며 계산할 필요는 없다.\n",
    "- 단, 회귀를 할 때 다중공선성을 피하기 위해 범주형 변수들을 n-1개의 지표 혹은 더미 변수로 사용하는 것이 필요하다."
   ]
  },
  {
   "cell_type": "markdown",
   "metadata": {
    "colab_type": "text",
    "id": "rmA2uQ4xbm7e"
   },
   "source": [
    "# 분산분석\n",
    "- pairwise comparsion: 여러 그룹 중 두 그룹 간의 가설검정\n",
    "- omnibus test: 여러 그룹 평균들의 전체 분산에 관한 단일 가설검정\n",
    "- decomposition of variance: 분산분해\n",
    "- F-statistic\n",
    "- SS(sum of square)\n",
    "---\n",
    "- 세 개 이상의 집단 간 차이를 분석할 때 사용하는 것이 ANOVA(Analysis of variance) 분석이다.\n",
    "- 분산분석도 처음에는 순열검정을 기반으로 시도한다.\n",
    "  - 1. 그룹 간 평균의 분산을 구한다\n",
    "  - 2. 전체 데이터를 순열로 재추출하여 각 그룹에 할당하고, 그룹 별 평균의 분산을 1회 구한다.\n",
    "  - 3. 2번의 과정을 N번만큼 수행하고, 분포를 그리면 이것이 F 분포가 되는 것이며, 기존의 그룹 간 평균의 분산(MS-treatment) 보다 큰 값들의 비율을 관측한다.\n",
    "- 그런데 두 집단의 T-test를 여러 번 해서 비교하면 되는 것 아닌가..?\n",
    "  - 이렇게 하면 1종 오류에 빠지게 된다!\n",
    "---\n",
    "독립변수: 연구자/조사자가 의도적으로 변화시키는 변수 (단, 의도적으로 변화시킬 수 있다고하여 마음대로 변수를 바꿔도 된다는 것은 아님)  \n",
    "종속변수: 독립변수의 변화에 따라 어떻게 변하는지 알고 싶은 변수  \n",
    "통제변수: 독립변수와 동일하나 주된 관심사가 되는 변수가 아닌 경우"
   ]
  },
  {
   "cell_type": "markdown",
   "metadata": {
    "colab_type": "text",
    "id": "gr2UcKwK1qL0"
   },
   "source": [
    "## One-way(일원 분산분석)"
   ]
  },
  {
   "cell_type": "markdown",
   "metadata": {
    "colab_type": "text",
    "id": "0VdAFYZE1qL1"
   },
   "source": [
    "- One-way ANOVA\n",
    "  - 종속변수: 연속형 변수만 가능\n",
    "  - 독립변수: 이산형/범주형 변수만 가능 (* 독립변수는 반드시 1개임! 즉, 한 개의 컬럼 안에 필드 값의 종류가 여러 개 있다는 것임)\n",
    "  - 예시: 신종플루 신약을 개발한 어느 제약회사에서 신종플루 감염자를 대상으로 신약의 효과를 측정하고자 할 때 새로 개발된 신약, 기존의 독감 약, 플라시보 세 개로 나누어 실험하는 것 등임"
   ]
  },
  {
   "cell_type": "markdown",
   "metadata": {
    "colab_type": "text",
    "id": "3O3ERq6Y1qL1"
   },
   "source": [
    "### 순열검정"
   ]
  },
  {
   "cell_type": "code",
   "execution_count": null,
   "metadata": {
    "ExecuteTime": {
     "end_time": "2020-07-01T06:23:57.382677Z",
     "start_time": "2020-07-01T06:23:57.370407Z"
    },
    "colab": {},
    "colab_type": "code",
    "id": "R5_UNHj-bm7f",
    "outputId": "92373f23-6b2e-4de7-929c-2659d3689654"
   },
   "outputs": [
    {
     "data": {
      "text/html": [
       "<div>\n",
       "<style scoped>\n",
       "    .dataframe tbody tr th:only-of-type {\n",
       "        vertical-align: middle;\n",
       "    }\n",
       "\n",
       "    .dataframe tbody tr th {\n",
       "        vertical-align: top;\n",
       "    }\n",
       "\n",
       "    .dataframe thead th {\n",
       "        text-align: right;\n",
       "    }\n",
       "</style>\n",
       "<table border=\"1\" class=\"dataframe\">\n",
       "  <thead>\n",
       "    <tr style=\"text-align: right;\">\n",
       "      <th></th>\n",
       "      <th>Page</th>\n",
       "      <th>Time</th>\n",
       "    </tr>\n",
       "  </thead>\n",
       "  <tbody>\n",
       "    <tr>\n",
       "      <td>0</td>\n",
       "      <td>Page 1</td>\n",
       "      <td>164</td>\n",
       "    </tr>\n",
       "    <tr>\n",
       "      <td>1</td>\n",
       "      <td>Page 2</td>\n",
       "      <td>178</td>\n",
       "    </tr>\n",
       "    <tr>\n",
       "      <td>2</td>\n",
       "      <td>Page 3</td>\n",
       "      <td>175</td>\n",
       "    </tr>\n",
       "    <tr>\n",
       "      <td>3</td>\n",
       "      <td>Page 4</td>\n",
       "      <td>155</td>\n",
       "    </tr>\n",
       "    <tr>\n",
       "      <td>4</td>\n",
       "      <td>Page 1</td>\n",
       "      <td>172</td>\n",
       "    </tr>\n",
       "  </tbody>\n",
       "</table>\n",
       "</div>"
      ],
      "text/plain": [
       "     Page  Time\n",
       "0  Page 1   164\n",
       "1  Page 2   178\n",
       "2  Page 3   175\n",
       "3  Page 4   155\n",
       "4  Page 1   172"
      ]
     },
     "execution_count": 6,
     "metadata": {
      "tags": []
     },
     "output_type": "execute_result"
    }
   ],
   "source": [
    "four_sessions = pd.read_csv('./data/four_sessions.csv')\n",
    "four_sessions.head()"
   ]
  },
  {
   "cell_type": "code",
   "execution_count": null,
   "metadata": {
    "ExecuteTime": {
     "end_time": "2020-07-01T06:23:58.196368Z",
     "start_time": "2020-07-01T06:23:58.191231Z"
    },
    "colab": {},
    "colab_type": "code",
    "id": "IB1_1BJxbm7h",
    "outputId": "3e2be414-aa14-44c6-ed62-0c7b38e0472f"
   },
   "outputs": [
    {
     "data": {
      "text/plain": [
       "Page 4    5\n",
       "Page 2    5\n",
       "Page 1    5\n",
       "Page 3    5\n",
       "Name: Page, dtype: int64"
      ]
     },
     "execution_count": 7,
     "metadata": {
      "tags": []
     },
     "output_type": "execute_result"
    }
   ],
   "source": [
    "four_sessions.Page.value_counts()"
   ]
  },
  {
   "cell_type": "code",
   "execution_count": null,
   "metadata": {
    "ExecuteTime": {
     "end_time": "2020-07-01T06:23:58.791034Z",
     "start_time": "2020-07-01T06:23:58.438261Z"
    },
    "colab": {},
    "colab_type": "code",
    "id": "auNu8zqjbm7k",
    "outputId": "8a3bea63-c7f9-457c-cfb1-2b3985481b36"
   },
   "outputs": [
    {
     "data": {
      "image/png": "[encoded data removed]",
      "text/plain": [
       "<Figure size 864x576 with 1 Axes>"
      ]
     },
     "metadata": {
      "needs_background": "light",
      "tags": []
     },
     "output_type": "display_data"
    }
   ],
   "source": [
    "plt.figure(figsize=(12,8))\n",
    "ax=sns.boxplot(x='Page', y='Time', data=four_sessions, color='#BCDAF7', showmeans=True)\n",
    "ax.set_xlabel('Page')\n",
    "ax.set_ylabel('Time (in seconds)')\n",
    "plt.suptitle('')\n",
    "plt.title('')\n",
    "plt.tight_layout()\n",
    "plt.show()"
   ]
  },
  {
   "cell_type": "code",
   "execution_count": null,
   "metadata": {
    "ExecuteTime": {
     "end_time": "2020-07-01T06:23:59.326648Z",
     "start_time": "2020-07-01T06:23:59.316339Z"
    },
    "colab": {},
    "colab_type": "code",
    "id": "Snvpoono1qMP",
    "outputId": "5c80da31-9975-4b86-d80f-2dd071224d6d"
   },
   "outputs": [
    {
     "name": "stdout",
     "output_type": "stream",
     "text": [
      "Observed means: [172.8 182.6 175.6 164.6]\n",
      "Variance: 55.426666666666655\n"
     ]
    }
   ],
   "source": [
    "observed_variance = four_sessions.groupby('Page').mean().var(ddof=1)[0] # 여기서 var은 분모가 샘플 갯수의 n-1로 나눔. 디폴트 값인듯.\n",
    "print('Observed means:', four_sessions.groupby('Page').mean().values.ravel())\n",
    "print('Variance:', observed_variance)"
   ]
  },
  {
   "cell_type": "code",
   "execution_count": null,
   "metadata": {
    "ExecuteTime": {
     "end_time": "2020-07-01T06:23:59.984271Z",
     "start_time": "2020-07-01T06:23:59.969070Z"
    },
    "colab": {},
    "colab_type": "code",
    "id": "kIngTm6o1qMV",
    "outputId": "ff08564b-d910-41fe-c255-2a4ad803dcc8"
   },
   "outputs": [
    {
     "name": "stdout",
     "output_type": "stream",
     "text": [
      "0.6799999999999984\n"
     ]
    },
    {
     "data": {
      "text/html": [
       "<div>\n",
       "<style scoped>\n",
       "    .dataframe tbody tr th:only-of-type {\n",
       "        vertical-align: middle;\n",
       "    }\n",
       "\n",
       "    .dataframe tbody tr th {\n",
       "        vertical-align: top;\n",
       "    }\n",
       "\n",
       "    .dataframe thead th {\n",
       "        text-align: right;\n",
       "    }\n",
       "</style>\n",
       "<table border=\"1\" class=\"dataframe\">\n",
       "  <thead>\n",
       "    <tr style=\"text-align: right;\">\n",
       "      <th></th>\n",
       "      <th>Page</th>\n",
       "      <th>Time</th>\n",
       "    </tr>\n",
       "  </thead>\n",
       "  <tbody>\n",
       "    <tr>\n",
       "      <td>0</td>\n",
       "      <td>Page 1</td>\n",
       "      <td>185</td>\n",
       "    </tr>\n",
       "    <tr>\n",
       "      <td>1</td>\n",
       "      <td>Page 1</td>\n",
       "      <td>170</td>\n",
       "    </tr>\n",
       "    <tr>\n",
       "      <td>2</td>\n",
       "      <td>Page 1</td>\n",
       "      <td>177</td>\n",
       "    </tr>\n",
       "    <tr>\n",
       "      <td>3</td>\n",
       "      <td>Page 1</td>\n",
       "      <td>164</td>\n",
       "    </tr>\n",
       "    <tr>\n",
       "      <td>4</td>\n",
       "      <td>Page 1</td>\n",
       "      <td>172</td>\n",
       "    </tr>\n",
       "    <tr>\n",
       "      <td>5</td>\n",
       "      <td>Page 2</td>\n",
       "      <td>171</td>\n",
       "    </tr>\n",
       "    <tr>\n",
       "      <td>6</td>\n",
       "      <td>Page 2</td>\n",
       "      <td>166</td>\n",
       "    </tr>\n",
       "    <tr>\n",
       "      <td>7</td>\n",
       "      <td>Page 2</td>\n",
       "      <td>191</td>\n",
       "    </tr>\n",
       "    <tr>\n",
       "      <td>8</td>\n",
       "      <td>Page 2</td>\n",
       "      <td>176</td>\n",
       "    </tr>\n",
       "    <tr>\n",
       "      <td>9</td>\n",
       "      <td>Page 2</td>\n",
       "      <td>177</td>\n",
       "    </tr>\n",
       "    <tr>\n",
       "      <td>10</td>\n",
       "      <td>Page 3</td>\n",
       "      <td>155</td>\n",
       "    </tr>\n",
       "    <tr>\n",
       "      <td>11</td>\n",
       "      <td>Page 3</td>\n",
       "      <td>178</td>\n",
       "    </tr>\n",
       "    <tr>\n",
       "      <td>12</td>\n",
       "      <td>Page 3</td>\n",
       "      <td>168</td>\n",
       "    </tr>\n",
       "    <tr>\n",
       "      <td>13</td>\n",
       "      <td>Page 3</td>\n",
       "      <td>195</td>\n",
       "    </tr>\n",
       "    <tr>\n",
       "      <td>14</td>\n",
       "      <td>Page 3</td>\n",
       "      <td>175</td>\n",
       "    </tr>\n",
       "    <tr>\n",
       "      <td>15</td>\n",
       "      <td>Page 4</td>\n",
       "      <td>163</td>\n",
       "    </tr>\n",
       "    <tr>\n",
       "      <td>16</td>\n",
       "      <td>Page 4</td>\n",
       "      <td>156</td>\n",
       "    </tr>\n",
       "    <tr>\n",
       "      <td>17</td>\n",
       "      <td>Page 4</td>\n",
       "      <td>164</td>\n",
       "    </tr>\n",
       "    <tr>\n",
       "      <td>18</td>\n",
       "      <td>Page 4</td>\n",
       "      <td>193</td>\n",
       "    </tr>\n",
       "    <tr>\n",
       "      <td>19</td>\n",
       "      <td>Page 4</td>\n",
       "      <td>182</td>\n",
       "    </tr>\n",
       "  </tbody>\n",
       "</table>\n",
       "</div>"
      ],
      "text/plain": [
       "      Page  Time\n",
       "0   Page 1   185\n",
       "1   Page 1   170\n",
       "2   Page 1   177\n",
       "3   Page 1   164\n",
       "4   Page 1   172\n",
       "5   Page 2   171\n",
       "6   Page 2   166\n",
       "7   Page 2   191\n",
       "8   Page 2   176\n",
       "9   Page 2   177\n",
       "10  Page 3   155\n",
       "11  Page 3   178\n",
       "12  Page 3   168\n",
       "13  Page 3   195\n",
       "14  Page 3   175\n",
       "15  Page 4   163\n",
       "16  Page 4   156\n",
       "17  Page 4   164\n",
       "18  Page 4   193\n",
       "19  Page 4   182"
      ]
     },
     "execution_count": 10,
     "metadata": {
      "tags": []
     },
     "output_type": "execute_result"
    }
   ],
   "source": [
    "# 각 그룹에 기존 Time이 아닌 무작위로 새로 섞어서 핧당하고, 그룹 별 평균으로부터 분산을 구함.\n",
    "def perm_test(df):\n",
    "    df = df.copy()\n",
    "    df['Time'] = np.random.permutation(df['Time'].values)\n",
    "    return df.groupby('Page').mean().var()[0]\n",
    "    \n",
    "print(perm_test(four_sessions))\n",
    "\n",
    "df_tmp = four_sessions.copy()\n",
    "df_tmp['Time'] = np.random.permutation(df_tmp['Time'].values)\n",
    "df_tmp.sort_values('Page').reset_index(drop=True)"
   ]
  },
  {
   "cell_type": "code",
   "execution_count": null,
   "metadata": {
    "ExecuteTime": {
     "end_time": "2020-07-01T06:24:06.747185Z",
     "start_time": "2020-07-01T06:24:00.632852Z"
    },
    "colab": {},
    "colab_type": "code",
    "id": "hMPXiivabm7p",
    "outputId": "622b2cf9-450f-416c-db63-67af6b7ede6f"
   },
   "outputs": [
    {
     "name": "stdout",
     "output_type": "stream",
     "text": [
      "Pr(Prob) 0.07533333333333334\n"
     ]
    },
    {
     "data": {
      "image/png": "[encoded data removed]",
      "text/plain": [
       "<Figure size 576x576 with 1 Axes>"
      ]
     },
     "metadata": {
      "needs_background": "light",
      "tags": []
     },
     "output_type": "display_data"
    }
   ],
   "source": [
    "random.seed(1)\n",
    "perm_variance = [perm_test(four_sessions) for _ in range(3000)]\n",
    "print('Pr(Prob)', np.mean([var > observed_variance for var in perm_variance]))\n",
    "\n",
    "fig, ax = plt.subplots(figsize=(8, 8))\n",
    "ax.hist(perm_variance, bins=11, rwidth=0.9) # F 분포가 그려짐\n",
    "ax.axvline(x=observed_variance, color='black', lw=2)\n",
    "ax.text(60, 200, 'Observed\\nvariance', bbox={'facecolor':'white'})\n",
    "ax.set_xlabel('Variance')\n",
    "ax.set_ylabel('Frequency')\n",
    "\n",
    "plt.tight_layout()\n",
    "plt.show()"
   ]
  },
  {
   "cell_type": "markdown",
   "metadata": {
    "colab_type": "text",
    "id": "mSm0PzVJ1qMo"
   },
   "source": [
    "## F-통계량"
   ]
  },
  {
   "cell_type": "markdown",
   "metadata": {
    "colab_type": "text",
    "id": "6GTHFOUg1qMp"
   },
   "source": [
    "<img src=\"../image/f_value.png\" align=\"left\">"
   ]
  },
  {
   "cell_type": "markdown",
   "metadata": {
    "colab_type": "text",
    "id": "TbzMmY2h1qMp"
   },
   "source": [
    "<img src=\"../image/f_value_2.png\" align=\"left\">  "
   ]
  },
  {
   "cell_type": "markdown",
   "metadata": {
    "colab_type": "text",
    "id": "1JfO65TB1qMp"
   },
   "source": [
    "<img src=\"../image/f_value_3.png\" align=\"left\">"
   ]
  },
  {
   "cell_type": "markdown",
   "metadata": {
    "colab_type": "text",
    "id": "URogs0wI1qMq"
   },
   "source": [
    "<img src=\"../image/f_value_4.png\" align=\"left\">"
   ]
  },
  {
   "cell_type": "markdown",
   "metadata": {
    "colab_type": "text",
    "id": "Gw31rrn81qMt"
   },
   "source": [
    "<img src=\"../image/one_way_hypothesis.png\" align=\"left\">"
   ]
  },
  {
   "cell_type": "code",
   "execution_count": null,
   "metadata": {
    "ExecuteTime": {
     "end_time": "2020-07-01T06:24:06.796315Z",
     "start_time": "2020-07-01T06:24:06.749000Z"
    },
    "colab": {},
    "colab_type": "code",
    "id": "HyWkn2ln1qMv",
    "outputId": "61109c76-934b-4c3f-bcf2-d710bd34d658"
   },
   "outputs": [
    {
     "name": "stdout",
     "output_type": "stream",
     "text": [
      "            df  sum_sq     mean_sq         F    PR(>F)\n",
      "Page       3.0   831.4  277.133333  2.739825  0.077586\n",
      "Residual  16.0  1618.4  101.150000       NaN       NaN\n"
     ]
    }
   ],
   "source": [
    "model = smf.ols('Time ~ Page', data=four_sessions).fit()\n",
    "                \n",
    "aov_table = sm.stats.anova_lm(model)\n",
    "print(aov_table)"
   ]
  },
  {
   "cell_type": "code",
   "execution_count": null,
   "metadata": {
    "ExecuteTime": {
     "end_time": "2020-07-01T06:24:06.883225Z",
     "start_time": "2020-07-01T06:24:06.874594Z"
    },
    "colab": {},
    "colab_type": "code",
    "id": "EGhgqM-c1qM1",
    "outputId": "cc2bfa9c-b170-495e-ef23-5f926833ea73"
   },
   "outputs": [
    {
     "name": "stdout",
     "output_type": "stream",
     "text": [
      "F-Statistic: 2.7398\n",
      "p-value: 0.0776\n"
     ]
    }
   ],
   "source": [
    "res = stats.f_oneway(four_sessions[four_sessions.Page == 'Page 1'].Time, \n",
    "                     four_sessions[four_sessions.Page == 'Page 2'].Time,\n",
    "                     four_sessions[four_sessions.Page == 'Page 3'].Time,\n",
    "                     four_sessions[four_sessions.Page == 'Page 4'].Time)\n",
    "print(f'F-Statistic: {res.statistic:.4f}')\n",
    "print(f'p-value: {res.pvalue:.4f}')"
   ]
  },
  {
   "cell_type": "markdown",
   "metadata": {
    "colab_type": "text",
    "id": "9-QJiTq41qM6"
   },
   "source": [
    "아래는 계산 과정을 유도한 것임"
   ]
  },
  {
   "cell_type": "code",
   "execution_count": null,
   "metadata": {
    "ExecuteTime": {
     "end_time": "2020-07-01T06:24:09.122392Z",
     "start_time": "2020-07-01T06:24:08.822066Z"
    },
    "colab": {},
    "colab_type": "code",
    "id": "WW9ah1Lw1qM8",
    "outputId": "a98fa251-9419-4cab-a947-15d9e46ee377"
   },
   "outputs": [
    {
     "data": {
      "image/png": "[encoded data removed]",
      "text/plain": [
       "<Figure size 864x576 with 1 Axes>"
      ]
     },
     "metadata": {
      "needs_background": "light",
      "tags": []
     },
     "output_type": "display_data"
    }
   ],
   "source": [
    "gm = four_sessions.Time.mean()\n",
    "\n",
    "plt.figure(figsize=(12,8))\n",
    "ax=sns.boxplot(x='Page', y='Time', data=four_sessions, color='#BCDAF7', showmeans=True)\n",
    "ax.set_xlabel('Page')\n",
    "ax.set_ylabel('Time (in seconds)')\n",
    "plt.suptitle('')\n",
    "plt.title('')\n",
    "plt.axhline(gm, 0, 1, color = 'red', ls = '--', alpha = 1)\n",
    "plt.text(x=3, y=195, s=\"Gross Mean\", bbox = dict(facecolor = 'red', alpha = 0.3), fontsize = 14)\n",
    "plt.axhline(195.3, 0.8, 0.85, color = 'red', ls = '--', alpha = 1)\n",
    "plt.axvline(0, 0.471, 0.445, color = 'green', ls = '--', alpha = 1)\n",
    "plt.axvline(1, 0.471, 0.665, color = 'green', ls = '--', alpha = 1)\n",
    "plt.axvline(2, 0.471, 0.51, color = 'green', ls = '--', alpha = 1)\n",
    "plt.axvline(3, 0.471, 0.26, color = 'green', ls = '--', alpha = 1)\n",
    "plt.tight_layout()\n",
    "plt.show()"
   ]
  },
  {
   "cell_type": "code",
   "execution_count": null,
   "metadata": {
    "ExecuteTime": {
     "end_time": "2020-07-01T06:24:12.919755Z",
     "start_time": "2020-07-01T06:24:12.896520Z"
    },
    "colab": {},
    "colab_type": "code",
    "id": "m4jdxKxebm7s",
    "outputId": "c3bc4a46-5e33-4055-95d0-e6a918aecb50"
   },
   "outputs": [
    {
     "data": {
      "text/html": [
       "<div>\n",
       "<style scoped>\n",
       "    .dataframe tbody tr th:only-of-type {\n",
       "        vertical-align: middle;\n",
       "    }\n",
       "\n",
       "    .dataframe tbody tr th {\n",
       "        vertical-align: top;\n",
       "    }\n",
       "\n",
       "    .dataframe thead th {\n",
       "        text-align: right;\n",
       "    }\n",
       "</style>\n",
       "<table border=\"1\" class=\"dataframe\">\n",
       "  <thead>\n",
       "    <tr style=\"text-align: right;\">\n",
       "      <th></th>\n",
       "      <th>Page</th>\n",
       "      <th>Time</th>\n",
       "      <th>gross_mean</th>\n",
       "      <th>group_mean</th>\n",
       "      <th>between</th>\n",
       "      <th>within</th>\n",
       "    </tr>\n",
       "  </thead>\n",
       "  <tbody>\n",
       "    <tr>\n",
       "      <td>0</td>\n",
       "      <td>Page 1</td>\n",
       "      <td>164</td>\n",
       "      <td>173.9</td>\n",
       "      <td>172.8</td>\n",
       "      <td>1.21</td>\n",
       "      <td>77.44</td>\n",
       "    </tr>\n",
       "    <tr>\n",
       "      <td>1</td>\n",
       "      <td>Page 1</td>\n",
       "      <td>195</td>\n",
       "      <td>173.9</td>\n",
       "      <td>172.8</td>\n",
       "      <td>1.21</td>\n",
       "      <td>492.84</td>\n",
       "    </tr>\n",
       "    <tr>\n",
       "      <td>2</td>\n",
       "      <td>Page 1</td>\n",
       "      <td>172</td>\n",
       "      <td>173.9</td>\n",
       "      <td>172.8</td>\n",
       "      <td>1.21</td>\n",
       "      <td>0.64</td>\n",
       "    </tr>\n",
       "    <tr>\n",
       "      <td>3</td>\n",
       "      <td>Page 1</td>\n",
       "      <td>156</td>\n",
       "      <td>173.9</td>\n",
       "      <td>172.8</td>\n",
       "      <td>1.21</td>\n",
       "      <td>282.24</td>\n",
       "    </tr>\n",
       "    <tr>\n",
       "      <td>4</td>\n",
       "      <td>Page 1</td>\n",
       "      <td>177</td>\n",
       "      <td>173.9</td>\n",
       "      <td>172.8</td>\n",
       "      <td>1.21</td>\n",
       "      <td>17.64</td>\n",
       "    </tr>\n",
       "    <tr>\n",
       "      <td>5</td>\n",
       "      <td>Page 2</td>\n",
       "      <td>177</td>\n",
       "      <td>173.9</td>\n",
       "      <td>182.6</td>\n",
       "      <td>75.69</td>\n",
       "      <td>31.36</td>\n",
       "    </tr>\n",
       "    <tr>\n",
       "      <td>6</td>\n",
       "      <td>Page 2</td>\n",
       "      <td>185</td>\n",
       "      <td>173.9</td>\n",
       "      <td>182.6</td>\n",
       "      <td>75.69</td>\n",
       "      <td>5.76</td>\n",
       "    </tr>\n",
       "    <tr>\n",
       "      <td>7</td>\n",
       "      <td>Page 2</td>\n",
       "      <td>182</td>\n",
       "      <td>173.9</td>\n",
       "      <td>182.6</td>\n",
       "      <td>75.69</td>\n",
       "      <td>0.36</td>\n",
       "    </tr>\n",
       "    <tr>\n",
       "      <td>8</td>\n",
       "      <td>Page 2</td>\n",
       "      <td>191</td>\n",
       "      <td>173.9</td>\n",
       "      <td>182.6</td>\n",
       "      <td>75.69</td>\n",
       "      <td>70.56</td>\n",
       "    </tr>\n",
       "    <tr>\n",
       "      <td>9</td>\n",
       "      <td>Page 2</td>\n",
       "      <td>178</td>\n",
       "      <td>173.9</td>\n",
       "      <td>182.6</td>\n",
       "      <td>75.69</td>\n",
       "      <td>21.16</td>\n",
       "    </tr>\n",
       "    <tr>\n",
       "      <td>10</td>\n",
       "      <td>Page 3</td>\n",
       "      <td>193</td>\n",
       "      <td>173.9</td>\n",
       "      <td>175.6</td>\n",
       "      <td>2.89</td>\n",
       "      <td>302.76</td>\n",
       "    </tr>\n",
       "    <tr>\n",
       "      <td>11</td>\n",
       "      <td>Page 3</td>\n",
       "      <td>176</td>\n",
       "      <td>173.9</td>\n",
       "      <td>175.6</td>\n",
       "      <td>2.89</td>\n",
       "      <td>0.16</td>\n",
       "    </tr>\n",
       "    <tr>\n",
       "      <td>12</td>\n",
       "      <td>Page 3</td>\n",
       "      <td>171</td>\n",
       "      <td>173.9</td>\n",
       "      <td>175.6</td>\n",
       "      <td>2.89</td>\n",
       "      <td>21.16</td>\n",
       "    </tr>\n",
       "    <tr>\n",
       "      <td>13</td>\n",
       "      <td>Page 3</td>\n",
       "      <td>163</td>\n",
       "      <td>173.9</td>\n",
       "      <td>175.6</td>\n",
       "      <td>2.89</td>\n",
       "      <td>158.76</td>\n",
       "    </tr>\n",
       "    <tr>\n",
       "      <td>14</td>\n",
       "      <td>Page 3</td>\n",
       "      <td>175</td>\n",
       "      <td>173.9</td>\n",
       "      <td>175.6</td>\n",
       "      <td>2.89</td>\n",
       "      <td>0.36</td>\n",
       "    </tr>\n",
       "    <tr>\n",
       "      <td>15</td>\n",
       "      <td>Page 4</td>\n",
       "      <td>164</td>\n",
       "      <td>173.9</td>\n",
       "      <td>164.6</td>\n",
       "      <td>86.49</td>\n",
       "      <td>0.36</td>\n",
       "    </tr>\n",
       "    <tr>\n",
       "      <td>16</td>\n",
       "      <td>Page 4</td>\n",
       "      <td>155</td>\n",
       "      <td>173.9</td>\n",
       "      <td>164.6</td>\n",
       "      <td>86.49</td>\n",
       "      <td>92.16</td>\n",
       "    </tr>\n",
       "    <tr>\n",
       "      <td>17</td>\n",
       "      <td>Page 4</td>\n",
       "      <td>170</td>\n",
       "      <td>173.9</td>\n",
       "      <td>164.6</td>\n",
       "      <td>86.49</td>\n",
       "      <td>29.16</td>\n",
       "    </tr>\n",
       "    <tr>\n",
       "      <td>18</td>\n",
       "      <td>Page 4</td>\n",
       "      <td>166</td>\n",
       "      <td>173.9</td>\n",
       "      <td>164.6</td>\n",
       "      <td>86.49</td>\n",
       "      <td>1.96</td>\n",
       "    </tr>\n",
       "    <tr>\n",
       "      <td>19</td>\n",
       "      <td>Page 4</td>\n",
       "      <td>168</td>\n",
       "      <td>173.9</td>\n",
       "      <td>164.6</td>\n",
       "      <td>86.49</td>\n",
       "      <td>11.56</td>\n",
       "    </tr>\n",
       "  </tbody>\n",
       "</table>\n",
       "</div>"
      ],
      "text/plain": [
       "      Page  Time  gross_mean  group_mean  between  within\n",
       "0   Page 1   164       173.9       172.8     1.21   77.44\n",
       "1   Page 1   195       173.9       172.8     1.21  492.84\n",
       "2   Page 1   172       173.9       172.8     1.21    0.64\n",
       "3   Page 1   156       173.9       172.8     1.21  282.24\n",
       "4   Page 1   177       173.9       172.8     1.21   17.64\n",
       "5   Page 2   177       173.9       182.6    75.69   31.36\n",
       "6   Page 2   185       173.9       182.6    75.69    5.76\n",
       "7   Page 2   182       173.9       182.6    75.69    0.36\n",
       "8   Page 2   191       173.9       182.6    75.69   70.56\n",
       "9   Page 2   178       173.9       182.6    75.69   21.16\n",
       "10  Page 3   193       173.9       175.6     2.89  302.76\n",
       "11  Page 3   176       173.9       175.6     2.89    0.16\n",
       "12  Page 3   171       173.9       175.6     2.89   21.16\n",
       "13  Page 3   163       173.9       175.6     2.89  158.76\n",
       "14  Page 3   175       173.9       175.6     2.89    0.36\n",
       "15  Page 4   164       173.9       164.6    86.49    0.36\n",
       "16  Page 4   155       173.9       164.6    86.49   92.16\n",
       "17  Page 4   170       173.9       164.6    86.49   29.16\n",
       "18  Page 4   166       173.9       164.6    86.49    1.96\n",
       "19  Page 4   168       173.9       164.6    86.49   11.56"
      ]
     },
     "execution_count": 15,
     "metadata": {
      "tags": []
     },
     "output_type": "execute_result"
    }
   ],
   "source": [
    "df_tmp = four_sessions.copy()\n",
    "df_tmp['gross_mean'] = df_tmp.Time.mean()\n",
    "df_tmp = pd.merge(left=df_tmp.sort_values('Page').reset_index(drop=True),\n",
    "                  right=df_tmp.groupby('Page')['Time'].agg(group_mean='mean'),\n",
    "                  left_on='Page',\n",
    "                  right_index=True)\n",
    "df_tmp['between'] = (df_tmp.group_mean - df_tmp.gross_mean)**2\n",
    "df_tmp['within'] = (df_tmp.Time - df_tmp.group_mean)**2\n",
    "df_tmp"
   ]
  },
  {
   "cell_type": "code",
   "execution_count": null,
   "metadata": {
    "colab": {},
    "colab_type": "code",
    "id": "zjyK96MS1qNJ"
   },
   "outputs": [],
   "source": [
    "df_tmp = four_sessions.copy()\n",
    "df_tmp['gross_mean'] = df_tmp.Time.mean()\n",
    "df_tmp = pd.merge(left=df_tmp.sort_values('Page').reset_index(drop=True),\n",
    "                  right=df_tmp.groupby('Page')['Time'].agg(group_mean='mean'),\n",
    "                  left_on='Page',\n",
    "                  right_index=True)\n",
    "df_tmp['between'] = (df_tmp.group_mean - df_tmp.gross_mean)**2\n",
    "df_tmp['within'] = (df_tmp.Time - df_tmp.group_mean)**2\n",
    "df_tmp"
   ]
  },
  {
   "cell_type": "code",
   "execution_count": null,
   "metadata": {
    "ExecuteTime": {
     "end_time": "2020-06-30T13:33:54.559633Z",
     "start_time": "2020-06-30T13:33:54.554191Z"
    },
    "colab": {},
    "colab_type": "code",
    "id": "e51TLZUC1qNO",
    "outputId": "4594bc5f-dbbc-4023-cb6a-a58245252d78"
   },
   "outputs": [
    {
     "name": "stdout",
     "output_type": "stream",
     "text": [
      "총 평균으로부터 그룹 간 평균 편차의 합계와 between 합이 같은가?\n",
      "True\n"
     ]
    }
   ],
   "source": [
    "print(\"총 평균으로부터 그룹 간 평균 편차의 합계와 between 합이 같은가?\")\n",
    "print(round(df_tmp.group_mean.var(ddof=19), 4) == round(df_tmp.between.sum(), 4))"
   ]
  },
  {
   "cell_type": "code",
   "execution_count": null,
   "metadata": {
    "ExecuteTime": {
     "end_time": "2020-06-30T13:33:54.566907Z",
     "start_time": "2020-06-30T13:33:54.562183Z"
    },
    "colab": {},
    "colab_type": "code",
    "id": "YtZI6xPS1qNQ",
    "outputId": "ee86c62c-97ba-44fc-d2eb-94cde930d6d7",
    "scrolled": true
   },
   "outputs": [
    {
     "name": "stdout",
     "output_type": "stream",
     "text": [
      "sum_sq(Page): 831.3999999999999\n",
      "sum_sq(Residual): 1618.3999999999999\n"
     ]
    }
   ],
   "source": [
    "print(\"sum_sq(Page): {}\".format(df_tmp.between.sum()))\n",
    "print(\"sum_sq(Residual): {}\".format(df_tmp.within.sum()))"
   ]
  },
  {
   "cell_type": "code",
   "execution_count": null,
   "metadata": {
    "ExecuteTime": {
     "end_time": "2020-06-30T13:33:54.573864Z",
     "start_time": "2020-06-30T13:33:54.569450Z"
    },
    "colab": {},
    "colab_type": "code",
    "id": "559ZKZBz1qNV",
    "outputId": "79f08f81-4d9d-4f55-f0f8-cf765e499802"
   },
   "outputs": [
    {
     "name": "stdout",
     "output_type": "stream",
     "text": [
      "F-value: 2.7398\n"
     ]
    }
   ],
   "source": [
    "between_variance = df_tmp.between.sum() / (4 - 1)\n",
    "within_variance = df_tmp.within.sum() / (20 - 4)\n",
    "\n",
    "f_value = round(between_variance / within_variance, 4)\n",
    "print(\"F-value: {}\".format(f_value))"
   ]
  },
  {
   "cell_type": "markdown",
   "metadata": {
    "colab_type": "text",
    "id": "vlJ0b1Pm1qNZ"
   },
   "source": [
    "## Two-way(이원 분산분석)\n",
    "\n",
    "- 이원 분산분석은 일원 자체가 하나의 그룹이 되는 ANOVA이다.\n",
    "- 즉, 주말 vs. 평일을 비교하는 것 처럼 그룹 A 주말, 그룹 A 평일, 그룹 B 주말 등으로 나누는 것이다.\n",
    "- 이처럼 여러 요인과 그 효과를 모델링할 수 있는 회귀와 로지스틱 회귀 같은 완전한 통계 모델을 위한 첫걸음이 바로 이 ANOVA, 특히 이원 ANOVA라고 할 수 있다."
   ]
  },
  {
   "cell_type": "markdown",
   "metadata": {
    "colab_type": "text",
    "id": "LfieV1t31qNZ"
   },
   "source": [
    "# 카이제곱검정\n",
    "- 독립변수와 종속변수가 모두 범주형 변수일 때 사용한다.\n",
    "- 목적은 두 가지인데,\n",
    "  - 변수가 한 개인 경우: 변수 내 그룹간의 비율이 같은지 다른지(단, 그룹이 2개인 경우 Binomial test, **그룹이 여러 개면 카이제곱 검정**)\n",
    "  - 변수가 두 개인 경우: 변수 사이의 연관성(Association)이 있는지 없는지 (e.g 휴대폰 사용과 뇌암, 인종과 특정 질병 등)"
   ]
  },
  {
   "cell_type": "markdown",
   "metadata": {
    "colab_type": "text",
    "id": "XV0hVWma1qNZ"
   },
   "source": [
    "## 일원 카이제곱 검정"
   ]
  },
  {
   "cell_type": "markdown",
   "metadata": {
    "colab_type": "text",
    "id": "jRYjDl-J1qNa"
   },
   "source": [
    "<img src=\"../image/chi_1.png\" align=\"left\">"
   ]
  },
  {
   "cell_type": "markdown",
   "metadata": {
    "colab_type": "text",
    "id": "crP9jouT1qNa"
   },
   "source": [
    "<img src=\"../image/chi_2.png\" align=\"left\">  "
   ]
  },
  {
   "cell_type": "markdown",
   "metadata": {
    "colab_type": "text",
    "id": "rkv6ddvu1qNb"
   },
   "source": [
    "<img src=\"../image/chi_3.png\" align=\"left\">  "
   ]
  },
  {
   "cell_type": "markdown",
   "metadata": {
    "colab_type": "text",
    "id": "Nvqj7e6-1qNb"
   },
   "source": [
    "<img src=\"../image/chi_4.png\" align=\"left\">"
   ]
  },
  {
   "cell_type": "markdown",
   "metadata": {
    "colab_type": "text",
    "id": "JQogad-i1qNc"
   },
   "source": [
    "<img src=\"../image/chi_5.png\" align=\"left\">"
   ]
  },
  {
   "cell_type": "markdown",
   "metadata": {
    "colab_type": "text",
    "id": "kHp2w-YO1qNc"
   },
   "source": [
    "<img src=\"../image/chi_6.png\" align=\"left\">"
   ]
  },
  {
   "cell_type": "markdown",
   "metadata": {
    "colab_type": "text",
    "id": "I9a1TRcL1qNd"
   },
   "source": [
    "## 이원 카이제곱 검정"
   ]
  },
  {
   "cell_type": "markdown",
   "metadata": {
    "colab_type": "text",
    "id": "fpc3Ksyx1qNe"
   },
   "source": [
    "<img src=\"../image/chi_two_way_1.png\" align=\"left\">  "
   ]
  },
  {
   "cell_type": "markdown",
   "metadata": {
    "colab_type": "text",
    "id": "Ug8qj7-p1qNg"
   },
   "source": [
    "<img src=\"../image/chi_two_way_2.png\" align=\"left\">  "
   ]
  },
  {
   "cell_type": "markdown",
   "metadata": {
    "colab_type": "text",
    "id": "30V0nmsP1qNg"
   },
   "source": [
    "<img src=\"../image/chi_two_way_3.png\" align=\"left\">"
   ]
  },
  {
   "cell_type": "markdown",
   "metadata": {
    "colab_type": "text",
    "id": "jRAgOkQi1qNh"
   },
   "source": [
    "<img src=\"../image/chi_two_way_4.png\" align=\"left\">  "
   ]
  },
  {
   "cell_type": "markdown",
   "metadata": {
    "colab_type": "text",
    "id": "tPDgM0ZD1qNk"
   },
   "source": [
    "<img src=\"../image/chi_two_way_5.png\" align=\"left\">  "
   ]
  },
  {
   "cell_type": "markdown",
   "metadata": {
    "colab_type": "text",
    "id": "2Tq6-Yu61qNo"
   },
   "source": [
    "<img src=\"../image/chi_two_way_6.png\" align=\"left\">  "
   ]
  },
  {
   "cell_type": "markdown",
   "metadata": {
    "colab_type": "text",
    "id": "7oh3JKl71qNo"
   },
   "source": [
    "<img src=\"../image/chi_two_way_7.png\" align=\"left\">  "
   ]
  },
  {
   "cell_type": "markdown",
   "metadata": {
    "colab_type": "text",
    "id": "1-ygfHIf1qNo"
   },
   "source": [
    "<img src=\"../image/chi_two_way_8.png\" align=\"left\"> "
   ]
  },
  {
   "cell_type": "markdown",
   "metadata": {
    "colab_type": "text",
    "id": "vJFVilG71qNp"
   },
   "source": [
    "<img src=\"../image/chi_two_way_9.png\" align=\"left\">  "
   ]
  },
  {
   "cell_type": "markdown",
   "metadata": {
    "colab_type": "text",
    "id": "T2i7l4CN1qNp"
   },
   "source": [
    "## 재표본추출 방법\n",
    "- 이원 카이제곱 검정"
   ]
  },
  {
   "cell_type": "code",
   "execution_count": null,
   "metadata": {
    "ExecuteTime": {
     "end_time": "2020-06-30T23:13:20.709514Z",
     "start_time": "2020-06-30T23:13:20.691028Z"
    },
    "colab": {},
    "colab_type": "code",
    "id": "87LRdPkw1qNp",
    "outputId": "2b28eaa4-9c6e-4b23-db40-632f64c1d189",
    "scrolled": true
   },
   "outputs": [
    {
     "name": "stdout",
     "output_type": "stream",
     "text": [
      "<class 'pandas.core.frame.DataFrame'>\n",
      "RangeIndex: 6 entries, 0 to 5\n",
      "Data columns (total 3 columns):\n",
      "Headline    6 non-null object\n",
      "Click       6 non-null object\n",
      "Rate        6 non-null int64\n",
      "dtypes: int64(1), object(2)\n",
      "memory usage: 272.0+ bytes\n"
     ]
    }
   ],
   "source": [
    "# Table 3-4\n",
    "click_rate = pd.read_csv('./data/click_rates.csv')\n",
    "click_rate.info()"
   ]
  },
  {
   "cell_type": "code",
   "execution_count": null,
   "metadata": {
    "ExecuteTime": {
     "end_time": "2020-06-30T23:13:21.331204Z",
     "start_time": "2020-06-30T23:13:21.322511Z"
    },
    "colab": {},
    "colab_type": "code",
    "id": "nR5q8RdI1qNy",
    "outputId": "ffc12649-f1a8-4a4d-a018-d43272f7c2a9"
   },
   "outputs": [
    {
     "data": {
      "text/html": [
       "<div>\n",
       "<style scoped>\n",
       "    .dataframe tbody tr th:only-of-type {\n",
       "        vertical-align: middle;\n",
       "    }\n",
       "\n",
       "    .dataframe tbody tr th {\n",
       "        vertical-align: top;\n",
       "    }\n",
       "\n",
       "    .dataframe thead th {\n",
       "        text-align: right;\n",
       "    }\n",
       "</style>\n",
       "<table border=\"1\" class=\"dataframe\">\n",
       "  <thead>\n",
       "    <tr style=\"text-align: right;\">\n",
       "      <th></th>\n",
       "      <th>Headline</th>\n",
       "      <th>Click</th>\n",
       "      <th>Rate</th>\n",
       "    </tr>\n",
       "  </thead>\n",
       "  <tbody>\n",
       "    <tr>\n",
       "      <td>0</td>\n",
       "      <td>Headline A</td>\n",
       "      <td>Click</td>\n",
       "      <td>14</td>\n",
       "    </tr>\n",
       "    <tr>\n",
       "      <td>1</td>\n",
       "      <td>Headline A</td>\n",
       "      <td>No-click</td>\n",
       "      <td>986</td>\n",
       "    </tr>\n",
       "    <tr>\n",
       "      <td>2</td>\n",
       "      <td>Headline B</td>\n",
       "      <td>Click</td>\n",
       "      <td>8</td>\n",
       "    </tr>\n",
       "    <tr>\n",
       "      <td>3</td>\n",
       "      <td>Headline B</td>\n",
       "      <td>No-click</td>\n",
       "      <td>992</td>\n",
       "    </tr>\n",
       "    <tr>\n",
       "      <td>4</td>\n",
       "      <td>Headline C</td>\n",
       "      <td>Click</td>\n",
       "      <td>12</td>\n",
       "    </tr>\n",
       "  </tbody>\n",
       "</table>\n",
       "</div>"
      ],
      "text/plain": [
       "     Headline     Click  Rate\n",
       "0  Headline A     Click    14\n",
       "1  Headline A  No-click   986\n",
       "2  Headline B     Click     8\n",
       "3  Headline B  No-click   992\n",
       "4  Headline C     Click    12"
      ]
     },
     "execution_count": 4,
     "metadata": {
      "tags": []
     },
     "output_type": "execute_result"
    }
   ],
   "source": [
    "click_rate.head()"
   ]
  },
  {
   "cell_type": "code",
   "execution_count": null,
   "metadata": {
    "ExecuteTime": {
     "end_time": "2020-06-30T23:13:21.864696Z",
     "start_time": "2020-06-30T23:13:21.851127Z"
    },
    "colab": {},
    "colab_type": "code",
    "id": "tlo-w2201qN0",
    "outputId": "0537260a-c4c4-4013-8205-c7c580b6c412",
    "scrolled": true
   },
   "outputs": [
    {
     "data": {
      "text/html": [
       "<div>\n",
       "<style scoped>\n",
       "    .dataframe tbody tr th:only-of-type {\n",
       "        vertical-align: middle;\n",
       "    }\n",
       "\n",
       "    .dataframe tbody tr th {\n",
       "        vertical-align: top;\n",
       "    }\n",
       "\n",
       "    .dataframe thead th {\n",
       "        text-align: right;\n",
       "    }\n",
       "</style>\n",
       "<table border=\"1\" class=\"dataframe\">\n",
       "  <thead>\n",
       "    <tr style=\"text-align: right;\">\n",
       "      <th>Headline</th>\n",
       "      <th>Headline A</th>\n",
       "      <th>Headline B</th>\n",
       "      <th>Headline C</th>\n",
       "    </tr>\n",
       "    <tr>\n",
       "      <th>Click</th>\n",
       "      <th></th>\n",
       "      <th></th>\n",
       "      <th></th>\n",
       "    </tr>\n",
       "  </thead>\n",
       "  <tbody>\n",
       "    <tr>\n",
       "      <td>Click</td>\n",
       "      <td>14</td>\n",
       "      <td>8</td>\n",
       "      <td>12</td>\n",
       "    </tr>\n",
       "    <tr>\n",
       "      <td>No-click</td>\n",
       "      <td>986</td>\n",
       "      <td>992</td>\n",
       "      <td>988</td>\n",
       "    </tr>\n",
       "  </tbody>\n",
       "</table>\n",
       "</div>"
      ],
      "text/plain": [
       "Headline  Headline A  Headline B  Headline C\n",
       "Click                                       \n",
       "Click             14           8          12\n",
       "No-click         986         992         988"
      ]
     },
     "execution_count": 5,
     "metadata": {
      "tags": []
     },
     "output_type": "execute_result"
    }
   ],
   "source": [
    "clicks = click_rate.pivot(index='Click', columns='Headline', values='Rate')\n",
    "clicks"
   ]
  },
  {
   "cell_type": "code",
   "execution_count": null,
   "metadata": {
    "ExecuteTime": {
     "end_time": "2020-06-30T23:13:22.477237Z",
     "start_time": "2020-06-30T23:13:22.469478Z"
    },
    "colab": {},
    "colab_type": "code",
    "id": "TSAm4LGZ1qOA",
    "outputId": "75a1ed73-4fb8-4fd0-b6f1-364c38b2456e",
    "scrolled": true
   },
   "outputs": [
    {
     "data": {
      "text/html": [
       "<div>\n",
       "<style scoped>\n",
       "    .dataframe tbody tr th:only-of-type {\n",
       "        vertical-align: middle;\n",
       "    }\n",
       "\n",
       "    .dataframe tbody tr th {\n",
       "        vertical-align: top;\n",
       "    }\n",
       "\n",
       "    .dataframe thead th {\n",
       "        text-align: right;\n",
       "    }\n",
       "</style>\n",
       "<table border=\"1\" class=\"dataframe\">\n",
       "  <thead>\n",
       "    <tr style=\"text-align: right;\">\n",
       "      <th></th>\n",
       "      <th>Headline A</th>\n",
       "      <th>Headline B</th>\n",
       "      <th>Headline C</th>\n",
       "    </tr>\n",
       "    <tr>\n",
       "      <th>Click</th>\n",
       "      <th></th>\n",
       "      <th></th>\n",
       "      <th></th>\n",
       "    </tr>\n",
       "  </thead>\n",
       "  <tbody>\n",
       "    <tr>\n",
       "      <td>Click</td>\n",
       "      <td>11.333333</td>\n",
       "      <td>11.333333</td>\n",
       "      <td>11.333333</td>\n",
       "    </tr>\n",
       "    <tr>\n",
       "      <td>No-click</td>\n",
       "      <td>988.666667</td>\n",
       "      <td>988.666667</td>\n",
       "      <td>988.666667</td>\n",
       "    </tr>\n",
       "  </tbody>\n",
       "</table>\n",
       "</div>"
      ],
      "text/plain": [
       "          Headline A  Headline B  Headline C\n",
       "Click                                       \n",
       "Click      11.333333   11.333333   11.333333\n",
       "No-click  988.666667  988.666667  988.666667"
      ]
     },
     "execution_count": 6,
     "metadata": {
      "tags": []
     },
     "output_type": "execute_result"
    }
   ],
   "source": [
    "# Table 3-5\n",
    "row_average = clicks.mean(axis=1)\n",
    "pd.DataFrame({\n",
    "    'Headline A': row_average,\n",
    "    'Headline B': row_average,\n",
    "    'Headline C': row_average,\n",
    "})"
   ]
  },
  {
   "cell_type": "code",
   "execution_count": null,
   "metadata": {
    "ExecuteTime": {
     "end_time": "2020-06-30T23:13:28.963382Z",
     "start_time": "2020-06-30T23:13:25.222748Z"
    },
    "colab": {},
    "colab_type": "code",
    "id": "q2nlXkKA1qOD",
    "outputId": "429d27be-ce00-4860-effd-dad3618750c1"
   },
   "outputs": [
    {
     "name": "stdout",
     "output_type": "stream",
     "text": [
      "Observed chi2: 1.6659\n",
      "Resampled p-value: 0.4805\n"
     ]
    }
   ],
   "source": [
    "# Resampling approach\n",
    "box = [1] * 34\n",
    "box.extend([0] * 2966)\n",
    "random.shuffle(box)\n",
    "\n",
    "def chi2(observed, expected):\n",
    "    pearson_residuals = []\n",
    "    for row, expect in zip(observed, expected):\n",
    "        pearson_residuals.append([(observe - expect) ** 2 / expect for observe in row])\n",
    "    # return sum of squares\n",
    "    return np.sum(pearson_residuals)\n",
    "\n",
    "expected_clicks = 34 / 3\n",
    "expected_noclicks = 1000 - expected_clicks\n",
    "expected = [34 / 3, 1000 - 34 / 3]\n",
    "chi2observed = chi2(clicks.values, expected)\n",
    "\n",
    "def perm_fun(box):\n",
    "    sample_clicks = [sum(random.sample(box, 1000)),\n",
    "                     sum(random.sample(box, 1000)),\n",
    "                     sum(random.sample(box, 1000))]\n",
    "    sample_noclicks = [1000 - n for n in sample_clicks]\n",
    "    return chi2([sample_clicks, sample_noclicks], expected)\n",
    "\n",
    "perm_chi2 = [perm_fun(box) for _ in range(2000)]\n",
    "\n",
    "resampled_p_value = sum(perm_chi2 > chi2observed) / len(perm_chi2)\n",
    "print(f'Observed chi2: {chi2observed:.4f}')\n",
    "print(f'Resampled p-value: {resampled_p_value:.4f}')"
   ]
  },
  {
   "cell_type": "code",
   "execution_count": null,
   "metadata": {
    "ExecuteTime": {
     "end_time": "2020-06-30T23:55:34.624058Z",
     "start_time": "2020-06-30T23:55:34.149199Z"
    },
    "colab": {},
    "colab_type": "code",
    "id": "BCqwcM6I1qOF",
    "outputId": "df716be9-a475-4adb-de3c-b06f805c726e"
   },
   "outputs": [
    {
     "data": {
      "image/png": "[encoded data removed]",
      "text/plain": [
       "<Figure size 1440x720 with 1 Axes>"
      ]
     },
     "metadata": {
      "tags": []
     },
     "output_type": "display_data"
    }
   ],
   "source": [
    "plot_dist(x=perm_chi2, bins=10, kde=True, label='distribution of perm_chi2')\n",
    "plot_title(title=\"카이제곱통계량의 분포\", xlabel=\"Chi2\", ylabel=\"Frequency\", fontproperties=fontprop, fontsize=14)\n",
    "plt.axvline(chi2observed, 0, 1, color = 'red', ls = '--', alpha = 0.5)\n",
    "plt.text(x=chi2observed, y=0.45, s = \"chi2observed: \" + str(round(chi2observed, 3)), bbox=dict(facecolor='red', alpha=0.3), fontsize=14);"
   ]
  },
  {
   "cell_type": "code",
   "execution_count": null,
   "metadata": {
    "ExecuteTime": {
     "end_time": "2020-06-30T23:13:28.968590Z",
     "start_time": "2020-06-30T23:13:28.964496Z"
    },
    "colab": {},
    "colab_type": "code",
    "id": "llGcqGJA1qOH",
    "outputId": "95b6f533-fb4d-40bf-b16c-66acad88b64a"
   },
   "outputs": [
    {
     "name": "stdout",
     "output_type": "stream",
     "text": [
      "Observed chi2: 1.6659\n",
      "p-value: 0.4348\n"
     ]
    }
   ],
   "source": [
    "chisq, pvalue, df, expected = stats.chi2_contingency(clicks)\n",
    "print(f'Observed chi2: {chi2observed:.4f}')\n",
    "print(f'p-value: {pvalue:.4f}')"
   ]
  },
  {
   "cell_type": "code",
   "execution_count": null,
   "metadata": {
    "ExecuteTime": {
     "end_time": "2020-06-30T23:13:29.257854Z",
     "start_time": "2020-06-30T23:13:28.969808Z"
    },
    "colab": {},
    "colab_type": "code",
    "id": "Gtd2NZ0C1qOJ",
    "outputId": "07a2df87-0233-4777-9f89-5215f992962b"
   },
   "outputs": [
    {
     "data": {
      "image/png": "[encoded data removed]",
      "text/plain": [
       "<Figure size 864x576 with 1 Axes>"
      ]
     },
     "metadata": {
      "needs_background": "light",
      "tags": []
     },
     "output_type": "display_data"
    }
   ],
   "source": [
    "x = [1 + i * (30 - 1) / 99 for i in range(100)]\n",
    "\n",
    "chi = pd.DataFrame({\n",
    "    'x': x,\n",
    "    'chi_1': stats.chi2.pdf(x, df=1),\n",
    "    'chi_2': stats.chi2.pdf(x, df=2),\n",
    "    'chi_5': stats.chi2.pdf(x, df=5),\n",
    "    'chi_10': stats.chi2.pdf(x, df=10),\n",
    "    'chi_20': stats.chi2.pdf(x, df=20),\n",
    "})\n",
    "fig, ax = plt.subplots(figsize=(12, 8))\n",
    "ax.plot(chi.x, chi.chi_1, color='black', linestyle='-', label='1')\n",
    "ax.plot(chi.x, chi.chi_2, color='black', linestyle=(0, (1, 1)), label='2')\n",
    "ax.plot(chi.x, chi.chi_5, color='black', linestyle=(0, (2, 1)), label='5')\n",
    "ax.plot(chi.x, chi.chi_10, color='black', linestyle=(0, (3, 1)), label='10')\n",
    "ax.plot(chi.x, chi.chi_20, color='black', linestyle=(0, (4, 1)), label='20')\n",
    "ax.legend(title='df')\n",
    "\n",
    "plt.tight_layout()\n",
    "plt.show()"
   ]
  },
  {
   "cell_type": "markdown",
   "metadata": {
    "colab_type": "text",
    "id": "uY5z9GZH1qOO"
   },
   "source": [
    "## 피셔의 정확검정\n",
    "- 카이제곱 검정의 재표본을 활용한 방법을 한 번에 알 수 있는 방법이다.\n",
    "- 단, 기대값이 5 이상은 되었을 때만 사용이 가능하다."
   ]
  },
  {
   "cell_type": "code",
   "execution_count": null,
   "metadata": {
    "ExecuteTime": {
     "end_time": "2020-06-30T23:57:27.024917Z",
     "start_time": "2020-06-30T23:57:27.014357Z"
    },
    "colab": {},
    "colab_type": "code",
    "id": "-nqfAfKA1qOP",
    "outputId": "e213ab92-cd14-4858-a2e4-f76846b79f3b"
   },
   "outputs": [
    {
     "ename": "ValueError",
     "evalue": "The input `table` must be of shape (2, 2).",
     "output_type": "error",
     "traceback": [
      "\u001b[0;31m---------------------------------------------------------------------------\u001b[0m",
      "\u001b[0;31mValueError\u001b[0m                                Traceback (most recent call last)",
      "\u001b[0;32m<ipython-input-94-25a3a0c77c76>\u001b[0m in \u001b[0;36m<module>\u001b[0;34m\u001b[0m\n\u001b[0;32m----> 1\u001b[0;31m \u001b[0mstats\u001b[0m\u001b[0;34m.\u001b[0m\u001b[0mfisher_exact\u001b[0m\u001b[0;34m(\u001b[0m\u001b[0mclicks\u001b[0m\u001b[0;34m.\u001b[0m\u001b[0mvalues\u001b[0m\u001b[0;34m)\u001b[0m\u001b[0;34m\u001b[0m\u001b[0m\n\u001b[0m",
      "\u001b[0;32m~/opt/anaconda3/envs/ds37/lib/python3.7/site-packages/scipy/stats/stats.py\u001b[0m in \u001b[0;36mfisher_exact\u001b[0;34m(table, alternative)\u001b[0m\n\u001b[1;32m   3625\u001b[0m     \u001b[0mc\u001b[0m \u001b[0;34m=\u001b[0m \u001b[0mnp\u001b[0m\u001b[0;34m.\u001b[0m\u001b[0masarray\u001b[0m\u001b[0;34m(\u001b[0m\u001b[0mtable\u001b[0m\u001b[0;34m,\u001b[0m \u001b[0mdtype\u001b[0m\u001b[0;34m=\u001b[0m\u001b[0mnp\u001b[0m\u001b[0;34m.\u001b[0m\u001b[0mint64\u001b[0m\u001b[0;34m)\u001b[0m  \u001b[0;31m# int32 is not enough for the algorithm\u001b[0m\u001b[0;34m\u001b[0m\u001b[0m\n\u001b[1;32m   3626\u001b[0m     \u001b[0;32mif\u001b[0m \u001b[0;32mnot\u001b[0m \u001b[0mc\u001b[0m\u001b[0;34m.\u001b[0m\u001b[0mshape\u001b[0m \u001b[0;34m==\u001b[0m \u001b[0;34m(\u001b[0m\u001b[0;36m2\u001b[0m\u001b[0;34m,\u001b[0m \u001b[0;36m2\u001b[0m\u001b[0;34m)\u001b[0m\u001b[0;34m:\u001b[0m\u001b[0;34m\u001b[0m\u001b[0m\n\u001b[0;32m-> 3627\u001b[0;31m         \u001b[0;32mraise\u001b[0m \u001b[0mValueError\u001b[0m\u001b[0;34m(\u001b[0m\u001b[0;34m\"The input `table` must be of shape (2, 2).\"\u001b[0m\u001b[0;34m)\u001b[0m\u001b[0;34m\u001b[0m\u001b[0m\n\u001b[0m\u001b[1;32m   3628\u001b[0m \u001b[0;34m\u001b[0m\u001b[0m\n\u001b[1;32m   3629\u001b[0m     \u001b[0;32mif\u001b[0m \u001b[0mnp\u001b[0m\u001b[0;34m.\u001b[0m\u001b[0many\u001b[0m\u001b[0;34m(\u001b[0m\u001b[0mc\u001b[0m \u001b[0;34m<\u001b[0m \u001b[0;36m0\u001b[0m\u001b[0;34m)\u001b[0m\u001b[0;34m:\u001b[0m\u001b[0;34m\u001b[0m\u001b[0m\n",
      "\u001b[0;31mValueError\u001b[0m: The input `table` must be of shape (2, 2)."
     ]
    }
   ],
   "source": [
    "stats.fisher_exact(clicks.values)"
   ]
  },
  {
   "cell_type": "markdown",
   "metadata": {
    "colab_type": "text",
    "id": "z_gIvIOo1qOS"
   },
   "source": [
    "# 검정력과 표본크기"
   ]
  },
  {
   "cell_type": "code",
   "execution_count": null,
   "metadata": {
    "ExecuteTime": {
     "end_time": "2020-07-01T07:53:04.700220Z",
     "start_time": "2020-07-01T07:53:04.688200Z"
    },
    "colab": {},
    "colab_type": "code",
    "id": "ae-1rhqQ1qOT",
    "outputId": "910349d5-bffb-47d1-e7a5-0fff5bd8f5fc"
   },
   "outputs": [
    {
     "name": "stdout",
     "output_type": "stream",
     "text": [
      "Sample Size: 116602.393\n"
     ]
    }
   ],
   "source": [
    "effect_size = sm.stats.proportion_effectsize(0.0121, 0.011)\n",
    "analysis = sm.stats.TTestIndPower()\n",
    "result = analysis.solve_power(effect_size=effect_size, \n",
    "                              alpha=0.05, power=0.8, alternative='larger')\n",
    "print('Sample Size: %.3f' % result)"
   ]
  },
  {
   "cell_type": "code",
   "execution_count": null,
   "metadata": {
    "ExecuteTime": {
     "end_time": "2020-07-01T07:53:11.692313Z",
     "start_time": "2020-07-01T07:53:11.684164Z"
    },
    "colab": {},
    "colab_type": "code",
    "id": "F4q0jOk81qOV",
    "outputId": "723b5af0-b1ca-40e4-8ee0-52101f7e1aef"
   },
   "outputs": [
    {
     "name": "stdout",
     "output_type": "stream",
     "text": [
      "Sample Size: 5488.408\n"
     ]
    }
   ],
   "source": [
    "effect_size = sm.stats.proportion_effectsize(0.0165, 0.011)\n",
    "analysis = sm.stats.TTestIndPower()\n",
    "result = analysis.solve_power(effect_size=effect_size, \n",
    "                              alpha=0.05, power=0.8, alternative='larger')\n",
    "print('Sample Size: %.3f' % result)"
   ]
  },
  {
   "cell_type": "code",
   "execution_count": null,
   "metadata": {
    "colab": {},
    "colab_type": "code",
    "id": "lnay-0QJ1qOX"
   },
   "outputs": [],
   "source": []
  }
 ],
 "metadata": {
  "colab": {
   "name": "Ch3_통계적_실험과_유의성_검정.ipynb",
   "provenance": []
  },
  "hide_input": true,
  "kernelspec": {
   "display_name": "Python 3",
   "language": "python",
   "name": "python3"
  },
  "language_info": {
   "codemirror_mode": {
    "name": "ipython",
    "version": 3
   },
   "file_extension": ".py",
   "mimetype": "text/x-python",
   "name": "python",
   "nbconvert_exporter": "python",
   "pygments_lexer": "ipython3",
   "version": "3.7.5"
  },
  "toc": {
   "base_numbering": 1,
   "nav_menu": {},
   "number_sections": true,
   "sideBar": true,
   "skip_h1_title": false,
   "title_cell": "Table of Contents",
   "title_sidebar": "Contents",
   "toc_cell": false,
   "toc_position": {
    "height": "1148px",
    "left": "22px",
    "top": "92px",
    "width": "207px"
   },
   "toc_section_display": true,
   "toc_window_display": true
  }
 },
 "nbformat": 4,
 "nbformat_minor": 1
}
